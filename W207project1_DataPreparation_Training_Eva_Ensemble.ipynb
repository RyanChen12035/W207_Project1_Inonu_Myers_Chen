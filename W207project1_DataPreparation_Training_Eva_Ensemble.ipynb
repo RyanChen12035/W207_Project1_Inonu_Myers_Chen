{
  "nbformat": 4,
  "nbformat_minor": 0,
  "metadata": {
    "colab": {
      "provenance": [],
      "gpuType": "T4"
    },
    "kernelspec": {
      "name": "python3",
      "display_name": "Python 3"
    },
    "language_info": {
      "name": "python"
    },
    "accelerator": "GPU"
  },
  "cells": [
    {
      "cell_type": "markdown",
      "source": [
        "# Data preparation\n",
        "##### 1. Load the data from EDA\n",
        "##### 2. Normalize\n",
        "##### 3. Set up a Data pipeline, do shuffle, split the data into training, testing, split up into batches"
      ],
      "metadata": {
        "id": "4jgaHpO_CVxO"
      }
    },
    {
      "cell_type": "code",
      "source": [
        "import pandas as pd\n",
        "import numpy as np\n",
        "import tensorflow as tf\n",
        "from sklearn.preprocessing import StandardScaler"
      ],
      "metadata": {
        "id": "8hNf4wgDC2LU"
      },
      "execution_count": 2,
      "outputs": []
    },
    {
      "cell_type": "code",
      "source": [
        "#load data\n",
        "df = pd.read_csv('/content/sample_data/CreditCard_EDA_balanced6636.csv')\n",
        "df.head()"
      ],
      "metadata": {
        "id": "nOAvg5NxC5a3",
        "colab": {
          "base_uri": "https://localhost:8080/",
          "height": 299
        },
        "outputId": "9170b14f-9d0f-418c-b14c-ff56aa0b7e6e"
      },
      "execution_count": 3,
      "outputs": [
        {
          "output_type": "execute_result",
          "data": {
            "text/plain": [
              "   LIMIT_BAL  AGE  PAY_0  PAY_2  PAY_3  PAY_4  PAY_5  PAY_6  BILL_AMT1  \\\n",
              "0   9.446729   31     -1     -1     -1     -1     -1     -1   4.856966   \n",
              "1   8.987197   35     -2     -2     -2     -2     -2     -2   5.191289   \n",
              "2   7.418581   23     -1     -1     -2     -2     -2     -2   4.353284   \n",
              "3   9.305651   32      0      0      0      0      0      0   8.598202   \n",
              "4   7.888585   35     -1     -1     -1     -1     -1      0   4.567814   \n",
              "\n",
              "   BILL_AMT2  ...  EDUCATION_1  EDUCATION_2  EDUCATION_3  EDUCATION_4  \\\n",
              "0   5.725109  ...            0            0            1            0   \n",
              "1   5.504654  ...            0            1            0            0   \n",
              "2   0.000000  ...            1            0            0            0   \n",
              "3   8.525856  ...            1            0            0            0   \n",
              "4   5.788532  ...            0            1            0            0   \n",
              "\n",
              "   EDUCATION_5  EDUCATION_6  MARRIAGE_0  MARRIAGE_1  MARRIAGE_2  MARRIAGE_3  \n",
              "0            0            0           0           0           1           0  \n",
              "1            0            0           0           1           0           0  \n",
              "2            0            0           0           0           1           0  \n",
              "3            0            0           0           0           1           0  \n",
              "4            0            0           0           1           0           0  \n",
              "\n",
              "[5 rows x 34 columns]"
            ],
            "text/html": [
              "\n",
              "\n",
              "  <div id=\"df-a3852748-9156-4ef2-b5da-dd5f7f7910cd\">\n",
              "    <div class=\"colab-df-container\">\n",
              "      <div>\n",
              "<style scoped>\n",
              "    .dataframe tbody tr th:only-of-type {\n",
              "        vertical-align: middle;\n",
              "    }\n",
              "\n",
              "    .dataframe tbody tr th {\n",
              "        vertical-align: top;\n",
              "    }\n",
              "\n",
              "    .dataframe thead th {\n",
              "        text-align: right;\n",
              "    }\n",
              "</style>\n",
              "<table border=\"1\" class=\"dataframe\">\n",
              "  <thead>\n",
              "    <tr style=\"text-align: right;\">\n",
              "      <th></th>\n",
              "      <th>LIMIT_BAL</th>\n",
              "      <th>AGE</th>\n",
              "      <th>PAY_0</th>\n",
              "      <th>PAY_2</th>\n",
              "      <th>PAY_3</th>\n",
              "      <th>PAY_4</th>\n",
              "      <th>PAY_5</th>\n",
              "      <th>PAY_6</th>\n",
              "      <th>BILL_AMT1</th>\n",
              "      <th>BILL_AMT2</th>\n",
              "      <th>...</th>\n",
              "      <th>EDUCATION_1</th>\n",
              "      <th>EDUCATION_2</th>\n",
              "      <th>EDUCATION_3</th>\n",
              "      <th>EDUCATION_4</th>\n",
              "      <th>EDUCATION_5</th>\n",
              "      <th>EDUCATION_6</th>\n",
              "      <th>MARRIAGE_0</th>\n",
              "      <th>MARRIAGE_1</th>\n",
              "      <th>MARRIAGE_2</th>\n",
              "      <th>MARRIAGE_3</th>\n",
              "    </tr>\n",
              "  </thead>\n",
              "  <tbody>\n",
              "    <tr>\n",
              "      <th>0</th>\n",
              "      <td>9.446729</td>\n",
              "      <td>31</td>\n",
              "      <td>-1</td>\n",
              "      <td>-1</td>\n",
              "      <td>-1</td>\n",
              "      <td>-1</td>\n",
              "      <td>-1</td>\n",
              "      <td>-1</td>\n",
              "      <td>4.856966</td>\n",
              "      <td>5.725109</td>\n",
              "      <td>...</td>\n",
              "      <td>0</td>\n",
              "      <td>0</td>\n",
              "      <td>1</td>\n",
              "      <td>0</td>\n",
              "      <td>0</td>\n",
              "      <td>0</td>\n",
              "      <td>0</td>\n",
              "      <td>0</td>\n",
              "      <td>1</td>\n",
              "      <td>0</td>\n",
              "    </tr>\n",
              "    <tr>\n",
              "      <th>1</th>\n",
              "      <td>8.987197</td>\n",
              "      <td>35</td>\n",
              "      <td>-2</td>\n",
              "      <td>-2</td>\n",
              "      <td>-2</td>\n",
              "      <td>-2</td>\n",
              "      <td>-2</td>\n",
              "      <td>-2</td>\n",
              "      <td>5.191289</td>\n",
              "      <td>5.504654</td>\n",
              "      <td>...</td>\n",
              "      <td>0</td>\n",
              "      <td>1</td>\n",
              "      <td>0</td>\n",
              "      <td>0</td>\n",
              "      <td>0</td>\n",
              "      <td>0</td>\n",
              "      <td>0</td>\n",
              "      <td>1</td>\n",
              "      <td>0</td>\n",
              "      <td>0</td>\n",
              "    </tr>\n",
              "    <tr>\n",
              "      <th>2</th>\n",
              "      <td>7.418581</td>\n",
              "      <td>23</td>\n",
              "      <td>-1</td>\n",
              "      <td>-1</td>\n",
              "      <td>-2</td>\n",
              "      <td>-2</td>\n",
              "      <td>-2</td>\n",
              "      <td>-2</td>\n",
              "      <td>4.353284</td>\n",
              "      <td>0.000000</td>\n",
              "      <td>...</td>\n",
              "      <td>1</td>\n",
              "      <td>0</td>\n",
              "      <td>0</td>\n",
              "      <td>0</td>\n",
              "      <td>0</td>\n",
              "      <td>0</td>\n",
              "      <td>0</td>\n",
              "      <td>0</td>\n",
              "      <td>1</td>\n",
              "      <td>0</td>\n",
              "    </tr>\n",
              "    <tr>\n",
              "      <th>3</th>\n",
              "      <td>9.305651</td>\n",
              "      <td>32</td>\n",
              "      <td>0</td>\n",
              "      <td>0</td>\n",
              "      <td>0</td>\n",
              "      <td>0</td>\n",
              "      <td>0</td>\n",
              "      <td>0</td>\n",
              "      <td>8.598202</td>\n",
              "      <td>8.525856</td>\n",
              "      <td>...</td>\n",
              "      <td>1</td>\n",
              "      <td>0</td>\n",
              "      <td>0</td>\n",
              "      <td>0</td>\n",
              "      <td>0</td>\n",
              "      <td>0</td>\n",
              "      <td>0</td>\n",
              "      <td>0</td>\n",
              "      <td>1</td>\n",
              "      <td>0</td>\n",
              "    </tr>\n",
              "    <tr>\n",
              "      <th>4</th>\n",
              "      <td>7.888585</td>\n",
              "      <td>35</td>\n",
              "      <td>-1</td>\n",
              "      <td>-1</td>\n",
              "      <td>-1</td>\n",
              "      <td>-1</td>\n",
              "      <td>-1</td>\n",
              "      <td>0</td>\n",
              "      <td>4.567814</td>\n",
              "      <td>5.788532</td>\n",
              "      <td>...</td>\n",
              "      <td>0</td>\n",
              "      <td>1</td>\n",
              "      <td>0</td>\n",
              "      <td>0</td>\n",
              "      <td>0</td>\n",
              "      <td>0</td>\n",
              "      <td>0</td>\n",
              "      <td>1</td>\n",
              "      <td>0</td>\n",
              "      <td>0</td>\n",
              "    </tr>\n",
              "  </tbody>\n",
              "</table>\n",
              "<p>5 rows × 34 columns</p>\n",
              "</div>\n",
              "      <button class=\"colab-df-convert\" onclick=\"convertToInteractive('df-a3852748-9156-4ef2-b5da-dd5f7f7910cd')\"\n",
              "              title=\"Convert this dataframe to an interactive table.\"\n",
              "              style=\"display:none;\">\n",
              "\n",
              "  <svg xmlns=\"http://www.w3.org/2000/svg\" height=\"24px\"viewBox=\"0 0 24 24\"\n",
              "       width=\"24px\">\n",
              "    <path d=\"M0 0h24v24H0V0z\" fill=\"none\"/>\n",
              "    <path d=\"M18.56 5.44l.94 2.06.94-2.06 2.06-.94-2.06-.94-.94-2.06-.94 2.06-2.06.94zm-11 1L8.5 8.5l.94-2.06 2.06-.94-2.06-.94L8.5 2.5l-.94 2.06-2.06.94zm10 10l.94 2.06.94-2.06 2.06-.94-2.06-.94-.94-2.06-.94 2.06-2.06.94z\"/><path d=\"M17.41 7.96l-1.37-1.37c-.4-.4-.92-.59-1.43-.59-.52 0-1.04.2-1.43.59L10.3 9.45l-7.72 7.72c-.78.78-.78 2.05 0 2.83L4 21.41c.39.39.9.59 1.41.59.51 0 1.02-.2 1.41-.59l7.78-7.78 2.81-2.81c.8-.78.8-2.07 0-2.86zM5.41 20L4 18.59l7.72-7.72 1.47 1.35L5.41 20z\"/>\n",
              "  </svg>\n",
              "      </button>\n",
              "\n",
              "\n",
              "\n",
              "    <div id=\"df-378c001e-904b-4498-8d12-107e278d88a8\">\n",
              "      <button class=\"colab-df-quickchart\" onclick=\"quickchart('df-378c001e-904b-4498-8d12-107e278d88a8')\"\n",
              "              title=\"Suggest charts.\"\n",
              "              style=\"display:none;\">\n",
              "\n",
              "<svg xmlns=\"http://www.w3.org/2000/svg\" height=\"24px\"viewBox=\"0 0 24 24\"\n",
              "     width=\"24px\">\n",
              "    <g>\n",
              "        <path d=\"M19 3H5c-1.1 0-2 .9-2 2v14c0 1.1.9 2 2 2h14c1.1 0 2-.9 2-2V5c0-1.1-.9-2-2-2zM9 17H7v-7h2v7zm4 0h-2V7h2v10zm4 0h-2v-4h2v4z\"/>\n",
              "    </g>\n",
              "</svg>\n",
              "      </button>\n",
              "    </div>\n",
              "\n",
              "<style>\n",
              "  .colab-df-quickchart {\n",
              "    background-color: #E8F0FE;\n",
              "    border: none;\n",
              "    border-radius: 50%;\n",
              "    cursor: pointer;\n",
              "    display: none;\n",
              "    fill: #1967D2;\n",
              "    height: 32px;\n",
              "    padding: 0 0 0 0;\n",
              "    width: 32px;\n",
              "  }\n",
              "\n",
              "  .colab-df-quickchart:hover {\n",
              "    background-color: #E2EBFA;\n",
              "    box-shadow: 0px 1px 2px rgba(60, 64, 67, 0.3), 0px 1px 3px 1px rgba(60, 64, 67, 0.15);\n",
              "    fill: #174EA6;\n",
              "  }\n",
              "\n",
              "  [theme=dark] .colab-df-quickchart {\n",
              "    background-color: #3B4455;\n",
              "    fill: #D2E3FC;\n",
              "  }\n",
              "\n",
              "  [theme=dark] .colab-df-quickchart:hover {\n",
              "    background-color: #434B5C;\n",
              "    box-shadow: 0px 1px 3px 1px rgba(0, 0, 0, 0.15);\n",
              "    filter: drop-shadow(0px 1px 2px rgba(0, 0, 0, 0.3));\n",
              "    fill: #FFFFFF;\n",
              "  }\n",
              "</style>\n",
              "\n",
              "    <script>\n",
              "      async function quickchart(key) {\n",
              "        const containerElement = document.querySelector('#' + key);\n",
              "        const charts = await google.colab.kernel.invokeFunction(\n",
              "            'suggestCharts', [key], {});\n",
              "      }\n",
              "    </script>\n",
              "\n",
              "      <script>\n",
              "\n",
              "function displayQuickchartButton(domScope) {\n",
              "  let quickchartButtonEl =\n",
              "    domScope.querySelector('#df-378c001e-904b-4498-8d12-107e278d88a8 button.colab-df-quickchart');\n",
              "  quickchartButtonEl.style.display =\n",
              "    google.colab.kernel.accessAllowed ? 'block' : 'none';\n",
              "}\n",
              "\n",
              "        displayQuickchartButton(document);\n",
              "      </script>\n",
              "      <style>\n",
              "    .colab-df-container {\n",
              "      display:flex;\n",
              "      flex-wrap:wrap;\n",
              "      gap: 12px;\n",
              "    }\n",
              "\n",
              "    .colab-df-convert {\n",
              "      background-color: #E8F0FE;\n",
              "      border: none;\n",
              "      border-radius: 50%;\n",
              "      cursor: pointer;\n",
              "      display: none;\n",
              "      fill: #1967D2;\n",
              "      height: 32px;\n",
              "      padding: 0 0 0 0;\n",
              "      width: 32px;\n",
              "    }\n",
              "\n",
              "    .colab-df-convert:hover {\n",
              "      background-color: #E2EBFA;\n",
              "      box-shadow: 0px 1px 2px rgba(60, 64, 67, 0.3), 0px 1px 3px 1px rgba(60, 64, 67, 0.15);\n",
              "      fill: #174EA6;\n",
              "    }\n",
              "\n",
              "    [theme=dark] .colab-df-convert {\n",
              "      background-color: #3B4455;\n",
              "      fill: #D2E3FC;\n",
              "    }\n",
              "\n",
              "    [theme=dark] .colab-df-convert:hover {\n",
              "      background-color: #434B5C;\n",
              "      box-shadow: 0px 1px 3px 1px rgba(0, 0, 0, 0.15);\n",
              "      filter: drop-shadow(0px 1px 2px rgba(0, 0, 0, 0.3));\n",
              "      fill: #FFFFFF;\n",
              "    }\n",
              "  </style>\n",
              "\n",
              "      <script>\n",
              "        const buttonEl =\n",
              "          document.querySelector('#df-a3852748-9156-4ef2-b5da-dd5f7f7910cd button.colab-df-convert');\n",
              "        buttonEl.style.display =\n",
              "          google.colab.kernel.accessAllowed ? 'block' : 'none';\n",
              "\n",
              "        async function convertToInteractive(key) {\n",
              "          const element = document.querySelector('#df-a3852748-9156-4ef2-b5da-dd5f7f7910cd');\n",
              "          const dataTable =\n",
              "            await google.colab.kernel.invokeFunction('convertToInteractive',\n",
              "                                                     [key], {});\n",
              "          if (!dataTable) return;\n",
              "\n",
              "          const docLinkHtml = 'Like what you see? Visit the ' +\n",
              "            '<a target=\"_blank\" href=https://colab.research.google.com/notebooks/data_table.ipynb>data table notebook</a>'\n",
              "            + ' to learn more about interactive tables.';\n",
              "          element.innerHTML = '';\n",
              "          dataTable['output_type'] = 'display_data';\n",
              "          await google.colab.output.renderOutput(dataTable, element);\n",
              "          const docLink = document.createElement('div');\n",
              "          docLink.innerHTML = docLinkHtml;\n",
              "          element.appendChild(docLink);\n",
              "        }\n",
              "      </script>\n",
              "    </div>\n",
              "  </div>\n"
            ]
          },
          "metadata": {},
          "execution_count": 3
        }
      ]
    },
    {
      "cell_type": "code",
      "source": [
        "df.columns"
      ],
      "metadata": {
        "id": "NW4VlJSnIaCY",
        "outputId": "1c65e209-3408-424b-c017-1b5c56ecdc91",
        "colab": {
          "base_uri": "https://localhost:8080/"
        }
      },
      "execution_count": 4,
      "outputs": [
        {
          "output_type": "execute_result",
          "data": {
            "text/plain": [
              "Index(['LIMIT_BAL', 'AGE', 'PAY_0', 'PAY_2', 'PAY_3', 'PAY_4', 'PAY_5',\n",
              "       'PAY_6', 'BILL_AMT1', 'BILL_AMT2', 'BILL_AMT3', 'BILL_AMT4',\n",
              "       'BILL_AMT5', 'BILL_AMT6', 'PAY_AMT1', 'PAY_AMT2', 'PAY_AMT3',\n",
              "       'PAY_AMT4', 'PAY_AMT5', 'PAY_AMT6', 'default.payment.next.month',\n",
              "       'SEX_1', 'SEX_2', 'EDUCATION_0', 'EDUCATION_1', 'EDUCATION_2',\n",
              "       'EDUCATION_3', 'EDUCATION_4', 'EDUCATION_5', 'EDUCATION_6',\n",
              "       'MARRIAGE_0', 'MARRIAGE_1', 'MARRIAGE_2', 'MARRIAGE_3'],\n",
              "      dtype='object')"
            ]
          },
          "metadata": {},
          "execution_count": 4
        }
      ]
    },
    {
      "cell_type": "code",
      "source": [
        "df[['default.payment.next.month']].values.shape\n",
        "df[['LIMIT_BAL', 'AGE', 'PAY_0', 'PAY_2', 'PAY_3', 'PAY_4', 'PAY_5',\n",
        "       'PAY_6', 'BILL_AMT1', 'BILL_AMT2', 'BILL_AMT3', 'BILL_AMT4',\n",
        "       'BILL_AMT5', 'BILL_AMT6', 'PAY_AMT1', 'PAY_AMT2', 'PAY_AMT3',\n",
        "       'PAY_AMT4', 'PAY_AMT5', 'PAY_AMT6',\n",
        "       'SEX_1', 'SEX_2', 'EDUCATION_0', 'EDUCATION_1', 'EDUCATION_2',\n",
        "       'EDUCATION_3', 'EDUCATION_4', 'EDUCATION_5', 'EDUCATION_6',\n",
        "       'MARRIAGE_0', 'MARRIAGE_1', 'MARRIAGE_2', 'MARRIAGE_3']].values.shape"
      ],
      "metadata": {
        "id": "CNv1lyCiXT5u",
        "colab": {
          "base_uri": "https://localhost:8080/"
        },
        "outputId": "89a96c14-d95a-4853-ccce-e657780e3ea3"
      },
      "execution_count": 5,
      "outputs": [
        {
          "output_type": "execute_result",
          "data": {
            "text/plain": [
              "(13272, 33)"
            ]
          },
          "metadata": {},
          "execution_count": 5
        }
      ]
    },
    {
      "cell_type": "code",
      "source": [
        "#Normalization, Pouring data into pipeline, shuffle, split the training, evaluating, and testing data, split the dataset into batches\n",
        "\n",
        "X = df[['LIMIT_BAL', 'AGE', 'PAY_0', 'PAY_2', 'PAY_3', 'PAY_4', 'PAY_5',\n",
        "       'PAY_6', 'BILL_AMT1', 'BILL_AMT2', 'BILL_AMT3', 'BILL_AMT4',\n",
        "       'BILL_AMT5', 'BILL_AMT6', 'PAY_AMT1', 'PAY_AMT2', 'PAY_AMT3',\n",
        "       'PAY_AMT4', 'PAY_AMT5', 'PAY_AMT6',\n",
        "       'SEX_1', 'SEX_2', 'EDUCATION_0', 'EDUCATION_1', 'EDUCATION_2',\n",
        "       'EDUCATION_3', 'EDUCATION_4', 'EDUCATION_5', 'EDUCATION_6',\n",
        "       'MARRIAGE_0', 'MARRIAGE_1', 'MARRIAGE_2', 'MARRIAGE_3']].values\n",
        "y = np.squeeze(df[['default.payment.next.month']].values)\n",
        "print(X.shape, y.shape)\n",
        "\n",
        "# Normalize the input features using Z-score normalization\n",
        "scaler = StandardScaler()\n",
        "X_normalized = scaler.fit_transform(X)\n",
        "\n",
        "print(X[0])\n",
        "print(X_normalized[0])\n",
        "print(y[0:5])\n"
      ],
      "metadata": {
        "id": "31o55e4DD1eF",
        "colab": {
          "base_uri": "https://localhost:8080/"
        },
        "outputId": "26b6916f-1a98-412b-de56-252c89aa3107"
      },
      "execution_count": 6,
      "outputs": [
        {
          "output_type": "stream",
          "name": "stdout",
          "text": [
            "(13272, 33) (13272,)\n",
            "[ 9.44672915 31.         -1.         -1.         -1.         -1.\n",
            " -1.         -1.          4.85696598  5.72510899  6.22502037  5.9177283\n",
            "  6.03092562  6.12249281  5.73009978  6.23002202  5.92265023  6.03172638\n",
            "  6.12745126  6.40031281  0.          1.          0.          0.\n",
            "  0.          1.          0.          0.          0.          0.\n",
            "  0.          1.          0.        ]\n",
            "[ 1.34046716 -0.49059068 -0.97329516 -0.80112701 -0.76655653 -0.72206122\n",
            " -0.68971224 -0.65954396 -0.40523466 -0.01855997  0.19718281  0.12348441\n",
            "  0.21222476  0.2857089   0.99726323  1.2382585   1.18040457  1.29258012\n",
            "  1.32820307  1.4538196  -0.83627734  0.83627734 -0.02297182 -0.71322938\n",
            " -0.95735798  2.18700858 -0.05358537 -0.08216519 -0.03980937 -0.03363745\n",
            " -0.92996273  0.95303066 -0.10583005]\n",
            "[0 0 0 0 0]\n"
          ]
        }
      ]
    },
    {
      "cell_type": "code",
      "source": [
        "# Create a TensorFlow Dataset from the normalized input features and target labels\n",
        "dataset = tf.data.Dataset.from_tensor_slices((X_normalized, y))\n",
        "\n",
        "# Shuffle the dataset\n",
        "dataset = dataset.shuffle(buffer_size=len(X_normalized))\n",
        "\n",
        "# Split the data into train, validation, and test sets\n",
        "train_size = int(0.8 * len(X_normalized))\n",
        "val_size = int(0.1 * len(X_normalized))\n",
        "test_size = int(0.1 * len(X_normalized))\n",
        "\n",
        "# Split the dataset into train, validation, and test sets\n",
        "train_dataset = dataset.take(train_size)\n",
        "val_dataset = dataset.skip(train_size).take(val_size)\n",
        "test_dataset = dataset.skip(train_size + val_size).take(test_size)\n",
        "\n",
        "# Batch the datasets\n",
        "batch_size = 8\n",
        "train_dataset = train_dataset.batch(batch_size)\n",
        "val_dataset = val_dataset.batch(batch_size)\n",
        "test_dataset = test_dataset.batch(batch_size)\n",
        "\n",
        "it = train_dataset.as_numpy_iterator()\n",
        "print(it.next()[0].shape, it.next()[1].shape) #return a batch (X,y)\n",
        "print(it.next()[0], it.next()[1]) #return a batch (X,y)\n",
        "# for features, labels in train_dataset:\n",
        "#   print(\"Train Features shape:\", features.shape)\n",
        "#   print(\"Train Labels shape:\", labels.shape)"
      ],
      "metadata": {
        "id": "gzPu94zxJpcH",
        "colab": {
          "base_uri": "https://localhost:8080/"
        },
        "outputId": "74adf1e1-c07e-4d5b-c6d2-52f0f74b6e9d"
      },
      "execution_count": 7,
      "outputs": [
        {
          "output_type": "stream",
          "name": "stdout",
          "text": [
            "(8, 33) (8,)\n",
            "[[ 0.90759391 -0.49059068 -0.97329516 -0.80112701 -0.76655653 -0.72206122\n",
            "  -0.68971224 -1.43118249 -1.39530246 -2.1952831  -0.07581723 -1.63549064\n",
            "  -1.98277468 -1.8768383  -1.65148652  0.90290263 -1.53177656 -1.47739263\n",
            "  -1.46681399 -1.41461444 -0.83627734  0.83627734 -0.02297182  1.40207348\n",
            "  -0.95735798 -0.45724558 -0.05358537 -0.08216519 -0.03980937 -0.03363745\n",
            "   1.07531191 -1.04928419 -0.10583005]\n",
            " [ 1.12998145 -0.17236452 -0.18313285 -0.05935516  1.47123326  0.03454675\n",
            "   0.08597294  0.11209457  1.15540339  0.61357915  0.6237529   0.66718675\n",
            "   0.71539648  0.74927825  0.5937752  -1.64257496  0.39140992  0.42648826\n",
            "   0.44886789  0.46757122  1.19577555 -1.19577555 -0.02297182 -0.71322938\n",
            "   1.04454136 -0.45724558 -0.05358537 -0.08216519 -0.03980937 -0.03363745\n",
            "  -0.92996273  0.95303066 -0.10583005]\n",
            " [ 0.94814127 -0.38451529 -0.18313285 -0.05935516 -1.51248646 -0.72206122\n",
            "  -0.68971224 -0.65954396  0.68286094 -2.1952831  -2.13067604 -1.05483464\n",
            "  -1.98277468  1.14675864 -1.65148652 -1.64257496 -0.20733069  0.82752225\n",
            "   2.46450774  0.95993729  1.19577555 -1.19577555 -0.02297182 -0.71322938\n",
            "   1.04454136 -0.45724558 -0.05358537 -0.08216519 -0.03980937 -0.03363745\n",
            "  -0.92996273  0.95303066 -0.10583005]\n",
            " [-0.75628341 -1.23311841  0.60702945  1.42418853 -0.0206266   0.03454675\n",
            "   0.08597294  0.11209457  0.59786525  0.61043709  0.63300483  0.44547006\n",
            "   0.47977432  0.52389169  0.2898353   0.3503739   0.1105078   0.17670701\n",
            "   0.28617177  0.64928889 -0.83627734  0.83627734 -0.02297182 -0.71322938\n",
            "   1.04454136 -0.45724558 -0.05358537 -0.08216519 -0.03980937 -0.03363745\n",
            "  -0.92996273  0.95303066 -0.10583005]\n",
            " [-1.28438776 -0.80881685  0.60702945  1.42418853  1.47123326  1.54776269\n",
            "   0.08597294  0.11209457  0.34173892  0.40527891  0.43127234  0.45804403\n",
            "   0.50906556  0.56165853  0.50767285  0.00931853 -1.53177656  0.1631493\n",
            "   0.47887676 -0.07201437  1.19577555 -1.19577555 -0.02297182 -0.71322938\n",
            "  -0.95735798  2.18700858 -0.05358537 -0.08216519 -0.03980937 -0.03363745\n",
            "  -0.92996273  0.95303066 -0.10583005]\n",
            " [ 1.39349546  1.41876632  1.39719175  1.42418853  1.47123326  1.54776269\n",
            "   2.41302849  1.65537162  1.10402778  1.11143786  1.13586885  1.1818458\n",
            "   1.20825328  1.22462918  0.93065256  1.10826674  1.28576708 -2.40270424\n",
            "   1.00735734 -2.21762892  1.19577555 -1.19577555 -0.02297182 -0.71322938\n",
            "   1.04454136 -0.45724558 -0.05358537 -0.08216519 -0.03980937 -0.03363745\n",
            "   1.07531191 -1.04928419 -0.10583005]\n",
            " [ 0.8653911   0.57016321 -1.76345746 -1.54289885 -1.51248646 -1.47866919\n",
            "  -1.46539742 -1.43118249 -2.32443302 -2.1952831  -2.13067604 -2.06099195\n",
            "  -1.98277468 -1.8768383  -1.65148652 -1.64257496 -1.53177656 -1.47739263\n",
            "  -1.46681399 -1.41461444 -0.83627734  0.83627734 -0.02297182 -0.71322938\n",
            "   1.04454136 -0.45724558 -0.05358537 -0.08216519 -0.03980937 -0.03363745\n",
            "   1.07531191 -1.04928419 -0.10583005]\n",
            " [-0.27038186 -0.17236452 -0.18313285 -0.05935516  1.47123326  1.54776269\n",
            "   0.08597294  0.11209457  0.76990213  0.7898603   0.78902389  0.79591777\n",
            "   0.82001266  0.81192449  0.79767097  0.29941672 -1.53177656  0.87797724\n",
            "   0.96752108  0.64928889 -0.83627734  0.83627734 -0.02297182  1.40207348\n",
            "  -0.95735798 -0.45724558 -0.05358537 -0.08216519 -0.03980937 -0.03363745\n",
            "  -0.92996273  0.95303066 -0.10583005]] [0 1 0 0 0 1 0 0]\n"
          ]
        }
      ]
    },
    {
      "cell_type": "markdown",
      "source": [
        "# Modeling\n"
      ],
      "metadata": {
        "id": "fGylYXyWCZQQ"
      }
    },
    {
      "cell_type": "code",
      "source": [
        "from tensorflow.keras.models import Sequential\n",
        "from tensorflow.keras.layers import Dense, Flatten, Dropout\n",
        "from tensorflow.keras.optimizers import Adam\n",
        "from matplotlib import pyplot as plt"
      ],
      "metadata": {
        "id": "Gjg25Bk9NTFZ"
      },
      "execution_count": 46,
      "outputs": []
    },
    {
      "cell_type": "code",
      "source": [
        "tf.keras.backend.clear_session()"
      ],
      "metadata": {
        "id": "ZEGK2-09NTgR"
      },
      "execution_count": 47,
      "outputs": []
    },
    {
      "cell_type": "code",
      "source": [
        "model = Sequential()"
      ],
      "metadata": {
        "id": "l2Wy4_BCQoJw"
      },
      "execution_count": 48,
      "outputs": []
    },
    {
      "cell_type": "code",
      "source": [
        "it = train_dataset.as_numpy_iterator()\n",
        "print(it.next()[0].shape, it.next()[1].shape) #return a batch (X,y)\n",
        "input_shape = it.next()[0].shape\n",
        "input_shape[1]"
      ],
      "metadata": {
        "id": "D6iXUy3en48f",
        "colab": {
          "base_uri": "https://localhost:8080/"
        },
        "outputId": "3b547309-9b7a-4a57-f16d-39ec9ce35278"
      },
      "execution_count": 49,
      "outputs": [
        {
          "output_type": "stream",
          "name": "stdout",
          "text": [
            "(8, 33) (8,)\n"
          ]
        },
        {
          "output_type": "execute_result",
          "data": {
            "text/plain": [
              "33"
            ]
          },
          "metadata": {},
          "execution_count": 49
        }
      ]
    },
    {
      "cell_type": "code",
      "source": [
        "# a binary classification, taking signoid as the output activation function\n",
        "# Don't need an input layer since it's sequential\n",
        "\n",
        "model.add(Dense(256, input_shape=(input_shape[1],), activation='relu'))\n",
        "model.add(Dense(64, activation='relu'))\n",
        "model.add(Dense(16, activation='relu'))\n",
        "model.add(Dense(32, activation='relu'))\n",
        "model.add(Dense(64, activation='relu'))\n",
        "model.add(Dense(2, activation='softmax'))\n",
        "\n",
        "#optimizer = Adam(learning_rate=0.00001)\n",
        "model.compile(optimizer= tf.keras.optimizers.Adam(0.0001), loss='sparse_categorical_crossentropy', metrics=['accuracy'])\n",
        "\n"
      ],
      "metadata": {
        "id": "KANRtE4UNbCk"
      },
      "execution_count": 50,
      "outputs": []
    },
    {
      "cell_type": "code",
      "source": [
        "input_shape = (8, 33)\n",
        "model.build(input_shape)\n",
        "model.summary()"
      ],
      "metadata": {
        "id": "XHPdL2QAQfZ7",
        "colab": {
          "base_uri": "https://localhost:8080/"
        },
        "outputId": "7aefcd59-1e9f-4347-e05c-d4da84b0a761"
      },
      "execution_count": 51,
      "outputs": [
        {
          "output_type": "stream",
          "name": "stdout",
          "text": [
            "Model: \"sequential\"\n",
            "_________________________________________________________________\n",
            " Layer (type)                Output Shape              Param #   \n",
            "=================================================================\n",
            " dense (Dense)               (None, 256)               8704      \n",
            "                                                                 \n",
            " dense_1 (Dense)             (None, 64)                16448     \n",
            "                                                                 \n",
            " dense_2 (Dense)             (None, 16)                1040      \n",
            "                                                                 \n",
            " dense_3 (Dense)             (None, 32)                544       \n",
            "                                                                 \n",
            " dense_4 (Dense)             (None, 64)                2112      \n",
            "                                                                 \n",
            " dense_5 (Dense)             (None, 2)                 130       \n",
            "                                                                 \n",
            "=================================================================\n",
            "Total params: 28,978\n",
            "Trainable params: 28,978\n",
            "Non-trainable params: 0\n",
            "_________________________________________________________________\n"
          ]
        }
      ]
    },
    {
      "cell_type": "code",
      "source": [
        "hist = model.fit(train_dataset, epochs=200, validation_data=val_dataset) #shuffle after every epochs = True\n",
        "\n",
        "#learning rate 0.001, batch size 16\n",
        "#100 epoch, accuracy:0.9, val_accuracy:0.9, no overfitting\n",
        "#130 0.91 / 0.91\n",
        "#150 0.915/0.91\n",
        "#170 0.925 / 0.925 testing 0.93\n",
        "#190 0.926 / 0.93 testing 0.93\n",
        "\n",
        "#batch size 16->8, learning rate 0.001->0.0001. more precise.\n",
        "#200 epochs, 0.936/0.938/0.94\n"
      ],
      "metadata": {
        "colab": {
          "base_uri": "https://localhost:8080/"
        },
        "id": "X5xZM7xeSOPJ",
        "outputId": "819d0d97-293d-49d6-b8ae-b3dcc4deb479"
      },
      "execution_count": 52,
      "outputs": [
        {
          "output_type": "stream",
          "name": "stdout",
          "text": [
            "Epoch 1/200\n",
            "1328/1328 [==============================] - 10s 5ms/step - loss: 0.6061 - accuracy: 0.6775 - val_loss: 0.5711 - val_accuracy: 0.7129\n",
            "Epoch 2/200\n",
            "1328/1328 [==============================] - 5s 4ms/step - loss: 0.5740 - accuracy: 0.7058 - val_loss: 0.5688 - val_accuracy: 0.7272\n",
            "Epoch 3/200\n",
            "1328/1328 [==============================] - 5s 4ms/step - loss: 0.5670 - accuracy: 0.7107 - val_loss: 0.5569 - val_accuracy: 0.7182\n",
            "Epoch 4/200\n",
            "1328/1328 [==============================] - 6s 4ms/step - loss: 0.5573 - accuracy: 0.7169 - val_loss: 0.5528 - val_accuracy: 0.7234\n",
            "Epoch 5/200\n",
            "1328/1328 [==============================] - 5s 4ms/step - loss: 0.5582 - accuracy: 0.7150 - val_loss: 0.5555 - val_accuracy: 0.7106\n",
            "Epoch 6/200\n",
            "1328/1328 [==============================] - 6s 5ms/step - loss: 0.5520 - accuracy: 0.7198 - val_loss: 0.5608 - val_accuracy: 0.7302\n",
            "Epoch 7/200\n",
            "1328/1328 [==============================] - 6s 4ms/step - loss: 0.5522 - accuracy: 0.7184 - val_loss: 0.5452 - val_accuracy: 0.7340\n",
            "Epoch 8/200\n",
            "1328/1328 [==============================] - 5s 4ms/step - loss: 0.5449 - accuracy: 0.7257 - val_loss: 0.5537 - val_accuracy: 0.7129\n",
            "Epoch 9/200\n",
            "1328/1328 [==============================] - 6s 4ms/step - loss: 0.5439 - accuracy: 0.7252 - val_loss: 0.5519 - val_accuracy: 0.7212\n",
            "Epoch 10/200\n",
            "1328/1328 [==============================] - 6s 4ms/step - loss: 0.5398 - accuracy: 0.7312 - val_loss: 0.5146 - val_accuracy: 0.7506\n",
            "Epoch 11/200\n",
            "1328/1328 [==============================] - 5s 4ms/step - loss: 0.5366 - accuracy: 0.7328 - val_loss: 0.5382 - val_accuracy: 0.7204\n",
            "Epoch 12/200\n",
            "1328/1328 [==============================] - 6s 4ms/step - loss: 0.5341 - accuracy: 0.7370 - val_loss: 0.5465 - val_accuracy: 0.7204\n",
            "Epoch 13/200\n",
            "1328/1328 [==============================] - 5s 4ms/step - loss: 0.5334 - accuracy: 0.7330 - val_loss: 0.5280 - val_accuracy: 0.7332\n",
            "Epoch 14/200\n",
            "1328/1328 [==============================] - 6s 4ms/step - loss: 0.5331 - accuracy: 0.7367 - val_loss: 0.5409 - val_accuracy: 0.7423\n",
            "Epoch 15/200\n",
            "1328/1328 [==============================] - 5s 4ms/step - loss: 0.5267 - accuracy: 0.7412 - val_loss: 0.5082 - val_accuracy: 0.7483\n",
            "Epoch 16/200\n",
            "1328/1328 [==============================] - 5s 4ms/step - loss: 0.5168 - accuracy: 0.7448 - val_loss: 0.4952 - val_accuracy: 0.7762\n",
            "Epoch 17/200\n",
            "1328/1328 [==============================] - 6s 4ms/step - loss: 0.5193 - accuracy: 0.7470 - val_loss: 0.5056 - val_accuracy: 0.7521\n",
            "Epoch 18/200\n",
            "1328/1328 [==============================] - 5s 4ms/step - loss: 0.5156 - accuracy: 0.7462 - val_loss: 0.5099 - val_accuracy: 0.7468\n",
            "Epoch 19/200\n",
            "1328/1328 [==============================] - 5s 4ms/step - loss: 0.5124 - accuracy: 0.7480 - val_loss: 0.4908 - val_accuracy: 0.7619\n",
            "Epoch 20/200\n",
            "1328/1328 [==============================] - 6s 4ms/step - loss: 0.5099 - accuracy: 0.7502 - val_loss: 0.5003 - val_accuracy: 0.7581\n",
            "Epoch 21/200\n",
            "1328/1328 [==============================] - 5s 4ms/step - loss: 0.5104 - accuracy: 0.7506 - val_loss: 0.5028 - val_accuracy: 0.7566\n",
            "Epoch 22/200\n",
            "1328/1328 [==============================] - 5s 4ms/step - loss: 0.5047 - accuracy: 0.7515 - val_loss: 0.4937 - val_accuracy: 0.7611\n",
            "Epoch 23/200\n",
            "1328/1328 [==============================] - 5s 4ms/step - loss: 0.4963 - accuracy: 0.7580 - val_loss: 0.5139 - val_accuracy: 0.7468\n",
            "Epoch 24/200\n",
            "1328/1328 [==============================] - 5s 4ms/step - loss: 0.4934 - accuracy: 0.7600 - val_loss: 0.5052 - val_accuracy: 0.7566\n",
            "Epoch 25/200\n",
            "1328/1328 [==============================] - 6s 5ms/step - loss: 0.4903 - accuracy: 0.7618 - val_loss: 0.4806 - val_accuracy: 0.7641\n",
            "Epoch 26/200\n",
            "1328/1328 [==============================] - 5s 4ms/step - loss: 0.4870 - accuracy: 0.7645 - val_loss: 0.4537 - val_accuracy: 0.7890\n",
            "Epoch 27/200\n",
            "1328/1328 [==============================] - 6s 5ms/step - loss: 0.4802 - accuracy: 0.7677 - val_loss: 0.4448 - val_accuracy: 0.7965\n",
            "Epoch 28/200\n",
            "1328/1328 [==============================] - 5s 4ms/step - loss: 0.4778 - accuracy: 0.7676 - val_loss: 0.4600 - val_accuracy: 0.7815\n",
            "Epoch 29/200\n",
            "1328/1328 [==============================] - 6s 5ms/step - loss: 0.4755 - accuracy: 0.7701 - val_loss: 0.4474 - val_accuracy: 0.7935\n",
            "Epoch 30/200\n",
            "1328/1328 [==============================] - 5s 4ms/step - loss: 0.4674 - accuracy: 0.7811 - val_loss: 0.4430 - val_accuracy: 0.7958\n",
            "Epoch 31/200\n",
            "1328/1328 [==============================] - 5s 4ms/step - loss: 0.4657 - accuracy: 0.7809 - val_loss: 0.4364 - val_accuracy: 0.7943\n",
            "Epoch 32/200\n",
            "1328/1328 [==============================] - 6s 5ms/step - loss: 0.4590 - accuracy: 0.7835 - val_loss: 0.4366 - val_accuracy: 0.7890\n",
            "Epoch 33/200\n",
            "1328/1328 [==============================] - 5s 4ms/step - loss: 0.4559 - accuracy: 0.7782 - val_loss: 0.4361 - val_accuracy: 0.8033\n",
            "Epoch 34/200\n",
            "1328/1328 [==============================] - 5s 4ms/step - loss: 0.4510 - accuracy: 0.7833 - val_loss: 0.4286 - val_accuracy: 0.7980\n",
            "Epoch 35/200\n",
            "1328/1328 [==============================] - 6s 5ms/step - loss: 0.4465 - accuracy: 0.7907 - val_loss: 0.4181 - val_accuracy: 0.8078\n",
            "Epoch 36/200\n",
            "1328/1328 [==============================] - 5s 4ms/step - loss: 0.4405 - accuracy: 0.7920 - val_loss: 0.4383 - val_accuracy: 0.7980\n",
            "Epoch 37/200\n",
            "1328/1328 [==============================] - 6s 4ms/step - loss: 0.4382 - accuracy: 0.7962 - val_loss: 0.4386 - val_accuracy: 0.8003\n",
            "Epoch 38/200\n",
            "1328/1328 [==============================] - 5s 4ms/step - loss: 0.4313 - accuracy: 0.8011 - val_loss: 0.4392 - val_accuracy: 0.7898\n",
            "Epoch 39/200\n",
            "1328/1328 [==============================] - 5s 4ms/step - loss: 0.4264 - accuracy: 0.8015 - val_loss: 0.3894 - val_accuracy: 0.8312\n",
            "Epoch 40/200\n",
            "1328/1328 [==============================] - 6s 4ms/step - loss: 0.4223 - accuracy: 0.8055 - val_loss: 0.4008 - val_accuracy: 0.8176\n",
            "Epoch 41/200\n",
            "1328/1328 [==============================] - 6s 4ms/step - loss: 0.4142 - accuracy: 0.8081 - val_loss: 0.3830 - val_accuracy: 0.8282\n",
            "Epoch 42/200\n",
            "1328/1328 [==============================] - 5s 4ms/step - loss: 0.4141 - accuracy: 0.8061 - val_loss: 0.3961 - val_accuracy: 0.8252\n",
            "Epoch 43/200\n",
            "1328/1328 [==============================] - 6s 4ms/step - loss: 0.4075 - accuracy: 0.8105 - val_loss: 0.4162 - val_accuracy: 0.7890\n",
            "Epoch 44/200\n",
            "1328/1328 [==============================] - 5s 4ms/step - loss: 0.4022 - accuracy: 0.8144 - val_loss: 0.3841 - val_accuracy: 0.8335\n",
            "Epoch 45/200\n",
            "1328/1328 [==============================] - 6s 4ms/step - loss: 0.4018 - accuracy: 0.8181 - val_loss: 0.3683 - val_accuracy: 0.8387\n",
            "Epoch 46/200\n",
            "1328/1328 [==============================] - 6s 5ms/step - loss: 0.3916 - accuracy: 0.8203 - val_loss: 0.3809 - val_accuracy: 0.8357\n",
            "Epoch 47/200\n",
            "1328/1328 [==============================] - 6s 4ms/step - loss: 0.3923 - accuracy: 0.8207 - val_loss: 0.3514 - val_accuracy: 0.8553\n",
            "Epoch 48/200\n",
            "1328/1328 [==============================] - 5s 4ms/step - loss: 0.3851 - accuracy: 0.8258 - val_loss: 0.4076 - val_accuracy: 0.8018\n",
            "Epoch 49/200\n",
            "1328/1328 [==============================] - 6s 4ms/step - loss: 0.3846 - accuracy: 0.8258 - val_loss: 0.3534 - val_accuracy: 0.8410\n",
            "Epoch 50/200\n",
            "1328/1328 [==============================] - 6s 4ms/step - loss: 0.3798 - accuracy: 0.8261 - val_loss: 0.3587 - val_accuracy: 0.8455\n",
            "Epoch 51/200\n",
            "1328/1328 [==============================] - 5s 4ms/step - loss: 0.3742 - accuracy: 0.8283 - val_loss: 0.3632 - val_accuracy: 0.8304\n",
            "Epoch 52/200\n",
            "1328/1328 [==============================] - 6s 4ms/step - loss: 0.3693 - accuracy: 0.8328 - val_loss: 0.3541 - val_accuracy: 0.8440\n",
            "Epoch 53/200\n",
            "1328/1328 [==============================] - 5s 4ms/step - loss: 0.3675 - accuracy: 0.8336 - val_loss: 0.3198 - val_accuracy: 0.8591\n",
            "Epoch 54/200\n",
            "1328/1328 [==============================] - 6s 4ms/step - loss: 0.3660 - accuracy: 0.8339 - val_loss: 0.3254 - val_accuracy: 0.8636\n",
            "Epoch 55/200\n",
            "1328/1328 [==============================] - 5s 4ms/step - loss: 0.3614 - accuracy: 0.8333 - val_loss: 0.3101 - val_accuracy: 0.8681\n",
            "Epoch 56/200\n",
            "1328/1328 [==============================] - 6s 4ms/step - loss: 0.3534 - accuracy: 0.8420 - val_loss: 0.3330 - val_accuracy: 0.8433\n",
            "Epoch 57/200\n",
            "1328/1328 [==============================] - 5s 4ms/step - loss: 0.3552 - accuracy: 0.8407 - val_loss: 0.3284 - val_accuracy: 0.8553\n",
            "Epoch 58/200\n",
            "1328/1328 [==============================] - 6s 4ms/step - loss: 0.3435 - accuracy: 0.8479 - val_loss: 0.3430 - val_accuracy: 0.8402\n",
            "Epoch 59/200\n",
            "1328/1328 [==============================] - 5s 4ms/step - loss: 0.3465 - accuracy: 0.8478 - val_loss: 0.3096 - val_accuracy: 0.8636\n",
            "Epoch 60/200\n",
            "1328/1328 [==============================] - 6s 4ms/step - loss: 0.3401 - accuracy: 0.8503 - val_loss: 0.3238 - val_accuracy: 0.8531\n",
            "Epoch 61/200\n",
            "1328/1328 [==============================] - 5s 4ms/step - loss: 0.3367 - accuracy: 0.8454 - val_loss: 0.3228 - val_accuracy: 0.8576\n",
            "Epoch 62/200\n",
            "1328/1328 [==============================] - 6s 4ms/step - loss: 0.3352 - accuracy: 0.8492 - val_loss: 0.3184 - val_accuracy: 0.8568\n",
            "Epoch 63/200\n",
            "1328/1328 [==============================] - 5s 4ms/step - loss: 0.3306 - accuracy: 0.8501 - val_loss: 0.3009 - val_accuracy: 0.8576\n",
            "Epoch 64/200\n",
            "1328/1328 [==============================] - 5s 4ms/step - loss: 0.3246 - accuracy: 0.8533 - val_loss: 0.2955 - val_accuracy: 0.8659\n",
            "Epoch 65/200\n",
            "1328/1328 [==============================] - 6s 4ms/step - loss: 0.3232 - accuracy: 0.8534 - val_loss: 0.2867 - val_accuracy: 0.8809\n",
            "Epoch 66/200\n",
            "1328/1328 [==============================] - 6s 4ms/step - loss: 0.3199 - accuracy: 0.8554 - val_loss: 0.2860 - val_accuracy: 0.8726\n",
            "Epoch 67/200\n",
            "1328/1328 [==============================] - 6s 4ms/step - loss: 0.3195 - accuracy: 0.8515 - val_loss: 0.2694 - val_accuracy: 0.8855\n",
            "Epoch 68/200\n",
            "1328/1328 [==============================] - 5s 4ms/step - loss: 0.3103 - accuracy: 0.8603 - val_loss: 0.2819 - val_accuracy: 0.8862\n",
            "Epoch 69/200\n",
            "1328/1328 [==============================] - 6s 4ms/step - loss: 0.3093 - accuracy: 0.8618 - val_loss: 0.2730 - val_accuracy: 0.8870\n",
            "Epoch 70/200\n",
            "1328/1328 [==============================] - 5s 4ms/step - loss: 0.3052 - accuracy: 0.8638 - val_loss: 0.3020 - val_accuracy: 0.8636\n",
            "Epoch 71/200\n",
            "1328/1328 [==============================] - 5s 4ms/step - loss: 0.3006 - accuracy: 0.8675 - val_loss: 0.3438 - val_accuracy: 0.8508\n",
            "Epoch 72/200\n",
            "1328/1328 [==============================] - 5s 4ms/step - loss: 0.3008 - accuracy: 0.8607 - val_loss: 0.2906 - val_accuracy: 0.8772\n",
            "Epoch 73/200\n",
            "1328/1328 [==============================] - 6s 4ms/step - loss: 0.3035 - accuracy: 0.8614 - val_loss: 0.2804 - val_accuracy: 0.8757\n",
            "Epoch 74/200\n",
            "1328/1328 [==============================] - 6s 5ms/step - loss: 0.2929 - accuracy: 0.8693 - val_loss: 0.2803 - val_accuracy: 0.8772\n",
            "Epoch 75/200\n",
            "1328/1328 [==============================] - 6s 4ms/step - loss: 0.2897 - accuracy: 0.8694 - val_loss: 0.2664 - val_accuracy: 0.8907\n",
            "Epoch 76/200\n",
            "1328/1328 [==============================] - 6s 4ms/step - loss: 0.2896 - accuracy: 0.8725 - val_loss: 0.2766 - val_accuracy: 0.8855\n",
            "Epoch 77/200\n",
            "1328/1328 [==============================] - 5s 4ms/step - loss: 0.2890 - accuracy: 0.8718 - val_loss: 0.2631 - val_accuracy: 0.8802\n",
            "Epoch 78/200\n",
            "1328/1328 [==============================] - 6s 4ms/step - loss: 0.2788 - accuracy: 0.8759 - val_loss: 0.2334 - val_accuracy: 0.8998\n",
            "Epoch 79/200\n",
            "1328/1328 [==============================] - 6s 4ms/step - loss: 0.2784 - accuracy: 0.8760 - val_loss: 0.2692 - val_accuracy: 0.8855\n",
            "Epoch 80/200\n",
            "1328/1328 [==============================] - 6s 4ms/step - loss: 0.2742 - accuracy: 0.8777 - val_loss: 0.2572 - val_accuracy: 0.8915\n",
            "Epoch 81/200\n",
            "1328/1328 [==============================] - 5s 4ms/step - loss: 0.2849 - accuracy: 0.8720 - val_loss: 0.2453 - val_accuracy: 0.8900\n",
            "Epoch 82/200\n",
            "1328/1328 [==============================] - 6s 4ms/step - loss: 0.2704 - accuracy: 0.8768 - val_loss: 0.2783 - val_accuracy: 0.8764\n",
            "Epoch 83/200\n",
            "1328/1328 [==============================] - 6s 4ms/step - loss: 0.2748 - accuracy: 0.8714 - val_loss: 0.2224 - val_accuracy: 0.9020\n",
            "Epoch 84/200\n",
            "1328/1328 [==============================] - 5s 4ms/step - loss: 0.2722 - accuracy: 0.8754 - val_loss: 0.2460 - val_accuracy: 0.9050\n",
            "Epoch 85/200\n",
            "1328/1328 [==============================] - 6s 4ms/step - loss: 0.2624 - accuracy: 0.8832 - val_loss: 0.2560 - val_accuracy: 0.8892\n",
            "Epoch 86/200\n",
            "1328/1328 [==============================] - 5s 4ms/step - loss: 0.2638 - accuracy: 0.8822 - val_loss: 0.2427 - val_accuracy: 0.9013\n",
            "Epoch 87/200\n",
            "1328/1328 [==============================] - 6s 4ms/step - loss: 0.2619 - accuracy: 0.8846 - val_loss: 0.2456 - val_accuracy: 0.8885\n",
            "Epoch 88/200\n",
            "1328/1328 [==============================] - 5s 4ms/step - loss: 0.2615 - accuracy: 0.8827 - val_loss: 0.2472 - val_accuracy: 0.8968\n",
            "Epoch 89/200\n",
            "1328/1328 [==============================] - 6s 4ms/step - loss: 0.2616 - accuracy: 0.8813 - val_loss: 0.2569 - val_accuracy: 0.8832\n",
            "Epoch 90/200\n",
            "1328/1328 [==============================] - 5s 4ms/step - loss: 0.2576 - accuracy: 0.8855 - val_loss: 0.2417 - val_accuracy: 0.8945\n",
            "Epoch 91/200\n",
            "1328/1328 [==============================] - 5s 4ms/step - loss: 0.2549 - accuracy: 0.8900 - val_loss: 0.2320 - val_accuracy: 0.9058\n",
            "Epoch 92/200\n",
            "1328/1328 [==============================] - 6s 5ms/step - loss: 0.2569 - accuracy: 0.8841 - val_loss: 0.2348 - val_accuracy: 0.8945\n",
            "Epoch 93/200\n",
            "1328/1328 [==============================] - 6s 4ms/step - loss: 0.2442 - accuracy: 0.8914 - val_loss: 0.2402 - val_accuracy: 0.8892\n",
            "Epoch 94/200\n",
            "1328/1328 [==============================] - 5s 4ms/step - loss: 0.2518 - accuracy: 0.8878 - val_loss: 0.2225 - val_accuracy: 0.9028\n",
            "Epoch 95/200\n",
            "1328/1328 [==============================] - 6s 4ms/step - loss: 0.2521 - accuracy: 0.8842 - val_loss: 0.2188 - val_accuracy: 0.9088\n",
            "Epoch 96/200\n",
            "1328/1328 [==============================] - 5s 4ms/step - loss: 0.2435 - accuracy: 0.8906 - val_loss: 0.2258 - val_accuracy: 0.8983\n",
            "Epoch 97/200\n",
            "1328/1328 [==============================] - 6s 4ms/step - loss: 0.2501 - accuracy: 0.8857 - val_loss: 0.2475 - val_accuracy: 0.8892\n",
            "Epoch 98/200\n",
            "1328/1328 [==============================] - 6s 4ms/step - loss: 0.2397 - accuracy: 0.8936 - val_loss: 0.2112 - val_accuracy: 0.9081\n",
            "Epoch 99/200\n",
            "1328/1328 [==============================] - 5s 4ms/step - loss: 0.2413 - accuracy: 0.8922 - val_loss: 0.2305 - val_accuracy: 0.8937\n",
            "Epoch 100/200\n",
            "1328/1328 [==============================] - 5s 4ms/step - loss: 0.2411 - accuracy: 0.8926 - val_loss: 0.2584 - val_accuracy: 0.8817\n",
            "Epoch 101/200\n",
            "1328/1328 [==============================] - 6s 4ms/step - loss: 0.2438 - accuracy: 0.8905 - val_loss: 0.2162 - val_accuracy: 0.8983\n",
            "Epoch 102/200\n",
            "1328/1328 [==============================] - 6s 4ms/step - loss: 0.2308 - accuracy: 0.8983 - val_loss: 0.2351 - val_accuracy: 0.8975\n",
            "Epoch 103/200\n",
            "1328/1328 [==============================] - 5s 4ms/step - loss: 0.2354 - accuracy: 0.8945 - val_loss: 0.2387 - val_accuracy: 0.8892\n",
            "Epoch 104/200\n",
            "1328/1328 [==============================] - 6s 4ms/step - loss: 0.2306 - accuracy: 0.8980 - val_loss: 0.2241 - val_accuracy: 0.8968\n",
            "Epoch 105/200\n",
            "1328/1328 [==============================] - 6s 4ms/step - loss: 0.2360 - accuracy: 0.8957 - val_loss: 0.2176 - val_accuracy: 0.9096\n",
            "Epoch 106/200\n",
            "1328/1328 [==============================] - 6s 4ms/step - loss: 0.2327 - accuracy: 0.8946 - val_loss: 0.2218 - val_accuracy: 0.8998\n",
            "Epoch 107/200\n",
            "1328/1328 [==============================] - 6s 4ms/step - loss: 0.2259 - accuracy: 0.9002 - val_loss: 0.2173 - val_accuracy: 0.9020\n",
            "Epoch 108/200\n",
            "1328/1328 [==============================] - 6s 5ms/step - loss: 0.2284 - accuracy: 0.8993 - val_loss: 0.2011 - val_accuracy: 0.9073\n",
            "Epoch 109/200\n",
            "1328/1328 [==============================] - 5s 4ms/step - loss: 0.2281 - accuracy: 0.8997 - val_loss: 0.2501 - val_accuracy: 0.8839\n",
            "Epoch 110/200\n",
            "1328/1328 [==============================] - 6s 4ms/step - loss: 0.2202 - accuracy: 0.9003 - val_loss: 0.2010 - val_accuracy: 0.9050\n",
            "Epoch 111/200\n",
            "1328/1328 [==============================] - 5s 4ms/step - loss: 0.2191 - accuracy: 0.9016 - val_loss: 0.2081 - val_accuracy: 0.9020\n",
            "Epoch 112/200\n",
            "1328/1328 [==============================] - 5s 4ms/step - loss: 0.2274 - accuracy: 0.8996 - val_loss: 0.2131 - val_accuracy: 0.8998\n",
            "Epoch 113/200\n",
            "1328/1328 [==============================] - 6s 4ms/step - loss: 0.2171 - accuracy: 0.9042 - val_loss: 0.2117 - val_accuracy: 0.9066\n",
            "Epoch 114/200\n",
            "1328/1328 [==============================] - 6s 4ms/step - loss: 0.2167 - accuracy: 0.9016 - val_loss: 0.1828 - val_accuracy: 0.9194\n",
            "Epoch 115/200\n",
            "1328/1328 [==============================] - 6s 4ms/step - loss: 0.2164 - accuracy: 0.9004 - val_loss: 0.2502 - val_accuracy: 0.8900\n",
            "Epoch 116/200\n",
            "1328/1328 [==============================] - 5s 4ms/step - loss: 0.2181 - accuracy: 0.9022 - val_loss: 0.2222 - val_accuracy: 0.9005\n",
            "Epoch 117/200\n",
            "1328/1328 [==============================] - 5s 4ms/step - loss: 0.2050 - accuracy: 0.9081 - val_loss: 0.1766 - val_accuracy: 0.9231\n",
            "Epoch 118/200\n",
            "1328/1328 [==============================] - 6s 4ms/step - loss: 0.2170 - accuracy: 0.9037 - val_loss: 0.2030 - val_accuracy: 0.9088\n",
            "Epoch 119/200\n",
            "1328/1328 [==============================] - 6s 4ms/step - loss: 0.2156 - accuracy: 0.9030 - val_loss: 0.1749 - val_accuracy: 0.9216\n",
            "Epoch 120/200\n",
            "1328/1328 [==============================] - 5s 4ms/step - loss: 0.2078 - accuracy: 0.9062 - val_loss: 0.2023 - val_accuracy: 0.9058\n",
            "Epoch 121/200\n",
            "1328/1328 [==============================] - 5s 4ms/step - loss: 0.2120 - accuracy: 0.9058 - val_loss: 0.2078 - val_accuracy: 0.9118\n",
            "Epoch 122/200\n",
            "1328/1328 [==============================] - 6s 4ms/step - loss: 0.2090 - accuracy: 0.9072 - val_loss: 0.1797 - val_accuracy: 0.9171\n",
            "Epoch 123/200\n",
            "1328/1328 [==============================] - 6s 4ms/step - loss: 0.2061 - accuracy: 0.9074 - val_loss: 0.1780 - val_accuracy: 0.9231\n",
            "Epoch 124/200\n",
            "1328/1328 [==============================] - 5s 4ms/step - loss: 0.2088 - accuracy: 0.9074 - val_loss: 0.1805 - val_accuracy: 0.9246\n",
            "Epoch 125/200\n",
            "1328/1328 [==============================] - 6s 4ms/step - loss: 0.2045 - accuracy: 0.9108 - val_loss: 0.2073 - val_accuracy: 0.9035\n",
            "Epoch 126/200\n",
            "1328/1328 [==============================] - 6s 4ms/step - loss: 0.2078 - accuracy: 0.9058 - val_loss: 0.1854 - val_accuracy: 0.9216\n",
            "Epoch 127/200\n",
            "1328/1328 [==============================] - 6s 4ms/step - loss: 0.2017 - accuracy: 0.9117 - val_loss: 0.1846 - val_accuracy: 0.9284\n",
            "Epoch 128/200\n",
            "1328/1328 [==============================] - 6s 4ms/step - loss: 0.2038 - accuracy: 0.9069 - val_loss: 0.1673 - val_accuracy: 0.9277\n",
            "Epoch 129/200\n",
            "1328/1328 [==============================] - 5s 4ms/step - loss: 0.2056 - accuracy: 0.9084 - val_loss: 0.1613 - val_accuracy: 0.9367\n",
            "Epoch 130/200\n",
            "1328/1328 [==============================] - 6s 4ms/step - loss: 0.1964 - accuracy: 0.9138 - val_loss: 0.1926 - val_accuracy: 0.9141\n",
            "Epoch 131/200\n",
            "1328/1328 [==============================] - 5s 4ms/step - loss: 0.2029 - accuracy: 0.9098 - val_loss: 0.1965 - val_accuracy: 0.9141\n",
            "Epoch 132/200\n",
            "1328/1328 [==============================] - 5s 4ms/step - loss: 0.1973 - accuracy: 0.9124 - val_loss: 0.1779 - val_accuracy: 0.9201\n",
            "Epoch 133/200\n",
            "1328/1328 [==============================] - 6s 5ms/step - loss: 0.1943 - accuracy: 0.9117 - val_loss: 0.1725 - val_accuracy: 0.9269\n",
            "Epoch 134/200\n",
            "1328/1328 [==============================] - 6s 4ms/step - loss: 0.2034 - accuracy: 0.9118 - val_loss: 0.1654 - val_accuracy: 0.9277\n",
            "Epoch 135/200\n",
            "1328/1328 [==============================] - 6s 4ms/step - loss: 0.1912 - accuracy: 0.9151 - val_loss: 0.1825 - val_accuracy: 0.9179\n",
            "Epoch 136/200\n",
            "1328/1328 [==============================] - 6s 4ms/step - loss: 0.1946 - accuracy: 0.9123 - val_loss: 0.1931 - val_accuracy: 0.9111\n",
            "Epoch 137/200\n",
            "1328/1328 [==============================] - 5s 4ms/step - loss: 0.1921 - accuracy: 0.9129 - val_loss: 0.1797 - val_accuracy: 0.9224\n",
            "Epoch 138/200\n",
            "1328/1328 [==============================] - 6s 5ms/step - loss: 0.1880 - accuracy: 0.9159 - val_loss: 0.1675 - val_accuracy: 0.9299\n",
            "Epoch 139/200\n",
            "1328/1328 [==============================] - 6s 4ms/step - loss: 0.1957 - accuracy: 0.9114 - val_loss: 0.1821 - val_accuracy: 0.9239\n",
            "Epoch 140/200\n",
            "1328/1328 [==============================] - 6s 4ms/step - loss: 0.1937 - accuracy: 0.9166 - val_loss: 0.1797 - val_accuracy: 0.9292\n",
            "Epoch 141/200\n",
            "1328/1328 [==============================] - 6s 4ms/step - loss: 0.1847 - accuracy: 0.9200 - val_loss: 0.1696 - val_accuracy: 0.9254\n",
            "Epoch 142/200\n",
            "1328/1328 [==============================] - 5s 4ms/step - loss: 0.1930 - accuracy: 0.9149 - val_loss: 0.1786 - val_accuracy: 0.9209\n",
            "Epoch 143/200\n",
            "1328/1328 [==============================] - 6s 5ms/step - loss: 0.1851 - accuracy: 0.9180 - val_loss: 0.1940 - val_accuracy: 0.9224\n",
            "Epoch 144/200\n",
            "1328/1328 [==============================] - 6s 5ms/step - loss: 0.1864 - accuracy: 0.9179 - val_loss: 0.1766 - val_accuracy: 0.9254\n",
            "Epoch 145/200\n",
            "1328/1328 [==============================] - 6s 4ms/step - loss: 0.1819 - accuracy: 0.9170 - val_loss: 0.1733 - val_accuracy: 0.9254\n",
            "Epoch 146/200\n",
            "1328/1328 [==============================] - 6s 4ms/step - loss: 0.1869 - accuracy: 0.9182 - val_loss: 0.1780 - val_accuracy: 0.9261\n",
            "Epoch 147/200\n",
            "1328/1328 [==============================] - 6s 4ms/step - loss: 0.1809 - accuracy: 0.9208 - val_loss: 0.1723 - val_accuracy: 0.9246\n",
            "Epoch 148/200\n",
            "1328/1328 [==============================] - 6s 5ms/step - loss: 0.1826 - accuracy: 0.9180 - val_loss: 0.1742 - val_accuracy: 0.9194\n",
            "Epoch 149/200\n",
            "1328/1328 [==============================] - 6s 4ms/step - loss: 0.1795 - accuracy: 0.9190 - val_loss: 0.1681 - val_accuracy: 0.9254\n",
            "Epoch 150/200\n",
            "1328/1328 [==============================] - 6s 4ms/step - loss: 0.1835 - accuracy: 0.9179 - val_loss: 0.2027 - val_accuracy: 0.9058\n",
            "Epoch 151/200\n",
            "1328/1328 [==============================] - 6s 4ms/step - loss: 0.1842 - accuracy: 0.9181 - val_loss: 0.1724 - val_accuracy: 0.9292\n",
            "Epoch 152/200\n",
            "1328/1328 [==============================] - 5s 4ms/step - loss: 0.1776 - accuracy: 0.9198 - val_loss: 0.1695 - val_accuracy: 0.9307\n",
            "Epoch 153/200\n",
            "1328/1328 [==============================] - 6s 4ms/step - loss: 0.1856 - accuracy: 0.9171 - val_loss: 0.1663 - val_accuracy: 0.9209\n",
            "Epoch 154/200\n",
            "1328/1328 [==============================] - 6s 5ms/step - loss: 0.1806 - accuracy: 0.9182 - val_loss: 0.1508 - val_accuracy: 0.9337\n",
            "Epoch 155/200\n",
            "1328/1328 [==============================] - 6s 4ms/step - loss: 0.1774 - accuracy: 0.9207 - val_loss: 0.1467 - val_accuracy: 0.9450\n",
            "Epoch 156/200\n",
            "1328/1328 [==============================] - 6s 5ms/step - loss: 0.1843 - accuracy: 0.9166 - val_loss: 0.1728 - val_accuracy: 0.9269\n",
            "Epoch 157/200\n",
            "1328/1328 [==============================] - 6s 4ms/step - loss: 0.1726 - accuracy: 0.9225 - val_loss: 0.1614 - val_accuracy: 0.9314\n",
            "Epoch 158/200\n",
            "1328/1328 [==============================] - 6s 4ms/step - loss: 0.1772 - accuracy: 0.9210 - val_loss: 0.1649 - val_accuracy: 0.9269\n",
            "Epoch 159/200\n",
            "1328/1328 [==============================] - 6s 5ms/step - loss: 0.1826 - accuracy: 0.9178 - val_loss: 0.1827 - val_accuracy: 0.9156\n",
            "Epoch 160/200\n",
            "1328/1328 [==============================] - 6s 4ms/step - loss: 0.1805 - accuracy: 0.9185 - val_loss: 0.1594 - val_accuracy: 0.9307\n",
            "Epoch 161/200\n",
            "1328/1328 [==============================] - 5s 4ms/step - loss: 0.1686 - accuracy: 0.9245 - val_loss: 0.1950 - val_accuracy: 0.9156\n",
            "Epoch 162/200\n",
            "1328/1328 [==============================] - 5s 4ms/step - loss: 0.1796 - accuracy: 0.9192 - val_loss: 0.1552 - val_accuracy: 0.9329\n",
            "Epoch 163/200\n",
            "1328/1328 [==============================] - 6s 4ms/step - loss: 0.1705 - accuracy: 0.9245 - val_loss: 0.1408 - val_accuracy: 0.9344\n",
            "Epoch 164/200\n",
            "1328/1328 [==============================] - 6s 5ms/step - loss: 0.1684 - accuracy: 0.9261 - val_loss: 0.1304 - val_accuracy: 0.9390\n",
            "Epoch 165/200\n",
            "1328/1328 [==============================] - 6s 4ms/step - loss: 0.1678 - accuracy: 0.9285 - val_loss: 0.1532 - val_accuracy: 0.9322\n",
            "Epoch 166/200\n",
            "1328/1328 [==============================] - 6s 4ms/step - loss: 0.1748 - accuracy: 0.9226 - val_loss: 0.1466 - val_accuracy: 0.9277\n",
            "Epoch 167/200\n",
            "1328/1328 [==============================] - 6s 4ms/step - loss: 0.1706 - accuracy: 0.9247 - val_loss: 0.1722 - val_accuracy: 0.9322\n",
            "Epoch 168/200\n",
            "1328/1328 [==============================] - 6s 4ms/step - loss: 0.1699 - accuracy: 0.9236 - val_loss: 0.1457 - val_accuracy: 0.9352\n",
            "Epoch 169/200\n",
            "1328/1328 [==============================] - 5s 4ms/step - loss: 0.1765 - accuracy: 0.9215 - val_loss: 0.1537 - val_accuracy: 0.9359\n",
            "Epoch 170/200\n",
            "1328/1328 [==============================] - 6s 4ms/step - loss: 0.1707 - accuracy: 0.9235 - val_loss: 0.1563 - val_accuracy: 0.9307\n",
            "Epoch 171/200\n",
            "1328/1328 [==============================] - 6s 4ms/step - loss: 0.1671 - accuracy: 0.9254 - val_loss: 0.1557 - val_accuracy: 0.9292\n",
            "Epoch 172/200\n",
            "1328/1328 [==============================] - 5s 4ms/step - loss: 0.1661 - accuracy: 0.9260 - val_loss: 0.1367 - val_accuracy: 0.9420\n",
            "Epoch 173/200\n",
            "1328/1328 [==============================] - 6s 5ms/step - loss: 0.1645 - accuracy: 0.9298 - val_loss: 0.1444 - val_accuracy: 0.9427\n",
            "Epoch 174/200\n",
            "1328/1328 [==============================] - 5s 4ms/step - loss: 0.1681 - accuracy: 0.9268 - val_loss: 0.1756 - val_accuracy: 0.9224\n",
            "Epoch 175/200\n",
            "1328/1328 [==============================] - 6s 4ms/step - loss: 0.1681 - accuracy: 0.9252 - val_loss: 0.1393 - val_accuracy: 0.9427\n",
            "Epoch 176/200\n",
            "1328/1328 [==============================] - 6s 5ms/step - loss: 0.1638 - accuracy: 0.9273 - val_loss: 0.1459 - val_accuracy: 0.9359\n",
            "Epoch 177/200\n",
            "1328/1328 [==============================] - 6s 4ms/step - loss: 0.1579 - accuracy: 0.9306 - val_loss: 0.1768 - val_accuracy: 0.9239\n",
            "Epoch 178/200\n",
            "1328/1328 [==============================] - 5s 4ms/step - loss: 0.1633 - accuracy: 0.9284 - val_loss: 0.1650 - val_accuracy: 0.9277\n",
            "Epoch 179/200\n",
            "1328/1328 [==============================] - 6s 4ms/step - loss: 0.1605 - accuracy: 0.9297 - val_loss: 0.1416 - val_accuracy: 0.9352\n",
            "Epoch 180/200\n",
            "1328/1328 [==============================] - 5s 4ms/step - loss: 0.1652 - accuracy: 0.9254 - val_loss: 0.1287 - val_accuracy: 0.9503\n",
            "Epoch 181/200\n",
            "1328/1328 [==============================] - 5s 4ms/step - loss: 0.1530 - accuracy: 0.9334 - val_loss: 0.1598 - val_accuracy: 0.9314\n",
            "Epoch 182/200\n",
            "1328/1328 [==============================] - 6s 4ms/step - loss: 0.1653 - accuracy: 0.9289 - val_loss: 0.1463 - val_accuracy: 0.9375\n",
            "Epoch 183/200\n",
            "1328/1328 [==============================] - 5s 4ms/step - loss: 0.1623 - accuracy: 0.9288 - val_loss: 0.1387 - val_accuracy: 0.9457\n",
            "Epoch 184/200\n",
            "1328/1328 [==============================] - 6s 5ms/step - loss: 0.1555 - accuracy: 0.9311 - val_loss: 0.1544 - val_accuracy: 0.9314\n",
            "Epoch 185/200\n",
            "1328/1328 [==============================] - 5s 4ms/step - loss: 0.1591 - accuracy: 0.9293 - val_loss: 0.1614 - val_accuracy: 0.9239\n",
            "Epoch 186/200\n",
            "1328/1328 [==============================] - 5s 4ms/step - loss: 0.1531 - accuracy: 0.9311 - val_loss: 0.1419 - val_accuracy: 0.9420\n",
            "Epoch 187/200\n",
            "1328/1328 [==============================] - 6s 4ms/step - loss: 0.1565 - accuracy: 0.9318 - val_loss: 0.1466 - val_accuracy: 0.9307\n",
            "Epoch 188/200\n",
            "1328/1328 [==============================] - 5s 4ms/step - loss: 0.1644 - accuracy: 0.9295 - val_loss: 0.1295 - val_accuracy: 0.9465\n",
            "Epoch 189/200\n",
            "1328/1328 [==============================] - 6s 4ms/step - loss: 0.1572 - accuracy: 0.9314 - val_loss: 0.1358 - val_accuracy: 0.9457\n",
            "Epoch 190/200\n",
            "1328/1328 [==============================] - 5s 4ms/step - loss: 0.1559 - accuracy: 0.9300 - val_loss: 0.1275 - val_accuracy: 0.9457\n",
            "Epoch 191/200\n",
            "1328/1328 [==============================] - 6s 5ms/step - loss: 0.1568 - accuracy: 0.9318 - val_loss: 0.1503 - val_accuracy: 0.9307\n",
            "Epoch 192/200\n",
            "1328/1328 [==============================] - 6s 4ms/step - loss: 0.1562 - accuracy: 0.9307 - val_loss: 0.1401 - val_accuracy: 0.9420\n",
            "Epoch 193/200\n",
            "1328/1328 [==============================] - 6s 4ms/step - loss: 0.1549 - accuracy: 0.9323 - val_loss: 0.1469 - val_accuracy: 0.9299\n",
            "Epoch 194/200\n",
            "1328/1328 [==============================] - 6s 5ms/step - loss: 0.1564 - accuracy: 0.9314 - val_loss: 0.1275 - val_accuracy: 0.9397\n",
            "Epoch 195/200\n",
            "1328/1328 [==============================] - 5s 4ms/step - loss: 0.1531 - accuracy: 0.9326 - val_loss: 0.1409 - val_accuracy: 0.9337\n",
            "Epoch 196/200\n",
            "1328/1328 [==============================] - 5s 4ms/step - loss: 0.1523 - accuracy: 0.9309 - val_loss: 0.1314 - val_accuracy: 0.9488\n",
            "Epoch 197/200\n",
            "1328/1328 [==============================] - 6s 4ms/step - loss: 0.1562 - accuracy: 0.9314 - val_loss: 0.1148 - val_accuracy: 0.9616\n",
            "Epoch 198/200\n",
            "1328/1328 [==============================] - 5s 4ms/step - loss: 0.1574 - accuracy: 0.9304 - val_loss: 0.1340 - val_accuracy: 0.9435\n",
            "Epoch 199/200\n",
            "1328/1328 [==============================] - 5s 4ms/step - loss: 0.1510 - accuracy: 0.9321 - val_loss: 0.1776 - val_accuracy: 0.9284\n",
            "Epoch 200/200\n",
            "1328/1328 [==============================] - 6s 4ms/step - loss: 0.1558 - accuracy: 0.9334 - val_loss: 0.1835 - val_accuracy: 0.9224\n"
          ]
        }
      ]
    },
    {
      "cell_type": "code",
      "source": [
        "fig = plt.figure()\n",
        "plt.plot(hist.history['accuracy'], color='teal', label='accuracy')\n",
        "plt.plot(hist.history['val_accuracy'], color='orange', label='val_accuracy')\n",
        "fig.suptitle('Accuracy', fontsize=20)\n",
        "plt.legend(loc=\"upper left\")\n",
        "plt.show()"
      ],
      "metadata": {
        "id": "cTjJTk05SWkh",
        "colab": {
          "base_uri": "https://localhost:8080/",
          "height": 482
        },
        "outputId": "7f25906a-7856-4d49-d0b1-eee9a1b57252"
      },
      "execution_count": 53,
      "outputs": [
        {
          "output_type": "display_data",
          "data": {
            "text/plain": [
              "<Figure size 640x480 with 1 Axes>"
            ],
            "image/png": "[encoded data removed]"
          },
          "metadata": {}
        }
      ]
    },
    {
      "cell_type": "code",
      "source": [
        "test_accuracy = model.evaluate(test_dataset,verbose=0,return_dict=True)['accuracy']\n",
        "test_accuracy"
      ],
      "metadata": {
        "id": "cGHB15A4UcWo",
        "colab": {
          "base_uri": "https://localhost:8080/"
        },
        "outputId": "8d1457de-c607-4d9c-a8be-dfaf0ce69498"
      },
      "execution_count": 54,
      "outputs": [
        {
          "output_type": "execute_result",
          "data": {
            "text/plain": [
              "0.9351921677589417"
            ]
          },
          "metadata": {},
          "execution_count": 54
        }
      ]
    },
    {
      "cell_type": "code",
      "source": [
        "#Is any other way to further boost the accuracy?\n",
        "#Provide more data\n",
        "#Cross Validation\n",
        "#combine training and valuating data set."
      ],
      "metadata": {
        "id": "dZVI35s6Lufe"
      },
      "execution_count": null,
      "outputs": []
    },
    {
      "cell_type": "markdown",
      "source": [
        "# Evaluation\n",
        "##### https://www.kaggle.com/code/jcontr/meta-learning-credit-card-default\n",
        "##### 1. Is the data unbalanced on the feature of whether default?\n",
        "##### 2. Do we need to reduce the dimensions? 33 features and most of them are generated by one hot encoding and they're sparse.\n",
        "\n",
        "Bias sanity check:\n",
        "1. Historical bias / representation bias / measurement bias\n",
        "2. Learning bias\n",
        "3. Evaluation bias\n",
        "4. Aggregation bias\n",
        "5. Deployment bias\n"
      ],
      "metadata": {
        "id": "W4zEz5JeCZoP"
      }
    },
    {
      "cell_type": "code",
      "source": [
        "model.evaluate(test_dataset,verbose=0,return_dict=True)"
      ],
      "metadata": {
        "id": "6SEIe_as9hsA"
      },
      "execution_count": null,
      "outputs": []
    },
    {
      "cell_type": "code",
      "source": [
        "test_prediction = model.predict(test_dataset)\n",
        "print(test_prediction.shape)\n",
        "test_prediction\n",
        "#3000 probabilities"
      ],
      "metadata": {
        "id": "2R9zgg1j9hyx",
        "colab": {
          "base_uri": "https://localhost:8080/"
        },
        "outputId": "4a9bb705-cf1a-4b52-d166-3628c5309b93"
      },
      "execution_count": null,
      "outputs": [
        {
          "output_type": "stream",
          "name": "stdout",
          "text": [
            "104/104 [==============================] - 0s 2ms/step\n",
            "(832, 2)\n"
          ]
        },
        {
          "output_type": "execute_result",
          "data": {
            "text/plain": [
              "array([[9.9499160e-01, 5.0083972e-03],\n",
              "       [6.7161750e-06, 9.9999332e-01],\n",
              "       [9.7910452e-01, 2.0895550e-02],\n",
              "       ...,\n",
              "       [5.9262343e-06, 9.9999404e-01],\n",
              "       [4.9229767e-09, 1.0000000e+00],\n",
              "       [1.5384761e-02, 9.8461527e-01]], dtype=float32)"
            ]
          },
          "metadata": {},
          "execution_count": 70
        }
      ]
    },
    {
      "cell_type": "code",
      "source": [
        "y_test_true = []\n",
        "y_test_predicted = []\n",
        "x_features = []\n",
        "\n",
        "\n",
        "#expand true label y in test_dataset and save it in the list. Make prediction by batches and save it in the list\n",
        "#Must do the prediction and expanding under same for loop otherwise the sequence may be messed up.\n",
        "#Try sigmoid?\n",
        "\n",
        "for test_features, y_test in test_dataset:\n",
        "  x_features.extend(test_features.numpy())\n",
        "  predictions = model.predict(test_features, verbose=0)\n",
        "  y_test_predicted.extend(np.argmax(predictions, axis=1).tolist())\n",
        "  y_test_true.extend(y_test.numpy())\n",
        "\n",
        "print(f\"True label    : {y_test_true[0:5]}\")\n",
        "print(f\"Predicted label: {y_test_predicted[0:5]}\")\n",
        "print(x_features[0:5])\n",
        "\n",
        "correct_predictions = sum(np.array(y_test_predicted) == np.array(y_test_true))\n",
        "total_samples = len(y_test_true)\n",
        "accuracy = correct_predictions / total_samples\n",
        "print(\"Manual Accuracy:\", accuracy)"
      ],
      "metadata": {
        "id": "V_DU6cc19oFX",
        "colab": {
          "base_uri": "https://localhost:8080/"
        },
        "outputId": "8e675630-de44-4c7d-aa81-c26604f05bfe"
      },
      "execution_count": null,
      "outputs": [
        {
          "output_type": "stream",
          "name": "stdout",
          "text": [
            "True label    : [1, 0, 0, 0, 0]\n",
            "Predicted label: [1, 0, 0, 0, 0]\n",
            "[array([-1.70356777, -1.23311841, -0.97329516, -0.80112701, -0.76655653,\n",
            "       -0.72206122, -1.46539742, -1.43118249, -0.01796089, -2.1952831 ,\n",
            "       -0.92697097, -2.06099195, -1.98277468, -1.8768383 , -1.65148652,\n",
            "       -0.15412995, -1.53177656, -1.47739263, -1.46681399, -1.41461444,\n",
            "        1.19577555, -1.19577555, -0.02297182,  1.40207348, -0.95735798,\n",
            "       -0.45724558, -0.05358537, -0.08216519, -0.03980937, -0.03363745,\n",
            "       -0.92996273,  0.95303066, -0.10583005]), array([ 0.6769025 , -0.59666607, -0.18313285, -0.05935516, -0.0206266 ,\n",
            "        0.03454675,  0.08597294,  0.11209457,  1.14015152,  1.14476584,\n",
            "        1.15464261,  1.16938842,  1.156549  ,  1.1243535 ,  0.98525206,\n",
            "        0.89811337,  0.97210362,  1.06914039,  0.9649533 ,  0.87822607,\n",
            "       -0.83627734,  0.83627734, -0.02297182, -0.71322938, -0.95735798,\n",
            "        2.18700858, -0.05358537, -0.08216519, -0.03980937, -0.03363745,\n",
            "       -0.92996273,  0.95303066, -0.10583005]), array([ 0.82139191, -0.80881685, -0.97329516, -0.80112701, -0.0206266 ,\n",
            "        0.03454675,  0.08597294,  0.11209457, -0.72088493,  0.7421159 ,\n",
            "        0.78471649,  0.70663725,  0.36017559, -0.05949607,  1.9199023 ,\n",
            "        0.8829172 ,  0.72080261,  0.87888302,  0.13269105,  0.78709459,\n",
            "       -0.83627734,  0.83627734, -0.02297182, -0.71322938,  1.04454136,\n",
            "       -0.45724558, -0.05358537, -0.08216519, -0.03980937, -0.03363745,\n",
            "        1.07531191, -1.04928419, -0.10583005]), array([-1.28438776,  0.25193704, -1.76345746, -1.54289885, -1.51248646,\n",
            "       -1.47866919, -1.46539742, -1.43118249, -0.8563973 , -0.96441412,\n",
            "       -0.57760196, -0.99131282, -1.04924262, -0.65490805, -0.15500577,\n",
            "        0.28054016, -0.20479833, -0.29948114,  0.11121036,  0.44763905,\n",
            "       -0.83627734,  0.83627734, -0.02297182,  1.40207348, -0.95735798,\n",
            "       -0.45724558, -0.05358537, -0.08216519, -0.03980937, -0.03363745,\n",
            "       -0.92996273,  0.95303066, -0.10583005]), array([ 1.09608251,  0.6762386 , -0.97329516, -0.80112701, -0.76655653,\n",
            "       -1.47866919, -1.46539742, -1.43118249, -0.74024372, -0.65278996,\n",
            "       -2.13067604, -2.06099195, -1.98277468, -1.8768383 ,  0.22386442,\n",
            "       -1.64257496, -1.53177656, -1.47739263, -1.46681399, -1.41461444,\n",
            "        1.19577555, -1.19577555, -0.02297182,  1.40207348, -0.95735798,\n",
            "       -0.45724558, -0.05358537, -0.08216519, -0.03980937, -0.03363745,\n",
            "        1.07531191, -1.04928419, -0.10583005])]\n",
            "Manual Accuracy: 0.9442351168048229\n"
          ]
        }
      ]
    },
    {
      "cell_type": "code",
      "source": [
        "\"\"\"\n",
        "Have no idea why the test accuracy by model.eval and model.predict + threshold is so different?\n",
        "Must do the prediction and expanding under same for loop otherwise the sequence may be messed up.?\n",
        "\"\"\"\n",
        "\n",
        "# #get the prediction result\n",
        "# train_prediction_binary = []\n",
        "# for prediction in train_prediction:\n",
        "#   #print(prediction)\n",
        "#   if prediction >= 0.5: #take 0.5 as threshold, default of model.evaluation is also 0.5\n",
        "#     train_prediction_binary.append(1)\n",
        "#   else:\n",
        "#     train_prediction_binary.append(0)\n",
        "# print(len(train_prediction_binary))\n",
        "# print(train_prediction_binary[0:20])\n",
        "\n",
        "# #get y_test, take y_test out from data pipeline and put it into a list\n",
        "# y_train_all = []\n",
        "# for train_features, y_train in train_dataset:\n",
        "#   y_train_all.extend(y_train.numpy())\n",
        "# print(len(y_train_all))\n",
        "# print(y_train_all[0:20])\n",
        "\n",
        "# correct_predictions = sum(np.array(train_prediction_binary) == np.array(y_train_all))\n",
        "# total_samples = len(y_train_all)\n",
        "# accuracy = correct_predictions / total_samples\n",
        "\n",
        "# print(\"Manual Accuracy with Threshold 0.5:\", accuracy)"
      ],
      "metadata": {
        "id": "yi1Y9RZtFGpV",
        "colab": {
          "base_uri": "https://localhost:8080/",
          "height": 54
        },
        "outputId": "50ff6c83-5aa6-4863-9310-e4a84cdbcfae"
      },
      "execution_count": null,
      "outputs": [
        {
          "output_type": "execute_result",
          "data": {
            "text/plain": [
              "'\\nHave no idea why the test accuracy by model.eval and model.predict + threshold is so different?\\nMust do the prediction and expanding under same for loop otherwise the sequence may be messed up.?\\n'"
            ],
            "application/vnd.google.colaboratory.intrinsic+json": {
              "type": "string"
            }
          },
          "metadata": {},
          "execution_count": 20
        }
      ]
    },
    {
      "cell_type": "code",
      "source": [
        "import seaborn as sns  # for nicer plots\n",
        "sns.set(style=\"darkgrid\")  # default style\n",
        "\n",
        "# Create a confusion matrix as a 2D array.\n",
        "confusion_matrix = tf.math.confusion_matrix(y_test_true, y_test_predicted)\n",
        "\n",
        "# Use a heatmap plot to display it.\n",
        "ax = sns.heatmap(confusion_matrix, annot=True, fmt='.3g', cmap='Blues')\n",
        "# Add axis labels.\n",
        "ax.set(xlabel='Predicted Label', ylabel='True Label')\n",
        "plt.show()\n",
        "print(confusion_matrix.numpy())"
      ],
      "metadata": {
        "id": "H4w9tf759oLj",
        "colab": {
          "base_uri": "https://localhost:8080/",
          "height": 495
        },
        "outputId": "4348f905-91cc-4243-b7b0-8dd7f594c1a8"
      },
      "execution_count": null,
      "outputs": [
        {
          "output_type": "display_data",
          "data": {
            "text/plain": [
              "<Figure size 640x480 with 2 Axes>"
            ],
            "image/png": "[encoded data removed]"
          },
          "metadata": {}
        },
        {
          "output_type": "stream",
          "name": "stdout",
          "text": [
            "[[614  36]\n",
            " [ 38 639]]\n"
          ]
        }
      ]
    },
    {
      "cell_type": "markdown",
      "source": [
        "We have\n",
        "1. 30000 (23364+6636) examples, 90% of accuracy, 100 epochs, 74% of recall.\n",
        "2. 22636 (16000+6636) examples, 90% of accuracy, 100 epochs, 78% of recall. [[1560   58]\n",
        " [ 137  508]]\n",
        "3. 16636 (10000+6636) examples, 89.7% of accuracy, 100 epochs, 84% of recall.\n",
        "[[932  65]\n",
        " [105 561]]\n",
        "4. 13272 (6636+6636) examples, 89.5% of accuracy, 100 epochs, 86% of recall.\n",
        "[[651  33]\n",
        " [ 86 557]]\n",
        "4. 13272 (6636+6636) examples, 93% of accuracy, 200 epochs, 94% of recall.\n",
        "[[600  46]\n",
        " [ 38 643]]\n"
      ],
      "metadata": {
        "id": "j8kBKHqS9pd2"
      }
    },
    {
      "cell_type": "markdown",
      "source": [
        "# Unfairness/Bias check"
      ],
      "metadata": {
        "id": "25k_aWRv2CVz"
      }
    },
    {
      "cell_type": "code",
      "source": [
        "#raw data incorperates male: 5462 and female: 7810. The gender rate is: 41% (41% male, 59% female)\n",
        "\n",
        "male_fp = 0\n",
        "female_fp = 0\n",
        "male_fn = 0\n",
        "female_fn = 0\n",
        "\n",
        "for i in range(len(y_test_true)):\n",
        "  #false positive\n",
        "  if y_test_predicted[i] == 1 and y_test_true[i] == 0:\n",
        "    if x_features[i][-13] >= 0: #-13 index of male\n",
        "      male_fp+=1\n",
        "    else:\n",
        "      female_fp+=1\n",
        "  #false negative\n",
        "  if y_test_predicted[i] == 0 and y_test_true[i] == 1:\n",
        "    if x_features[i][-13] >= 0: #-13 index of male\n",
        "      male_fn+=1\n",
        "    else:\n",
        "      female_fn+=1\n",
        "\n",
        "print(f\"False positive, male:{male_fp}, female:{female_fp} and the gender rate is {round(male_fp/(female_fp+male_fp),1)}\")\n",
        "print(f\"False negative, male:{male_fn}, female:{female_fn} and the gender rate is {round(male_fn/(female_fn+male_fn),1)}\")\n",
        "\n",
        "\"\"\"\n",
        "False positive means the model mispredicts the credit card owner's default and among 12 examples, there are 5 males and 7 females with the gender rate 0.4\n",
        "which makes sense and agrees with the gender rate\n",
        "\n",
        "False negative means the model can't tell the credit card owner's default and among 74 examples, there are 35 males and 39 females with the gender rate 0.5\n",
        "which is slightly higher than the overall gender rate and implies the model has more possibility of missing the prediction on males.\n",
        "\"\"\""
      ],
      "metadata": {
        "colab": {
          "base_uri": "https://localhost:8080/",
          "height": 109
        },
        "id": "JHoB0QIi2IYg",
        "outputId": "aa441086-2d18-4c19-e684-faca6314758e"
      },
      "execution_count": null,
      "outputs": [
        {
          "output_type": "stream",
          "name": "stdout",
          "text": [
            "False positive, male:16, female:20 and the gender rate is 0.4\n",
            "False negative, male:13, female:25 and the gender rate is 0.3\n"
          ]
        },
        {
          "output_type": "execute_result",
          "data": {
            "text/plain": [
              "\"\\nFalse positive means the model mispredicts the credit card owner's default and among 12 examples, there are 5 males and 7 females with the gender rate 0.4\\nwhich makes sense and agrees with the gender rate\\n\\nFalse negative means the model can't tell the credit card owner's default and among 74 examples, there are 35 males and 39 females with the gender rate 0.5\\nwhich is slightly higher than the overall gender rate and implies the model has more possibility of missing the prediction on males.\\n\""
            ],
            "application/vnd.google.colaboratory.intrinsic+json": {
              "type": "string"
            }
          },
          "metadata": {},
          "execution_count": 22
        }
      ]
    },
    {
      "cell_type": "markdown",
      "source": [
        "# Feature reduction\n",
        "Try different combinations of features.\n",
        "1. Removing collinear  features may help to boost the performance\n",
        "2. Some setups may have business meaning except for the model training purpose."
      ],
      "metadata": {
        "id": "nljf1FPn7MKq"
      }
    },
    {
      "cell_type": "code",
      "source": [
        "#Removing collinear features may make us lose some information under these columns.\n",
        "#Know whether default or not 6 months ahead.\n",
        "#Remove features that contain less data\n",
        "\n",
        "X_reduced_2 = df[['LIMIT_BAL', 'AGE', 'PAY_6','BILL_AMT6','PAY_AMT6',\n",
        "       'SEX_1', 'SEX_2', 'EDUCATION_0', 'EDUCATION_1', 'EDUCATION_2',\n",
        "       'EDUCATION_3','MARRIAGE_1', 'MARRIAGE_2']].values\n",
        "y = np.squeeze(df[['default.payment.next.month']].values)\n",
        "\n",
        "# Normalize the input features using Z-score normalization\n",
        "scaler = StandardScaler()\n",
        "X_reduced_normalized = scaler.fit_transform(X_reduced_2)"
      ],
      "metadata": {
        "id": "TWNyl5E67M24"
      },
      "execution_count": null,
      "outputs": []
    },
    {
      "cell_type": "code",
      "source": [
        "# Create a TensorFlow Dataset from the normalized input features and target labels\n",
        "dataset_r = tf.data.Dataset.from_tensor_slices((X_reduced_normalized, y))\n",
        "\n",
        "# Shuffle the dataset\n",
        "dataset_r = dataset_r.shuffle(buffer_size=len(X_reduced_normalized))\n",
        "\n",
        "# Split the data into train, validation, and test sets\n",
        "train_size = int(0.8 * len(X_reduced_normalized))\n",
        "val_size = int(0.1 * len(X_reduced_normalized))\n",
        "test_size = int(0.1 * len(X_reduced_normalized))\n",
        "\n",
        "# Split the dataset into train, validation, and test sets\n",
        "train_dataset_r = dataset_r.take(train_size)\n",
        "val_dataset_r = dataset_r.skip(train_size).take(val_size)\n",
        "test_dataset_r = dataset_r.skip(train_size + val_size).take(test_size)\n",
        "\n",
        "# Batch the datasets\n",
        "batch_size = 8\n",
        "train_dataset_r = train_dataset_r.batch(batch_size)\n",
        "val_dataset_r = val_dataset_r.batch(batch_size)\n",
        "test_dataset_r = test_dataset_r.batch(batch_size)\n",
        "\n",
        "it = train_dataset_r.as_numpy_iterator()\n",
        "print(it.next()[0].shape, it.next()[1].shape) #return a batch (X,y)\n",
        "print(it.next()[0], it.next()[1]) #return a batch (X,y)\n",
        "# for features, labels in train_dataset:\n",
        "#   print(\"Train Features shape:\", features.shape)\n",
        "#   print(\"Train Labels shape:\", labels.shape)"
      ],
      "metadata": {
        "id": "eQaBkwiE7NAu",
        "colab": {
          "base_uri": "https://localhost:8080/"
        },
        "outputId": "c8564bcf-fa32-4077-c6e4-97206c78bd19"
      },
      "execution_count": null,
      "outputs": [
        {
          "output_type": "stream",
          "name": "stdout",
          "text": [
            "(8, 13) (8,)\n",
            "[[-0.72303379  0.15934398  0.27395965  0.52553838  0.09985334 -0.81563898\n",
            "   0.81563898 -0.02900422 -0.75233121  1.08475151 -0.44275974  1.10543433\n",
            "  -1.08056514]\n",
            " [ 0.65863904  0.58925138  0.27395965  1.08978987  0.78817918 -0.81563898\n",
            "   0.81563898 -0.02900422 -0.75233121  1.08475151 -0.44275974 -0.90462181\n",
            "   0.92544166]\n",
            " [ 0.01406709 -0.37804027  2.0384886   0.37479732  0.95348051 -0.81563898\n",
            "   0.81563898 -0.02900422 -0.75233121  1.08475151 -0.44275974 -0.90462181\n",
            "   0.92544166]\n",
            " [ 1.41963782  0.48177453  0.27395965  0.41184392  1.82010828 -0.81563898\n",
            "   0.81563898 -0.02900422 -0.75233121 -0.92187012  2.25856125 -0.90462181\n",
            "   0.92544166]\n",
            " [ 0.25136057 -0.48551712 -0.60830483  0.14215201  1.48030921 -0.81563898\n",
            "   0.81563898 -0.02900422 -0.75233121  1.08475151 -0.44275974  1.10543433\n",
            "  -1.08056514]\n",
            " [ 1.08981541  2.20140414  0.27395965 -0.01362744  0.47130337  1.22603262\n",
            "  -1.22603262 -0.02900422 -0.75233121 -0.92187012  2.25856125  1.10543433\n",
            "  -1.08056514]\n",
            " [ 0.65863904  1.55654304 -1.49056931 -1.85697879 -1.48636504 -0.81563898\n",
            "   0.81563898 -0.02900422  1.32920179 -0.92187012 -0.44275974 -0.90462181\n",
            "   0.92544166]\n",
            " [-1.46013467 -1.13037822  5.56754651 -0.41977825 -1.48636504  1.22603262\n",
            "  -1.22603262 -0.02900422 -0.75233121  1.08475151 -0.44275974 -0.90462181\n",
            "   0.92544166]] [0. 0. 0. 0. 1. 1. 1. 0.]\n"
          ]
        }
      ]
    },
    {
      "cell_type": "code",
      "source": [
        "tf.keras.backend.clear_session()"
      ],
      "metadata": {
        "id": "EBGZUiF26XIZ"
      },
      "execution_count": null,
      "outputs": []
    },
    {
      "cell_type": "code",
      "source": [
        "model_2 = Sequential()"
      ],
      "metadata": {
        "id": "L1JOm3EG6XK9"
      },
      "execution_count": null,
      "outputs": []
    },
    {
      "cell_type": "code",
      "source": [
        "it = train_dataset_r.as_numpy_iterator()\n",
        "print(it.next()[0].shape, it.next()[1].shape) #return a batch (X,y)\n",
        "input_shape = it.next()[0].shape\n",
        "input_shape[1]"
      ],
      "metadata": {
        "colab": {
          "base_uri": "https://localhost:8080/"
        },
        "id": "S1SLCAvN6XNd",
        "outputId": "d090d719-3dbe-4ad3-e306-475b0659cc26"
      },
      "execution_count": null,
      "outputs": [
        {
          "output_type": "stream",
          "name": "stdout",
          "text": [
            "(8, 13) (8,)\n"
          ]
        },
        {
          "output_type": "execute_result",
          "data": {
            "text/plain": [
              "13"
            ]
          },
          "metadata": {},
          "execution_count": 27
        }
      ]
    },
    {
      "cell_type": "code",
      "source": [
        "# a binary classification, taking signoid as the output activation function\n",
        "# Don't need an input layer since it's sequential\n",
        "\n",
        "model_2.add(Dense(256, input_shape=(input_shape[1],), activation='relu'))\n",
        "model_2.add(Dense(64, activation='relu'))\n",
        "model_2.add(Dense(16, activation='relu'))\n",
        "model_2.add(Dense(32, activation='relu'))\n",
        "model_2.add(Dense(64, activation='relu'))\n",
        "model_2.add(Dense(2, activation='softmax'))\n",
        "\n",
        "#optimizer = Adam(learning_rate=0.00001)\n",
        "model_2.compile(optimizer= tf.keras.optimizers.Adam(0.0001), loss='sparse_categorical_crossentropy', metrics=['accuracy'])"
      ],
      "metadata": {
        "id": "s1qR3MNE6XP_"
      },
      "execution_count": null,
      "outputs": []
    },
    {
      "cell_type": "code",
      "source": [
        "hist = model_2.fit(train_dataset_r, epochs=200, validation_data=val_dataset_r)"
      ],
      "metadata": {
        "colab": {
          "base_uri": "https://localhost:8080/"
        },
        "id": "Y3z7RDqX6XSw",
        "outputId": "7685b26e-72ca-4133-97e5-9aa81684b44c"
      },
      "execution_count": null,
      "outputs": [
        {
          "output_type": "stream",
          "name": "stdout",
          "text": [
            "Epoch 1/200\n",
            "1328/1328 [==============================] - 4s 2ms/step - loss: 0.6625 - accuracy: 0.5997 - val_loss: 0.6447 - val_accuracy: 0.6089\n",
            "Epoch 2/200\n",
            "1328/1328 [==============================] - 3s 2ms/step - loss: 0.6412 - accuracy: 0.6224 - val_loss: 0.6345 - val_accuracy: 0.6300\n",
            "Epoch 3/200\n",
            "1328/1328 [==============================] - 3s 2ms/step - loss: 0.6401 - accuracy: 0.6228 - val_loss: 0.6363 - val_accuracy: 0.6323\n",
            "Epoch 4/200\n",
            "1328/1328 [==============================] - 3s 2ms/step - loss: 0.6340 - accuracy: 0.6326 - val_loss: 0.6289 - val_accuracy: 0.6360\n",
            "Epoch 5/200\n",
            "1328/1328 [==============================] - 3s 3ms/step - loss: 0.6362 - accuracy: 0.6276 - val_loss: 0.6315 - val_accuracy: 0.6315\n",
            "Epoch 6/200\n",
            "1328/1328 [==============================] - 3s 2ms/step - loss: 0.6329 - accuracy: 0.6300 - val_loss: 0.6334 - val_accuracy: 0.6451\n",
            "Epoch 7/200\n",
            "1328/1328 [==============================] - 3s 2ms/step - loss: 0.6324 - accuracy: 0.6321 - val_loss: 0.6302 - val_accuracy: 0.6383\n",
            "Epoch 8/200\n",
            "1328/1328 [==============================] - 4s 3ms/step - loss: 0.6340 - accuracy: 0.6326 - val_loss: 0.6286 - val_accuracy: 0.6390\n",
            "Epoch 9/200\n",
            "1328/1328 [==============================] - 3s 2ms/step - loss: 0.6282 - accuracy: 0.6345 - val_loss: 0.6372 - val_accuracy: 0.6255\n",
            "Epoch 10/200\n",
            "1328/1328 [==============================] - 3s 2ms/step - loss: 0.6287 - accuracy: 0.6364 - val_loss: 0.6527 - val_accuracy: 0.6187\n",
            "Epoch 11/200\n",
            "1328/1328 [==============================] - 4s 3ms/step - loss: 0.6281 - accuracy: 0.6385 - val_loss: 0.6331 - val_accuracy: 0.6323\n",
            "Epoch 12/200\n",
            "1328/1328 [==============================] - 4s 3ms/step - loss: 0.6283 - accuracy: 0.6397 - val_loss: 0.6187 - val_accuracy: 0.6564\n",
            "Epoch 13/200\n",
            "1328/1328 [==============================] - 3s 2ms/step - loss: 0.6261 - accuracy: 0.6386 - val_loss: 0.6175 - val_accuracy: 0.6549\n",
            "Epoch 14/200\n",
            "1328/1328 [==============================] - 3s 2ms/step - loss: 0.6258 - accuracy: 0.6402 - val_loss: 0.6261 - val_accuracy: 0.6398\n",
            "Epoch 15/200\n",
            "1328/1328 [==============================] - 4s 3ms/step - loss: 0.6268 - accuracy: 0.6378 - val_loss: 0.6212 - val_accuracy: 0.6428\n",
            "Epoch 16/200\n",
            "1328/1328 [==============================] - 3s 2ms/step - loss: 0.6245 - accuracy: 0.6405 - val_loss: 0.6081 - val_accuracy: 0.6594\n",
            "Epoch 17/200\n",
            "1328/1328 [==============================] - 3s 2ms/step - loss: 0.6254 - accuracy: 0.6406 - val_loss: 0.6319 - val_accuracy: 0.6345\n",
            "Epoch 18/200\n",
            "1328/1328 [==============================] - 3s 2ms/step - loss: 0.6250 - accuracy: 0.6409 - val_loss: 0.6202 - val_accuracy: 0.6541\n",
            "Epoch 19/200\n",
            "1328/1328 [==============================] - 3s 2ms/step - loss: 0.6232 - accuracy: 0.6431 - val_loss: 0.6243 - val_accuracy: 0.6368\n",
            "Epoch 20/200\n",
            "1328/1328 [==============================] - 3s 2ms/step - loss: 0.6236 - accuracy: 0.6429 - val_loss: 0.6303 - val_accuracy: 0.6315\n",
            "Epoch 21/200\n",
            "1328/1328 [==============================] - 4s 3ms/step - loss: 0.6226 - accuracy: 0.6424 - val_loss: 0.6099 - val_accuracy: 0.6609\n",
            "Epoch 22/200\n",
            "1328/1328 [==============================] - 3s 2ms/step - loss: 0.6206 - accuracy: 0.6475 - val_loss: 0.6201 - val_accuracy: 0.6451\n",
            "Epoch 23/200\n",
            "1328/1328 [==============================] - 3s 2ms/step - loss: 0.6174 - accuracy: 0.6510 - val_loss: 0.6175 - val_accuracy: 0.6420\n",
            "Epoch 24/200\n",
            "1328/1328 [==============================] - 4s 3ms/step - loss: 0.6187 - accuracy: 0.6445 - val_loss: 0.6137 - val_accuracy: 0.6677\n",
            "Epoch 25/200\n",
            "1328/1328 [==============================] - 3s 2ms/step - loss: 0.6172 - accuracy: 0.6440 - val_loss: 0.6138 - val_accuracy: 0.6436\n",
            "Epoch 26/200\n",
            "1328/1328 [==============================] - 3s 2ms/step - loss: 0.6201 - accuracy: 0.6462 - val_loss: 0.6088 - val_accuracy: 0.6729\n",
            "Epoch 27/200\n",
            "1328/1328 [==============================] - 3s 2ms/step - loss: 0.6167 - accuracy: 0.6530 - val_loss: 0.6126 - val_accuracy: 0.6707\n",
            "Epoch 28/200\n",
            "1328/1328 [==============================] - 4s 3ms/step - loss: 0.6163 - accuracy: 0.6518 - val_loss: 0.6074 - val_accuracy: 0.6745\n",
            "Epoch 29/200\n",
            "1328/1328 [==============================] - 3s 2ms/step - loss: 0.6144 - accuracy: 0.6532 - val_loss: 0.6136 - val_accuracy: 0.6466\n",
            "Epoch 30/200\n",
            "1328/1328 [==============================] - 3s 2ms/step - loss: 0.6125 - accuracy: 0.6511 - val_loss: 0.6103 - val_accuracy: 0.6745\n",
            "Epoch 31/200\n",
            "1328/1328 [==============================] - 4s 3ms/step - loss: 0.6113 - accuracy: 0.6584 - val_loss: 0.6054 - val_accuracy: 0.6775\n",
            "Epoch 32/200\n",
            "1328/1328 [==============================] - 3s 2ms/step - loss: 0.6132 - accuracy: 0.6508 - val_loss: 0.5934 - val_accuracy: 0.6729\n",
            "Epoch 33/200\n",
            "1328/1328 [==============================] - 3s 2ms/step - loss: 0.6142 - accuracy: 0.6522 - val_loss: 0.6091 - val_accuracy: 0.6556\n",
            "Epoch 34/200\n",
            "1328/1328 [==============================] - 3s 3ms/step - loss: 0.6108 - accuracy: 0.6574 - val_loss: 0.6079 - val_accuracy: 0.6526\n",
            "Epoch 35/200\n",
            "1328/1328 [==============================] - 4s 3ms/step - loss: 0.6098 - accuracy: 0.6610 - val_loss: 0.6025 - val_accuracy: 0.6481\n",
            "Epoch 36/200\n",
            "1328/1328 [==============================] - 3s 2ms/step - loss: 0.6076 - accuracy: 0.6588 - val_loss: 0.5966 - val_accuracy: 0.6775\n",
            "Epoch 37/200\n",
            "1328/1328 [==============================] - 3s 3ms/step - loss: 0.6088 - accuracy: 0.6565 - val_loss: 0.6052 - val_accuracy: 0.6586\n",
            "Epoch 38/200\n",
            "1328/1328 [==============================] - 4s 3ms/step - loss: 0.6084 - accuracy: 0.6556 - val_loss: 0.5906 - val_accuracy: 0.6647\n",
            "Epoch 39/200\n",
            "1328/1328 [==============================] - 3s 2ms/step - loss: 0.6056 - accuracy: 0.6589 - val_loss: 0.5951 - val_accuracy: 0.6616\n",
            "Epoch 40/200\n",
            "1328/1328 [==============================] - 4s 3ms/step - loss: 0.6036 - accuracy: 0.6630 - val_loss: 0.6061 - val_accuracy: 0.6451\n",
            "Epoch 41/200\n",
            "1328/1328 [==============================] - 3s 2ms/step - loss: 0.6037 - accuracy: 0.6635 - val_loss: 0.6002 - val_accuracy: 0.6654\n",
            "Epoch 42/200\n",
            "1328/1328 [==============================] - 3s 2ms/step - loss: 0.6054 - accuracy: 0.6612 - val_loss: 0.6107 - val_accuracy: 0.6466\n",
            "Epoch 43/200\n",
            "1328/1328 [==============================] - 3s 2ms/step - loss: 0.6028 - accuracy: 0.6672 - val_loss: 0.6003 - val_accuracy: 0.6684\n",
            "Epoch 44/200\n",
            "1328/1328 [==============================] - 3s 2ms/step - loss: 0.5996 - accuracy: 0.6660 - val_loss: 0.5855 - val_accuracy: 0.6737\n",
            "Epoch 45/200\n",
            "1328/1328 [==============================] - 3s 2ms/step - loss: 0.6041 - accuracy: 0.6600 - val_loss: 0.6097 - val_accuracy: 0.6428\n",
            "Epoch 46/200\n",
            "1328/1328 [==============================] - 4s 3ms/step - loss: 0.6028 - accuracy: 0.6665 - val_loss: 0.5812 - val_accuracy: 0.6865\n",
            "Epoch 47/200\n",
            "1328/1328 [==============================] - 3s 2ms/step - loss: 0.6006 - accuracy: 0.6649 - val_loss: 0.5871 - val_accuracy: 0.6805\n",
            "Epoch 48/200\n",
            "1328/1328 [==============================] - 3s 2ms/step - loss: 0.6016 - accuracy: 0.6646 - val_loss: 0.5803 - val_accuracy: 0.6662\n",
            "Epoch 49/200\n",
            "1328/1328 [==============================] - 4s 3ms/step - loss: 0.6002 - accuracy: 0.6639 - val_loss: 0.5991 - val_accuracy: 0.6639\n",
            "Epoch 50/200\n",
            "1328/1328 [==============================] - 3s 2ms/step - loss: 0.5991 - accuracy: 0.6684 - val_loss: 0.5859 - val_accuracy: 0.6918\n",
            "Epoch 51/200\n",
            "1328/1328 [==============================] - 3s 2ms/step - loss: 0.5978 - accuracy: 0.6661 - val_loss: 0.5981 - val_accuracy: 0.6428\n",
            "Epoch 52/200\n",
            "1328/1328 [==============================] - 3s 2ms/step - loss: 0.5968 - accuracy: 0.6687 - val_loss: 0.5893 - val_accuracy: 0.6616\n",
            "Epoch 53/200\n",
            "1328/1328 [==============================] - 3s 2ms/step - loss: 0.5977 - accuracy: 0.6666 - val_loss: 0.5842 - val_accuracy: 0.6745\n",
            "Epoch 54/200\n",
            "1328/1328 [==============================] - 4s 3ms/step - loss: 0.5940 - accuracy: 0.6720 - val_loss: 0.5886 - val_accuracy: 0.6767\n",
            "Epoch 55/200\n",
            "1328/1328 [==============================] - 3s 2ms/step - loss: 0.5934 - accuracy: 0.6739 - val_loss: 0.5826 - val_accuracy: 0.6767\n",
            "Epoch 56/200\n",
            "1328/1328 [==============================] - 3s 2ms/step - loss: 0.5956 - accuracy: 0.6681 - val_loss: 0.6055 - val_accuracy: 0.6579\n",
            "Epoch 57/200\n",
            "1328/1328 [==============================] - 4s 3ms/step - loss: 0.5917 - accuracy: 0.6733 - val_loss: 0.5888 - val_accuracy: 0.6805\n",
            "Epoch 58/200\n",
            "1328/1328 [==============================] - 3s 2ms/step - loss: 0.5913 - accuracy: 0.6722 - val_loss: 0.5996 - val_accuracy: 0.6662\n",
            "Epoch 59/200\n",
            "1328/1328 [==============================] - 3s 2ms/step - loss: 0.5912 - accuracy: 0.6713 - val_loss: 0.5934 - val_accuracy: 0.6843\n",
            "Epoch 60/200\n",
            "1328/1328 [==============================] - 4s 3ms/step - loss: 0.5893 - accuracy: 0.6774 - val_loss: 0.5841 - val_accuracy: 0.6895\n",
            "Epoch 61/200\n",
            "1328/1328 [==============================] - 3s 2ms/step - loss: 0.5885 - accuracy: 0.6777 - val_loss: 0.5666 - val_accuracy: 0.6812\n",
            "Epoch 62/200\n",
            "1328/1328 [==============================] - 4s 3ms/step - loss: 0.5878 - accuracy: 0.6728 - val_loss: 0.5933 - val_accuracy: 0.6654\n",
            "Epoch 63/200\n",
            "1328/1328 [==============================] - 3s 2ms/step - loss: 0.5886 - accuracy: 0.6739 - val_loss: 0.5629 - val_accuracy: 0.6858\n",
            "Epoch 64/200\n",
            "1328/1328 [==============================] - 3s 2ms/step - loss: 0.5871 - accuracy: 0.6786 - val_loss: 0.5911 - val_accuracy: 0.6745\n",
            "Epoch 65/200\n",
            "1328/1328 [==============================] - 3s 2ms/step - loss: 0.5868 - accuracy: 0.6741 - val_loss: 0.5830 - val_accuracy: 0.6865\n",
            "Epoch 66/200\n",
            "1328/1328 [==============================] - 4s 3ms/step - loss: 0.5853 - accuracy: 0.6778 - val_loss: 0.5790 - val_accuracy: 0.6888\n",
            "Epoch 67/200\n",
            "1328/1328 [==============================] - 3s 2ms/step - loss: 0.5861 - accuracy: 0.6769 - val_loss: 0.5755 - val_accuracy: 0.6820\n",
            "Epoch 68/200\n",
            "1328/1328 [==============================] - 3s 2ms/step - loss: 0.5857 - accuracy: 0.6744 - val_loss: 0.5746 - val_accuracy: 0.6858\n",
            "Epoch 69/200\n",
            "1328/1328 [==============================] - 3s 2ms/step - loss: 0.5820 - accuracy: 0.6785 - val_loss: 0.5877 - val_accuracy: 0.6940\n",
            "Epoch 70/200\n",
            "1328/1328 [==============================] - 3s 2ms/step - loss: 0.5827 - accuracy: 0.6791 - val_loss: 0.5750 - val_accuracy: 0.6760\n",
            "Epoch 71/200\n",
            "1328/1328 [==============================] - 3s 3ms/step - loss: 0.5804 - accuracy: 0.6816 - val_loss: 0.5775 - val_accuracy: 0.6948\n",
            "Epoch 72/200\n",
            "1328/1328 [==============================] - 3s 2ms/step - loss: 0.5811 - accuracy: 0.6806 - val_loss: 0.5752 - val_accuracy: 0.6843\n",
            "Epoch 73/200\n",
            "1328/1328 [==============================] - 3s 2ms/step - loss: 0.5827 - accuracy: 0.6831 - val_loss: 0.5535 - val_accuracy: 0.6918\n",
            "Epoch 74/200\n",
            "1328/1328 [==============================] - 3s 3ms/step - loss: 0.5815 - accuracy: 0.6804 - val_loss: 0.5670 - val_accuracy: 0.6940\n",
            "Epoch 75/200\n",
            "1328/1328 [==============================] - 3s 2ms/step - loss: 0.5818 - accuracy: 0.6767 - val_loss: 0.5692 - val_accuracy: 0.6971\n",
            "Epoch 76/200\n",
            "1328/1328 [==============================] - 3s 2ms/step - loss: 0.5750 - accuracy: 0.6837 - val_loss: 0.5700 - val_accuracy: 0.6865\n",
            "Epoch 77/200\n",
            "1328/1328 [==============================] - 4s 3ms/step - loss: 0.5772 - accuracy: 0.6825 - val_loss: 0.5575 - val_accuracy: 0.7136\n",
            "Epoch 78/200\n",
            "1328/1328 [==============================] - 3s 2ms/step - loss: 0.5759 - accuracy: 0.6874 - val_loss: 0.5719 - val_accuracy: 0.6888\n",
            "Epoch 79/200\n",
            "1328/1328 [==============================] - 3s 2ms/step - loss: 0.5739 - accuracy: 0.6866 - val_loss: 0.5644 - val_accuracy: 0.6956\n",
            "Epoch 80/200\n",
            "1328/1328 [==============================] - 3s 2ms/step - loss: 0.5779 - accuracy: 0.6851 - val_loss: 0.5640 - val_accuracy: 0.6918\n",
            "Epoch 81/200\n",
            "1328/1328 [==============================] - 3s 2ms/step - loss: 0.5736 - accuracy: 0.6865 - val_loss: 0.5498 - val_accuracy: 0.7106\n",
            "Epoch 82/200\n",
            "1328/1328 [==============================] - 3s 2ms/step - loss: 0.5736 - accuracy: 0.6842 - val_loss: 0.5506 - val_accuracy: 0.7227\n",
            "Epoch 83/200\n",
            "1328/1328 [==============================] - 4s 3ms/step - loss: 0.5748 - accuracy: 0.6808 - val_loss: 0.5645 - val_accuracy: 0.6873\n",
            "Epoch 84/200\n",
            "1328/1328 [==============================] - 3s 2ms/step - loss: 0.5683 - accuracy: 0.6948 - val_loss: 0.5425 - val_accuracy: 0.7091\n",
            "Epoch 85/200\n",
            "1328/1328 [==============================] - 4s 3ms/step - loss: 0.5703 - accuracy: 0.6898 - val_loss: 0.5577 - val_accuracy: 0.7084\n",
            "Epoch 86/200\n",
            "1328/1328 [==============================] - 3s 2ms/step - loss: 0.5699 - accuracy: 0.6896 - val_loss: 0.5497 - val_accuracy: 0.7001\n",
            "Epoch 87/200\n",
            "1328/1328 [==============================] - 3s 2ms/step - loss: 0.5673 - accuracy: 0.6881 - val_loss: 0.5662 - val_accuracy: 0.6948\n",
            "Epoch 88/200\n",
            "1328/1328 [==============================] - 3s 2ms/step - loss: 0.5699 - accuracy: 0.6850 - val_loss: 0.5853 - val_accuracy: 0.6790\n",
            "Epoch 89/200\n",
            "1328/1328 [==============================] - 3s 2ms/step - loss: 0.5690 - accuracy: 0.6881 - val_loss: 0.5343 - val_accuracy: 0.7219\n",
            "Epoch 90/200\n",
            "1328/1328 [==============================] - 3s 2ms/step - loss: 0.5628 - accuracy: 0.6973 - val_loss: 0.5666 - val_accuracy: 0.6873\n",
            "Epoch 91/200\n",
            "1328/1328 [==============================] - 3s 2ms/step - loss: 0.5661 - accuracy: 0.6957 - val_loss: 0.5576 - val_accuracy: 0.6918\n",
            "Epoch 92/200\n",
            "1328/1328 [==============================] - 3s 2ms/step - loss: 0.5633 - accuracy: 0.6945 - val_loss: 0.5541 - val_accuracy: 0.6918\n",
            "Epoch 93/200\n",
            "1328/1328 [==============================] - 4s 3ms/step - loss: 0.5615 - accuracy: 0.6965 - val_loss: 0.5591 - val_accuracy: 0.6918\n",
            "Epoch 94/200\n",
            "1328/1328 [==============================] - 3s 2ms/step - loss: 0.5645 - accuracy: 0.6929 - val_loss: 0.5421 - val_accuracy: 0.7159\n",
            "Epoch 95/200\n",
            "1328/1328 [==============================] - 3s 2ms/step - loss: 0.5612 - accuracy: 0.6959 - val_loss: 0.5589 - val_accuracy: 0.6986\n",
            "Epoch 96/200\n",
            "1328/1328 [==============================] - 4s 3ms/step - loss: 0.5641 - accuracy: 0.6921 - val_loss: 0.5483 - val_accuracy: 0.7234\n",
            "Epoch 97/200\n",
            "1328/1328 [==============================] - 3s 3ms/step - loss: 0.5605 - accuracy: 0.6933 - val_loss: 0.5598 - val_accuracy: 0.7054\n",
            "Epoch 98/200\n",
            "1328/1328 [==============================] - 3s 2ms/step - loss: 0.5621 - accuracy: 0.6918 - val_loss: 0.5443 - val_accuracy: 0.7136\n",
            "Epoch 99/200\n",
            "1328/1328 [==============================] - 4s 3ms/step - loss: 0.5604 - accuracy: 0.6988 - val_loss: 0.5503 - val_accuracy: 0.7106\n",
            "Epoch 100/200\n",
            "1328/1328 [==============================] - 3s 2ms/step - loss: 0.5577 - accuracy: 0.7022 - val_loss: 0.5481 - val_accuracy: 0.7008\n",
            "Epoch 101/200\n",
            "1328/1328 [==============================] - 3s 2ms/step - loss: 0.5555 - accuracy: 0.6966 - val_loss: 0.5573 - val_accuracy: 0.6873\n",
            "Epoch 102/200\n",
            "1328/1328 [==============================] - 4s 3ms/step - loss: 0.5589 - accuracy: 0.6974 - val_loss: 0.5483 - val_accuracy: 0.6948\n",
            "Epoch 103/200\n",
            "1328/1328 [==============================] - 3s 2ms/step - loss: 0.5553 - accuracy: 0.6999 - val_loss: 0.5387 - val_accuracy: 0.7136\n",
            "Epoch 104/200\n",
            "1328/1328 [==============================] - 3s 2ms/step - loss: 0.5556 - accuracy: 0.7008 - val_loss: 0.5566 - val_accuracy: 0.7023\n",
            "Epoch 105/200\n",
            "1328/1328 [==============================] - 3s 2ms/step - loss: 0.5541 - accuracy: 0.6987 - val_loss: 0.5462 - val_accuracy: 0.7091\n",
            "Epoch 106/200\n",
            "1328/1328 [==============================] - 3s 2ms/step - loss: 0.5524 - accuracy: 0.7052 - val_loss: 0.5294 - val_accuracy: 0.7174\n",
            "Epoch 107/200\n",
            "1328/1328 [==============================] - 3s 2ms/step - loss: 0.5564 - accuracy: 0.6968 - val_loss: 0.5148 - val_accuracy: 0.7325\n",
            "Epoch 108/200\n",
            "1328/1328 [==============================] - 4s 3ms/step - loss: 0.5533 - accuracy: 0.7004 - val_loss: 0.5499 - val_accuracy: 0.7091\n",
            "Epoch 109/200\n",
            "1328/1328 [==============================] - 3s 2ms/step - loss: 0.5481 - accuracy: 0.7073 - val_loss: 0.5497 - val_accuracy: 0.7046\n",
            "Epoch 110/200\n",
            "1328/1328 [==============================] - 3s 2ms/step - loss: 0.5483 - accuracy: 0.7051 - val_loss: 0.5398 - val_accuracy: 0.7091\n",
            "Epoch 111/200\n",
            "1328/1328 [==============================] - 4s 3ms/step - loss: 0.5519 - accuracy: 0.7042 - val_loss: 0.5457 - val_accuracy: 0.7016\n",
            "Epoch 112/200\n",
            "1328/1328 [==============================] - 3s 2ms/step - loss: 0.5513 - accuracy: 0.7021 - val_loss: 0.5120 - val_accuracy: 0.7265\n",
            "Epoch 113/200\n",
            "1328/1328 [==============================] - 3s 2ms/step - loss: 0.5475 - accuracy: 0.7041 - val_loss: 0.5280 - val_accuracy: 0.7136\n",
            "Epoch 114/200\n",
            "1328/1328 [==============================] - 4s 3ms/step - loss: 0.5481 - accuracy: 0.7075 - val_loss: 0.5134 - val_accuracy: 0.7378\n",
            "Epoch 115/200\n",
            "1328/1328 [==============================] - 3s 2ms/step - loss: 0.5476 - accuracy: 0.7044 - val_loss: 0.5316 - val_accuracy: 0.7167\n",
            "Epoch 116/200\n",
            "1328/1328 [==============================] - 3s 2ms/step - loss: 0.5474 - accuracy: 0.7026 - val_loss: 0.5321 - val_accuracy: 0.7310\n",
            "Epoch 117/200\n",
            "1328/1328 [==============================] - 3s 2ms/step - loss: 0.5459 - accuracy: 0.7054 - val_loss: 0.5255 - val_accuracy: 0.7257\n",
            "Epoch 118/200\n",
            "1328/1328 [==============================] - 3s 2ms/step - loss: 0.5453 - accuracy: 0.7095 - val_loss: 0.5408 - val_accuracy: 0.7167\n",
            "Epoch 119/200\n",
            "1328/1328 [==============================] - 4s 3ms/step - loss: 0.5487 - accuracy: 0.7074 - val_loss: 0.5234 - val_accuracy: 0.7347\n",
            "Epoch 120/200\n",
            "1328/1328 [==============================] - 3s 2ms/step - loss: 0.5428 - accuracy: 0.7113 - val_loss: 0.5171 - val_accuracy: 0.7167\n",
            "Epoch 121/200\n",
            "1328/1328 [==============================] - 3s 2ms/step - loss: 0.5434 - accuracy: 0.7054 - val_loss: 0.5207 - val_accuracy: 0.7302\n",
            "Epoch 122/200\n",
            "1328/1328 [==============================] - 4s 3ms/step - loss: 0.5413 - accuracy: 0.7078 - val_loss: 0.5430 - val_accuracy: 0.7106\n",
            "Epoch 123/200\n",
            "1328/1328 [==============================] - 3s 2ms/step - loss: 0.5419 - accuracy: 0.7078 - val_loss: 0.5392 - val_accuracy: 0.7136\n",
            "Epoch 124/200\n",
            "1328/1328 [==============================] - 3s 2ms/step - loss: 0.5406 - accuracy: 0.7073 - val_loss: 0.5244 - val_accuracy: 0.7197\n",
            "Epoch 125/200\n",
            "1328/1328 [==============================] - 3s 3ms/step - loss: 0.5374 - accuracy: 0.7126 - val_loss: 0.5289 - val_accuracy: 0.7234\n",
            "Epoch 126/200\n",
            "1328/1328 [==============================] - 3s 2ms/step - loss: 0.5381 - accuracy: 0.7108 - val_loss: 0.5119 - val_accuracy: 0.7393\n",
            "Epoch 127/200\n",
            "1328/1328 [==============================] - 4s 3ms/step - loss: 0.5402 - accuracy: 0.7127 - val_loss: 0.5118 - val_accuracy: 0.7378\n",
            "Epoch 128/200\n",
            "1328/1328 [==============================] - 3s 2ms/step - loss: 0.5345 - accuracy: 0.7140 - val_loss: 0.5138 - val_accuracy: 0.7332\n",
            "Epoch 129/200\n",
            "1328/1328 [==============================] - 3s 2ms/step - loss: 0.5367 - accuracy: 0.7109 - val_loss: 0.5136 - val_accuracy: 0.7280\n",
            "Epoch 130/200\n",
            "1328/1328 [==============================] - 4s 3ms/step - loss: 0.5372 - accuracy: 0.7098 - val_loss: 0.5381 - val_accuracy: 0.7136\n",
            "Epoch 131/200\n",
            "1328/1328 [==============================] - 3s 2ms/step - loss: 0.5348 - accuracy: 0.7134 - val_loss: 0.5116 - val_accuracy: 0.7347\n",
            "Epoch 132/200\n",
            "1328/1328 [==============================] - 3s 2ms/step - loss: 0.5378 - accuracy: 0.7062 - val_loss: 0.5351 - val_accuracy: 0.7099\n",
            "Epoch 133/200\n",
            "1328/1328 [==============================] - 4s 3ms/step - loss: 0.5323 - accuracy: 0.7132 - val_loss: 0.5066 - val_accuracy: 0.7408\n",
            "Epoch 134/200\n",
            "1328/1328 [==============================] - 3s 2ms/step - loss: 0.5310 - accuracy: 0.7203 - val_loss: 0.5165 - val_accuracy: 0.7317\n",
            "Epoch 135/200\n",
            "1328/1328 [==============================] - 3s 2ms/step - loss: 0.5339 - accuracy: 0.7182 - val_loss: 0.5052 - val_accuracy: 0.7332\n",
            "Epoch 136/200\n",
            "1328/1328 [==============================] - 4s 3ms/step - loss: 0.5323 - accuracy: 0.7157 - val_loss: 0.5202 - val_accuracy: 0.7249\n",
            "Epoch 137/200\n",
            "1328/1328 [==============================] - 3s 2ms/step - loss: 0.5325 - accuracy: 0.7130 - val_loss: 0.5277 - val_accuracy: 0.7136\n",
            "Epoch 138/200\n",
            "1328/1328 [==============================] - 3s 2ms/step - loss: 0.5322 - accuracy: 0.7197 - val_loss: 0.5221 - val_accuracy: 0.7204\n",
            "Epoch 139/200\n",
            "1328/1328 [==============================] - 4s 3ms/step - loss: 0.5313 - accuracy: 0.7194 - val_loss: 0.5129 - val_accuracy: 0.7370\n",
            "Epoch 140/200\n",
            "1328/1328 [==============================] - 4s 3ms/step - loss: 0.5302 - accuracy: 0.7152 - val_loss: 0.4969 - val_accuracy: 0.7536\n",
            "Epoch 141/200\n",
            "1328/1328 [==============================] - 3s 2ms/step - loss: 0.5257 - accuracy: 0.7209 - val_loss: 0.5153 - val_accuracy: 0.7219\n",
            "Epoch 142/200\n",
            "1328/1328 [==============================] - 3s 3ms/step - loss: 0.5320 - accuracy: 0.7133 - val_loss: 0.5120 - val_accuracy: 0.7332\n",
            "Epoch 143/200\n",
            "1328/1328 [==============================] - 4s 3ms/step - loss: 0.5319 - accuracy: 0.7146 - val_loss: 0.5206 - val_accuracy: 0.7423\n",
            "Epoch 144/200\n",
            "1328/1328 [==============================] - 3s 2ms/step - loss: 0.5272 - accuracy: 0.7175 - val_loss: 0.5246 - val_accuracy: 0.7280\n",
            "Epoch 145/200\n",
            "1328/1328 [==============================] - 4s 3ms/step - loss: 0.5240 - accuracy: 0.7217 - val_loss: 0.5267 - val_accuracy: 0.7182\n",
            "Epoch 146/200\n",
            "1328/1328 [==============================] - 3s 2ms/step - loss: 0.5241 - accuracy: 0.7210 - val_loss: 0.5141 - val_accuracy: 0.7234\n",
            "Epoch 147/200\n",
            "1328/1328 [==============================] - 3s 2ms/step - loss: 0.5250 - accuracy: 0.7221 - val_loss: 0.5189 - val_accuracy: 0.7204\n",
            "Epoch 148/200\n",
            "1328/1328 [==============================] - 4s 3ms/step - loss: 0.5231 - accuracy: 0.7237 - val_loss: 0.5150 - val_accuracy: 0.7257\n",
            "Epoch 149/200\n",
            "1328/1328 [==============================] - 3s 2ms/step - loss: 0.5248 - accuracy: 0.7192 - val_loss: 0.5201 - val_accuracy: 0.7151\n",
            "Epoch 150/200\n",
            "1328/1328 [==============================] - 3s 2ms/step - loss: 0.5251 - accuracy: 0.7212 - val_loss: 0.5008 - val_accuracy: 0.7445\n",
            "Epoch 151/200\n",
            "1328/1328 [==============================] - 4s 3ms/step - loss: 0.5267 - accuracy: 0.7180 - val_loss: 0.5048 - val_accuracy: 0.7453\n",
            "Epoch 152/200\n",
            "1328/1328 [==============================] - 3s 2ms/step - loss: 0.5175 - accuracy: 0.7269 - val_loss: 0.5172 - val_accuracy: 0.7265\n",
            "Epoch 153/200\n",
            "1328/1328 [==============================] - 3s 2ms/step - loss: 0.5230 - accuracy: 0.7213 - val_loss: 0.5091 - val_accuracy: 0.7280\n",
            "Epoch 154/200\n",
            "1328/1328 [==============================] - 4s 3ms/step - loss: 0.5215 - accuracy: 0.7244 - val_loss: 0.5190 - val_accuracy: 0.7189\n",
            "Epoch 155/200\n",
            "1328/1328 [==============================] - 3s 2ms/step - loss: 0.5192 - accuracy: 0.7251 - val_loss: 0.5095 - val_accuracy: 0.7287\n",
            "Epoch 156/200\n",
            "1328/1328 [==============================] - 3s 2ms/step - loss: 0.5189 - accuracy: 0.7226 - val_loss: 0.4864 - val_accuracy: 0.7370\n",
            "Epoch 157/200\n",
            "1328/1328 [==============================] - 4s 3ms/step - loss: 0.5109 - accuracy: 0.7305 - val_loss: 0.5079 - val_accuracy: 0.7212\n",
            "Epoch 158/200\n",
            "1328/1328 [==============================] - 3s 2ms/step - loss: 0.5151 - accuracy: 0.7252 - val_loss: 0.5031 - val_accuracy: 0.7227\n",
            "Epoch 159/200\n",
            "1328/1328 [==============================] - 4s 3ms/step - loss: 0.5168 - accuracy: 0.7267 - val_loss: 0.4972 - val_accuracy: 0.7400\n",
            "Epoch 160/200\n",
            "1328/1328 [==============================] - 3s 2ms/step - loss: 0.5144 - accuracy: 0.7303 - val_loss: 0.4906 - val_accuracy: 0.7566\n",
            "Epoch 161/200\n",
            "1328/1328 [==============================] - 3s 2ms/step - loss: 0.5185 - accuracy: 0.7253 - val_loss: 0.5069 - val_accuracy: 0.7197\n",
            "Epoch 162/200\n",
            "1328/1328 [==============================] - 4s 3ms/step - loss: 0.5129 - accuracy: 0.7234 - val_loss: 0.5128 - val_accuracy: 0.7212\n",
            "Epoch 163/200\n",
            "1328/1328 [==============================] - 3s 2ms/step - loss: 0.5125 - accuracy: 0.7271 - val_loss: 0.4944 - val_accuracy: 0.7453\n",
            "Epoch 164/200\n",
            "1328/1328 [==============================] - 3s 3ms/step - loss: 0.5109 - accuracy: 0.7285 - val_loss: 0.4935 - val_accuracy: 0.7400\n",
            "Epoch 165/200\n",
            "1328/1328 [==============================] - 3s 2ms/step - loss: 0.5134 - accuracy: 0.7285 - val_loss: 0.4991 - val_accuracy: 0.7295\n",
            "Epoch 166/200\n",
            "1328/1328 [==============================] - 3s 2ms/step - loss: 0.5152 - accuracy: 0.7241 - val_loss: 0.5024 - val_accuracy: 0.7340\n",
            "Epoch 167/200\n",
            "1328/1328 [==============================] - 4s 3ms/step - loss: 0.5097 - accuracy: 0.7338 - val_loss: 0.4844 - val_accuracy: 0.7445\n",
            "Epoch 168/200\n",
            "1328/1328 [==============================] - 3s 2ms/step - loss: 0.5128 - accuracy: 0.7291 - val_loss: 0.4865 - val_accuracy: 0.7468\n",
            "Epoch 169/200\n",
            "1328/1328 [==============================] - 3s 2ms/step - loss: 0.5097 - accuracy: 0.7264 - val_loss: 0.4991 - val_accuracy: 0.7355\n",
            "Epoch 170/200\n",
            "1328/1328 [==============================] - 4s 3ms/step - loss: 0.5080 - accuracy: 0.7317 - val_loss: 0.4911 - val_accuracy: 0.7400\n",
            "Epoch 171/200\n",
            "1328/1328 [==============================] - 3s 2ms/step - loss: 0.5102 - accuracy: 0.7310 - val_loss: 0.4921 - val_accuracy: 0.7287\n",
            "Epoch 172/200\n",
            "1328/1328 [==============================] - 3s 2ms/step - loss: 0.5074 - accuracy: 0.7346 - val_loss: 0.4822 - val_accuracy: 0.7408\n",
            "Epoch 173/200\n",
            "1328/1328 [==============================] - 4s 3ms/step - loss: 0.5028 - accuracy: 0.7355 - val_loss: 0.4675 - val_accuracy: 0.7506\n",
            "Epoch 174/200\n",
            "1328/1328 [==============================] - 3s 2ms/step - loss: 0.5047 - accuracy: 0.7331 - val_loss: 0.4917 - val_accuracy: 0.7400\n",
            "Epoch 175/200\n",
            "1328/1328 [==============================] - 3s 2ms/step - loss: 0.5058 - accuracy: 0.7287 - val_loss: 0.5059 - val_accuracy: 0.7280\n",
            "Epoch 176/200\n",
            "1328/1328 [==============================] - 3s 2ms/step - loss: 0.5072 - accuracy: 0.7277 - val_loss: 0.5043 - val_accuracy: 0.7340\n",
            "Epoch 177/200\n",
            "1328/1328 [==============================] - 3s 2ms/step - loss: 0.5051 - accuracy: 0.7325 - val_loss: 0.4934 - val_accuracy: 0.7378\n",
            "Epoch 178/200\n",
            "1328/1328 [==============================] - 4s 3ms/step - loss: 0.5046 - accuracy: 0.7362 - val_loss: 0.4870 - val_accuracy: 0.7453\n",
            "Epoch 179/200\n",
            "1328/1328 [==============================] - 3s 2ms/step - loss: 0.5057 - accuracy: 0.7290 - val_loss: 0.4742 - val_accuracy: 0.7649\n",
            "Epoch 180/200\n",
            "1328/1328 [==============================] - 3s 2ms/step - loss: 0.5050 - accuracy: 0.7335 - val_loss: 0.4572 - val_accuracy: 0.7664\n",
            "Epoch 181/200\n",
            "1328/1328 [==============================] - 4s 3ms/step - loss: 0.5032 - accuracy: 0.7335 - val_loss: 0.4759 - val_accuracy: 0.7573\n",
            "Epoch 182/200\n",
            "1328/1328 [==============================] - 3s 2ms/step - loss: 0.5037 - accuracy: 0.7338 - val_loss: 0.4873 - val_accuracy: 0.7370\n",
            "Epoch 183/200\n",
            "1328/1328 [==============================] - 4s 3ms/step - loss: 0.5005 - accuracy: 0.7360 - val_loss: 0.5015 - val_accuracy: 0.7227\n",
            "Epoch 184/200\n",
            "1328/1328 [==============================] - 3s 2ms/step - loss: 0.5046 - accuracy: 0.7326 - val_loss: 0.4944 - val_accuracy: 0.7468\n",
            "Epoch 185/200\n",
            "1328/1328 [==============================] - 3s 2ms/step - loss: 0.4982 - accuracy: 0.7330 - val_loss: 0.4855 - val_accuracy: 0.7460\n",
            "Epoch 186/200\n",
            "1328/1328 [==============================] - 4s 3ms/step - loss: 0.5019 - accuracy: 0.7384 - val_loss: 0.4586 - val_accuracy: 0.7619\n",
            "Epoch 187/200\n",
            "1328/1328 [==============================] - 3s 2ms/step - loss: 0.4989 - accuracy: 0.7358 - val_loss: 0.5004 - val_accuracy: 0.7295\n",
            "Epoch 188/200\n",
            "1328/1328 [==============================] - 4s 3ms/step - loss: 0.4975 - accuracy: 0.7363 - val_loss: 0.4773 - val_accuracy: 0.7634\n",
            "Epoch 189/200\n",
            "1328/1328 [==============================] - 3s 2ms/step - loss: 0.4973 - accuracy: 0.7401 - val_loss: 0.4825 - val_accuracy: 0.7476\n",
            "Epoch 190/200\n",
            "1328/1328 [==============================] - 3s 2ms/step - loss: 0.4995 - accuracy: 0.7375 - val_loss: 0.5093 - val_accuracy: 0.7408\n",
            "Epoch 191/200\n",
            "1328/1328 [==============================] - 4s 3ms/step - loss: 0.5010 - accuracy: 0.7357 - val_loss: 0.4801 - val_accuracy: 0.7513\n",
            "Epoch 192/200\n",
            "1328/1328 [==============================] - 3s 3ms/step - loss: 0.4937 - accuracy: 0.7381 - val_loss: 0.5058 - val_accuracy: 0.7272\n",
            "Epoch 193/200\n",
            "1328/1328 [==============================] - 3s 2ms/step - loss: 0.4965 - accuracy: 0.7397 - val_loss: 0.4636 - val_accuracy: 0.7543\n",
            "Epoch 194/200\n",
            "1328/1328 [==============================] - 4s 3ms/step - loss: 0.4941 - accuracy: 0.7417 - val_loss: 0.4624 - val_accuracy: 0.7551\n",
            "Epoch 195/200\n",
            "1328/1328 [==============================] - 3s 2ms/step - loss: 0.4972 - accuracy: 0.7413 - val_loss: 0.4693 - val_accuracy: 0.7619\n",
            "Epoch 196/200\n",
            "1328/1328 [==============================] - 3s 2ms/step - loss: 0.4908 - accuracy: 0.7386 - val_loss: 0.4648 - val_accuracy: 0.7558\n",
            "Epoch 197/200\n",
            "1328/1328 [==============================] - 4s 3ms/step - loss: 0.5001 - accuracy: 0.7395 - val_loss: 0.4790 - val_accuracy: 0.7483\n",
            "Epoch 198/200\n",
            "1328/1328 [==============================] - 3s 2ms/step - loss: 0.4925 - accuracy: 0.7414 - val_loss: 0.4685 - val_accuracy: 0.7619\n",
            "Epoch 199/200\n",
            "1328/1328 [==============================] - 3s 2ms/step - loss: 0.4936 - accuracy: 0.7418 - val_loss: 0.4812 - val_accuracy: 0.7415\n",
            "Epoch 200/200\n",
            "1328/1328 [==============================] - 3s 3ms/step - loss: 0.4901 - accuracy: 0.7407 - val_loss: 0.4859 - val_accuracy: 0.7415\n"
          ]
        }
      ]
    },
    {
      "cell_type": "code",
      "source": [
        "fig = plt.figure()\n",
        "plt.plot(hist.history['accuracy'], color='teal', label='accuracy')\n",
        "plt.plot(hist.history['val_accuracy'], color='orange', label='val_accuracy')\n",
        "fig.suptitle('Accuracy', fontsize=20)\n",
        "plt.legend(loc=\"upper left\")\n",
        "plt.ylim(0.44, 0.86)\n",
        "plt.show()\n",
        "##didn't increase the accuracy"
      ],
      "metadata": {
        "colab": {
          "base_uri": "https://localhost:8080/",
          "height": 482
        },
        "id": "HcSBiFGj6XU5",
        "outputId": "17db1125-3e27-46a3-ed93-1259dbf3c6ef"
      },
      "execution_count": null,
      "outputs": [
        {
          "output_type": "display_data",
          "data": {
            "text/plain": [
              "<Figure size 640x480 with 1 Axes>"
            ],
            "image/png": "[encoded data removed]"
          },
          "metadata": {}
        }
      ]
    },
    {
      "cell_type": "code",
      "source": [
        "test_accuracy = model_2.evaluate(test_dataset_r,verbose=0,return_dict=True)['accuracy']\n",
        "test_accuracy"
      ],
      "metadata": {
        "colab": {
          "base_uri": "https://localhost:8080/"
        },
        "id": "lUvfnMdo6XXN",
        "outputId": "bbee6fc5-cf2f-4c9c-ae56-6b065b60e59f"
      },
      "execution_count": null,
      "outputs": [
        {
          "output_type": "execute_result",
          "data": {
            "text/plain": [
              "0.7618688941001892"
            ]
          },
          "metadata": {},
          "execution_count": 31
        }
      ]
    },
    {
      "cell_type": "code",
      "source": [
        "y_test_true = []\n",
        "y_test_predicted = []\n",
        "x_features = []\n",
        "\n",
        "#expand true label y in test_dataset and save it in the list. Make prediction by batches and save it in the list\n",
        "#Must do the prediction and expanding under same for loop otherwise the sequence may be messed up.\n",
        "#Try sigmoid?\n",
        "\n",
        "for test_features, y_test in test_dataset_r:\n",
        "  x_features.extend(test_features.numpy())\n",
        "  predictions = model_2.predict(test_features, verbose=0)\n",
        "  y_test_predicted.extend(np.argmax(predictions, axis=1).tolist())\n",
        "  y_test_true.extend(y_test.numpy())\n",
        "print(f\"True label    : {y_test_true[0:20]}\")\n",
        "print(f\"Predicted label: {y_test_predicted[0:20]}\")\n",
        "\n",
        "correct_predictions = sum(np.array(y_test_predicted) == np.array(y_test_true))\n",
        "total_samples = len(y_test_true)\n",
        "accuracy = correct_predictions / total_samples\n",
        "print(\"Manual Accuracy:\", accuracy)"
      ],
      "metadata": {
        "colab": {
          "base_uri": "https://localhost:8080/"
        },
        "id": "vFbukOeY6XZm",
        "outputId": "c8659d1a-08f5-4af3-f0b6-43a30507ad61"
      },
      "execution_count": null,
      "outputs": [
        {
          "output_type": "stream",
          "name": "stdout",
          "text": [
            "True label    : [1, 1, 1, 0, 1, 0, 1, 0, 0, 0, 1, 1, 0, 0, 1, 0, 0, 0, 1, 0]\n",
            "Predicted label: [1, 1, 1, 0, 0, 0, 1, 0, 0, 0, 1, 0, 0, 0, 1, 0, 0, 0, 1, 0]\n",
            "Manual Accuracy: 0.773172569706104\n"
          ]
        }
      ]
    },
    {
      "cell_type": "code",
      "source": [
        "import seaborn as sns  # for nicer plots\n",
        "sns.set(style=\"darkgrid\")  # default style\n",
        "\n",
        "# Create a confusion matrix as a 2D array.\n",
        "confusion_matrix = tf.math.confusion_matrix(y_test_true, y_test_predicted)\n",
        "\n",
        "# Use a heatmap plot to display it.\n",
        "ax = sns.heatmap(confusion_matrix, annot=True, fmt='.3g', cmap='Blues')\n",
        "# Add axis labels.\n",
        "ax.set(xlabel='Predicted Label', ylabel='True Label')\n",
        "plt.show()\n",
        "print(confusion_matrix.numpy())"
      ],
      "metadata": {
        "colab": {
          "base_uri": "https://localhost:8080/",
          "height": 495
        },
        "id": "qoUbc22Y6Xb8",
        "outputId": "489dad22-b2d4-48bc-8994-9b5c5c724753"
      },
      "execution_count": null,
      "outputs": [
        {
          "output_type": "display_data",
          "data": {
            "text/plain": [
              "<Figure size 640x480 with 2 Axes>"
            ],
            "image/png": "[encoded data removed]"
          },
          "metadata": {}
        },
        {
          "output_type": "stream",
          "name": "stdout",
          "text": [
            "[[532 128]\n",
            " [173 494]]\n"
          ]
        }
      ]
    },
    {
      "cell_type": "markdown",
      "source": [
        "1. model2(13features,6months prior), 13272 (6636+6636) examples, 71.3% of accuracy, 100 epochs, 66.7% of recall, and 73% of precision.\n",
        "[[499 163]\n",
        " [221 444]]\n",
        "2. model2(13feature,6months prior), 13272 (6636+6636) examples, 75% of accuracy, 200 epochs, 75% of recall, and 78% of precision .\n",
        "[[524 138]\n",
        " [165 500]]"
      ],
      "metadata": {
        "id": "-ZDAf-kH6-Hu"
      }
    },
    {
      "cell_type": "code",
      "source": [
        "#raw data incorperates male: 5462 and female: 7810. The gender rate is: 41% (41% male, 59% female)\n",
        "\n",
        "male_fp = 0\n",
        "female_fp = 0\n",
        "male_fn = 0\n",
        "female_fn = 0\n",
        "\n",
        "for i in range(len(y_test_true)):\n",
        "  #false positive\n",
        "  if y_test_predicted[i] == 1 and y_test_true[i] == 0:\n",
        "    if x_features[i][-13] >= 0: #-13 index of male\n",
        "      male_fp+=1\n",
        "    else:\n",
        "      female_fp+=1\n",
        "  #false negative\n",
        "  if y_test_predicted[i] == 0 and y_test_true[i] == 1:\n",
        "    if x_features[i][-13] >= 0: #-13 index of male\n",
        "      male_fn+=1\n",
        "    else:\n",
        "      female_fn+=1\n",
        "\n",
        "print(f\"False positive, male:{male_fp}, female:{female_fp} and the gender rate is {round(male_fp/(female_fp+male_fp),1)}\")\n",
        "print(f\"False negative, male:{male_fn}, female:{female_fn} and the gender rate is {round(male_fn/(female_fn+male_fn),1)}\")\n",
        "\n"
      ],
      "metadata": {
        "id": "Ay03TmhHKkgY",
        "outputId": "efe62f3c-bbe8-4810-95c3-fd6400dff1a9",
        "colab": {
          "base_uri": "https://localhost:8080/"
        }
      },
      "execution_count": null,
      "outputs": [
        {
          "output_type": "stream",
          "name": "stdout",
          "text": [
            "False positive, male:47, female:81 and the gender rate is 0.4\n",
            "False negative, male:101, female:72 and the gender rate is 0.6\n"
          ]
        }
      ]
    },
    {
      "cell_type": "markdown",
      "source": [
        "Now, our first model can predict whether a specific credit card owner will default or not based on his/her long-term repayment status (6 months) and the predicting accuracy is 93% and recall is 94% which means we can 94% surely identify the potential default. Also, we have another model that can make predictions six months ahead and the accuracy, recall and precision are 71.3%, 75%, and 78%. That is, if our model can 78% surely make a prediction of a specific credit card owner will default 6 months after. For a real-world scenario, we can send out a warning message six months ahead and a forecast a month ahead that can help the bank to get prepared.\n",
        "\n"
      ],
      "metadata": {
        "id": "gju1aDaM7B9n"
      }
    },
    {
      "cell_type": "markdown",
      "source": [
        "### Remove all the features related to personal information\n",
        "##### Try to make prediction based on their payment status instead of who they are to block all the potential bias."
      ],
      "metadata": {
        "id": "TBGibjSXh5Fp"
      }
    },
    {
      "cell_type": "code",
      "source": [
        "#Removing categorical features (Gender, Education, Marriage)\n",
        "\n",
        "X_reduced_3 = df[['LIMIT_BAL', 'AGE', 'PAY_0', 'PAY_2', 'PAY_3', 'PAY_4', 'PAY_5',\n",
        "          'PAY_6', 'BILL_AMT1', 'BILL_AMT2', 'BILL_AMT3', 'BILL_AMT4',\n",
        "          'BILL_AMT5', 'BILL_AMT6', 'PAY_AMT1', 'PAY_AMT2', 'PAY_AMT3',\n",
        "          'PAY_AMT4', 'PAY_AMT5', 'PAY_AMT6']].values\n",
        "\n",
        "y = np.squeeze(df[['default.payment.next.month']].values)\n",
        "\n",
        "# Normalize the input features using Z-score normalization\n",
        "scaler = StandardScaler()\n",
        "X_reduced_normalized = scaler.fit_transform(X_reduced_3)"
      ],
      "metadata": {
        "id": "GLzWzvMAiVv2"
      },
      "execution_count": null,
      "outputs": []
    },
    {
      "cell_type": "code",
      "source": [
        "# Create a TensorFlow Dataset from the normalized input features and target labels\n",
        "dataset_3 = tf.data.Dataset.from_tensor_slices((X_reduced_normalized, y))\n",
        "\n",
        "# Shuffle the dataset\n",
        "dataset_3 = dataset_3.shuffle(buffer_size=len(X_reduced_normalized))\n",
        "\n",
        "# Split the data into train, validation, and test sets\n",
        "train_size = int(0.8 * len(X_reduced_normalized))\n",
        "val_size = int(0.1 * len(X_reduced_normalized))\n",
        "test_size = int(0.1 * len(X_reduced_normalized))\n",
        "\n",
        "# Split the dataset into train, validation, and test sets\n",
        "train_dataset_3 = dataset_3.take(train_size)\n",
        "val_dataset_3 = dataset_3.skip(train_size).take(val_size)\n",
        "test_dataset_3 = dataset_3.skip(train_size + val_size).take(test_size)\n",
        "\n",
        "# Batch the datasets\n",
        "batch_size = 8\n",
        "train_dataset_3 = train_dataset_3.batch(batch_size)\n",
        "val_dataset_3 = val_dataset_3.batch(batch_size)\n",
        "test_dataset_3 = test_dataset_3.batch(batch_size)\n",
        "\n",
        "it = train_dataset_3.as_numpy_iterator()\n",
        "print(it.next()[0].shape, it.next()[1].shape) #return a batch (X,y)\n",
        "print(it.next()[0], it.next()[1]) #return a batch (X,y)\n",
        "# for features, labels in train_dataset:\n",
        "#   print(\"Train Features shape:\", features.shape)\n",
        "#   print(\"Train Labels shape:\", labels.shape)"
      ],
      "metadata": {
        "colab": {
          "base_uri": "https://localhost:8080/"
        },
        "id": "mf0g0WKSjYDM",
        "outputId": "288810cb-9b84-42e3-a6dc-d3a32d047b5b"
      },
      "execution_count": null,
      "outputs": [
        {
          "output_type": "stream",
          "name": "stdout",
          "text": [
            "(8, 20) (8,)\n",
            "[[-0.91691668 -1.23785508  0.9339266   1.81883678  1.80999568  0.21494586\n",
            "   0.25675522  2.0384886   0.60057078  0.63355302  0.64607068  0.68258923\n",
            "   0.72506479  0.74246234  0.28467347 -1.77622051  0.33286427  0.6280732\n",
            "  -1.55055511  0.39289985]\n",
            " [-0.41710929 -0.48551712  0.03006365  0.13711449  1.80999568  1.9664812\n",
            "   0.25675522  0.27395965  0.75917264  0.80004488  0.82051653  0.83986096\n",
            "   0.88026635  0.90623023  0.78124599  0.39733944 -1.63690462  0.55664875\n",
            "   0.56569854  0.8769811 ]\n",
            " [-1.46013467 -1.23785508  0.9339266   1.81883678  1.80999568  0.21494586\n",
            "   0.25675522  0.27395965  0.12419344  0.20133797  0.23763134  0.28783402\n",
            "   0.35558895  0.4083048   0.17705413 -0.12118638 -0.01112696  0.23548468\n",
            "   0.04945134  0.08273351]\n",
            " [-0.91691668 -1.02290137  0.03006365  0.13711449  0.14816403  0.21494586\n",
            "   0.25675522  0.27395965  0.58582662  0.60681536  0.6342829   0.67676861\n",
            "   0.71146178  0.75080639  0.22302104  0.25095173  0.284015    0.36877981\n",
            "   0.3657273   0.34575361]\n",
            " [ 0.09918545  1.98645044  0.03006365  0.13711449  0.14816403  0.21494586\n",
            "   0.25675522  0.27395965  0.82566922  0.84190082  0.87152963  0.91246305\n",
            "   0.81079357  0.84463784  0.41857177  0.63844022  0.68622226  0.45325701\n",
            "   0.48544143  0.51030142]\n",
            " [ 0.70590957  0.15934398 -1.77766227 -1.5446078  -1.51366763 -1.53658948\n",
            "  -1.53333056 -1.49056931 -2.32930391 -2.18411145 -2.12194454 -2.05675869\n",
            "  -1.98069623 -1.85697879 -1.84841092 -1.77622051 -1.63690462 -1.57711914\n",
            "  -1.55055511 -1.48636504]\n",
            " [-0.91691668 -1.13037822  0.03006365  0.13711449  0.14816403  0.21494586\n",
            "   0.25675522  2.0384886   0.22241689  0.28061554  0.31980034  0.36964871\n",
            "   0.43904034  0.4707766   0.08281189  0.03762264 -0.05997623  0.36877981\n",
            "  -1.55055511  0.08273351]\n",
            " [ 0.60916911 -0.48551712 -0.87379931 -0.70374666 -0.6827518  -0.66082181\n",
            "  -0.63828767 -0.60830483 -1.38908618 -1.28312628 -1.23428304 -1.17807733\n",
            "  -1.11315851 -1.01954821 -0.69781775 -0.65021175 -0.53080061 -0.47172458\n",
            "  -0.46198463 -0.8200062 ]] [0. 0. 0. 1. 0. 0. 0. 0.]\n"
          ]
        }
      ]
    },
    {
      "cell_type": "code",
      "source": [
        "tf.keras.backend.clear_session()"
      ],
      "metadata": {
        "id": "OKIkVjBqjaGI"
      },
      "execution_count": null,
      "outputs": []
    },
    {
      "cell_type": "code",
      "source": [
        "model_3 = Sequential()"
      ],
      "metadata": {
        "id": "Wpj9kqy1jdFQ"
      },
      "execution_count": null,
      "outputs": []
    },
    {
      "cell_type": "code",
      "source": [
        "it = train_dataset_3.as_numpy_iterator()\n",
        "print(it.next()[0].shape, it.next()[1].shape) #return a batch (X,y)\n",
        "input_shape = it.next()[0].shape\n",
        "input_shape[1]"
      ],
      "metadata": {
        "colab": {
          "base_uri": "https://localhost:8080/"
        },
        "id": "oGin6hZKjhip",
        "outputId": "3a3cc19d-a3f8-46ba-c6c4-80e9bb30a891"
      },
      "execution_count": null,
      "outputs": [
        {
          "output_type": "stream",
          "name": "stdout",
          "text": [
            "(8, 20) (8,)\n"
          ]
        },
        {
          "output_type": "execute_result",
          "data": {
            "text/plain": [
              "20"
            ]
          },
          "metadata": {},
          "execution_count": 39
        }
      ]
    },
    {
      "cell_type": "code",
      "source": [
        "# a binary classification, taking signoid as the output activation function\n",
        "# Don't need an input layer since it's sequential\n",
        "\n",
        "model_3.add(Dense(256, input_shape=(input_shape[1],), activation='relu'))\n",
        "model_3.add(Dense(64, activation='relu'))\n",
        "model_3.add(Dense(16, activation='relu'))\n",
        "model_3.add(Dense(32, activation='relu'))\n",
        "model_3.add(Dense(64, activation='relu'))\n",
        "model_3.add(Dense(2, activation='softmax'))\n",
        "\n",
        "#optimizer = Adam(learning_rate=0.00001)\n",
        "model_3.compile(optimizer= tf.keras.optimizers.Adam(0.0001), loss='sparse_categorical_crossentropy', metrics=['accuracy'])"
      ],
      "metadata": {
        "id": "ubSUSvB_jlyr"
      },
      "execution_count": null,
      "outputs": []
    },
    {
      "cell_type": "code",
      "source": [
        "hist = model_3.fit(train_dataset_3, epochs=200, validation_data=val_dataset_r)"
      ],
      "metadata": {
        "colab": {
          "base_uri": "https://localhost:8080/"
        },
        "id": "-jkttW-RjoXP",
        "outputId": "124a6336-683c-40a8-efbb-3e0d4e47c0ce"
      },
      "execution_count": null,
      "outputs": [
        {
          "output_type": "stream",
          "name": "stdout",
          "text": [
            "Epoch 1/200\n",
            "1328/1328 [==============================] - 5s 3ms/step - loss: 0.5949 - accuracy: 0.6860 - val_loss: 0.5354 - val_accuracy: 0.7385\n",
            "Epoch 2/200\n",
            "1328/1328 [==============================] - 3s 2ms/step - loss: 0.5719 - accuracy: 0.7054 - val_loss: 0.5712 - val_accuracy: 0.7121\n",
            "Epoch 3/200\n",
            "1328/1328 [==============================] - 4s 3ms/step - loss: 0.5670 - accuracy: 0.7091 - val_loss: 0.5781 - val_accuracy: 0.7054\n",
            "Epoch 4/200\n",
            "1328/1328 [==============================] - 3s 2ms/step - loss: 0.5643 - accuracy: 0.7099 - val_loss: 0.5760 - val_accuracy: 0.7038\n",
            "Epoch 5/200\n",
            "1328/1328 [==============================] - 3s 2ms/step - loss: 0.5604 - accuracy: 0.7158 - val_loss: 0.5602 - val_accuracy: 0.7151\n",
            "Epoch 6/200\n",
            "1328/1328 [==============================] - 3s 2ms/step - loss: 0.5565 - accuracy: 0.7194 - val_loss: 0.5520 - val_accuracy: 0.7189\n",
            "Epoch 7/200\n",
            "1328/1328 [==============================] - 4s 3ms/step - loss: 0.5585 - accuracy: 0.7141 - val_loss: 0.5429 - val_accuracy: 0.7302\n",
            "Epoch 8/200\n",
            "1328/1328 [==============================] - 3s 2ms/step - loss: 0.5521 - accuracy: 0.7219 - val_loss: 0.5449 - val_accuracy: 0.7197\n",
            "Epoch 9/200\n",
            "1328/1328 [==============================] - 4s 3ms/step - loss: 0.5508 - accuracy: 0.7222 - val_loss: 0.5326 - val_accuracy: 0.7325\n",
            "Epoch 10/200\n",
            "1328/1328 [==============================] - 4s 3ms/step - loss: 0.5552 - accuracy: 0.7214 - val_loss: 0.5386 - val_accuracy: 0.7227\n",
            "Epoch 11/200\n",
            "1328/1328 [==============================] - 4s 3ms/step - loss: 0.5523 - accuracy: 0.7214 - val_loss: 0.5442 - val_accuracy: 0.7227\n",
            "Epoch 12/200\n",
            "1328/1328 [==============================] - 4s 3ms/step - loss: 0.5497 - accuracy: 0.7213 - val_loss: 0.5552 - val_accuracy: 0.7197\n",
            "Epoch 13/200\n",
            "1328/1328 [==============================] - 3s 2ms/step - loss: 0.5448 - accuracy: 0.7244 - val_loss: 0.5327 - val_accuracy: 0.7265\n",
            "Epoch 14/200\n",
            "1328/1328 [==============================] - 3s 2ms/step - loss: 0.5431 - accuracy: 0.7275 - val_loss: 0.5411 - val_accuracy: 0.7257\n",
            "Epoch 15/200\n",
            "1328/1328 [==============================] - 4s 3ms/step - loss: 0.5404 - accuracy: 0.7294 - val_loss: 0.5514 - val_accuracy: 0.7234\n",
            "Epoch 16/200\n",
            "1328/1328 [==============================] - 3s 2ms/step - loss: 0.5393 - accuracy: 0.7304 - val_loss: 0.5413 - val_accuracy: 0.7325\n",
            "Epoch 17/200\n",
            "1328/1328 [==============================] - 3s 2ms/step - loss: 0.5347 - accuracy: 0.7314 - val_loss: 0.5235 - val_accuracy: 0.7460\n",
            "Epoch 18/200\n",
            "1328/1328 [==============================] - 4s 3ms/step - loss: 0.5372 - accuracy: 0.7311 - val_loss: 0.5176 - val_accuracy: 0.7460\n",
            "Epoch 19/200\n",
            "1328/1328 [==============================] - 3s 2ms/step - loss: 0.5325 - accuracy: 0.7333 - val_loss: 0.5380 - val_accuracy: 0.7287\n",
            "Epoch 20/200\n",
            "1328/1328 [==============================] - 3s 2ms/step - loss: 0.5319 - accuracy: 0.7384 - val_loss: 0.5044 - val_accuracy: 0.7491\n",
            "Epoch 21/200\n",
            "1328/1328 [==============================] - 4s 3ms/step - loss: 0.5293 - accuracy: 0.7364 - val_loss: 0.5302 - val_accuracy: 0.7340\n",
            "Epoch 22/200\n",
            "1328/1328 [==============================] - 3s 2ms/step - loss: 0.5257 - accuracy: 0.7382 - val_loss: 0.5187 - val_accuracy: 0.7558\n",
            "Epoch 23/200\n",
            "1328/1328 [==============================] - 3s 2ms/step - loss: 0.5260 - accuracy: 0.7394 - val_loss: 0.5146 - val_accuracy: 0.7393\n",
            "Epoch 24/200\n",
            "1328/1328 [==============================] - 4s 3ms/step - loss: 0.5252 - accuracy: 0.7395 - val_loss: 0.5267 - val_accuracy: 0.7362\n",
            "Epoch 25/200\n",
            "1328/1328 [==============================] - 3s 2ms/step - loss: 0.5194 - accuracy: 0.7424 - val_loss: 0.5223 - val_accuracy: 0.7453\n",
            "Epoch 26/200\n",
            "1328/1328 [==============================] - 3s 2ms/step - loss: 0.5184 - accuracy: 0.7476 - val_loss: 0.5234 - val_accuracy: 0.7506\n",
            "Epoch 27/200\n",
            "1328/1328 [==============================] - 3s 2ms/step - loss: 0.5161 - accuracy: 0.7465 - val_loss: 0.5213 - val_accuracy: 0.7408\n",
            "Epoch 28/200\n",
            "1328/1328 [==============================] - 3s 2ms/step - loss: 0.5170 - accuracy: 0.7453 - val_loss: 0.4756 - val_accuracy: 0.7815\n",
            "Epoch 29/200\n",
            "1328/1328 [==============================] - 4s 3ms/step - loss: 0.5065 - accuracy: 0.7548 - val_loss: 0.5272 - val_accuracy: 0.7325\n",
            "Epoch 30/200\n",
            "1328/1328 [==============================] - 3s 2ms/step - loss: 0.5071 - accuracy: 0.7502 - val_loss: 0.5059 - val_accuracy: 0.7370\n",
            "Epoch 31/200\n",
            "1328/1328 [==============================] - 3s 2ms/step - loss: 0.5055 - accuracy: 0.7544 - val_loss: 0.5038 - val_accuracy: 0.7528\n",
            "Epoch 32/200\n",
            "1328/1328 [==============================] - 4s 3ms/step - loss: 0.5042 - accuracy: 0.7558 - val_loss: 0.4926 - val_accuracy: 0.7634\n",
            "Epoch 33/200\n",
            "1328/1328 [==============================] - 3s 2ms/step - loss: 0.4989 - accuracy: 0.7608 - val_loss: 0.4953 - val_accuracy: 0.7596\n",
            "Epoch 34/200\n",
            "1328/1328 [==============================] - 3s 2ms/step - loss: 0.5019 - accuracy: 0.7530 - val_loss: 0.4889 - val_accuracy: 0.7619\n",
            "Epoch 35/200\n",
            "1328/1328 [==============================] - 4s 3ms/step - loss: 0.4980 - accuracy: 0.7596 - val_loss: 0.4917 - val_accuracy: 0.7656\n",
            "Epoch 36/200\n",
            "1328/1328 [==============================] - 3s 2ms/step - loss: 0.4941 - accuracy: 0.7604 - val_loss: 0.4798 - val_accuracy: 0.7769\n",
            "Epoch 37/200\n",
            "1328/1328 [==============================] - 4s 3ms/step - loss: 0.4931 - accuracy: 0.7611 - val_loss: 0.4796 - val_accuracy: 0.7709\n",
            "Epoch 38/200\n",
            "1328/1328 [==============================] - 3s 2ms/step - loss: 0.4836 - accuracy: 0.7694 - val_loss: 0.4728 - val_accuracy: 0.7649\n",
            "Epoch 39/200\n",
            "1328/1328 [==============================] - 3s 2ms/step - loss: 0.4793 - accuracy: 0.7718 - val_loss: 0.4874 - val_accuracy: 0.7739\n",
            "Epoch 40/200\n",
            "1328/1328 [==============================] - 4s 3ms/step - loss: 0.4788 - accuracy: 0.7706 - val_loss: 0.4582 - val_accuracy: 0.7822\n",
            "Epoch 41/200\n",
            "1328/1328 [==============================] - 3s 2ms/step - loss: 0.4785 - accuracy: 0.7728 - val_loss: 0.4664 - val_accuracy: 0.7687\n",
            "Epoch 42/200\n",
            "1328/1328 [==============================] - 3s 2ms/step - loss: 0.4759 - accuracy: 0.7709 - val_loss: 0.4532 - val_accuracy: 0.7800\n",
            "Epoch 43/200\n",
            "1328/1328 [==============================] - 3s 3ms/step - loss: 0.4724 - accuracy: 0.7736 - val_loss: 0.4760 - val_accuracy: 0.7641\n",
            "Epoch 44/200\n",
            "1328/1328 [==============================] - 4s 3ms/step - loss: 0.4711 - accuracy: 0.7779 - val_loss: 0.4371 - val_accuracy: 0.7943\n",
            "Epoch 45/200\n",
            "1328/1328 [==============================] - 3s 2ms/step - loss: 0.4681 - accuracy: 0.7762 - val_loss: 0.4396 - val_accuracy: 0.7898\n",
            "Epoch 46/200\n",
            "1328/1328 [==============================] - 3s 2ms/step - loss: 0.4665 - accuracy: 0.7791 - val_loss: 0.4368 - val_accuracy: 0.7958\n",
            "Epoch 47/200\n",
            "1328/1328 [==============================] - 4s 3ms/step - loss: 0.4632 - accuracy: 0.7826 - val_loss: 0.4417 - val_accuracy: 0.7973\n",
            "Epoch 48/200\n",
            "1328/1328 [==============================] - 3s 2ms/step - loss: 0.4612 - accuracy: 0.7828 - val_loss: 0.4517 - val_accuracy: 0.7867\n",
            "Epoch 49/200\n",
            "1328/1328 [==============================] - 3s 3ms/step - loss: 0.4561 - accuracy: 0.7830 - val_loss: 0.4409 - val_accuracy: 0.7958\n",
            "Epoch 50/200\n",
            "1328/1328 [==============================] - 3s 2ms/step - loss: 0.4545 - accuracy: 0.7867 - val_loss: 0.4471 - val_accuracy: 0.7965\n",
            "Epoch 51/200\n",
            "1328/1328 [==============================] - 3s 2ms/step - loss: 0.4559 - accuracy: 0.7835 - val_loss: 0.4451 - val_accuracy: 0.7905\n",
            "Epoch 52/200\n",
            "1328/1328 [==============================] - 3s 3ms/step - loss: 0.4493 - accuracy: 0.7869 - val_loss: 0.4151 - val_accuracy: 0.8003\n",
            "Epoch 53/200\n",
            "1328/1328 [==============================] - 3s 2ms/step - loss: 0.4434 - accuracy: 0.7915 - val_loss: 0.4237 - val_accuracy: 0.8056\n",
            "Epoch 54/200\n",
            "1328/1328 [==============================] - 4s 3ms/step - loss: 0.4442 - accuracy: 0.7941 - val_loss: 0.4373 - val_accuracy: 0.7988\n",
            "Epoch 55/200\n",
            "1328/1328 [==============================] - 3s 2ms/step - loss: 0.4427 - accuracy: 0.7873 - val_loss: 0.4411 - val_accuracy: 0.7792\n",
            "Epoch 56/200\n",
            "1328/1328 [==============================] - 3s 2ms/step - loss: 0.4358 - accuracy: 0.7947 - val_loss: 0.4431 - val_accuracy: 0.7943\n",
            "Epoch 57/200\n",
            "1328/1328 [==============================] - 3s 2ms/step - loss: 0.4370 - accuracy: 0.7934 - val_loss: 0.4039 - val_accuracy: 0.8244\n",
            "Epoch 58/200\n",
            "1328/1328 [==============================] - 3s 2ms/step - loss: 0.4280 - accuracy: 0.7965 - val_loss: 0.4057 - val_accuracy: 0.8222\n",
            "Epoch 59/200\n",
            "1328/1328 [==============================] - 3s 2ms/step - loss: 0.4289 - accuracy: 0.7999 - val_loss: 0.4172 - val_accuracy: 0.8086\n",
            "Epoch 60/200\n",
            "1328/1328 [==============================] - 4s 3ms/step - loss: 0.4231 - accuracy: 0.8011 - val_loss: 0.3999 - val_accuracy: 0.8146\n",
            "Epoch 61/200\n",
            "1328/1328 [==============================] - 3s 2ms/step - loss: 0.4243 - accuracy: 0.7984 - val_loss: 0.3996 - val_accuracy: 0.8109\n",
            "Epoch 62/200\n",
            "1328/1328 [==============================] - 4s 3ms/step - loss: 0.4214 - accuracy: 0.8015 - val_loss: 0.4044 - val_accuracy: 0.8041\n",
            "Epoch 63/200\n",
            "1328/1328 [==============================] - 3s 2ms/step - loss: 0.4158 - accuracy: 0.8019 - val_loss: 0.4013 - val_accuracy: 0.8312\n",
            "Epoch 64/200\n",
            "1328/1328 [==============================] - 3s 2ms/step - loss: 0.4199 - accuracy: 0.8028 - val_loss: 0.3996 - val_accuracy: 0.8199\n",
            "Epoch 65/200\n",
            "1328/1328 [==============================] - 4s 3ms/step - loss: 0.4106 - accuracy: 0.8064 - val_loss: 0.4112 - val_accuracy: 0.8011\n",
            "Epoch 66/200\n",
            "1328/1328 [==============================] - 3s 2ms/step - loss: 0.4113 - accuracy: 0.8063 - val_loss: 0.3882 - val_accuracy: 0.8146\n",
            "Epoch 67/200\n",
            "1328/1328 [==============================] - 3s 2ms/step - loss: 0.4069 - accuracy: 0.8101 - val_loss: 0.3635 - val_accuracy: 0.8455\n",
            "Epoch 68/200\n",
            "1328/1328 [==============================] - 4s 3ms/step - loss: 0.4059 - accuracy: 0.8100 - val_loss: 0.3859 - val_accuracy: 0.8146\n",
            "Epoch 69/200\n",
            "1328/1328 [==============================] - 3s 2ms/step - loss: 0.4054 - accuracy: 0.8116 - val_loss: 0.3969 - val_accuracy: 0.8222\n",
            "Epoch 70/200\n",
            "1328/1328 [==============================] - 3s 2ms/step - loss: 0.4023 - accuracy: 0.8097 - val_loss: 0.3684 - val_accuracy: 0.8357\n",
            "Epoch 71/200\n",
            "1328/1328 [==============================] - 3s 2ms/step - loss: 0.3974 - accuracy: 0.8172 - val_loss: 0.3825 - val_accuracy: 0.8327\n",
            "Epoch 72/200\n",
            "1328/1328 [==============================] - 3s 2ms/step - loss: 0.3973 - accuracy: 0.8110 - val_loss: 0.3680 - val_accuracy: 0.8357\n",
            "Epoch 73/200\n",
            "1328/1328 [==============================] - 4s 3ms/step - loss: 0.3912 - accuracy: 0.8194 - val_loss: 0.3811 - val_accuracy: 0.8312\n",
            "Epoch 74/200\n",
            "1328/1328 [==============================] - 3s 2ms/step - loss: 0.3905 - accuracy: 0.8164 - val_loss: 0.3747 - val_accuracy: 0.8289\n",
            "Epoch 75/200\n",
            "1328/1328 [==============================] - 3s 2ms/step - loss: 0.3956 - accuracy: 0.8137 - val_loss: 0.3732 - val_accuracy: 0.8154\n",
            "Epoch 76/200\n",
            "1328/1328 [==============================] - 3s 2ms/step - loss: 0.3871 - accuracy: 0.8193 - val_loss: 0.3952 - val_accuracy: 0.8131\n",
            "Epoch 77/200\n",
            "1328/1328 [==============================] - 3s 3ms/step - loss: 0.3857 - accuracy: 0.8217 - val_loss: 0.3664 - val_accuracy: 0.8327\n",
            "Epoch 78/200\n",
            "1328/1328 [==============================] - 3s 2ms/step - loss: 0.3855 - accuracy: 0.8217 - val_loss: 0.3553 - val_accuracy: 0.8289\n",
            "Epoch 79/200\n",
            "1328/1328 [==============================] - 3s 2ms/step - loss: 0.3801 - accuracy: 0.8206 - val_loss: 0.3821 - val_accuracy: 0.8176\n",
            "Epoch 80/200\n",
            "1328/1328 [==============================] - 4s 3ms/step - loss: 0.3763 - accuracy: 0.8254 - val_loss: 0.3752 - val_accuracy: 0.8304\n",
            "Epoch 81/200\n",
            "1328/1328 [==============================] - 3s 2ms/step - loss: 0.3753 - accuracy: 0.8235 - val_loss: 0.3276 - val_accuracy: 0.8613\n",
            "Epoch 82/200\n",
            "1328/1328 [==============================] - 3s 2ms/step - loss: 0.3735 - accuracy: 0.8276 - val_loss: 0.3339 - val_accuracy: 0.8523\n",
            "Epoch 83/200\n",
            "1328/1328 [==============================] - 3s 3ms/step - loss: 0.3697 - accuracy: 0.8279 - val_loss: 0.3612 - val_accuracy: 0.8387\n",
            "Epoch 84/200\n",
            "1328/1328 [==============================] - 3s 2ms/step - loss: 0.3691 - accuracy: 0.8273 - val_loss: 0.3482 - val_accuracy: 0.8350\n",
            "Epoch 85/200\n",
            "1328/1328 [==============================] - 4s 3ms/step - loss: 0.3682 - accuracy: 0.8300 - val_loss: 0.3657 - val_accuracy: 0.8357\n",
            "Epoch 86/200\n",
            "1328/1328 [==============================] - 3s 2ms/step - loss: 0.3648 - accuracy: 0.8323 - val_loss: 0.3486 - val_accuracy: 0.8531\n",
            "Epoch 87/200\n",
            "1328/1328 [==============================] - 3s 2ms/step - loss: 0.3632 - accuracy: 0.8326 - val_loss: 0.3054 - val_accuracy: 0.8576\n",
            "Epoch 88/200\n",
            "1328/1328 [==============================] - 4s 3ms/step - loss: 0.3559 - accuracy: 0.8349 - val_loss: 0.3254 - val_accuracy: 0.8538\n",
            "Epoch 89/200\n",
            "1328/1328 [==============================] - 3s 2ms/step - loss: 0.3623 - accuracy: 0.8331 - val_loss: 0.3317 - val_accuracy: 0.8553\n",
            "Epoch 90/200\n",
            "1328/1328 [==============================] - 3s 2ms/step - loss: 0.3540 - accuracy: 0.8404 - val_loss: 0.3281 - val_accuracy: 0.8561\n",
            "Epoch 91/200\n",
            "1328/1328 [==============================] - 4s 3ms/step - loss: 0.3545 - accuracy: 0.8354 - val_loss: 0.3463 - val_accuracy: 0.8327\n",
            "Epoch 92/200\n",
            "1328/1328 [==============================] - 3s 2ms/step - loss: 0.3508 - accuracy: 0.8332 - val_loss: 0.3367 - val_accuracy: 0.8500\n",
            "Epoch 93/200\n",
            "1328/1328 [==============================] - 3s 2ms/step - loss: 0.3461 - accuracy: 0.8390 - val_loss: 0.3027 - val_accuracy: 0.8817\n",
            "Epoch 94/200\n",
            "1328/1328 [==============================] - 4s 3ms/step - loss: 0.3473 - accuracy: 0.8371 - val_loss: 0.3326 - val_accuracy: 0.8470\n",
            "Epoch 95/200\n",
            "1328/1328 [==============================] - 3s 2ms/step - loss: 0.3401 - accuracy: 0.8450 - val_loss: 0.3434 - val_accuracy: 0.8448\n",
            "Epoch 96/200\n",
            "1328/1328 [==============================] - 3s 2ms/step - loss: 0.3440 - accuracy: 0.8396 - val_loss: 0.3185 - val_accuracy: 0.8576\n",
            "Epoch 97/200\n",
            "1328/1328 [==============================] - 4s 3ms/step - loss: 0.3431 - accuracy: 0.8411 - val_loss: 0.3268 - val_accuracy: 0.8598\n",
            "Epoch 98/200\n",
            "1328/1328 [==============================] - 3s 2ms/step - loss: 0.3403 - accuracy: 0.8422 - val_loss: 0.3055 - val_accuracy: 0.8651\n",
            "Epoch 99/200\n",
            "1328/1328 [==============================] - 3s 2ms/step - loss: 0.3388 - accuracy: 0.8461 - val_loss: 0.3120 - val_accuracy: 0.8515\n",
            "Epoch 100/200\n",
            "1328/1328 [==============================] - 3s 2ms/step - loss: 0.3317 - accuracy: 0.8441 - val_loss: 0.2951 - val_accuracy: 0.8681\n",
            "Epoch 101/200\n",
            "1328/1328 [==============================] - 3s 2ms/step - loss: 0.3341 - accuracy: 0.8435 - val_loss: 0.2923 - val_accuracy: 0.8764\n",
            "Epoch 102/200\n",
            "1328/1328 [==============================] - 4s 3ms/step - loss: 0.3329 - accuracy: 0.8469 - val_loss: 0.3139 - val_accuracy: 0.8485\n",
            "Epoch 103/200\n",
            "1328/1328 [==============================] - 3s 2ms/step - loss: 0.3264 - accuracy: 0.8485 - val_loss: 0.2938 - val_accuracy: 0.8689\n",
            "Epoch 104/200\n",
            "1328/1328 [==============================] - 3s 2ms/step - loss: 0.3294 - accuracy: 0.8489 - val_loss: 0.3102 - val_accuracy: 0.8621\n",
            "Epoch 105/200\n",
            "1328/1328 [==============================] - 3s 3ms/step - loss: 0.3297 - accuracy: 0.8488 - val_loss: 0.3045 - val_accuracy: 0.8636\n",
            "Epoch 106/200\n",
            "1328/1328 [==============================] - 3s 2ms/step - loss: 0.3193 - accuracy: 0.8527 - val_loss: 0.3268 - val_accuracy: 0.8523\n",
            "Epoch 107/200\n",
            "1328/1328 [==============================] - 5s 4ms/step - loss: 0.3241 - accuracy: 0.8488 - val_loss: 0.2880 - val_accuracy: 0.8787\n",
            "Epoch 108/200\n",
            "1328/1328 [==============================] - 5s 4ms/step - loss: 0.3225 - accuracy: 0.8501 - val_loss: 0.2895 - val_accuracy: 0.8711\n",
            "Epoch 109/200\n",
            "1328/1328 [==============================] - 3s 2ms/step - loss: 0.3228 - accuracy: 0.8512 - val_loss: 0.2939 - val_accuracy: 0.8644\n",
            "Epoch 110/200\n",
            "1328/1328 [==============================] - 3s 2ms/step - loss: 0.3155 - accuracy: 0.8524 - val_loss: 0.3055 - val_accuracy: 0.8681\n",
            "Epoch 111/200\n",
            "1328/1328 [==============================] - 3s 2ms/step - loss: 0.3144 - accuracy: 0.8566 - val_loss: 0.3041 - val_accuracy: 0.8666\n",
            "Epoch 112/200\n",
            "1328/1328 [==============================] - 3s 2ms/step - loss: 0.3128 - accuracy: 0.8579 - val_loss: 0.2875 - val_accuracy: 0.8711\n",
            "Epoch 113/200\n",
            "1328/1328 [==============================] - 4s 3ms/step - loss: 0.3114 - accuracy: 0.8553 - val_loss: 0.3351 - val_accuracy: 0.8350\n",
            "Epoch 114/200\n",
            "1328/1328 [==============================] - 3s 2ms/step - loss: 0.3102 - accuracy: 0.8555 - val_loss: 0.3112 - val_accuracy: 0.8568\n",
            "Epoch 115/200\n",
            "1328/1328 [==============================] - 3s 2ms/step - loss: 0.3099 - accuracy: 0.8563 - val_loss: 0.3035 - val_accuracy: 0.8621\n",
            "Epoch 116/200\n",
            "1328/1328 [==============================] - 3s 2ms/step - loss: 0.3019 - accuracy: 0.8629 - val_loss: 0.2909 - val_accuracy: 0.8674\n",
            "Epoch 117/200\n",
            "1328/1328 [==============================] - 3s 2ms/step - loss: 0.3041 - accuracy: 0.8612 - val_loss: 0.2818 - val_accuracy: 0.8726\n",
            "Epoch 118/200\n",
            "1328/1328 [==============================] - 4s 3ms/step - loss: 0.3100 - accuracy: 0.8595 - val_loss: 0.2937 - val_accuracy: 0.8628\n",
            "Epoch 119/200\n",
            "1328/1328 [==============================] - 3s 2ms/step - loss: 0.2989 - accuracy: 0.8622 - val_loss: 0.2974 - val_accuracy: 0.8591\n",
            "Epoch 120/200\n",
            "1328/1328 [==============================] - 3s 2ms/step - loss: 0.3004 - accuracy: 0.8603 - val_loss: 0.2843 - val_accuracy: 0.8726\n",
            "Epoch 121/200\n",
            "1328/1328 [==============================] - 4s 3ms/step - loss: 0.2969 - accuracy: 0.8647 - val_loss: 0.2823 - val_accuracy: 0.8749\n",
            "Epoch 122/200\n",
            "1328/1328 [==============================] - 3s 2ms/step - loss: 0.2926 - accuracy: 0.8648 - val_loss: 0.3034 - val_accuracy: 0.8651\n",
            "Epoch 123/200\n",
            "1328/1328 [==============================] - 3s 2ms/step - loss: 0.3015 - accuracy: 0.8616 - val_loss: 0.2762 - val_accuracy: 0.8772\n",
            "Epoch 124/200\n",
            "1328/1328 [==============================] - 4s 3ms/step - loss: 0.2971 - accuracy: 0.8653 - val_loss: 0.3036 - val_accuracy: 0.8568\n",
            "Epoch 125/200\n",
            "1328/1328 [==============================] - 3s 2ms/step - loss: 0.2898 - accuracy: 0.8669 - val_loss: 0.2647 - val_accuracy: 0.8802\n",
            "Epoch 126/200\n",
            "1328/1328 [==============================] - 3s 2ms/step - loss: 0.2881 - accuracy: 0.8683 - val_loss: 0.3157 - val_accuracy: 0.8515\n",
            "Epoch 127/200\n",
            "1328/1328 [==============================] - 4s 3ms/step - loss: 0.2909 - accuracy: 0.8692 - val_loss: 0.2589 - val_accuracy: 0.8885\n",
            "Epoch 128/200\n",
            "1328/1328 [==============================] - 3s 2ms/step - loss: 0.2933 - accuracy: 0.8661 - val_loss: 0.2678 - val_accuracy: 0.8734\n",
            "Epoch 129/200\n",
            "1328/1328 [==============================] - 3s 2ms/step - loss: 0.2871 - accuracy: 0.8689 - val_loss: 0.2660 - val_accuracy: 0.8802\n",
            "Epoch 130/200\n",
            "1328/1328 [==============================] - 4s 3ms/step - loss: 0.2924 - accuracy: 0.8630 - val_loss: 0.2793 - val_accuracy: 0.8666\n",
            "Epoch 131/200\n",
            "1328/1328 [==============================] - 3s 2ms/step - loss: 0.2843 - accuracy: 0.8744 - val_loss: 0.2817 - val_accuracy: 0.8711\n",
            "Epoch 132/200\n",
            "1328/1328 [==============================] - 3s 2ms/step - loss: 0.2836 - accuracy: 0.8702 - val_loss: 0.2783 - val_accuracy: 0.8726\n",
            "Epoch 133/200\n",
            "1328/1328 [==============================] - 4s 3ms/step - loss: 0.2833 - accuracy: 0.8675 - val_loss: 0.2717 - val_accuracy: 0.8704\n",
            "Epoch 134/200\n",
            "1328/1328 [==============================] - 3s 2ms/step - loss: 0.2806 - accuracy: 0.8733 - val_loss: 0.2691 - val_accuracy: 0.8726\n",
            "Epoch 135/200\n",
            "1328/1328 [==============================] - 4s 3ms/step - loss: 0.2783 - accuracy: 0.8732 - val_loss: 0.2647 - val_accuracy: 0.8779\n",
            "Epoch 136/200\n",
            "1328/1328 [==============================] - 3s 3ms/step - loss: 0.2859 - accuracy: 0.8672 - val_loss: 0.2595 - val_accuracy: 0.8787\n",
            "Epoch 137/200\n",
            "1328/1328 [==============================] - 3s 2ms/step - loss: 0.2757 - accuracy: 0.8744 - val_loss: 0.2568 - val_accuracy: 0.8839\n",
            "Epoch 138/200\n",
            "1328/1328 [==============================] - 3s 2ms/step - loss: 0.2752 - accuracy: 0.8747 - val_loss: 0.2416 - val_accuracy: 0.8885\n",
            "Epoch 139/200\n",
            "1328/1328 [==============================] - 4s 3ms/step - loss: 0.2772 - accuracy: 0.8701 - val_loss: 0.2466 - val_accuracy: 0.8960\n",
            "Epoch 140/200\n",
            "1328/1328 [==============================] - 3s 2ms/step - loss: 0.2799 - accuracy: 0.8728 - val_loss: 0.2993 - val_accuracy: 0.8644\n",
            "Epoch 141/200\n",
            "1328/1328 [==============================] - 4s 3ms/step - loss: 0.2751 - accuracy: 0.8705 - val_loss: 0.2572 - val_accuracy: 0.8862\n",
            "Epoch 142/200\n",
            "1328/1328 [==============================] - 3s 2ms/step - loss: 0.2723 - accuracy: 0.8775 - val_loss: 0.2525 - val_accuracy: 0.8862\n",
            "Epoch 143/200\n",
            "1328/1328 [==============================] - 3s 2ms/step - loss: 0.2739 - accuracy: 0.8760 - val_loss: 0.2438 - val_accuracy: 0.8855\n",
            "Epoch 144/200\n",
            "1328/1328 [==============================] - 4s 3ms/step - loss: 0.2682 - accuracy: 0.8777 - val_loss: 0.2457 - val_accuracy: 0.8839\n",
            "Epoch 145/200\n",
            "1328/1328 [==============================] - 3s 2ms/step - loss: 0.2684 - accuracy: 0.8740 - val_loss: 0.2524 - val_accuracy: 0.8847\n",
            "Epoch 146/200\n",
            "1328/1328 [==============================] - 3s 2ms/step - loss: 0.2686 - accuracy: 0.8803 - val_loss: 0.2522 - val_accuracy: 0.8922\n",
            "Epoch 147/200\n",
            "1328/1328 [==============================] - 3s 3ms/step - loss: 0.2655 - accuracy: 0.8813 - val_loss: 0.2715 - val_accuracy: 0.8659\n",
            "Epoch 148/200\n",
            "1328/1328 [==============================] - 3s 2ms/step - loss: 0.2706 - accuracy: 0.8765 - val_loss: 0.2327 - val_accuracy: 0.8998\n",
            "Epoch 149/200\n",
            "1328/1328 [==============================] - 4s 3ms/step - loss: 0.2671 - accuracy: 0.8766 - val_loss: 0.2454 - val_accuracy: 0.8930\n",
            "Epoch 150/200\n",
            "1328/1328 [==============================] - 3s 2ms/step - loss: 0.2644 - accuracy: 0.8794 - val_loss: 0.2518 - val_accuracy: 0.8930\n",
            "Epoch 151/200\n",
            "1328/1328 [==============================] - 3s 2ms/step - loss: 0.2623 - accuracy: 0.8809 - val_loss: 0.2363 - val_accuracy: 0.8907\n",
            "Epoch 152/200\n",
            "1328/1328 [==============================] - 3s 2ms/step - loss: 0.2658 - accuracy: 0.8799 - val_loss: 0.2751 - val_accuracy: 0.8749\n",
            "Epoch 153/200\n",
            "1328/1328 [==============================] - 3s 2ms/step - loss: 0.2593 - accuracy: 0.8780 - val_loss: 0.2665 - val_accuracy: 0.8772\n",
            "Epoch 154/200\n",
            "1328/1328 [==============================] - 4s 3ms/step - loss: 0.2618 - accuracy: 0.8782 - val_loss: 0.2686 - val_accuracy: 0.8681\n",
            "Epoch 155/200\n",
            "1328/1328 [==============================] - 3s 2ms/step - loss: 0.2611 - accuracy: 0.8794 - val_loss: 0.2374 - val_accuracy: 0.9028\n",
            "Epoch 156/200\n",
            "1328/1328 [==============================] - 3s 2ms/step - loss: 0.2562 - accuracy: 0.8842 - val_loss: 0.2454 - val_accuracy: 0.8930\n",
            "Epoch 157/200\n",
            "1328/1328 [==============================] - 4s 3ms/step - loss: 0.2539 - accuracy: 0.8825 - val_loss: 0.2285 - val_accuracy: 0.8915\n",
            "Epoch 158/200\n",
            "1328/1328 [==============================] - 3s 2ms/step - loss: 0.2608 - accuracy: 0.8814 - val_loss: 0.2388 - val_accuracy: 0.8832\n",
            "Epoch 159/200\n",
            "1328/1328 [==============================] - 3s 2ms/step - loss: 0.2610 - accuracy: 0.8810 - val_loss: 0.2334 - val_accuracy: 0.8915\n",
            "Epoch 160/200\n",
            "1328/1328 [==============================] - 4s 3ms/step - loss: 0.2563 - accuracy: 0.8842 - val_loss: 0.2234 - val_accuracy: 0.8968\n",
            "Epoch 161/200\n",
            "1328/1328 [==============================] - 3s 2ms/step - loss: 0.2529 - accuracy: 0.8824 - val_loss: 0.2485 - val_accuracy: 0.8749\n",
            "Epoch 162/200\n",
            "1328/1328 [==============================] - 3s 2ms/step - loss: 0.2527 - accuracy: 0.8844 - val_loss: 0.2690 - val_accuracy: 0.8802\n",
            "Epoch 163/200\n",
            "1328/1328 [==============================] - 4s 3ms/step - loss: 0.2529 - accuracy: 0.8852 - val_loss: 0.2196 - val_accuracy: 0.9013\n",
            "Epoch 164/200\n",
            "1328/1328 [==============================] - 3s 2ms/step - loss: 0.2535 - accuracy: 0.8859 - val_loss: 0.2459 - val_accuracy: 0.8817\n",
            "Epoch 165/200\n",
            "1328/1328 [==============================] - 3s 2ms/step - loss: 0.2487 - accuracy: 0.8862 - val_loss: 0.2369 - val_accuracy: 0.8922\n",
            "Epoch 166/200\n",
            "1328/1328 [==============================] - 4s 3ms/step - loss: 0.2490 - accuracy: 0.8861 - val_loss: 0.2462 - val_accuracy: 0.8855\n",
            "Epoch 167/200\n",
            "1328/1328 [==============================] - 3s 2ms/step - loss: 0.2481 - accuracy: 0.8859 - val_loss: 0.2132 - val_accuracy: 0.8990\n",
            "Epoch 168/200\n",
            "1328/1328 [==============================] - 3s 2ms/step - loss: 0.2531 - accuracy: 0.8835 - val_loss: 0.2357 - val_accuracy: 0.8937\n",
            "Epoch 169/200\n",
            "1328/1328 [==============================] - 4s 3ms/step - loss: 0.2431 - accuracy: 0.8896 - val_loss: 0.2204 - val_accuracy: 0.8945\n",
            "Epoch 170/200\n",
            "1328/1328 [==============================] - 4s 3ms/step - loss: 0.2466 - accuracy: 0.8854 - val_loss: 0.2453 - val_accuracy: 0.8945\n",
            "Epoch 171/200\n",
            "1328/1328 [==============================] - 3s 2ms/step - loss: 0.2481 - accuracy: 0.8911 - val_loss: 0.2291 - val_accuracy: 0.8885\n",
            "Epoch 172/200\n",
            "1328/1328 [==============================] - 4s 3ms/step - loss: 0.2409 - accuracy: 0.8891 - val_loss: 0.2481 - val_accuracy: 0.8930\n",
            "Epoch 173/200\n",
            "1328/1328 [==============================] - 3s 3ms/step - loss: 0.2440 - accuracy: 0.8889 - val_loss: 0.2771 - val_accuracy: 0.8749\n",
            "Epoch 174/200\n",
            "1328/1328 [==============================] - 3s 3ms/step - loss: 0.2423 - accuracy: 0.8892 - val_loss: 0.2397 - val_accuracy: 0.8930\n",
            "Epoch 175/200\n",
            "1328/1328 [==============================] - 4s 3ms/step - loss: 0.2470 - accuracy: 0.8866 - val_loss: 0.2395 - val_accuracy: 0.8930\n",
            "Epoch 176/200\n",
            "1328/1328 [==============================] - 3s 2ms/step - loss: 0.2385 - accuracy: 0.8899 - val_loss: 0.1964 - val_accuracy: 0.9088\n",
            "Epoch 177/200\n",
            "1328/1328 [==============================] - 3s 3ms/step - loss: 0.2433 - accuracy: 0.8897 - val_loss: 0.2134 - val_accuracy: 0.8998\n",
            "Epoch 178/200\n",
            "1328/1328 [==============================] - 3s 3ms/step - loss: 0.2347 - accuracy: 0.8920 - val_loss: 0.2396 - val_accuracy: 0.8862\n",
            "Epoch 179/200\n",
            "1328/1328 [==============================] - 3s 2ms/step - loss: 0.2372 - accuracy: 0.8913 - val_loss: 0.2445 - val_accuracy: 0.8885\n",
            "Epoch 180/200\n",
            "1328/1328 [==============================] - 4s 3ms/step - loss: 0.2406 - accuracy: 0.8906 - val_loss: 0.2349 - val_accuracy: 0.8915\n",
            "Epoch 181/200\n",
            "1328/1328 [==============================] - 3s 3ms/step - loss: 0.2321 - accuracy: 0.8928 - val_loss: 0.2203 - val_accuracy: 0.8953\n",
            "Epoch 182/200\n",
            "1328/1328 [==============================] - 5s 4ms/step - loss: 0.2306 - accuracy: 0.8955 - val_loss: 0.2186 - val_accuracy: 0.9005\n",
            "Epoch 183/200\n",
            "1328/1328 [==============================] - 6s 5ms/step - loss: 0.2316 - accuracy: 0.8936 - val_loss: 0.2243 - val_accuracy: 0.8930\n",
            "Epoch 184/200\n",
            "1328/1328 [==============================] - 3s 3ms/step - loss: 0.2424 - accuracy: 0.8861 - val_loss: 0.2442 - val_accuracy: 0.8885\n",
            "Epoch 185/200\n",
            "1328/1328 [==============================] - 5s 3ms/step - loss: 0.2336 - accuracy: 0.8926 - val_loss: 0.2399 - val_accuracy: 0.8862\n",
            "Epoch 186/200\n",
            "1328/1328 [==============================] - 3s 3ms/step - loss: 0.2300 - accuracy: 0.8955 - val_loss: 0.2143 - val_accuracy: 0.8983\n",
            "Epoch 187/200\n",
            "1328/1328 [==============================] - 3s 2ms/step - loss: 0.2394 - accuracy: 0.8867 - val_loss: 0.2085 - val_accuracy: 0.9066\n",
            "Epoch 188/200\n",
            "1328/1328 [==============================] - 4s 3ms/step - loss: 0.2329 - accuracy: 0.8933 - val_loss: 0.2130 - val_accuracy: 0.9088\n",
            "Epoch 189/200\n",
            "1328/1328 [==============================] - 3s 3ms/step - loss: 0.2311 - accuracy: 0.8957 - val_loss: 0.2035 - val_accuracy: 0.9118\n",
            "Epoch 190/200\n",
            "1328/1328 [==============================] - 3s 3ms/step - loss: 0.2341 - accuracy: 0.8944 - val_loss: 0.2157 - val_accuracy: 0.9013\n",
            "Epoch 191/200\n",
            "1328/1328 [==============================] - 4s 3ms/step - loss: 0.2326 - accuracy: 0.8928 - val_loss: 0.2143 - val_accuracy: 0.9013\n",
            "Epoch 192/200\n",
            "1328/1328 [==============================] - 3s 3ms/step - loss: 0.2264 - accuracy: 0.8965 - val_loss: 0.2199 - val_accuracy: 0.9073\n",
            "Epoch 193/200\n",
            "1328/1328 [==============================] - 5s 3ms/step - loss: 0.2320 - accuracy: 0.8932 - val_loss: 0.2298 - val_accuracy: 0.9043\n",
            "Epoch 194/200\n",
            "1328/1328 [==============================] - 3s 2ms/step - loss: 0.2303 - accuracy: 0.8969 - val_loss: 0.2379 - val_accuracy: 0.8870\n",
            "Epoch 195/200\n",
            "1328/1328 [==============================] - 3s 2ms/step - loss: 0.2242 - accuracy: 0.8987 - val_loss: 0.2107 - val_accuracy: 0.9020\n",
            "Epoch 196/200\n",
            "1328/1328 [==============================] - 4s 3ms/step - loss: 0.2252 - accuracy: 0.8964 - val_loss: 0.1897 - val_accuracy: 0.9209\n",
            "Epoch 197/200\n",
            "1328/1328 [==============================] - 3s 2ms/step - loss: 0.2287 - accuracy: 0.8943 - val_loss: 0.2162 - val_accuracy: 0.8998\n",
            "Epoch 198/200\n",
            "1328/1328 [==============================] - 3s 3ms/step - loss: 0.2301 - accuracy: 0.8951 - val_loss: 0.1938 - val_accuracy: 0.9088\n",
            "Epoch 199/200\n",
            "1328/1328 [==============================] - 4s 3ms/step - loss: 0.2272 - accuracy: 0.8944 - val_loss: 0.1951 - val_accuracy: 0.9148\n",
            "Epoch 200/200\n",
            "1328/1328 [==============================] - 4s 3ms/step - loss: 0.2253 - accuracy: 0.8974 - val_loss: 0.2026 - val_accuracy: 0.9066\n"
          ]
        }
      ]
    },
    {
      "cell_type": "code",
      "source": [
        "fig = plt.figure()\n",
        "plt.plot(hist.history['accuracy'], color='teal', label='accuracy')\n",
        "plt.plot(hist.history['val_accuracy'], color='orange', label='val_accuracy')\n",
        "fig.suptitle('Accuracy', fontsize=20)\n",
        "plt.legend(loc=\"upper left\")\n",
        "plt.ylim(0.65, 0.95)\n",
        "plt.show()"
      ],
      "metadata": {
        "colab": {
          "base_uri": "https://localhost:8080/",
          "height": 482
        },
        "id": "UpMjQqSCjsg4",
        "outputId": "55349606-3277-43e1-a3cd-87778487f587"
      },
      "execution_count": null,
      "outputs": [
        {
          "output_type": "display_data",
          "data": {
            "text/plain": [
              "<Figure size 640x480 with 1 Axes>"
            ],
            "image/png": "[encoded data removed]"
          },
          "metadata": {}
        }
      ]
    },
    {
      "cell_type": "code",
      "source": [
        "test_accuracy = model_3.evaluate(test_dataset_r,verbose=0,return_dict=True)['accuracy']\n",
        "test_accuracy"
      ],
      "metadata": {
        "colab": {
          "base_uri": "https://localhost:8080/"
        },
        "id": "QHxKjwDnkAKC",
        "outputId": "0665441d-482c-4174-b89b-00cad369bdb2"
      },
      "execution_count": null,
      "outputs": [
        {
          "output_type": "execute_result",
          "data": {
            "text/plain": [
              "0.8982667922973633"
            ]
          },
          "metadata": {},
          "execution_count": 43
        }
      ]
    },
    {
      "cell_type": "code",
      "source": [
        "y_test_true = []\n",
        "y_test_predicted = []\n",
        "x_features = []\n",
        "\n",
        "\n",
        "for test_features, y_test in test_dataset_3:\n",
        "  x_features.extend(test_features.numpy())\n",
        "  predictions = model_3.predict(test_features, verbose=0)\n",
        "  y_test_predicted.extend(np.argmax(predictions, axis=1).tolist())\n",
        "  y_test_true.extend(y_test.numpy())\n",
        "print(f\"True label    : {y_test_true[0:20]}\")\n",
        "print(f\"Predicted label: {y_test_predicted[0:20]}\")\n",
        "\n",
        "correct_predictions = sum(np.array(y_test_predicted) == np.array(y_test_true))\n",
        "total_samples = len(y_test_true)\n",
        "accuracy = correct_predictions / total_samples\n",
        "print(\"Manual Accuracy:\", accuracy)"
      ],
      "metadata": {
        "colab": {
          "base_uri": "https://localhost:8080/"
        },
        "id": "fartVa1LkAcQ",
        "outputId": "65dc24c5-ee65-4dfc-a33a-64b995c8c279"
      },
      "execution_count": null,
      "outputs": [
        {
          "output_type": "stream",
          "name": "stdout",
          "text": [
            "True label    : [0, 1, 0, 1, 1, 1, 1, 0, 1, 1, 1, 1, 0, 1, 0, 1, 1, 0, 1, 1]\n",
            "Predicted label: [0, 1, 0, 0, 1, 1, 1, 0, 1, 1, 1, 1, 0, 1, 0, 1, 1, 1, 1, 1]\n",
            "Manual Accuracy: 0.9005275056518462\n"
          ]
        }
      ]
    },
    {
      "cell_type": "code",
      "source": [
        "import seaborn as sns  # for nicer plots\n",
        "sns.set(style=\"darkgrid\")  # default style\n",
        "\n",
        "# Create a confusion matrix as a 2D array.\n",
        "confusion_matrix = tf.math.confusion_matrix(y_test_true, y_test_predicted)\n",
        "\n",
        "# Use a heatmap plot to display it.\n",
        "ax = sns.heatmap(confusion_matrix, annot=True, fmt='.3g', cmap='Blues')\n",
        "# Add axis labels.\n",
        "ax.set(xlabel='Predicted Label', ylabel='True Label')\n",
        "plt.show()\n",
        "print(confusion_matrix.numpy())"
      ],
      "metadata": {
        "colab": {
          "base_uri": "https://localhost:8080/",
          "height": 498
        },
        "id": "SLYdv8E_kENo",
        "outputId": "f7fb59fd-686d-4a9c-90a1-b09b653756d9"
      },
      "execution_count": null,
      "outputs": [
        {
          "output_type": "display_data",
          "data": {
            "text/plain": [
              "<Figure size 640x480 with 2 Axes>"
            ],
            "image/png": "[encoded data removed]"
          },
          "metadata": {}
        },
        {
          "output_type": "stream",
          "name": "stdout",
          "text": [
            "[[591  57]\n",
            " [ 75 604]]\n"
          ]
        }
      ]
    },
    {
      "cell_type": "markdown",
      "source": [
        "If we toss away any personal information that can cause bias and only train the model through the payment status, we can still get a decent test accuracy of 90%, recall of 90% and precision 90%"
      ],
      "metadata": {
        "id": "rR4lO2z0pzhH"
      }
    },
    {
      "cell_type": "code",
      "source": [
        "model.save('/content/sample_data/model.h5')\n",
        "model_2.save('/content/sample_data/model_2.h5')\n",
        "model_3.save('/content/sample_data/model_3.h5')"
      ],
      "metadata": {
        "id": "X1k5YzC1BAzc"
      },
      "execution_count": null,
      "outputs": []
    },
    {
      "cell_type": "markdown",
      "source": [
        "# Ensemble\n",
        "## Bagging: weighted average ensemble,\n",
        "###### we have\n",
        "######1.model: a comprehensive model with personal information and payment status for the last six months,\n",
        "######2. model_2: a model based on collinearity of payment status between months and make prediction based on the payment status of the first month\n",
        "######3. model_3: a model with only payment status to remove potential bias.\n",
        "\n",
        "#####For a business scenario that we would like to apply model with only payment status and boost the accuracy by the help of other model through the ensemble method."
      ],
      "metadata": {
        "id": "ylSxPdm14YFJ"
      }
    },
    {
      "cell_type": "code",
      "source": [
        "#download models\n",
        "import tensorflow as tf\n",
        "model = tf.keras.models.load_model('/content/sample_data/model.h5')\n",
        "model_2 = tf.keras.models.load_model('/content/sample_data/model_2.h5')\n",
        "model_3 = tf.keras.models.load_model('/content/sample_data/model_3.h5')"
      ],
      "metadata": {
        "id": "God1HSSf39Jn"
      },
      "execution_count": 1,
      "outputs": []
    },
    {
      "cell_type": "code",
      "source": [
        "test_accuracy = model.evaluate(test_dataset,verbose=0,return_dict=True)['accuracy']\n",
        "test_accuracy"
      ],
      "metadata": {
        "colab": {
          "base_uri": "https://localhost:8080/"
        },
        "id": "jUUUdIcASazJ",
        "outputId": "d157c466-d1f7-4eb0-d158-0d5ed68547b4"
      },
      "execution_count": 8,
      "outputs": [
        {
          "output_type": "execute_result",
          "data": {
            "text/plain": [
              "0.9434815645217896"
            ]
          },
          "metadata": {},
          "execution_count": 8
        }
      ]
    },
    {
      "cell_type": "code",
      "source": [
        "#Input of model1\n",
        "X = df[['LIMIT_BAL', 'AGE', 'PAY_0', 'PAY_2', 'PAY_3', 'PAY_4', 'PAY_5',\n",
        "       'PAY_6', 'BILL_AMT1', 'BILL_AMT2', 'BILL_AMT3', 'BILL_AMT4',\n",
        "       'BILL_AMT5', 'BILL_AMT6', 'PAY_AMT1', 'PAY_AMT2', 'PAY_AMT3',\n",
        "       'PAY_AMT4', 'PAY_AMT5', 'PAY_AMT6',\n",
        "       'SEX_1', 'SEX_2', 'EDUCATION_0', 'EDUCATION_1', 'EDUCATION_2',\n",
        "       'EDUCATION_3', 'EDUCATION_4', 'EDUCATION_5', 'EDUCATION_6',\n",
        "       'MARRIAGE_0', 'MARRIAGE_1', 'MARRIAGE_2', 'MARRIAGE_3']].values\n",
        "y = np.squeeze(df[['default.payment.next.month']].values)\n",
        "\n",
        "scaler = StandardScaler()\n",
        "X_normalized_1 = scaler.fit_transform(X)\n",
        "\n",
        "#model_2\n",
        "\n",
        "X_reduced_2 = df[['LIMIT_BAL', 'AGE', 'PAY_6','BILL_AMT6','PAY_AMT6',\n",
        "       'SEX_1', 'SEX_2', 'EDUCATION_0', 'EDUCATION_1', 'EDUCATION_2',\n",
        "       'EDUCATION_3','MARRIAGE_1', 'MARRIAGE_2']].values\n",
        "\n",
        "X_reduced_normalized_2 = scaler.fit_transform(X_reduced_2)\n",
        "\n",
        "\n",
        "\n",
        "X_reduced_3 = df[['LIMIT_BAL', 'AGE', 'PAY_0', 'PAY_2', 'PAY_3', 'PAY_4', 'PAY_5',\n",
        "          'PAY_6', 'BILL_AMT1', 'BILL_AMT2', 'BILL_AMT3', 'BILL_AMT4',\n",
        "          'BILL_AMT5', 'BILL_AMT6', 'PAY_AMT1', 'PAY_AMT2', 'PAY_AMT3',\n",
        "          'PAY_AMT4', 'PAY_AMT5', 'PAY_AMT6']].values\n",
        "\n",
        "X_reduced_normalized_3 = scaler.fit_transform(X_reduced_3)\n",
        "\n",
        "print(X_normalized_1.shape, X_reduced_normalized_2.shape, X_reduced_normalized_3.shape)\n",
        "print(y.shape)\n",
        "\n",
        "#since training, validation, testing accuracy are pretty close, we use all data set to do the ensemble test."
      ],
      "metadata": {
        "id": "z30Lc2L2In0z",
        "outputId": "4b037b16-0b0e-47e7-ddd8-3fb42ff379d4",
        "colab": {
          "base_uri": "https://localhost:8080/"
        }
      },
      "execution_count": 9,
      "outputs": [
        {
          "output_type": "stream",
          "name": "stdout",
          "text": [
            "(13272, 33) (13272, 13) (13272, 20)\n",
            "(13272,)\n"
          ]
        }
      ]
    },
    {
      "cell_type": "code",
      "source": [
        "#test data set: test_dataset, test_dataset_r, test_dataset_3\n",
        "pred1 = model.predict(X_normalized_1)\n",
        "pred2 = model_2.predict(X_reduced_normalized_2)\n",
        "pred3 = model_3.predict(X_reduced_normalized_3)\n",
        "preds = np.array([pred1, pred2, pred3])\n",
        "print(preds.shape)\n",
        "preds[:,0,:]"
      ],
      "metadata": {
        "id": "cMDZQLZd4Z3v",
        "outputId": "6e86dac8-a3d5-4122-ee4e-50ea0382e049",
        "colab": {
          "base_uri": "https://localhost:8080/"
        }
      },
      "execution_count": 10,
      "outputs": [
        {
          "output_type": "stream",
          "name": "stdout",
          "text": [
            "415/415 [==============================] - 1s 2ms/step\n",
            "415/415 [==============================] - 1s 2ms/step\n",
            "415/415 [==============================] - 1s 2ms/step\n",
            "(3, 13272, 2)\n"
          ]
        },
        {
          "output_type": "execute_result",
          "data": {
            "text/plain": [
              "array([[0.99578166, 0.00421837],\n",
              "       [0.8108554 , 0.18914461],\n",
              "       [0.8902505 , 0.10974947]], dtype=float32)"
            ]
          },
          "metadata": {},
          "execution_count": 10
        }
      ]
    },
    {
      "cell_type": "code",
      "source": [
        "pred1_ = np.argmax(pred1, axis=1)\n",
        "pred1_.shape"
      ],
      "metadata": {
        "id": "YI_6BeuYMRaA",
        "outputId": "9c7abb3b-d41b-4f8a-fa17-d0f76846a21c",
        "colab": {
          "base_uri": "https://localhost:8080/"
        }
      },
      "execution_count": 11,
      "outputs": [
        {
          "output_type": "execute_result",
          "data": {
            "text/plain": [
              "(13272,)"
            ]
          },
          "metadata": {},
          "execution_count": 11
        }
      ]
    },
    {
      "cell_type": "code",
      "source": [
        "def ensemble_accuracy(weights, y):\n",
        "\n",
        "  weights = np.array(weights)\n",
        "  #weights = np.array([0.4, 0.4, 0.2])\n",
        "\n",
        "  #expand weights to size (3,1,1) for element-wise wighting average.\n",
        "  #print((weights[:, np.newaxis, np.newaxis].shape))\n",
        "\n",
        "  weighted_preds = (preds * weights[:, np.newaxis, np.newaxis])\n",
        "  #print(\"prediction and weighted prediction for model 1\", preds[0,0,:], weighted_preds[0,0,:])\n",
        "\n",
        "  #weighting average\n",
        "  weighting_average_preds = np.sum(weighted_preds, axis=0)\n",
        "  #print(weighting_average_preds[0,:], weighting_average_preds.shape)\n",
        "\n",
        "  #make predictions based on weighting average\n",
        "  weighting_average_predicted_y = np.argmax(weighting_average_preds, axis=1)\n",
        "\n",
        "  #calculate accuracy\n",
        "  correct_predictions = sum(weighting_average_predicted_y == y)\n",
        "  total_samples = len(y)\n",
        "  accuracy = correct_predictions / total_samples\n",
        "  #print(\"Manual Accuracy:\", accuracy)\n",
        "  return accuracy\n",
        "\n",
        "weights = [0,0,1]\n",
        "ensemble_accuracy(weights, y)\n",
        "#[0, 0, 1]: 0.9\n",
        "#[1, 0, 0]: 0.94\n",
        "#[0.4, 0.1, 0.5]: 0.95\n",
        "#[0.3, 0.1, 0.6]: 0.943\n",
        "#[0.2, 0.1, 0.7]: 0.93\n",
        "#[0.4, 0.2, 0.4]: 0.956"
      ],
      "metadata": {
        "id": "TbvP7B8NDiZY",
        "outputId": "1cfbc926-ea7a-40b7-aa71-b709dc50545d",
        "colab": {
          "base_uri": "https://localhost:8080/"
        }
      },
      "execution_count": 32,
      "outputs": [
        {
          "output_type": "execute_result",
          "data": {
            "text/plain": [
              "0.9020494273658831"
            ]
          },
          "metadata": {},
          "execution_count": 32
        }
      ]
    },
    {
      "cell_type": "code",
      "source": [
        "ensemble_result = []\n",
        "weight_record = []\n",
        "for w1 in range(0,10):\n",
        "  for w2 in range(0,10):\n",
        "    for w3 in range(0, 10):\n",
        "      weights = [w1/10, w2/10, w3/10]\n",
        "      weight_record.append(weights)\n",
        "      ensemble_result.append(ensemble_accuracy(weights, y))\n",
        "print(max(ensemble_result))\n",
        "print(ensemble_result.index(max(ensemble_result)))\n",
        "print(weight_record[ensemble_result.index(max(ensemble_result))])"
      ],
      "metadata": {
        "colab": {
          "base_uri": "https://localhost:8080/"
        },
        "id": "X6j-B9YcV2WL",
        "outputId": "a713df61-1e26-4af0-b3f1-8b687717b42b"
      },
      "execution_count": 39,
      "outputs": [
        {
          "output_type": "stream",
          "name": "stdout",
          "text": [
            "0.957579867389994\n",
            "756\n",
            "[0.7, 0.5, 0.6]\n"
          ]
        }
      ]
    },
    {
      "cell_type": "code",
      "source": [
        "def ensemble_prediction(weights, y):\n",
        "\n",
        "  weights = np.array(weights)\n",
        "  #weights = np.array([0.4, 0.4, 0.2])\n",
        "\n",
        "  #expand weights to size (3,1,1) for element-wise wighting average.\n",
        "  #print((weights[:, np.newaxis, np.newaxis].shape))\n",
        "\n",
        "  weighted_preds = (preds * weights[:, np.newaxis, np.newaxis])\n",
        "  #print(\"prediction and weighted prediction for model 1\", preds[0,0,:], weighted_preds[0,0,:])\n",
        "\n",
        "  #weighting average\n",
        "  weighting_average_preds = np.sum(weighted_preds, axis=0)\n",
        "  #print(weighting_average_preds[0,:], weighting_average_preds.shape)\n",
        "\n",
        "  #make predictions based on weighting average\n",
        "  weighting_average_predicted_y = np.argmax(weighting_average_preds, axis=1)\n",
        "\n",
        "  return weighting_average_predicted_y\n",
        "\n",
        "weights = [0,0,1]\n",
        "ensemble_prediction(weights, y)\n",
        "#[0, 0, 1]: 0.9\n",
        "#[1, 0, 0]: 0.94\n",
        "#[0.4, 0.1, 0.5]: 0.95\n",
        "#[0.3, 0.1, 0.6]: 0.943\n",
        "#[0.2, 0.1, 0.7]: 0.93\n",
        "#[0.4, 0.2, 0.4]: 0.956"
      ],
      "metadata": {
        "colab": {
          "base_uri": "https://localhost:8080/"
        },
        "id": "3smJQzQpZLoa",
        "outputId": "03a5e4e6-ec9d-4b17-b170-1be4ac8ff965"
      },
      "execution_count": 41,
      "outputs": [
        {
          "output_type": "execute_result",
          "data": {
            "text/plain": [
              "array([0, 0, 0, ..., 1, 1, 1])"
            ]
          },
          "metadata": {},
          "execution_count": 41
        }
      ]
    },
    {
      "cell_type": "code",
      "source": [
        "import seaborn as sns  # for nicer plots\n",
        "sns.set(style=\"darkgrid\")  # default style\n",
        "\n",
        "weights = [0.7,0.5,0.6]\n",
        "# Create a confusion matrix as a 2D array.\n",
        "confusion_matrix = tf.math.confusion_matrix(y, ensemble_prediction(weights, y))\n",
        "\n",
        "# Use a heatmap plot to display it.\n",
        "ax = sns.heatmap(confusion_matrix, annot=True, fmt='.3g', cmap='Blues')\n",
        "# Add axis labels.\n",
        "ax.set(xlabel='Predicted Label', ylabel='True Label')\n",
        "plt.show()\n",
        "print(confusion_matrix.numpy())"
      ],
      "metadata": {
        "colab": {
          "base_uri": "https://localhost:8080/",
          "height": 495
        },
        "id": "OE--dou2Y6r1",
        "outputId": "e7c8b699-2a3c-4203-c7a1-cc579dc72faf"
      },
      "execution_count": 57,
      "outputs": [
        {
          "output_type": "display_data",
          "data": {
            "text/plain": [
              "<Figure size 640x480 with 2 Axes>"
            ],
            "image/png": "[encoded data removed]"
          },
          "metadata": {}
        },
        {
          "output_type": "stream",
          "name": "stdout",
          "text": [
            "[[6375  261]\n",
            " [ 302 6334]]\n"
          ]
        }
      ]
    },
    {
      "cell_type": "markdown",
      "source": [
        "#### accuracy 95.7%, recall 95.4%, precision 96%"
      ],
      "metadata": {
        "id": "O9KefnN4ZtE6"
      }
    }
  ]
}