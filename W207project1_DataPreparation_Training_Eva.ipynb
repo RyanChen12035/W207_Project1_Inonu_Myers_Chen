{
  "nbformat": 4,
  "nbformat_minor": 0,
  "metadata": {
    "colab": {
      "provenance": [],
      "gpuType": "T4"
    },
    "kernelspec": {
      "name": "python3",
      "display_name": "Python 3"
    },
    "language_info": {
      "name": "python"
    },
    "accelerator": "GPU"
  },
  "cells": [
    {
      "cell_type": "markdown",
      "source": [
        "# Data preparation\n",
        "##### 1. Load the data from EDA\n",
        "##### 2. Normalize\n",
        "##### 3. Set up a Data pipeline, do shuffle, split the data into training, testing, split up into batches"
      ],
      "metadata": {
        "id": "4jgaHpO_CVxO"
      }
    },
    {
      "cell_type": "code",
      "source": [
        "import pandas as pd\n",
        "import numpy as np\n",
        "import tensorflow as tf\n",
        "from sklearn.preprocessing import StandardScaler"
      ],
      "metadata": {
        "id": "8hNf4wgDC2LU"
      },
      "execution_count": 1,
      "outputs": []
    },
    {
      "cell_type": "code",
      "source": [
        "#load data\n",
        "df = pd.read_csv('/content/sample_data/CreditCard_EDA_balanced6636.csv')\n",
        "df.head()"
      ],
      "metadata": {
        "id": "nOAvg5NxC5a3",
        "colab": {
          "base_uri": "https://localhost:8080/",
          "height": 299
        },
        "outputId": "5cde96e2-12a5-43b6-c252-058725dafbac"
      },
      "execution_count": 3,
      "outputs": [
        {
          "output_type": "execute_result",
          "data": {
            "text/plain": [
              "   LIMIT_BAL  AGE  PAY_0  PAY_2  PAY_3  PAY_4  PAY_5  PAY_6  BILL_AMT1  \\\n",
              "0   9.446729   31     -1     -1     -1     -1     -1     -1   4.856966   \n",
              "1   8.987197   35     -2     -2     -2     -2     -2     -2   5.191289   \n",
              "2   7.418581   23     -1     -1     -2     -2     -2     -2   4.353284   \n",
              "3   9.305651   32      0      0      0      0      0      0   8.598202   \n",
              "4   7.888585   35     -1     -1     -1     -1     -1      0   4.567814   \n",
              "\n",
              "   BILL_AMT2  ...  EDUCATION_1  EDUCATION_2  EDUCATION_3  EDUCATION_4  \\\n",
              "0   5.725109  ...            0            0            1            0   \n",
              "1   5.504654  ...            0            1            0            0   \n",
              "2   0.000000  ...            1            0            0            0   \n",
              "3   8.525856  ...            1            0            0            0   \n",
              "4   5.788532  ...            0            1            0            0   \n",
              "\n",
              "   EDUCATION_5  EDUCATION_6  MARRIAGE_0  MARRIAGE_1  MARRIAGE_2  MARRIAGE_3  \n",
              "0            0            0           0           0           1           0  \n",
              "1            0            0           0           1           0           0  \n",
              "2            0            0           0           0           1           0  \n",
              "3            0            0           0           0           1           0  \n",
              "4            0            0           0           1           0           0  \n",
              "\n",
              "[5 rows x 34 columns]"
            ],
            "text/html": [
              "\n",
              "\n",
              "  <div id=\"df-6c140cad-7f0d-43d3-940f-dbe1cedf1a0d\">\n",
              "    <div class=\"colab-df-container\">\n",
              "      <div>\n",
              "<style scoped>\n",
              "    .dataframe tbody tr th:only-of-type {\n",
              "        vertical-align: middle;\n",
              "    }\n",
              "\n",
              "    .dataframe tbody tr th {\n",
              "        vertical-align: top;\n",
              "    }\n",
              "\n",
              "    .dataframe thead th {\n",
              "        text-align: right;\n",
              "    }\n",
              "</style>\n",
              "<table border=\"1\" class=\"dataframe\">\n",
              "  <thead>\n",
              "    <tr style=\"text-align: right;\">\n",
              "      <th></th>\n",
              "      <th>LIMIT_BAL</th>\n",
              "      <th>AGE</th>\n",
              "      <th>PAY_0</th>\n",
              "      <th>PAY_2</th>\n",
              "      <th>PAY_3</th>\n",
              "      <th>PAY_4</th>\n",
              "      <th>PAY_5</th>\n",
              "      <th>PAY_6</th>\n",
              "      <th>BILL_AMT1</th>\n",
              "      <th>BILL_AMT2</th>\n",
              "      <th>...</th>\n",
              "      <th>EDUCATION_1</th>\n",
              "      <th>EDUCATION_2</th>\n",
              "      <th>EDUCATION_3</th>\n",
              "      <th>EDUCATION_4</th>\n",
              "      <th>EDUCATION_5</th>\n",
              "      <th>EDUCATION_6</th>\n",
              "      <th>MARRIAGE_0</th>\n",
              "      <th>MARRIAGE_1</th>\n",
              "      <th>MARRIAGE_2</th>\n",
              "      <th>MARRIAGE_3</th>\n",
              "    </tr>\n",
              "  </thead>\n",
              "  <tbody>\n",
              "    <tr>\n",
              "      <th>0</th>\n",
              "      <td>9.446729</td>\n",
              "      <td>31</td>\n",
              "      <td>-1</td>\n",
              "      <td>-1</td>\n",
              "      <td>-1</td>\n",
              "      <td>-1</td>\n",
              "      <td>-1</td>\n",
              "      <td>-1</td>\n",
              "      <td>4.856966</td>\n",
              "      <td>5.725109</td>\n",
              "      <td>...</td>\n",
              "      <td>0</td>\n",
              "      <td>0</td>\n",
              "      <td>1</td>\n",
              "      <td>0</td>\n",
              "      <td>0</td>\n",
              "      <td>0</td>\n",
              "      <td>0</td>\n",
              "      <td>0</td>\n",
              "      <td>1</td>\n",
              "      <td>0</td>\n",
              "    </tr>\n",
              "    <tr>\n",
              "      <th>1</th>\n",
              "      <td>8.987197</td>\n",
              "      <td>35</td>\n",
              "      <td>-2</td>\n",
              "      <td>-2</td>\n",
              "      <td>-2</td>\n",
              "      <td>-2</td>\n",
              "      <td>-2</td>\n",
              "      <td>-2</td>\n",
              "      <td>5.191289</td>\n",
              "      <td>5.504654</td>\n",
              "      <td>...</td>\n",
              "      <td>0</td>\n",
              "      <td>1</td>\n",
              "      <td>0</td>\n",
              "      <td>0</td>\n",
              "      <td>0</td>\n",
              "      <td>0</td>\n",
              "      <td>0</td>\n",
              "      <td>1</td>\n",
              "      <td>0</td>\n",
              "      <td>0</td>\n",
              "    </tr>\n",
              "    <tr>\n",
              "      <th>2</th>\n",
              "      <td>7.418581</td>\n",
              "      <td>23</td>\n",
              "      <td>-1</td>\n",
              "      <td>-1</td>\n",
              "      <td>-2</td>\n",
              "      <td>-2</td>\n",
              "      <td>-2</td>\n",
              "      <td>-2</td>\n",
              "      <td>4.353284</td>\n",
              "      <td>0.000000</td>\n",
              "      <td>...</td>\n",
              "      <td>1</td>\n",
              "      <td>0</td>\n",
              "      <td>0</td>\n",
              "      <td>0</td>\n",
              "      <td>0</td>\n",
              "      <td>0</td>\n",
              "      <td>0</td>\n",
              "      <td>0</td>\n",
              "      <td>1</td>\n",
              "      <td>0</td>\n",
              "    </tr>\n",
              "    <tr>\n",
              "      <th>3</th>\n",
              "      <td>9.305651</td>\n",
              "      <td>32</td>\n",
              "      <td>0</td>\n",
              "      <td>0</td>\n",
              "      <td>0</td>\n",
              "      <td>0</td>\n",
              "      <td>0</td>\n",
              "      <td>0</td>\n",
              "      <td>8.598202</td>\n",
              "      <td>8.525856</td>\n",
              "      <td>...</td>\n",
              "      <td>1</td>\n",
              "      <td>0</td>\n",
              "      <td>0</td>\n",
              "      <td>0</td>\n",
              "      <td>0</td>\n",
              "      <td>0</td>\n",
              "      <td>0</td>\n",
              "      <td>0</td>\n",
              "      <td>1</td>\n",
              "      <td>0</td>\n",
              "    </tr>\n",
              "    <tr>\n",
              "      <th>4</th>\n",
              "      <td>7.888585</td>\n",
              "      <td>35</td>\n",
              "      <td>-1</td>\n",
              "      <td>-1</td>\n",
              "      <td>-1</td>\n",
              "      <td>-1</td>\n",
              "      <td>-1</td>\n",
              "      <td>0</td>\n",
              "      <td>4.567814</td>\n",
              "      <td>5.788532</td>\n",
              "      <td>...</td>\n",
              "      <td>0</td>\n",
              "      <td>1</td>\n",
              "      <td>0</td>\n",
              "      <td>0</td>\n",
              "      <td>0</td>\n",
              "      <td>0</td>\n",
              "      <td>0</td>\n",
              "      <td>1</td>\n",
              "      <td>0</td>\n",
              "      <td>0</td>\n",
              "    </tr>\n",
              "  </tbody>\n",
              "</table>\n",
              "<p>5 rows × 34 columns</p>\n",
              "</div>\n",
              "      <button class=\"colab-df-convert\" onclick=\"convertToInteractive('df-6c140cad-7f0d-43d3-940f-dbe1cedf1a0d')\"\n",
              "              title=\"Convert this dataframe to an interactive table.\"\n",
              "              style=\"display:none;\">\n",
              "\n",
              "  <svg xmlns=\"http://www.w3.org/2000/svg\" height=\"24px\"viewBox=\"0 0 24 24\"\n",
              "       width=\"24px\">\n",
              "    <path d=\"M0 0h24v24H0V0z\" fill=\"none\"/>\n",
              "    <path d=\"M18.56 5.44l.94 2.06.94-2.06 2.06-.94-2.06-.94-.94-2.06-.94 2.06-2.06.94zm-11 1L8.5 8.5l.94-2.06 2.06-.94-2.06-.94L8.5 2.5l-.94 2.06-2.06.94zm10 10l.94 2.06.94-2.06 2.06-.94-2.06-.94-.94-2.06-.94 2.06-2.06.94z\"/><path d=\"M17.41 7.96l-1.37-1.37c-.4-.4-.92-.59-1.43-.59-.52 0-1.04.2-1.43.59L10.3 9.45l-7.72 7.72c-.78.78-.78 2.05 0 2.83L4 21.41c.39.39.9.59 1.41.59.51 0 1.02-.2 1.41-.59l7.78-7.78 2.81-2.81c.8-.78.8-2.07 0-2.86zM5.41 20L4 18.59l7.72-7.72 1.47 1.35L5.41 20z\"/>\n",
              "  </svg>\n",
              "      </button>\n",
              "\n",
              "\n",
              "\n",
              "    <div id=\"df-13687424-2c9b-4039-b070-32acafc28a70\">\n",
              "      <button class=\"colab-df-quickchart\" onclick=\"quickchart('df-13687424-2c9b-4039-b070-32acafc28a70')\"\n",
              "              title=\"Suggest charts.\"\n",
              "              style=\"display:none;\">\n",
              "\n",
              "<svg xmlns=\"http://www.w3.org/2000/svg\" height=\"24px\"viewBox=\"0 0 24 24\"\n",
              "     width=\"24px\">\n",
              "    <g>\n",
              "        <path d=\"M19 3H5c-1.1 0-2 .9-2 2v14c0 1.1.9 2 2 2h14c1.1 0 2-.9 2-2V5c0-1.1-.9-2-2-2zM9 17H7v-7h2v7zm4 0h-2V7h2v10zm4 0h-2v-4h2v4z\"/>\n",
              "    </g>\n",
              "</svg>\n",
              "      </button>\n",
              "    </div>\n",
              "\n",
              "<style>\n",
              "  .colab-df-quickchart {\n",
              "    background-color: #E8F0FE;\n",
              "    border: none;\n",
              "    border-radius: 50%;\n",
              "    cursor: pointer;\n",
              "    display: none;\n",
              "    fill: #1967D2;\n",
              "    height: 32px;\n",
              "    padding: 0 0 0 0;\n",
              "    width: 32px;\n",
              "  }\n",
              "\n",
              "  .colab-df-quickchart:hover {\n",
              "    background-color: #E2EBFA;\n",
              "    box-shadow: 0px 1px 2px rgba(60, 64, 67, 0.3), 0px 1px 3px 1px rgba(60, 64, 67, 0.15);\n",
              "    fill: #174EA6;\n",
              "  }\n",
              "\n",
              "  [theme=dark] .colab-df-quickchart {\n",
              "    background-color: #3B4455;\n",
              "    fill: #D2E3FC;\n",
              "  }\n",
              "\n",
              "  [theme=dark] .colab-df-quickchart:hover {\n",
              "    background-color: #434B5C;\n",
              "    box-shadow: 0px 1px 3px 1px rgba(0, 0, 0, 0.15);\n",
              "    filter: drop-shadow(0px 1px 2px rgba(0, 0, 0, 0.3));\n",
              "    fill: #FFFFFF;\n",
              "  }\n",
              "</style>\n",
              "\n",
              "    <script>\n",
              "      async function quickchart(key) {\n",
              "        const containerElement = document.querySelector('#' + key);\n",
              "        const charts = await google.colab.kernel.invokeFunction(\n",
              "            'suggestCharts', [key], {});\n",
              "      }\n",
              "    </script>\n",
              "\n",
              "      <script>\n",
              "\n",
              "function displayQuickchartButton(domScope) {\n",
              "  let quickchartButtonEl =\n",
              "    domScope.querySelector('#df-13687424-2c9b-4039-b070-32acafc28a70 button.colab-df-quickchart');\n",
              "  quickchartButtonEl.style.display =\n",
              "    google.colab.kernel.accessAllowed ? 'block' : 'none';\n",
              "}\n",
              "\n",
              "        displayQuickchartButton(document);\n",
              "      </script>\n",
              "      <style>\n",
              "    .colab-df-container {\n",
              "      display:flex;\n",
              "      flex-wrap:wrap;\n",
              "      gap: 12px;\n",
              "    }\n",
              "\n",
              "    .colab-df-convert {\n",
              "      background-color: #E8F0FE;\n",
              "      border: none;\n",
              "      border-radius: 50%;\n",
              "      cursor: pointer;\n",
              "      display: none;\n",
              "      fill: #1967D2;\n",
              "      height: 32px;\n",
              "      padding: 0 0 0 0;\n",
              "      width: 32px;\n",
              "    }\n",
              "\n",
              "    .colab-df-convert:hover {\n",
              "      background-color: #E2EBFA;\n",
              "      box-shadow: 0px 1px 2px rgba(60, 64, 67, 0.3), 0px 1px 3px 1px rgba(60, 64, 67, 0.15);\n",
              "      fill: #174EA6;\n",
              "    }\n",
              "\n",
              "    [theme=dark] .colab-df-convert {\n",
              "      background-color: #3B4455;\n",
              "      fill: #D2E3FC;\n",
              "    }\n",
              "\n",
              "    [theme=dark] .colab-df-convert:hover {\n",
              "      background-color: #434B5C;\n",
              "      box-shadow: 0px 1px 3px 1px rgba(0, 0, 0, 0.15);\n",
              "      filter: drop-shadow(0px 1px 2px rgba(0, 0, 0, 0.3));\n",
              "      fill: #FFFFFF;\n",
              "    }\n",
              "  </style>\n",
              "\n",
              "      <script>\n",
              "        const buttonEl =\n",
              "          document.querySelector('#df-6c140cad-7f0d-43d3-940f-dbe1cedf1a0d button.colab-df-convert');\n",
              "        buttonEl.style.display =\n",
              "          google.colab.kernel.accessAllowed ? 'block' : 'none';\n",
              "\n",
              "        async function convertToInteractive(key) {\n",
              "          const element = document.querySelector('#df-6c140cad-7f0d-43d3-940f-dbe1cedf1a0d');\n",
              "          const dataTable =\n",
              "            await google.colab.kernel.invokeFunction('convertToInteractive',\n",
              "                                                     [key], {});\n",
              "          if (!dataTable) return;\n",
              "\n",
              "          const docLinkHtml = 'Like what you see? Visit the ' +\n",
              "            '<a target=\"_blank\" href=https://colab.research.google.com/notebooks/data_table.ipynb>data table notebook</a>'\n",
              "            + ' to learn more about interactive tables.';\n",
              "          element.innerHTML = '';\n",
              "          dataTable['output_type'] = 'display_data';\n",
              "          await google.colab.output.renderOutput(dataTable, element);\n",
              "          const docLink = document.createElement('div');\n",
              "          docLink.innerHTML = docLinkHtml;\n",
              "          element.appendChild(docLink);\n",
              "        }\n",
              "      </script>\n",
              "    </div>\n",
              "  </div>\n"
            ]
          },
          "metadata": {},
          "execution_count": 3
        }
      ]
    },
    {
      "cell_type": "code",
      "source": [
        "df.columns"
      ],
      "metadata": {
        "id": "NW4VlJSnIaCY",
        "colab": {
          "base_uri": "https://localhost:8080/"
        },
        "outputId": "17eb9301-662c-4907-f180-aae22ab0c5a4"
      },
      "execution_count": 4,
      "outputs": [
        {
          "output_type": "execute_result",
          "data": {
            "text/plain": [
              "Index(['LIMIT_BAL', 'AGE', 'PAY_0', 'PAY_2', 'PAY_3', 'PAY_4', 'PAY_5',\n",
              "       'PAY_6', 'BILL_AMT1', 'BILL_AMT2', 'BILL_AMT3', 'BILL_AMT4',\n",
              "       'BILL_AMT5', 'BILL_AMT6', 'PAY_AMT1', 'PAY_AMT2', 'PAY_AMT3',\n",
              "       'PAY_AMT4', 'PAY_AMT5', 'PAY_AMT6', 'default.payment.next.month',\n",
              "       'SEX_1', 'SEX_2', 'EDUCATION_0', 'EDUCATION_1', 'EDUCATION_2',\n",
              "       'EDUCATION_3', 'EDUCATION_4', 'EDUCATION_5', 'EDUCATION_6',\n",
              "       'MARRIAGE_0', 'MARRIAGE_1', 'MARRIAGE_2', 'MARRIAGE_3'],\n",
              "      dtype='object')"
            ]
          },
          "metadata": {},
          "execution_count": 4
        }
      ]
    },
    {
      "cell_type": "code",
      "source": [
        "df[['default.payment.next.month']].values.shape\n",
        "df[['LIMIT_BAL', 'AGE', 'PAY_0', 'PAY_2', 'PAY_3', 'PAY_4', 'PAY_5',\n",
        "       'PAY_6', 'BILL_AMT1', 'BILL_AMT2', 'BILL_AMT3', 'BILL_AMT4',\n",
        "       'BILL_AMT5', 'BILL_AMT6', 'PAY_AMT1', 'PAY_AMT2', 'PAY_AMT3',\n",
        "       'PAY_AMT4', 'PAY_AMT5', 'PAY_AMT6',\n",
        "       'SEX_1', 'SEX_2', 'EDUCATION_0', 'EDUCATION_1', 'EDUCATION_2',\n",
        "       'EDUCATION_3', 'EDUCATION_4', 'EDUCATION_5', 'EDUCATION_6',\n",
        "       'MARRIAGE_0', 'MARRIAGE_1', 'MARRIAGE_2', 'MARRIAGE_3']].values.shape"
      ],
      "metadata": {
        "id": "CNv1lyCiXT5u",
        "colab": {
          "base_uri": "https://localhost:8080/"
        },
        "outputId": "6b3cab4b-c4ae-4c04-aba4-3ad5b1ceea0c"
      },
      "execution_count": 5,
      "outputs": [
        {
          "output_type": "execute_result",
          "data": {
            "text/plain": [
              "(13272, 33)"
            ]
          },
          "metadata": {},
          "execution_count": 5
        }
      ]
    },
    {
      "cell_type": "code",
      "source": [
        "#Normalization, Pouring data into pipeline, shuffle, split the training, evaluating, and testing data, split the dataset into batches\n",
        "\n",
        "X = df[['LIMIT_BAL', 'AGE', 'PAY_0', 'PAY_2', 'PAY_3', 'PAY_4', 'PAY_5',\n",
        "       'PAY_6', 'BILL_AMT1', 'BILL_AMT2', 'BILL_AMT3', 'BILL_AMT4',\n",
        "       'BILL_AMT5', 'BILL_AMT6', 'PAY_AMT1', 'PAY_AMT2', 'PAY_AMT3',\n",
        "       'PAY_AMT4', 'PAY_AMT5', 'PAY_AMT6',\n",
        "       'SEX_1', 'SEX_2', 'EDUCATION_0', 'EDUCATION_1', 'EDUCATION_2',\n",
        "       'EDUCATION_3', 'EDUCATION_4', 'EDUCATION_5', 'EDUCATION_6',\n",
        "       'MARRIAGE_0', 'MARRIAGE_1', 'MARRIAGE_2', 'MARRIAGE_3']].values\n",
        "y = np.squeeze(df[['default.payment.next.month']].values)\n",
        "print(X.shape, y.shape)\n",
        "\n",
        "# Normalize the input features using Z-score normalization\n",
        "scaler = StandardScaler()\n",
        "X_normalized = scaler.fit_transform(X)\n",
        "\n",
        "print(X[0])\n",
        "print(X_normalized[0])\n",
        "print(y[0:5])\n"
      ],
      "metadata": {
        "id": "31o55e4DD1eF",
        "colab": {
          "base_uri": "https://localhost:8080/"
        },
        "outputId": "27376ac7-ec0b-45df-f098-756515a9b399"
      },
      "execution_count": 6,
      "outputs": [
        {
          "output_type": "stream",
          "name": "stdout",
          "text": [
            "(13272, 33) (13272,)\n",
            "[ 9.44672915 31.         -1.         -1.         -1.         -1.\n",
            " -1.         -1.          4.85696598  5.72510899  6.22502037  5.9177283\n",
            "  6.03092562  6.12249281  5.73009978  6.23002202  5.92265023  6.03172638\n",
            "  6.12745126  6.40031281  0.          1.          0.          0.\n",
            "  0.          1.          0.          0.          0.          0.\n",
            "  0.          1.          0.        ]\n",
            "[ 1.34046716 -0.49059068 -0.97329516 -0.80112701 -0.76655653 -0.72206122\n",
            " -0.68971224 -0.65954396 -0.40523466 -0.01855997  0.19718281  0.12348441\n",
            "  0.21222476  0.2857089   0.99726323  1.2382585   1.18040457  1.29258012\n",
            "  1.32820307  1.4538196  -0.83627734  0.83627734 -0.02297182 -0.71322938\n",
            " -0.95735798  2.18700858 -0.05358537 -0.08216519 -0.03980937 -0.03363745\n",
            " -0.92996273  0.95303066 -0.10583005]\n",
            "[0 0 0 0 0]\n"
          ]
        }
      ]
    },
    {
      "cell_type": "code",
      "source": [
        "# Create a TensorFlow Dataset from the normalized input features and target labels\n",
        "dataset = tf.data.Dataset.from_tensor_slices((X_normalized, y))\n",
        "\n",
        "# Shuffle the dataset\n",
        "dataset = dataset.shuffle(buffer_size=len(X_normalized))\n",
        "\n",
        "# Split the data into train, validation, and test sets\n",
        "train_size = int(0.8 * len(X_normalized))\n",
        "val_size = int(0.1 * len(X_normalized))\n",
        "test_size = int(0.1 * len(X_normalized))\n",
        "\n",
        "# Split the dataset into train, validation, and test sets\n",
        "train_dataset = dataset.take(train_size)\n",
        "val_dataset = dataset.skip(train_size).take(val_size)\n",
        "test_dataset = dataset.skip(train_size + val_size).take(test_size)\n",
        "\n",
        "# Batch the datasets\n",
        "batch_size = 8\n",
        "train_dataset = train_dataset.batch(batch_size)\n",
        "val_dataset = val_dataset.batch(batch_size)\n",
        "test_dataset = test_dataset.batch(batch_size)\n",
        "\n",
        "it = train_dataset.as_numpy_iterator()\n",
        "print(it.next()[0].shape, it.next()[1].shape) #return a batch (X,y)\n",
        "print(it.next()[0], it.next()[1]) #return a batch (X,y)\n",
        "# for features, labels in train_dataset:\n",
        "#   print(\"Train Features shape:\", features.shape)\n",
        "#   print(\"Train Labels shape:\", labels.shape)"
      ],
      "metadata": {
        "id": "gzPu94zxJpcH",
        "colab": {
          "base_uri": "https://localhost:8080/"
        },
        "outputId": "4a918305-b0ca-4614-e2bd-86e717ea4fb9"
      },
      "execution_count": null,
      "outputs": [
        {
          "output_type": "stream",
          "name": "stdout",
          "text": [
            "(8, 33) (8,)\n",
            "[[ 1.09608251  2.26736944 -0.97329516 -0.80112701 -0.76655653  1.54776269\n",
            "  -0.68971224  0.11209457 -0.51949102 -1.22007291 -0.69894791 -1.11416389\n",
            "  -0.64939465 -0.97086352 -0.4658337   0.12783263 -1.53177656  0.20503878\n",
            "  -1.46681399 -1.41461444 -0.83627734  0.83627734 -0.02297182 -0.71322938\n",
            "   1.04454136 -0.45724558 -0.05358537 -0.08216519 -0.03980937 -0.03363745\n",
            "  -0.92996273  0.95303066 -0.10583005]\n",
            " [ 0.82139191  1.10054016 -0.18313285 -0.05935516 -0.0206266   0.03454675\n",
            "   0.08597294  0.11209457  1.09135957  0.9915778   0.93171183  0.88392328\n",
            "   0.83566054  0.79263704  0.88194946  0.53765848  0.49542296  0.87204567\n",
            "   0.70413482  0.99581011  1.19577555 -1.19577555 -0.02297182 -0.71322938\n",
            "   1.04454136 -0.45724558 -0.05358537 -0.08216519 -0.03980937 -0.03363745\n",
            "   1.07531191 -1.04928419 -0.10583005]\n",
            " [-1.28438776 -0.70274146  0.60702945  1.42418853  1.47123326  1.54776269\n",
            "   1.63734331  1.65537162  0.37367404  0.4109468   0.44864641  0.4914701\n",
            "   0.53508291  0.54144438  0.15685371  0.29941672  0.25967061  0.15271172\n",
            "  -1.46681399  0.46757122 -0.83627734  0.83627734 -0.02297182 -0.71322938\n",
            "  -0.95735798  2.18700858 -0.05358537 -0.08216519 -0.03980937 -0.03363745\n",
            "   1.07531191 -1.04928419 -0.10583005]\n",
            " [ 0.94814127 -0.38451529 -0.18313285 -0.05935516 -1.51248646 -0.72206122\n",
            "  -0.68971224 -0.65954396  0.68286094 -2.1952831  -2.13067604 -1.05483464\n",
            "  -1.98277468  1.14675864 -1.65148652 -1.64257496 -0.20733069  0.82752225\n",
            "   2.46450774  0.95993729  1.19577555 -1.19577555 -0.02297182 -0.71322938\n",
            "   1.04454136 -0.45724558 -0.05358537 -0.08216519 -0.03980937 -0.03363745\n",
            "  -0.92996273  0.95303066 -0.10583005]\n",
            " [ 1.62418686  0.6762386  -0.18313285 -0.05935516 -0.76655653 -0.72206122\n",
            "  -0.68971224 -1.43118249 -0.89019656 -2.1952831  -1.51176736 -0.5061228\n",
            "  -1.98277468 -1.8768383  -1.65148652 -0.87726163  0.39800228 -1.47739263\n",
            "  -1.46681399 -0.03683158  1.19577555 -1.19577555 -0.02297182 -0.71322938\n",
            "   1.04454136 -0.45724558 -0.05358537 -0.08216519 -0.03980937 -0.03363745\n",
            "   1.07531191 -1.04928419 -0.10583005]\n",
            " [ 0.6769025   0.14586165  0.60702945 -1.54289885 -1.51248646 -1.47866919\n",
            "  -1.46539742 -1.43118249 -2.32443302 -2.1952831  -2.13067604 -2.06099195\n",
            "  -1.98277468 -1.8768383  -1.65148652 -1.64257496 -1.53177656 -1.47739263\n",
            "  -1.46681399 -1.41461444  1.19577555 -1.19577555 -0.02297182 -0.71322938\n",
            "   1.04454136 -0.45724558 -0.05358537 -0.08216519 -0.03980937 -0.03363745\n",
            "  -0.92996273  0.95303066 -0.10583005]\n",
            " [ 0.37948955 -1.3391938  -0.18313285 -0.05935516 -0.76655653  0.03454675\n",
            "   0.08597294  0.11209457  1.04549683  1.03655114 -0.06721328  0.00892726\n",
            "   0.9209483   0.95006163  0.47726234  2.19268849 -0.01521059  2.14531218\n",
            "   0.72750603  0.83100655  1.19577555 -1.19577555 -0.02297182 -0.71322938\n",
            "   1.04454136 -0.45724558 -0.05358537 -0.08216519 -0.03980937 -0.03363745\n",
            "  -0.92996273  0.95303066 -0.10583005]\n",
            " [ 0.8653911  -0.49059068  0.60702945  1.42418853  1.47123326  1.54776269\n",
            "   0.08597294  0.11209457 -0.17561153 -0.14223675  0.05973169 -0.38479285\n",
            "  -0.22017534 -0.02166434 -1.65148652  0.6199359   0.07399447  0.21666557\n",
            "   0.44886789 -1.41461444 -0.83627734  0.83627734 -0.02297182 -0.71322938\n",
            "   1.04454136 -0.45724558 -0.05358537 -0.08216519 -0.03980937 -0.03363745\n",
            "   1.07531191 -1.04928419 -0.10583005]] [0 0 1 0 0 0 1 1]\n"
          ]
        }
      ]
    },
    {
      "cell_type": "markdown",
      "source": [
        "# Modeling\n"
      ],
      "metadata": {
        "id": "fGylYXyWCZQQ"
      }
    },
    {
      "cell_type": "code",
      "source": [
        "from tensorflow.keras.models import Sequential\n",
        "from tensorflow.keras.layers import Dense, Flatten, Dropout\n",
        "from tensorflow.keras.optimizers import Adam\n",
        "from matplotlib import pyplot as plt"
      ],
      "metadata": {
        "id": "Gjg25Bk9NTFZ"
      },
      "execution_count": 7,
      "outputs": []
    },
    {
      "cell_type": "code",
      "source": [
        "tf.keras.backend.clear_session()"
      ],
      "metadata": {
        "id": "ZEGK2-09NTgR"
      },
      "execution_count": 8,
      "outputs": []
    },
    {
      "cell_type": "code",
      "source": [
        "model = Sequential()"
      ],
      "metadata": {
        "id": "l2Wy4_BCQoJw"
      },
      "execution_count": null,
      "outputs": []
    },
    {
      "cell_type": "code",
      "source": [
        "it = train_dataset.as_numpy_iterator()\n",
        "print(it.next()[0].shape, it.next()[1].shape) #return a batch (X,y)\n",
        "input_shape = it.next()[0].shape\n",
        "input_shape[1]"
      ],
      "metadata": {
        "id": "D6iXUy3en48f",
        "colab": {
          "base_uri": "https://localhost:8080/"
        },
        "outputId": "8aa0031d-2ef7-48ca-e15a-32b01b50cb62"
      },
      "execution_count": null,
      "outputs": [
        {
          "output_type": "stream",
          "name": "stdout",
          "text": [
            "(8, 33) (8,)\n"
          ]
        },
        {
          "output_type": "execute_result",
          "data": {
            "text/plain": [
              "33"
            ]
          },
          "metadata": {},
          "execution_count": 10
        }
      ]
    },
    {
      "cell_type": "code",
      "source": [
        "# a binary classification, taking signoid as the output activation function\n",
        "# Don't need an input layer since it's sequential\n",
        "\n",
        "model.add(Dense(256, input_shape=(input_shape[1],), activation='relu'))\n",
        "model.add(Dense(64, activation='relu'))\n",
        "model.add(Dense(16, activation='relu'))\n",
        "model.add(Dense(32, activation='relu'))\n",
        "model.add(Dense(64, activation='relu'))\n",
        "model.add(Dense(2, activation='softmax'))\n",
        "\n",
        "#optimizer = Adam(learning_rate=0.00001)\n",
        "model.compile(optimizer= tf.keras.optimizers.Adam(0.0001), loss='sparse_categorical_crossentropy', metrics=['accuracy'])\n",
        "\n"
      ],
      "metadata": {
        "id": "KANRtE4UNbCk"
      },
      "execution_count": null,
      "outputs": []
    },
    {
      "cell_type": "code",
      "source": [
        "input_shape = (8, 33)\n",
        "model.build(input_shape)\n",
        "model.summary()"
      ],
      "metadata": {
        "id": "XHPdL2QAQfZ7",
        "colab": {
          "base_uri": "https://localhost:8080/"
        },
        "outputId": "2df17c59-a318-4fc4-8387-1554d3927629"
      },
      "execution_count": null,
      "outputs": [
        {
          "output_type": "stream",
          "name": "stdout",
          "text": [
            "Model: \"sequential\"\n",
            "_________________________________________________________________\n",
            " Layer (type)                Output Shape              Param #   \n",
            "=================================================================\n",
            " dense (Dense)               (None, 256)               8704      \n",
            "                                                                 \n",
            " dense_1 (Dense)             (None, 64)                16448     \n",
            "                                                                 \n",
            " dense_2 (Dense)             (None, 16)                1040      \n",
            "                                                                 \n",
            " dense_3 (Dense)             (None, 32)                544       \n",
            "                                                                 \n",
            " dense_4 (Dense)             (None, 64)                2112      \n",
            "                                                                 \n",
            " dense_5 (Dense)             (None, 2)                 130       \n",
            "                                                                 \n",
            "=================================================================\n",
            "Total params: 28,978\n",
            "Trainable params: 28,978\n",
            "Non-trainable params: 0\n",
            "_________________________________________________________________\n"
          ]
        }
      ]
    },
    {
      "cell_type": "code",
      "source": [
        "hist = model.fit(train_dataset, epochs=100, validation_data=val_dataset) #shuffle after every epochs = True\n",
        "\n",
        "#learning rate 0.001, batch size 16\n",
        "#100 epoch, accuracy:0.9, val_accuracy:0.9, no overfitting\n",
        "#130 0.91 / 0.91\n",
        "#150 0.915/0.91\n",
        "#170 0.925 / 0.925 testing 0.93\n",
        "#190 0.926 / 0.93 testing 0.93\n",
        "\n",
        "#batch size 16->8, learning rate 0.001->0.0001. more precise.\n",
        "#200 epochs, 0.936/0.938/0.94\n"
      ],
      "metadata": {
        "colab": {
          "base_uri": "https://localhost:8080/"
        },
        "id": "X5xZM7xeSOPJ",
        "outputId": "0a6759a2-6d19-41e6-bde8-2c7911e0faec"
      },
      "execution_count": null,
      "outputs": [
        {
          "output_type": "stream",
          "name": "stdout",
          "text": [
            "Epoch 1/100\n",
            "1328/1328 [==============================] - 7s 5ms/step - loss: 0.2433 - accuracy: 0.8889 - val_loss: 0.2271 - val_accuracy: 0.8937\n",
            "Epoch 2/100\n",
            "1328/1328 [==============================] - 6s 4ms/step - loss: 0.2360 - accuracy: 0.8930 - val_loss: 0.2238 - val_accuracy: 0.8998\n",
            "Epoch 3/100\n",
            "1328/1328 [==============================] - 7s 5ms/step - loss: 0.2379 - accuracy: 0.8938 - val_loss: 0.2010 - val_accuracy: 0.9088\n",
            "Epoch 4/100\n",
            "1328/1328 [==============================] - 6s 4ms/step - loss: 0.2343 - accuracy: 0.8978 - val_loss: 0.2021 - val_accuracy: 0.9133\n",
            "Epoch 5/100\n",
            "1328/1328 [==============================] - 7s 5ms/step - loss: 0.2349 - accuracy: 0.8938 - val_loss: 0.2167 - val_accuracy: 0.9050\n",
            "Epoch 6/100\n",
            "1328/1328 [==============================] - 6s 4ms/step - loss: 0.2264 - accuracy: 0.8972 - val_loss: 0.2087 - val_accuracy: 0.9103\n",
            "Epoch 7/100\n",
            "1328/1328 [==============================] - 7s 5ms/step - loss: 0.2255 - accuracy: 0.9004 - val_loss: 0.2021 - val_accuracy: 0.9179\n",
            "Epoch 8/100\n",
            "1328/1328 [==============================] - 6s 4ms/step - loss: 0.2280 - accuracy: 0.8975 - val_loss: 0.1801 - val_accuracy: 0.9246\n",
            "Epoch 9/100\n",
            "1328/1328 [==============================] - 7s 5ms/step - loss: 0.2282 - accuracy: 0.8977 - val_loss: 0.2184 - val_accuracy: 0.9043\n",
            "Epoch 10/100\n",
            "1328/1328 [==============================] - 5s 4ms/step - loss: 0.2326 - accuracy: 0.8956 - val_loss: 0.2272 - val_accuracy: 0.8953\n",
            "Epoch 11/100\n",
            "1328/1328 [==============================] - 6s 4ms/step - loss: 0.2234 - accuracy: 0.9008 - val_loss: 0.2273 - val_accuracy: 0.9096\n",
            "Epoch 12/100\n",
            "1328/1328 [==============================] - 6s 5ms/step - loss: 0.2241 - accuracy: 0.8999 - val_loss: 0.2434 - val_accuracy: 0.8824\n",
            "Epoch 13/100\n",
            "1328/1328 [==============================] - 6s 4ms/step - loss: 0.2172 - accuracy: 0.9045 - val_loss: 0.2060 - val_accuracy: 0.9111\n",
            "Epoch 14/100\n",
            "1328/1328 [==============================] - 6s 5ms/step - loss: 0.2176 - accuracy: 0.9032 - val_loss: 0.1891 - val_accuracy: 0.9216\n",
            "Epoch 15/100\n",
            "1328/1328 [==============================] - 6s 5ms/step - loss: 0.2186 - accuracy: 0.9027 - val_loss: 0.2054 - val_accuracy: 0.9066\n",
            "Epoch 16/100\n",
            "1328/1328 [==============================] - 7s 5ms/step - loss: 0.2192 - accuracy: 0.9008 - val_loss: 0.2036 - val_accuracy: 0.9028\n",
            "Epoch 17/100\n",
            "1328/1328 [==============================] - 6s 4ms/step - loss: 0.2177 - accuracy: 0.9034 - val_loss: 0.2122 - val_accuracy: 0.9043\n",
            "Epoch 18/100\n",
            "1328/1328 [==============================] - 7s 5ms/step - loss: 0.2189 - accuracy: 0.9021 - val_loss: 0.1958 - val_accuracy: 0.9194\n",
            "Epoch 19/100\n",
            "1328/1328 [==============================] - 6s 4ms/step - loss: 0.2118 - accuracy: 0.9057 - val_loss: 0.1948 - val_accuracy: 0.9164\n",
            "Epoch 20/100\n",
            "1328/1328 [==============================] - 7s 5ms/step - loss: 0.2141 - accuracy: 0.9068 - val_loss: 0.1856 - val_accuracy: 0.9224\n",
            "Epoch 21/100\n",
            "1328/1328 [==============================] - 6s 4ms/step - loss: 0.2119 - accuracy: 0.9084 - val_loss: 0.1847 - val_accuracy: 0.9171\n",
            "Epoch 22/100\n",
            "1328/1328 [==============================] - 7s 5ms/step - loss: 0.2086 - accuracy: 0.9067 - val_loss: 0.2269 - val_accuracy: 0.8990\n",
            "Epoch 23/100\n",
            "1328/1328 [==============================] - 6s 4ms/step - loss: 0.2090 - accuracy: 0.9052 - val_loss: 0.1993 - val_accuracy: 0.9171\n",
            "Epoch 24/100\n",
            "1328/1328 [==============================] - 7s 5ms/step - loss: 0.2092 - accuracy: 0.9057 - val_loss: 0.1775 - val_accuracy: 0.9284\n",
            "Epoch 25/100\n",
            "1328/1328 [==============================] - 6s 4ms/step - loss: 0.2076 - accuracy: 0.9100 - val_loss: 0.2072 - val_accuracy: 0.9035\n",
            "Epoch 26/100\n",
            "1328/1328 [==============================] - 7s 5ms/step - loss: 0.2038 - accuracy: 0.9081 - val_loss: 0.2042 - val_accuracy: 0.9050\n",
            "Epoch 27/100\n",
            "1328/1328 [==============================] - 6s 4ms/step - loss: 0.2077 - accuracy: 0.9053 - val_loss: 0.1933 - val_accuracy: 0.9148\n",
            "Epoch 28/100\n",
            "1328/1328 [==============================] - 7s 5ms/step - loss: 0.2052 - accuracy: 0.9094 - val_loss: 0.1931 - val_accuracy: 0.9179\n",
            "Epoch 29/100\n",
            "1328/1328 [==============================] - 6s 4ms/step - loss: 0.1996 - accuracy: 0.9121 - val_loss: 0.1809 - val_accuracy: 0.9254\n",
            "Epoch 30/100\n",
            "1328/1328 [==============================] - 6s 4ms/step - loss: 0.2034 - accuracy: 0.9090 - val_loss: 0.1908 - val_accuracy: 0.9081\n",
            "Epoch 31/100\n",
            "1328/1328 [==============================] - 6s 5ms/step - loss: 0.2064 - accuracy: 0.9078 - val_loss: 0.1971 - val_accuracy: 0.9126\n",
            "Epoch 32/100\n",
            "1328/1328 [==============================] - 6s 4ms/step - loss: 0.1973 - accuracy: 0.9120 - val_loss: 0.1742 - val_accuracy: 0.9299\n",
            "Epoch 33/100\n",
            "1328/1328 [==============================] - 6s 5ms/step - loss: 0.1968 - accuracy: 0.9120 - val_loss: 0.1720 - val_accuracy: 0.9269\n",
            "Epoch 34/100\n",
            "1328/1328 [==============================] - 6s 4ms/step - loss: 0.1966 - accuracy: 0.9128 - val_loss: 0.1680 - val_accuracy: 0.9239\n",
            "Epoch 35/100\n",
            "1328/1328 [==============================] - 6s 4ms/step - loss: 0.1938 - accuracy: 0.9110 - val_loss: 0.2120 - val_accuracy: 0.9058\n",
            "Epoch 36/100\n",
            "1328/1328 [==============================] - 6s 4ms/step - loss: 0.2017 - accuracy: 0.9080 - val_loss: 0.1806 - val_accuracy: 0.9224\n",
            "Epoch 37/100\n",
            "1328/1328 [==============================] - 7s 5ms/step - loss: 0.1892 - accuracy: 0.9152 - val_loss: 0.2038 - val_accuracy: 0.9050\n",
            "Epoch 38/100\n",
            "1328/1328 [==============================] - 6s 4ms/step - loss: 0.2000 - accuracy: 0.9111 - val_loss: 0.1713 - val_accuracy: 0.9209\n",
            "Epoch 39/100\n",
            "1328/1328 [==============================] - 6s 4ms/step - loss: 0.1898 - accuracy: 0.9154 - val_loss: 0.1778 - val_accuracy: 0.9171\n",
            "Epoch 40/100\n",
            "1328/1328 [==============================] - 6s 4ms/step - loss: 0.1891 - accuracy: 0.9187 - val_loss: 0.1587 - val_accuracy: 0.9344\n",
            "Epoch 41/100\n",
            "1328/1328 [==============================] - 6s 5ms/step - loss: 0.1915 - accuracy: 0.9157 - val_loss: 0.1845 - val_accuracy: 0.9239\n",
            "Epoch 42/100\n",
            "1328/1328 [==============================] - 7s 5ms/step - loss: 0.1877 - accuracy: 0.9168 - val_loss: 0.1816 - val_accuracy: 0.9224\n",
            "Epoch 43/100\n",
            "1328/1328 [==============================] - 7s 5ms/step - loss: 0.1913 - accuracy: 0.9141 - val_loss: 0.1620 - val_accuracy: 0.9329\n",
            "Epoch 44/100\n",
            "1328/1328 [==============================] - 6s 4ms/step - loss: 0.1872 - accuracy: 0.9184 - val_loss: 0.1680 - val_accuracy: 0.9239\n",
            "Epoch 45/100\n",
            "1328/1328 [==============================] - 7s 5ms/step - loss: 0.1897 - accuracy: 0.9188 - val_loss: 0.1679 - val_accuracy: 0.9299\n",
            "Epoch 46/100\n",
            "1328/1328 [==============================] - 6s 4ms/step - loss: 0.1870 - accuracy: 0.9164 - val_loss: 0.1839 - val_accuracy: 0.9141\n",
            "Epoch 47/100\n",
            "1328/1328 [==============================] - 7s 5ms/step - loss: 0.1904 - accuracy: 0.9161 - val_loss: 0.1708 - val_accuracy: 0.9209\n",
            "Epoch 48/100\n",
            "1328/1328 [==============================] - 7s 5ms/step - loss: 0.1864 - accuracy: 0.9197 - val_loss: 0.1736 - val_accuracy: 0.9261\n",
            "Epoch 49/100\n",
            "1328/1328 [==============================] - 6s 4ms/step - loss: 0.1846 - accuracy: 0.9218 - val_loss: 0.2027 - val_accuracy: 0.9164\n",
            "Epoch 50/100\n",
            "1328/1328 [==============================] - 7s 5ms/step - loss: 0.1846 - accuracy: 0.9182 - val_loss: 0.1944 - val_accuracy: 0.9171\n",
            "Epoch 51/100\n",
            "1328/1328 [==============================] - 6s 4ms/step - loss: 0.1910 - accuracy: 0.9150 - val_loss: 0.1831 - val_accuracy: 0.9201\n",
            "Epoch 52/100\n",
            "1328/1328 [==============================] - 6s 5ms/step - loss: 0.1783 - accuracy: 0.9184 - val_loss: 0.1893 - val_accuracy: 0.9224\n",
            "Epoch 53/100\n",
            "1328/1328 [==============================] - 6s 4ms/step - loss: 0.1830 - accuracy: 0.9192 - val_loss: 0.2029 - val_accuracy: 0.9111\n",
            "Epoch 54/100\n",
            "1328/1328 [==============================] - 6s 5ms/step - loss: 0.1782 - accuracy: 0.9218 - val_loss: 0.1561 - val_accuracy: 0.9292\n",
            "Epoch 55/100\n",
            "1328/1328 [==============================] - 6s 4ms/step - loss: 0.1849 - accuracy: 0.9196 - val_loss: 0.1611 - val_accuracy: 0.9390\n",
            "Epoch 56/100\n",
            "1328/1328 [==============================] - 7s 5ms/step - loss: 0.1827 - accuracy: 0.9182 - val_loss: 0.1688 - val_accuracy: 0.9299\n",
            "Epoch 57/100\n",
            "1328/1328 [==============================] - 6s 4ms/step - loss: 0.1759 - accuracy: 0.9223 - val_loss: 0.1594 - val_accuracy: 0.9269\n",
            "Epoch 58/100\n",
            "1328/1328 [==============================] - 6s 4ms/step - loss: 0.1839 - accuracy: 0.9183 - val_loss: 0.1630 - val_accuracy: 0.9344\n",
            "Epoch 59/100\n",
            "1328/1328 [==============================] - 6s 4ms/step - loss: 0.1808 - accuracy: 0.9195 - val_loss: 0.1835 - val_accuracy: 0.9216\n",
            "Epoch 60/100\n",
            "1328/1328 [==============================] - 6s 4ms/step - loss: 0.1766 - accuracy: 0.9224 - val_loss: 0.1768 - val_accuracy: 0.9126\n",
            "Epoch 61/100\n",
            "1328/1328 [==============================] - 6s 5ms/step - loss: 0.1757 - accuracy: 0.9216 - val_loss: 0.1886 - val_accuracy: 0.9179\n",
            "Epoch 62/100\n",
            "1328/1328 [==============================] - 6s 4ms/step - loss: 0.1779 - accuracy: 0.9214 - val_loss: 0.1533 - val_accuracy: 0.9322\n",
            "Epoch 63/100\n",
            "1328/1328 [==============================] - 6s 4ms/step - loss: 0.1765 - accuracy: 0.9235 - val_loss: 0.1584 - val_accuracy: 0.9284\n",
            "Epoch 64/100\n",
            "1328/1328 [==============================] - 7s 5ms/step - loss: 0.1754 - accuracy: 0.9219 - val_loss: 0.1554 - val_accuracy: 0.9382\n",
            "Epoch 65/100\n",
            "1328/1328 [==============================] - 6s 4ms/step - loss: 0.1778 - accuracy: 0.9196 - val_loss: 0.1562 - val_accuracy: 0.9352\n",
            "Epoch 66/100\n",
            "1328/1328 [==============================] - 6s 4ms/step - loss: 0.1739 - accuracy: 0.9241 - val_loss: 0.1539 - val_accuracy: 0.9352\n",
            "Epoch 67/100\n",
            "1328/1328 [==============================] - 7s 5ms/step - loss: 0.1742 - accuracy: 0.9218 - val_loss: 0.1453 - val_accuracy: 0.9420\n",
            "Epoch 68/100\n",
            "1328/1328 [==============================] - 6s 4ms/step - loss: 0.1684 - accuracy: 0.9282 - val_loss: 0.1616 - val_accuracy: 0.9254\n",
            "Epoch 69/100\n",
            "1328/1328 [==============================] - 7s 5ms/step - loss: 0.1760 - accuracy: 0.9198 - val_loss: 0.1778 - val_accuracy: 0.9292\n",
            "Epoch 70/100\n",
            "1328/1328 [==============================] - 6s 4ms/step - loss: 0.1754 - accuracy: 0.9210 - val_loss: 0.1634 - val_accuracy: 0.9314\n",
            "Epoch 71/100\n",
            "1328/1328 [==============================] - 6s 5ms/step - loss: 0.1679 - accuracy: 0.9294 - val_loss: 0.1352 - val_accuracy: 0.9465\n",
            "Epoch 72/100\n",
            "1328/1328 [==============================] - 6s 4ms/step - loss: 0.1648 - accuracy: 0.9251 - val_loss: 0.1548 - val_accuracy: 0.9284\n",
            "Epoch 73/100\n",
            "1328/1328 [==============================] - 6s 4ms/step - loss: 0.1725 - accuracy: 0.9233 - val_loss: 0.1927 - val_accuracy: 0.9216\n",
            "Epoch 74/100\n",
            "1328/1328 [==============================] - 7s 5ms/step - loss: 0.1662 - accuracy: 0.9259 - val_loss: 0.1321 - val_accuracy: 0.9450\n",
            "Epoch 75/100\n",
            "1328/1328 [==============================] - 6s 4ms/step - loss: 0.1730 - accuracy: 0.9234 - val_loss: 0.1600 - val_accuracy: 0.9322\n",
            "Epoch 76/100\n",
            "1328/1328 [==============================] - 7s 5ms/step - loss: 0.1646 - accuracy: 0.9248 - val_loss: 0.1421 - val_accuracy: 0.9390\n",
            "Epoch 77/100\n",
            "1328/1328 [==============================] - 6s 4ms/step - loss: 0.1713 - accuracy: 0.9249 - val_loss: 0.1512 - val_accuracy: 0.9390\n",
            "Epoch 78/100\n",
            "1328/1328 [==============================] - 6s 5ms/step - loss: 0.1619 - accuracy: 0.9286 - val_loss: 0.1966 - val_accuracy: 0.9133\n",
            "Epoch 79/100\n",
            "1328/1328 [==============================] - 6s 4ms/step - loss: 0.1664 - accuracy: 0.9263 - val_loss: 0.1506 - val_accuracy: 0.9307\n",
            "Epoch 80/100\n",
            "1328/1328 [==============================] - 7s 5ms/step - loss: 0.1690 - accuracy: 0.9244 - val_loss: 0.1379 - val_accuracy: 0.9397\n",
            "Epoch 81/100\n",
            "1328/1328 [==============================] - 6s 4ms/step - loss: 0.1664 - accuracy: 0.9270 - val_loss: 0.2048 - val_accuracy: 0.9209\n",
            "Epoch 82/100\n",
            "1328/1328 [==============================] - 6s 4ms/step - loss: 0.1674 - accuracy: 0.9264 - val_loss: 0.1884 - val_accuracy: 0.9179\n",
            "Epoch 83/100\n",
            "1328/1328 [==============================] - 7s 5ms/step - loss: 0.1660 - accuracy: 0.9272 - val_loss: 0.1625 - val_accuracy: 0.9261\n",
            "Epoch 84/100\n",
            "1328/1328 [==============================] - 6s 5ms/step - loss: 0.1653 - accuracy: 0.9234 - val_loss: 0.1656 - val_accuracy: 0.9322\n",
            "Epoch 85/100\n",
            "1328/1328 [==============================] - 6s 4ms/step - loss: 0.1672 - accuracy: 0.9279 - val_loss: 0.1449 - val_accuracy: 0.9352\n",
            "Epoch 86/100\n",
            "1328/1328 [==============================] - 6s 5ms/step - loss: 0.1665 - accuracy: 0.9232 - val_loss: 0.1373 - val_accuracy: 0.9465\n",
            "Epoch 87/100\n",
            "1328/1328 [==============================] - 6s 5ms/step - loss: 0.1594 - accuracy: 0.9295 - val_loss: 0.1345 - val_accuracy: 0.9427\n",
            "Epoch 88/100\n",
            "1328/1328 [==============================] - 6s 5ms/step - loss: 0.1605 - accuracy: 0.9284 - val_loss: 0.1563 - val_accuracy: 0.9277\n",
            "Epoch 89/100\n",
            "1328/1328 [==============================] - 6s 5ms/step - loss: 0.1647 - accuracy: 0.9271 - val_loss: 0.1590 - val_accuracy: 0.9314\n",
            "Epoch 90/100\n",
            "1328/1328 [==============================] - 6s 4ms/step - loss: 0.1578 - accuracy: 0.9301 - val_loss: 0.1471 - val_accuracy: 0.9397\n",
            "Epoch 91/100\n",
            "1328/1328 [==============================] - 7s 5ms/step - loss: 0.1572 - accuracy: 0.9312 - val_loss: 0.1477 - val_accuracy: 0.9397\n",
            "Epoch 92/100\n",
            "1328/1328 [==============================] - 6s 4ms/step - loss: 0.1614 - accuracy: 0.9296 - val_loss: 0.1329 - val_accuracy: 0.9427\n",
            "Epoch 93/100\n",
            "1328/1328 [==============================] - 7s 5ms/step - loss: 0.1626 - accuracy: 0.9279 - val_loss: 0.1335 - val_accuracy: 0.9420\n",
            "Epoch 94/100\n",
            "1328/1328 [==============================] - 6s 4ms/step - loss: 0.1606 - accuracy: 0.9314 - val_loss: 0.1905 - val_accuracy: 0.9246\n",
            "Epoch 95/100\n",
            "1328/1328 [==============================] - 6s 5ms/step - loss: 0.1534 - accuracy: 0.9331 - val_loss: 0.1604 - val_accuracy: 0.9299\n",
            "Epoch 96/100\n",
            "1328/1328 [==============================] - 7s 5ms/step - loss: 0.1553 - accuracy: 0.9313 - val_loss: 0.1734 - val_accuracy: 0.9201\n",
            "Epoch 97/100\n",
            "1328/1328 [==============================] - 7s 5ms/step - loss: 0.1606 - accuracy: 0.9302 - val_loss: 0.1367 - val_accuracy: 0.9435\n",
            "Epoch 98/100\n",
            "1328/1328 [==============================] - 6s 4ms/step - loss: 0.1536 - accuracy: 0.9348 - val_loss: 0.1558 - val_accuracy: 0.9292\n",
            "Epoch 99/100\n",
            "1328/1328 [==============================] - 6s 5ms/step - loss: 0.1560 - accuracy: 0.9303 - val_loss: 0.1556 - val_accuracy: 0.9292\n",
            "Epoch 100/100\n",
            "1328/1328 [==============================] - 6s 4ms/step - loss: 0.1675 - accuracy: 0.9226 - val_loss: 0.1623 - val_accuracy: 0.9269\n"
          ]
        }
      ]
    },
    {
      "cell_type": "code",
      "source": [
        "fig = plt.figure()\n",
        "plt.plot(hist.history['accuracy'], color='teal', label='accuracy')\n",
        "plt.plot(hist.history['val_accuracy'], color='orange', label='val_accuracy')\n",
        "fig.suptitle('Accuracy', fontsize=20)\n",
        "plt.legend(loc=\"upper left\")\n",
        "plt.show()"
      ],
      "metadata": {
        "id": "cTjJTk05SWkh",
        "colab": {
          "base_uri": "https://localhost:8080/",
          "height": 478
        },
        "outputId": "11c72a4b-b62c-410f-b91a-3dbeafba2923"
      },
      "execution_count": null,
      "outputs": [
        {
          "output_type": "display_data",
          "data": {
            "text/plain": [
              "<Figure size 640x480 with 1 Axes>"
            ],
            "image/png": "[encoded data removed]"
          },
          "metadata": {}
        }
      ]
    },
    {
      "cell_type": "code",
      "source": [
        "test_accuracy = model.evaluate(test_dataset,verbose=0,return_dict=True)['accuracy']\n",
        "test_accuracy"
      ],
      "metadata": {
        "id": "cGHB15A4UcWo",
        "colab": {
          "base_uri": "https://localhost:8080/"
        },
        "outputId": "44fa5468-f945-47df-acd7-ad0d85b6aa75"
      },
      "execution_count": null,
      "outputs": [
        {
          "output_type": "execute_result",
          "data": {
            "text/plain": [
              "0.8899773955345154"
            ]
          },
          "metadata": {},
          "execution_count": 15
        }
      ]
    },
    {
      "cell_type": "code",
      "source": [
        "#Is any other way to further boost the accuracy?\n",
        "#Provide more data\n",
        "#Cross Validation\n",
        "#combine training and valuating data set."
      ],
      "metadata": {
        "id": "dZVI35s6Lufe"
      },
      "execution_count": null,
      "outputs": []
    },
    {
      "cell_type": "markdown",
      "source": [
        "# Evaluation\n",
        "##### https://www.kaggle.com/code/jcontr/meta-learning-credit-card-default\n",
        "##### 1. Is the data unbalanced on the feature of whether default?\n",
        "##### 2. Do we need to reduce the dimensions? 33 features and most of them are generated by one hot encoding and they're sparse.\n",
        "\n",
        "Bias sanity check:\n",
        "1. Historical bias / representation bias / measurement bias\n",
        "2. Learning bias\n",
        "3. Evaluation bias\n",
        "4. Aggregation bias\n",
        "5. Deployment bias\n"
      ],
      "metadata": {
        "id": "W4zEz5JeCZoP"
      }
    },
    {
      "cell_type": "code",
      "source": [
        "model.evaluate(test_dataset,verbose=0,return_dict=True)"
      ],
      "metadata": {
        "id": "6SEIe_as9hsA",
        "colab": {
          "base_uri": "https://localhost:8080/"
        },
        "outputId": "4147dde4-e90b-46c4-f139-5e2cafaee6d6"
      },
      "execution_count": null,
      "outputs": [
        {
          "output_type": "execute_result",
          "data": {
            "text/plain": [
              "{'loss': 0.1529790163040161, 'accuracy': 0.9336850047111511}"
            ]
          },
          "metadata": {},
          "execution_count": 32
        }
      ]
    },
    {
      "cell_type": "code",
      "source": [
        "test_prediction = model.predict(test_dataset)\n",
        "print(test_prediction.shape)\n",
        "test_prediction\n",
        "#3000 probabilities"
      ],
      "metadata": {
        "id": "2R9zgg1j9hyx",
        "colab": {
          "base_uri": "https://localhost:8080/"
        },
        "outputId": "a7c2bfea-a34d-4aff-82f0-0fdf8939062d"
      },
      "execution_count": null,
      "outputs": [
        {
          "output_type": "stream",
          "name": "stdout",
          "text": [
            "166/166 [==============================] - 0s 2ms/step\n",
            "(1327, 2)\n"
          ]
        },
        {
          "output_type": "execute_result",
          "data": {
            "text/plain": [
              "array([[8.85894418e-01, 1.14105575e-01],\n",
              "       [4.49980423e-03, 9.95500147e-01],\n",
              "       [9.88033950e-01, 1.19659789e-02],\n",
              "       ...,\n",
              "       [6.67716620e-07, 9.99999285e-01],\n",
              "       [4.76310909e-01, 5.23689091e-01],\n",
              "       [9.99897242e-01, 1.02718128e-04]], dtype=float32)"
            ]
          },
          "metadata": {},
          "execution_count": 33
        }
      ]
    },
    {
      "cell_type": "code",
      "source": [
        "y_test_true = []\n",
        "y_test_predicted = []\n",
        "\n",
        "#expand true label y in test_dataset and save it in the list. Make prediction by batches and save it in the list\n",
        "#Must do the prediction and expanding under same for loop otherwise the sequence may be messed up.\n",
        "#Try sigmoid?\n",
        "\n",
        "for test_features, y_test in test_dataset:\n",
        "  predictions = model.predict(test_features, verbose=0)\n",
        "  y_test_predicted.extend(np.argmax(predictions, axis=1).tolist())\n",
        "  y_test_true.extend(y_test.numpy())\n",
        "print(f\"True label    : {y_test_true[0:20]}\")\n",
        "print(f\"Predicted label: {y_test_predicted[0:20]}\")\n",
        "\n",
        "correct_predictions = sum(np.array(y_test_predicted) == np.array(y_test_true))\n",
        "total_samples = len(y_test_true)\n",
        "accuracy = correct_predictions / total_samples\n",
        "print(\"Manual Accuracy:\", accuracy)"
      ],
      "metadata": {
        "id": "V_DU6cc19oFX",
        "colab": {
          "base_uri": "https://localhost:8080/"
        },
        "outputId": "9b3de5f1-ff1b-481c-9f54-997c61a39e69"
      },
      "execution_count": null,
      "outputs": [
        {
          "output_type": "stream",
          "name": "stdout",
          "text": [
            "True label    : [1, 1, 1, 0, 0, 1, 1, 0, 0, 0, 0, 0, 0, 1, 0, 0, 1, 0, 1, 0]\n",
            "Predicted label: [1, 0, 1, 0, 0, 1, 1, 0, 0, 0, 0, 0, 0, 1, 0, 0, 1, 0, 1, 0]\n",
            "Manual Accuracy: 0.9366993217784476\n"
          ]
        }
      ]
    },
    {
      "cell_type": "code",
      "source": [
        "\"\"\"\n",
        "Have no idea why the test accuracy by model.eval and model.predict + threshold is so different?\n",
        "Must do the prediction and expanding under same for loop otherwise the sequence may be messed up.?\n",
        "\"\"\"\n",
        "\n",
        "# #get the prediction result\n",
        "# train_prediction_binary = []\n",
        "# for prediction in train_prediction:\n",
        "#   #print(prediction)\n",
        "#   if prediction >= 0.5: #take 0.5 as threshold, default of model.evaluation is also 0.5\n",
        "#     train_prediction_binary.append(1)\n",
        "#   else:\n",
        "#     train_prediction_binary.append(0)\n",
        "# print(len(train_prediction_binary))\n",
        "# print(train_prediction_binary[0:20])\n",
        "\n",
        "# #get y_test, take y_test out from data pipeline and put it into a list\n",
        "# y_train_all = []\n",
        "# for train_features, y_train in train_dataset:\n",
        "#   y_train_all.extend(y_train.numpy())\n",
        "# print(len(y_train_all))\n",
        "# print(y_train_all[0:20])\n",
        "\n",
        "# correct_predictions = sum(np.array(train_prediction_binary) == np.array(y_train_all))\n",
        "# total_samples = len(y_train_all)\n",
        "# accuracy = correct_predictions / total_samples\n",
        "\n",
        "# print(\"Manual Accuracy with Threshold 0.5:\", accuracy)"
      ],
      "metadata": {
        "id": "yi1Y9RZtFGpV",
        "colab": {
          "base_uri": "https://localhost:8080/",
          "height": 53
        },
        "outputId": "f4e329ba-09ee-429d-c3a8-a1c1c42c1fc1"
      },
      "execution_count": null,
      "outputs": [
        {
          "output_type": "execute_result",
          "data": {
            "text/plain": [
              "'\\nHave no idea why the test accuracy by model.eval and model.predict + threshold is so different?\\nMust do the prediction and expanding under same for loop otherwise the sequence may be messed up.?\\n'"
            ],
            "application/vnd.google.colaboratory.intrinsic+json": {
              "type": "string"
            }
          },
          "metadata": {},
          "execution_count": 29
        }
      ]
    },
    {
      "cell_type": "code",
      "source": [
        "import seaborn as sns  # for nicer plots\n",
        "sns.set(style=\"darkgrid\")  # default style\n",
        "\n",
        "# Create a confusion matrix as a 2D array.\n",
        "confusion_matrix = tf.math.confusion_matrix(y_test_true, y_test_predicted)\n",
        "\n",
        "# Use a heatmap plot to display it.\n",
        "ax = sns.heatmap(confusion_matrix, annot=True, fmt='.3g', cmap='Blues')\n",
        "# Add axis labels.\n",
        "ax.set(xlabel='Predicted Label', ylabel='True Label')\n",
        "plt.show()\n",
        "print(confusion_matrix.numpy())"
      ],
      "metadata": {
        "id": "H4w9tf759oLj",
        "colab": {
          "base_uri": "https://localhost:8080/",
          "height": 493
        },
        "outputId": "636f55a1-a412-407c-8517-d1aff9bd92e0"
      },
      "execution_count": null,
      "outputs": [
        {
          "output_type": "display_data",
          "data": {
            "text/plain": [
              "<Figure size 640x480 with 2 Axes>"
            ],
            "image/png": "[encoded data removed]"
          },
          "metadata": {}
        },
        {
          "output_type": "stream",
          "name": "stdout",
          "text": [
            "[[600  46]\n",
            " [ 38 643]]\n"
          ]
        }
      ]
    },
    {
      "cell_type": "markdown",
      "source": [
        "We have\n",
        "1. 30000 (23364+6636) examples, 90% of accuracy, 100 epochs, 74% of recall.\n",
        "2. 22636 (16000+6636) examples, 90% of accuracy, 100 epochs, 78% of recall. [[1560   58]\n",
        " [ 137  508]]\n",
        "3. 16636 (10000+6636) examples, 89.7% of accuracy, 100 epochs, 84% of recall.\n",
        "[[932  65]\n",
        " [105 561]]\n",
        "4. 13272 (6636+6636) examples, 89.5% of accuracy, 100 epochs, 86% of recall.\n",
        "[[651  33]\n",
        " [ 86 557]]\n",
        "4. 13272 (6636+6636) examples, 93% of accuracy, 200 epochs, 94% of recall.\n",
        "[[600  46]\n",
        " [ 38 643]]\n"
      ],
      "metadata": {
        "id": "j8kBKHqS9pd2"
      }
    },
    {
      "cell_type": "markdown",
      "source": [
        "# Feature reduction\n",
        "Try different combinations of features.\n",
        "1. Removing collinear  features may help to boost the performance\n",
        "2. Some setups may have business meaning except for the model training purpose."
      ],
      "metadata": {
        "id": "nljf1FPn7MKq"
      }
    },
    {
      "cell_type": "code",
      "source": [
        "#Removing collinear features may make us lose some information under these columns.\n",
        "#Know whether default or not 6 months ahead.\n",
        "#Remove features that contain less data\n",
        "\n",
        "X_reduced_2 = df[['LIMIT_BAL', 'AGE', 'PAY_6','BILL_AMT6','PAY_AMT6',\n",
        "       'SEX_1', 'SEX_2', 'EDUCATION_0', 'EDUCATION_1', 'EDUCATION_2',\n",
        "       'EDUCATION_3','MARRIAGE_1', 'MARRIAGE_2']].values\n",
        "y = np.squeeze(df[['default.payment.next.month']].values)\n",
        "\n",
        "# Normalize the input features using Z-score normalization\n",
        "scaler = StandardScaler()\n",
        "X_reduced_normalized = scaler.fit_transform(X_reduced_2)"
      ],
      "metadata": {
        "id": "TWNyl5E67M24"
      },
      "execution_count": null,
      "outputs": []
    },
    {
      "cell_type": "code",
      "source": [
        "# Create a TensorFlow Dataset from the normalized input features and target labels\n",
        "dataset_r = tf.data.Dataset.from_tensor_slices((X_reduced_normalized, y))\n",
        "\n",
        "# Shuffle the dataset\n",
        "dataset_r = dataset_r.shuffle(buffer_size=len(X_reduced_normalized))\n",
        "\n",
        "# Split the data into train, validation, and test sets\n",
        "train_size = int(0.8 * len(X_reduced_normalized))\n",
        "val_size = int(0.1 * len(X_reduced_normalized))\n",
        "test_size = int(0.1 * len(X_reduced_normalized))\n",
        "\n",
        "# Split the dataset into train, validation, and test sets\n",
        "train_dataset_r = dataset_r.take(train_size)\n",
        "val_dataset_r = dataset_r.skip(train_size).take(val_size)\n",
        "test_dataset_r = dataset_r.skip(train_size + val_size).take(test_size)\n",
        "\n",
        "# Batch the datasets\n",
        "batch_size = 8\n",
        "train_dataset_r = train_dataset_r.batch(batch_size)\n",
        "val_dataset_r = val_dataset_r.batch(batch_size)\n",
        "test_dataset_r = test_dataset_r.batch(batch_size)\n",
        "\n",
        "it = train_dataset_r.as_numpy_iterator()\n",
        "print(it.next()[0].shape, it.next()[1].shape) #return a batch (X,y)\n",
        "print(it.next()[0], it.next()[1]) #return a batch (X,y)\n",
        "# for features, labels in train_dataset:\n",
        "#   print(\"Train Features shape:\", features.shape)\n",
        "#   print(\"Train Labels shape:\", labels.shape)"
      ],
      "metadata": {
        "id": "eQaBkwiE7NAu"
      },
      "execution_count": null,
      "outputs": []
    },
    {
      "cell_type": "code",
      "source": [
        "tf.keras.backend.clear_session()"
      ],
      "metadata": {
        "id": "EBGZUiF26XIZ"
      },
      "execution_count": 24,
      "outputs": []
    },
    {
      "cell_type": "code",
      "source": [
        "model_2 = Sequential()"
      ],
      "metadata": {
        "id": "L1JOm3EG6XK9"
      },
      "execution_count": 25,
      "outputs": []
    },
    {
      "cell_type": "code",
      "source": [
        "it = train_dataset_r.as_numpy_iterator()\n",
        "print(it.next()[0].shape, it.next()[1].shape) #return a batch (X,y)\n",
        "input_shape = it.next()[0].shape\n",
        "input_shape[1]"
      ],
      "metadata": {
        "colab": {
          "base_uri": "https://localhost:8080/"
        },
        "id": "S1SLCAvN6XNd",
        "outputId": "0ff221a9-782f-4e9d-fa5e-6e720df8aca4"
      },
      "execution_count": 26,
      "outputs": [
        {
          "output_type": "stream",
          "name": "stdout",
          "text": [
            "(8, 13) (8,)\n"
          ]
        },
        {
          "output_type": "execute_result",
          "data": {
            "text/plain": [
              "13"
            ]
          },
          "metadata": {},
          "execution_count": 26
        }
      ]
    },
    {
      "cell_type": "code",
      "source": [
        "# a binary classification, taking signoid as the output activation function\n",
        "# Don't need an input layer since it's sequential\n",
        "\n",
        "model_2.add(Dense(256, input_shape=(input_shape[1],), activation='relu'))\n",
        "model_2.add(Dense(64, activation='relu'))\n",
        "model_2.add(Dense(16, activation='relu'))\n",
        "model_2.add(Dense(32, activation='relu'))\n",
        "model_2.add(Dense(64, activation='relu'))\n",
        "model_2.add(Dense(2, activation='softmax'))\n",
        "\n",
        "#optimizer = Adam(learning_rate=0.00001)\n",
        "model_2.compile(optimizer= tf.keras.optimizers.Adam(0.0001), loss='sparse_categorical_crossentropy', metrics=['accuracy'])"
      ],
      "metadata": {
        "id": "s1qR3MNE6XP_"
      },
      "execution_count": 27,
      "outputs": []
    },
    {
      "cell_type": "code",
      "source": [
        "hist = model_2.fit(train_dataset_r, epochs=200, validation_data=val_dataset_r)"
      ],
      "metadata": {
        "colab": {
          "base_uri": "https://localhost:8080/"
        },
        "id": "Y3z7RDqX6XSw",
        "outputId": "235cfd3b-4ed1-42cb-c2a7-4215a9029636"
      },
      "execution_count": 28,
      "outputs": [
        {
          "output_type": "stream",
          "name": "stdout",
          "text": [
            "Epoch 1/200\n",
            "1328/1328 [==============================] - 8s 4ms/step - loss: 0.6605 - accuracy: 0.6037 - val_loss: 0.6437 - val_accuracy: 0.6240\n",
            "Epoch 2/200\n",
            "1328/1328 [==============================] - 5s 4ms/step - loss: 0.6389 - accuracy: 0.6280 - val_loss: 0.6417 - val_accuracy: 0.6232\n",
            "Epoch 3/200\n",
            "1328/1328 [==============================] - 6s 5ms/step - loss: 0.6381 - accuracy: 0.6252 - val_loss: 0.6385 - val_accuracy: 0.6172\n",
            "Epoch 4/200\n",
            "1328/1328 [==============================] - 5s 4ms/step - loss: 0.6362 - accuracy: 0.6291 - val_loss: 0.6521 - val_accuracy: 0.6081\n",
            "Epoch 5/200\n",
            "1328/1328 [==============================] - 6s 4ms/step - loss: 0.6350 - accuracy: 0.6319 - val_loss: 0.6400 - val_accuracy: 0.6398\n",
            "Epoch 6/200\n",
            "1328/1328 [==============================] - 5s 4ms/step - loss: 0.6302 - accuracy: 0.6380 - val_loss: 0.6369 - val_accuracy: 0.6307\n",
            "Epoch 7/200\n",
            "1328/1328 [==============================] - 7s 5ms/step - loss: 0.6316 - accuracy: 0.6383 - val_loss: 0.6225 - val_accuracy: 0.6375\n",
            "Epoch 8/200\n",
            "1328/1328 [==============================] - 5s 4ms/step - loss: 0.6320 - accuracy: 0.6356 - val_loss: 0.6164 - val_accuracy: 0.6549\n",
            "Epoch 9/200\n",
            "1328/1328 [==============================] - 8s 6ms/step - loss: 0.6319 - accuracy: 0.6345 - val_loss: 0.6289 - val_accuracy: 0.6413\n",
            "Epoch 10/200\n",
            "1328/1328 [==============================] - 5s 4ms/step - loss: 0.6280 - accuracy: 0.6402 - val_loss: 0.6321 - val_accuracy: 0.6330\n",
            "Epoch 11/200\n",
            "1328/1328 [==============================] - 5s 4ms/step - loss: 0.6319 - accuracy: 0.6360 - val_loss: 0.6382 - val_accuracy: 0.6285\n",
            "Epoch 12/200\n",
            "1328/1328 [==============================] - 7s 6ms/step - loss: 0.6286 - accuracy: 0.6351 - val_loss: 0.6251 - val_accuracy: 0.6436\n",
            "Epoch 13/200\n",
            "1328/1328 [==============================] - 6s 5ms/step - loss: 0.6292 - accuracy: 0.6337 - val_loss: 0.6198 - val_accuracy: 0.6556\n",
            "Epoch 14/200\n",
            "1328/1328 [==============================] - 7s 5ms/step - loss: 0.6277 - accuracy: 0.6439 - val_loss: 0.6133 - val_accuracy: 0.6745\n",
            "Epoch 15/200\n",
            "1328/1328 [==============================] - 6s 4ms/step - loss: 0.6250 - accuracy: 0.6426 - val_loss: 0.6196 - val_accuracy: 0.6556\n",
            "Epoch 16/200\n",
            "1328/1328 [==============================] - 5s 4ms/step - loss: 0.6252 - accuracy: 0.6395 - val_loss: 0.6287 - val_accuracy: 0.6428\n",
            "Epoch 17/200\n",
            "1328/1328 [==============================] - 8s 6ms/step - loss: 0.6237 - accuracy: 0.6439 - val_loss: 0.6299 - val_accuracy: 0.6307\n",
            "Epoch 18/200\n",
            "1328/1328 [==============================] - 5s 4ms/step - loss: 0.6224 - accuracy: 0.6452 - val_loss: 0.6207 - val_accuracy: 0.6451\n",
            "Epoch 19/200\n",
            "1328/1328 [==============================] - 6s 4ms/step - loss: 0.6228 - accuracy: 0.6442 - val_loss: 0.6245 - val_accuracy: 0.6503\n",
            "Epoch 20/200\n",
            "1328/1328 [==============================] - 5s 4ms/step - loss: 0.6226 - accuracy: 0.6455 - val_loss: 0.6081 - val_accuracy: 0.6684\n",
            "Epoch 21/200\n",
            "1328/1328 [==============================] - 8s 6ms/step - loss: 0.6200 - accuracy: 0.6463 - val_loss: 0.6262 - val_accuracy: 0.6428\n",
            "Epoch 22/200\n",
            "1328/1328 [==============================] - 9s 7ms/step - loss: 0.6217 - accuracy: 0.6442 - val_loss: 0.6427 - val_accuracy: 0.6285\n",
            "Epoch 23/200\n",
            "1328/1328 [==============================] - 7s 5ms/step - loss: 0.6200 - accuracy: 0.6479 - val_loss: 0.6095 - val_accuracy: 0.6662\n",
            "Epoch 24/200\n",
            "1328/1328 [==============================] - 8s 6ms/step - loss: 0.6160 - accuracy: 0.6501 - val_loss: 0.6149 - val_accuracy: 0.6466\n",
            "Epoch 25/200\n",
            "1328/1328 [==============================] - 6s 4ms/step - loss: 0.6157 - accuracy: 0.6549 - val_loss: 0.6164 - val_accuracy: 0.6526\n",
            "Epoch 26/200\n",
            "1328/1328 [==============================] - 6s 5ms/step - loss: 0.6156 - accuracy: 0.6495 - val_loss: 0.6247 - val_accuracy: 0.6323\n",
            "Epoch 27/200\n",
            "1328/1328 [==============================] - 5s 4ms/step - loss: 0.6131 - accuracy: 0.6514 - val_loss: 0.6130 - val_accuracy: 0.6662\n",
            "Epoch 28/200\n",
            "1328/1328 [==============================] - 8s 6ms/step - loss: 0.6158 - accuracy: 0.6475 - val_loss: 0.6194 - val_accuracy: 0.6330\n",
            "Epoch 29/200\n",
            "1328/1328 [==============================] - 8s 6ms/step - loss: 0.6142 - accuracy: 0.6540 - val_loss: 0.6095 - val_accuracy: 0.6790\n",
            "Epoch 30/200\n",
            "1328/1328 [==============================] - 7s 5ms/step - loss: 0.6135 - accuracy: 0.6498 - val_loss: 0.6031 - val_accuracy: 0.6639\n",
            "Epoch 31/200\n",
            "1328/1328 [==============================] - 7s 5ms/step - loss: 0.6136 - accuracy: 0.6528 - val_loss: 0.6053 - val_accuracy: 0.6541\n",
            "Epoch 32/200\n",
            "1328/1328 [==============================] - 5s 4ms/step - loss: 0.6129 - accuracy: 0.6537 - val_loss: 0.6070 - val_accuracy: 0.6707\n",
            "Epoch 33/200\n",
            "1328/1328 [==============================] - 5s 4ms/step - loss: 0.6093 - accuracy: 0.6588 - val_loss: 0.5979 - val_accuracy: 0.6631\n",
            "Epoch 34/200\n",
            "1328/1328 [==============================] - 6s 4ms/step - loss: 0.6106 - accuracy: 0.6562 - val_loss: 0.6038 - val_accuracy: 0.6579\n",
            "Epoch 35/200\n",
            "1328/1328 [==============================] - 6s 5ms/step - loss: 0.6098 - accuracy: 0.6561 - val_loss: 0.6041 - val_accuracy: 0.6669\n",
            "Epoch 36/200\n",
            "1328/1328 [==============================] - 6s 4ms/step - loss: 0.6082 - accuracy: 0.6603 - val_loss: 0.6037 - val_accuracy: 0.6647\n",
            "Epoch 37/200\n",
            "1328/1328 [==============================] - 6s 4ms/step - loss: 0.6078 - accuracy: 0.6589 - val_loss: 0.6052 - val_accuracy: 0.6624\n",
            "Epoch 38/200\n",
            "1328/1328 [==============================] - 5s 4ms/step - loss: 0.6052 - accuracy: 0.6605 - val_loss: 0.5952 - val_accuracy: 0.6707\n",
            "Epoch 39/200\n",
            "1328/1328 [==============================] - 5s 4ms/step - loss: 0.6061 - accuracy: 0.6597 - val_loss: 0.6000 - val_accuracy: 0.6760\n",
            "Epoch 40/200\n",
            "1328/1328 [==============================] - 6s 4ms/step - loss: 0.6039 - accuracy: 0.6643 - val_loss: 0.5946 - val_accuracy: 0.6850\n",
            "Epoch 41/200\n",
            "1328/1328 [==============================] - 5s 4ms/step - loss: 0.6047 - accuracy: 0.6632 - val_loss: 0.5901 - val_accuracy: 0.6805\n",
            "Epoch 42/200\n",
            "1328/1328 [==============================] - 5s 4ms/step - loss: 0.6029 - accuracy: 0.6625 - val_loss: 0.5917 - val_accuracy: 0.6745\n",
            "Epoch 43/200\n",
            "1328/1328 [==============================] - 6s 4ms/step - loss: 0.6008 - accuracy: 0.6638 - val_loss: 0.5976 - val_accuracy: 0.6534\n",
            "Epoch 44/200\n",
            "1328/1328 [==============================] - 5s 4ms/step - loss: 0.6013 - accuracy: 0.6633 - val_loss: 0.5915 - val_accuracy: 0.6760\n",
            "Epoch 45/200\n",
            "1328/1328 [==============================] - 6s 4ms/step - loss: 0.5982 - accuracy: 0.6672 - val_loss: 0.5873 - val_accuracy: 0.6737\n",
            "Epoch 46/200\n",
            "1328/1328 [==============================] - 5s 4ms/step - loss: 0.5988 - accuracy: 0.6634 - val_loss: 0.6018 - val_accuracy: 0.6752\n",
            "Epoch 47/200\n",
            "1328/1328 [==============================] - 6s 5ms/step - loss: 0.5975 - accuracy: 0.6689 - val_loss: 0.5641 - val_accuracy: 0.7144\n",
            "Epoch 48/200\n",
            "1328/1328 [==============================] - 6s 4ms/step - loss: 0.5999 - accuracy: 0.6664 - val_loss: 0.5906 - val_accuracy: 0.6835\n",
            "Epoch 49/200\n",
            "1328/1328 [==============================] - 6s 4ms/step - loss: 0.5994 - accuracy: 0.6686 - val_loss: 0.5876 - val_accuracy: 0.6699\n",
            "Epoch 50/200\n",
            "1328/1328 [==============================] - 5s 4ms/step - loss: 0.5966 - accuracy: 0.6696 - val_loss: 0.5932 - val_accuracy: 0.6624\n",
            "Epoch 51/200\n",
            "1328/1328 [==============================] - 5s 4ms/step - loss: 0.5962 - accuracy: 0.6702 - val_loss: 0.5765 - val_accuracy: 0.6925\n",
            "Epoch 52/200\n",
            "1328/1328 [==============================] - 6s 4ms/step - loss: 0.5931 - accuracy: 0.6729 - val_loss: 0.6135 - val_accuracy: 0.6481\n",
            "Epoch 53/200\n",
            "1328/1328 [==============================] - 5s 4ms/step - loss: 0.5952 - accuracy: 0.6680 - val_loss: 0.5768 - val_accuracy: 0.6880\n",
            "Epoch 54/200\n",
            "1328/1328 [==============================] - 6s 5ms/step - loss: 0.5901 - accuracy: 0.6723 - val_loss: 0.5769 - val_accuracy: 0.6873\n",
            "Epoch 55/200\n",
            "1328/1328 [==============================] - 6s 5ms/step - loss: 0.5899 - accuracy: 0.6760 - val_loss: 0.5710 - val_accuracy: 0.6978\n",
            "Epoch 56/200\n",
            "1328/1328 [==============================] - 6s 4ms/step - loss: 0.5905 - accuracy: 0.6684 - val_loss: 0.5840 - val_accuracy: 0.6820\n",
            "Epoch 57/200\n",
            "1328/1328 [==============================] - 5s 4ms/step - loss: 0.5890 - accuracy: 0.6752 - val_loss: 0.5968 - val_accuracy: 0.6624\n",
            "Epoch 58/200\n",
            "1328/1328 [==============================] - 6s 4ms/step - loss: 0.5882 - accuracy: 0.6738 - val_loss: 0.5861 - val_accuracy: 0.6722\n",
            "Epoch 59/200\n",
            "1328/1328 [==============================] - 5s 4ms/step - loss: 0.5883 - accuracy: 0.6747 - val_loss: 0.5751 - val_accuracy: 0.6820\n",
            "Epoch 60/200\n",
            "1328/1328 [==============================] - 6s 4ms/step - loss: 0.5857 - accuracy: 0.6702 - val_loss: 0.5549 - val_accuracy: 0.6933\n",
            "Epoch 61/200\n",
            "1328/1328 [==============================] - 5s 4ms/step - loss: 0.5865 - accuracy: 0.6763 - val_loss: 0.5879 - val_accuracy: 0.6677\n",
            "Epoch 62/200\n",
            "1328/1328 [==============================] - 6s 4ms/step - loss: 0.5872 - accuracy: 0.6750 - val_loss: 0.5677 - val_accuracy: 0.7008\n",
            "Epoch 63/200\n",
            "1328/1328 [==============================] - 6s 4ms/step - loss: 0.5879 - accuracy: 0.6739 - val_loss: 0.5702 - val_accuracy: 0.6843\n",
            "Epoch 64/200\n",
            "1328/1328 [==============================] - 5s 4ms/step - loss: 0.5845 - accuracy: 0.6792 - val_loss: 0.5810 - val_accuracy: 0.6805\n",
            "Epoch 65/200\n",
            "1328/1328 [==============================] - 5s 4ms/step - loss: 0.5831 - accuracy: 0.6806 - val_loss: 0.5709 - val_accuracy: 0.6986\n",
            "Epoch 66/200\n",
            "1328/1328 [==============================] - 6s 4ms/step - loss: 0.5829 - accuracy: 0.6813 - val_loss: 0.5547 - val_accuracy: 0.7054\n",
            "Epoch 67/200\n",
            "1328/1328 [==============================] - 6s 4ms/step - loss: 0.5815 - accuracy: 0.6805 - val_loss: 0.5534 - val_accuracy: 0.7016\n",
            "Epoch 68/200\n",
            "1328/1328 [==============================] - 6s 4ms/step - loss: 0.5770 - accuracy: 0.6865 - val_loss: 0.5658 - val_accuracy: 0.6925\n",
            "Epoch 69/200\n",
            "1328/1328 [==============================] - 5s 4ms/step - loss: 0.5790 - accuracy: 0.6822 - val_loss: 0.5855 - val_accuracy: 0.6601\n",
            "Epoch 70/200\n",
            "1328/1328 [==============================] - 7s 5ms/step - loss: 0.5787 - accuracy: 0.6800 - val_loss: 0.5609 - val_accuracy: 0.6918\n",
            "Epoch 71/200\n",
            "1328/1328 [==============================] - 6s 4ms/step - loss: 0.5754 - accuracy: 0.6847 - val_loss: 0.5667 - val_accuracy: 0.6971\n",
            "Epoch 72/200\n",
            "1328/1328 [==============================] - 5s 4ms/step - loss: 0.5766 - accuracy: 0.6889 - val_loss: 0.5395 - val_accuracy: 0.7234\n",
            "Epoch 73/200\n",
            "1328/1328 [==============================] - 5s 4ms/step - loss: 0.5748 - accuracy: 0.6865 - val_loss: 0.5600 - val_accuracy: 0.7091\n",
            "Epoch 74/200\n",
            "1328/1328 [==============================] - 5s 4ms/step - loss: 0.5746 - accuracy: 0.6802 - val_loss: 0.5652 - val_accuracy: 0.6940\n",
            "Epoch 75/200\n",
            "1328/1328 [==============================] - 6s 4ms/step - loss: 0.5754 - accuracy: 0.6849 - val_loss: 0.5691 - val_accuracy: 0.6880\n",
            "Epoch 76/200\n",
            "1328/1328 [==============================] - 5s 4ms/step - loss: 0.5759 - accuracy: 0.6817 - val_loss: 0.5523 - val_accuracy: 0.6963\n",
            "Epoch 77/200\n",
            "1328/1328 [==============================] - 6s 4ms/step - loss: 0.5697 - accuracy: 0.6860 - val_loss: 0.5736 - val_accuracy: 0.6963\n",
            "Epoch 78/200\n",
            "1328/1328 [==============================] - 5s 4ms/step - loss: 0.5704 - accuracy: 0.6909 - val_loss: 0.5503 - val_accuracy: 0.6986\n",
            "Epoch 79/200\n",
            "1328/1328 [==============================] - 5s 4ms/step - loss: 0.5706 - accuracy: 0.6889 - val_loss: 0.5702 - val_accuracy: 0.6858\n",
            "Epoch 80/200\n",
            "1328/1328 [==============================] - 6s 4ms/step - loss: 0.5709 - accuracy: 0.6882 - val_loss: 0.5808 - val_accuracy: 0.6684\n",
            "Epoch 81/200\n",
            "1328/1328 [==============================] - 5s 4ms/step - loss: 0.5674 - accuracy: 0.6914 - val_loss: 0.5718 - val_accuracy: 0.6888\n",
            "Epoch 82/200\n",
            "1328/1328 [==============================] - 6s 4ms/step - loss: 0.5678 - accuracy: 0.6957 - val_loss: 0.5511 - val_accuracy: 0.7174\n",
            "Epoch 83/200\n",
            "1328/1328 [==============================] - 5s 4ms/step - loss: 0.5671 - accuracy: 0.6901 - val_loss: 0.5612 - val_accuracy: 0.7001\n",
            "Epoch 84/200\n",
            "1328/1328 [==============================] - 6s 4ms/step - loss: 0.5673 - accuracy: 0.6870 - val_loss: 0.5588 - val_accuracy: 0.6963\n",
            "Epoch 85/200\n",
            "1328/1328 [==============================] - 5s 4ms/step - loss: 0.5644 - accuracy: 0.6909 - val_loss: 0.5634 - val_accuracy: 0.6948\n",
            "Epoch 86/200\n",
            "1328/1328 [==============================] - 6s 4ms/step - loss: 0.5646 - accuracy: 0.6942 - val_loss: 0.5529 - val_accuracy: 0.7114\n",
            "Epoch 87/200\n",
            "1328/1328 [==============================] - 5s 4ms/step - loss: 0.5645 - accuracy: 0.6907 - val_loss: 0.5493 - val_accuracy: 0.7084\n",
            "Epoch 88/200\n",
            "1328/1328 [==============================] - 6s 4ms/step - loss: 0.5632 - accuracy: 0.7009 - val_loss: 0.5461 - val_accuracy: 0.7159\n",
            "Epoch 89/200\n",
            "1328/1328 [==============================] - 5s 4ms/step - loss: 0.5598 - accuracy: 0.6964 - val_loss: 0.5509 - val_accuracy: 0.7001\n",
            "Epoch 90/200\n",
            "1328/1328 [==============================] - 6s 4ms/step - loss: 0.5652 - accuracy: 0.6923 - val_loss: 0.5458 - val_accuracy: 0.7144\n",
            "Epoch 91/200\n",
            "1328/1328 [==============================] - 5s 4ms/step - loss: 0.5607 - accuracy: 0.6957 - val_loss: 0.5587 - val_accuracy: 0.7061\n",
            "Epoch 92/200\n",
            "1328/1328 [==============================] - 6s 4ms/step - loss: 0.5608 - accuracy: 0.6942 - val_loss: 0.5480 - val_accuracy: 0.7106\n",
            "Epoch 93/200\n",
            "1328/1328 [==============================] - 5s 4ms/step - loss: 0.5575 - accuracy: 0.6953 - val_loss: 0.5755 - val_accuracy: 0.6805\n",
            "Epoch 94/200\n",
            "1328/1328 [==============================] - 6s 5ms/step - loss: 0.5588 - accuracy: 0.6901 - val_loss: 0.5458 - val_accuracy: 0.6986\n",
            "Epoch 95/200\n",
            "1328/1328 [==============================] - 5s 4ms/step - loss: 0.5501 - accuracy: 0.7055 - val_loss: 0.5394 - val_accuracy: 0.7129\n",
            "Epoch 96/200\n",
            "1328/1328 [==============================] - 5s 4ms/step - loss: 0.5602 - accuracy: 0.6963 - val_loss: 0.5311 - val_accuracy: 0.7182\n",
            "Epoch 97/200\n",
            "1328/1328 [==============================] - 5s 4ms/step - loss: 0.5577 - accuracy: 0.6955 - val_loss: 0.5372 - val_accuracy: 0.7234\n",
            "Epoch 98/200\n",
            "1328/1328 [==============================] - 6s 4ms/step - loss: 0.5519 - accuracy: 0.6990 - val_loss: 0.5534 - val_accuracy: 0.7001\n",
            "Epoch 99/200\n",
            "1328/1328 [==============================] - 6s 5ms/step - loss: 0.5523 - accuracy: 0.7031 - val_loss: 0.5360 - val_accuracy: 0.7151\n",
            "Epoch 100/200\n",
            "1328/1328 [==============================] - 5s 4ms/step - loss: 0.5490 - accuracy: 0.7025 - val_loss: 0.5239 - val_accuracy: 0.7249\n",
            "Epoch 101/200\n",
            "1328/1328 [==============================] - 5s 4ms/step - loss: 0.5523 - accuracy: 0.7026 - val_loss: 0.5295 - val_accuracy: 0.7317\n",
            "Epoch 102/200\n",
            "1328/1328 [==============================] - 5s 4ms/step - loss: 0.5520 - accuracy: 0.7000 - val_loss: 0.5587 - val_accuracy: 0.6940\n",
            "Epoch 103/200\n",
            "1328/1328 [==============================] - 6s 4ms/step - loss: 0.5503 - accuracy: 0.7008 - val_loss: 0.5372 - val_accuracy: 0.7136\n",
            "Epoch 104/200\n",
            "1328/1328 [==============================] - 6s 4ms/step - loss: 0.5493 - accuracy: 0.7041 - val_loss: 0.5448 - val_accuracy: 0.7114\n",
            "Epoch 105/200\n",
            "1328/1328 [==============================] - 5s 4ms/step - loss: 0.5491 - accuracy: 0.7051 - val_loss: 0.5336 - val_accuracy: 0.7114\n",
            "Epoch 106/200\n",
            "1328/1328 [==============================] - 6s 4ms/step - loss: 0.5468 - accuracy: 0.7062 - val_loss: 0.5219 - val_accuracy: 0.7219\n",
            "Epoch 107/200\n",
            "1328/1328 [==============================] - 5s 4ms/step - loss: 0.5482 - accuracy: 0.7030 - val_loss: 0.5117 - val_accuracy: 0.7347\n",
            "Epoch 108/200\n",
            "1328/1328 [==============================] - 5s 4ms/step - loss: 0.5492 - accuracy: 0.7027 - val_loss: 0.5179 - val_accuracy: 0.7234\n",
            "Epoch 109/200\n",
            "1328/1328 [==============================] - 6s 4ms/step - loss: 0.5450 - accuracy: 0.7077 - val_loss: 0.5466 - val_accuracy: 0.7084\n",
            "Epoch 110/200\n",
            "1328/1328 [==============================] - 5s 4ms/step - loss: 0.5436 - accuracy: 0.7040 - val_loss: 0.5484 - val_accuracy: 0.7054\n",
            "Epoch 111/200\n",
            "1328/1328 [==============================] - 6s 4ms/step - loss: 0.5447 - accuracy: 0.7047 - val_loss: 0.5315 - val_accuracy: 0.7287\n",
            "Epoch 112/200\n",
            "1328/1328 [==============================] - 6s 4ms/step - loss: 0.5401 - accuracy: 0.7046 - val_loss: 0.5520 - val_accuracy: 0.7031\n",
            "Epoch 113/200\n",
            "1328/1328 [==============================] - 5s 4ms/step - loss: 0.5438 - accuracy: 0.7037 - val_loss: 0.5248 - val_accuracy: 0.7144\n",
            "Epoch 114/200\n",
            "1328/1328 [==============================] - 5s 4ms/step - loss: 0.5442 - accuracy: 0.7037 - val_loss: 0.5394 - val_accuracy: 0.7076\n",
            "Epoch 115/200\n",
            "1328/1328 [==============================] - 7s 5ms/step - loss: 0.5370 - accuracy: 0.7099 - val_loss: 0.5432 - val_accuracy: 0.7121\n",
            "Epoch 116/200\n",
            "1328/1328 [==============================] - 5s 4ms/step - loss: 0.5389 - accuracy: 0.7139 - val_loss: 0.5224 - val_accuracy: 0.7219\n",
            "Epoch 117/200\n",
            "1328/1328 [==============================] - 6s 5ms/step - loss: 0.5390 - accuracy: 0.7094 - val_loss: 0.5142 - val_accuracy: 0.7415\n",
            "Epoch 118/200\n",
            "1328/1328 [==============================] - 6s 4ms/step - loss: 0.5382 - accuracy: 0.7087 - val_loss: 0.5173 - val_accuracy: 0.7332\n",
            "Epoch 119/200\n",
            "1328/1328 [==============================] - 5s 4ms/step - loss: 0.5391 - accuracy: 0.7124 - val_loss: 0.5021 - val_accuracy: 0.7385\n",
            "Epoch 120/200\n",
            "1328/1328 [==============================] - 5s 4ms/step - loss: 0.5352 - accuracy: 0.7119 - val_loss: 0.5157 - val_accuracy: 0.7295\n",
            "Epoch 121/200\n",
            "1328/1328 [==============================] - 5s 4ms/step - loss: 0.5376 - accuracy: 0.7063 - val_loss: 0.5354 - val_accuracy: 0.7054\n",
            "Epoch 122/200\n",
            "1328/1328 [==============================] - 5s 4ms/step - loss: 0.5352 - accuracy: 0.7125 - val_loss: 0.5106 - val_accuracy: 0.7325\n",
            "Epoch 123/200\n",
            "1328/1328 [==============================] - 6s 4ms/step - loss: 0.5314 - accuracy: 0.7177 - val_loss: 0.5377 - val_accuracy: 0.7054\n",
            "Epoch 124/200\n",
            "1328/1328 [==============================] - 5s 4ms/step - loss: 0.5326 - accuracy: 0.7149 - val_loss: 0.5250 - val_accuracy: 0.7212\n",
            "Epoch 125/200\n",
            "1328/1328 [==============================] - 6s 4ms/step - loss: 0.5345 - accuracy: 0.7133 - val_loss: 0.5385 - val_accuracy: 0.6971\n",
            "Epoch 126/200\n",
            "1328/1328 [==============================] - 5s 4ms/step - loss: 0.5278 - accuracy: 0.7194 - val_loss: 0.5182 - val_accuracy: 0.7257\n",
            "Epoch 127/200\n",
            "1328/1328 [==============================] - 6s 5ms/step - loss: 0.5353 - accuracy: 0.7107 - val_loss: 0.5155 - val_accuracy: 0.7159\n",
            "Epoch 128/200\n",
            "1328/1328 [==============================] - 5s 4ms/step - loss: 0.5308 - accuracy: 0.7175 - val_loss: 0.5224 - val_accuracy: 0.7076\n",
            "Epoch 129/200\n",
            "1328/1328 [==============================] - 6s 4ms/step - loss: 0.5309 - accuracy: 0.7141 - val_loss: 0.5196 - val_accuracy: 0.7136\n",
            "Epoch 130/200\n",
            "1328/1328 [==============================] - 5s 4ms/step - loss: 0.5320 - accuracy: 0.7158 - val_loss: 0.4997 - val_accuracy: 0.7415\n",
            "Epoch 131/200\n",
            "1328/1328 [==============================] - 6s 4ms/step - loss: 0.5288 - accuracy: 0.7161 - val_loss: 0.5106 - val_accuracy: 0.7332\n",
            "Epoch 132/200\n",
            "1328/1328 [==============================] - 5s 4ms/step - loss: 0.5267 - accuracy: 0.7203 - val_loss: 0.5159 - val_accuracy: 0.7227\n",
            "Epoch 133/200\n",
            "1328/1328 [==============================] - 6s 5ms/step - loss: 0.5282 - accuracy: 0.7172 - val_loss: 0.4918 - val_accuracy: 0.7581\n",
            "Epoch 134/200\n",
            "1328/1328 [==============================] - 5s 4ms/step - loss: 0.5287 - accuracy: 0.7168 - val_loss: 0.5135 - val_accuracy: 0.7355\n",
            "Epoch 135/200\n",
            "1328/1328 [==============================] - 6s 5ms/step - loss: 0.5281 - accuracy: 0.7150 - val_loss: 0.5051 - val_accuracy: 0.7280\n",
            "Epoch 136/200\n",
            "1328/1328 [==============================] - 5s 4ms/step - loss: 0.5244 - accuracy: 0.7194 - val_loss: 0.5312 - val_accuracy: 0.7272\n",
            "Epoch 137/200\n",
            "1328/1328 [==============================] - 6s 4ms/step - loss: 0.5282 - accuracy: 0.7161 - val_loss: 0.5112 - val_accuracy: 0.7302\n",
            "Epoch 138/200\n",
            "1328/1328 [==============================] - 6s 4ms/step - loss: 0.5250 - accuracy: 0.7193 - val_loss: 0.5021 - val_accuracy: 0.7347\n",
            "Epoch 139/200\n",
            "1328/1328 [==============================] - 6s 5ms/step - loss: 0.5242 - accuracy: 0.7186 - val_loss: 0.5393 - val_accuracy: 0.7061\n",
            "Epoch 140/200\n",
            "1328/1328 [==============================] - 6s 4ms/step - loss: 0.5257 - accuracy: 0.7194 - val_loss: 0.5083 - val_accuracy: 0.7438\n",
            "Epoch 141/200\n",
            "1328/1328 [==============================] - 5s 4ms/step - loss: 0.5227 - accuracy: 0.7214 - val_loss: 0.5055 - val_accuracy: 0.7347\n",
            "Epoch 142/200\n",
            "1328/1328 [==============================] - 6s 5ms/step - loss: 0.5217 - accuracy: 0.7167 - val_loss: 0.5022 - val_accuracy: 0.7234\n",
            "Epoch 143/200\n",
            "1328/1328 [==============================] - 6s 5ms/step - loss: 0.5223 - accuracy: 0.7214 - val_loss: 0.5036 - val_accuracy: 0.7445\n",
            "Epoch 144/200\n",
            "1328/1328 [==============================] - 5s 4ms/step - loss: 0.5209 - accuracy: 0.7219 - val_loss: 0.4887 - val_accuracy: 0.7400\n",
            "Epoch 145/200\n",
            "1328/1328 [==============================] - 5s 4ms/step - loss: 0.5223 - accuracy: 0.7214 - val_loss: 0.4911 - val_accuracy: 0.7385\n",
            "Epoch 146/200\n",
            "1328/1328 [==============================] - 5s 4ms/step - loss: 0.5177 - accuracy: 0.7247 - val_loss: 0.5153 - val_accuracy: 0.7189\n",
            "Epoch 147/200\n",
            "1328/1328 [==============================] - 6s 4ms/step - loss: 0.5202 - accuracy: 0.7214 - val_loss: 0.5010 - val_accuracy: 0.7302\n",
            "Epoch 148/200\n",
            "1328/1328 [==============================] - 5s 4ms/step - loss: 0.5166 - accuracy: 0.7238 - val_loss: 0.5175 - val_accuracy: 0.7310\n",
            "Epoch 149/200\n",
            "1328/1328 [==============================] - 6s 4ms/step - loss: 0.5170 - accuracy: 0.7223 - val_loss: 0.4945 - val_accuracy: 0.7476\n",
            "Epoch 150/200\n",
            "1328/1328 [==============================] - 5s 4ms/step - loss: 0.5141 - accuracy: 0.7269 - val_loss: 0.4944 - val_accuracy: 0.7453\n",
            "Epoch 151/200\n",
            "1328/1328 [==============================] - 6s 4ms/step - loss: 0.5159 - accuracy: 0.7234 - val_loss: 0.5125 - val_accuracy: 0.7212\n",
            "Epoch 152/200\n",
            "1328/1328 [==============================] - 5s 4ms/step - loss: 0.5155 - accuracy: 0.7268 - val_loss: 0.5052 - val_accuracy: 0.7287\n",
            "Epoch 153/200\n",
            "1328/1328 [==============================] - 5s 4ms/step - loss: 0.5142 - accuracy: 0.7253 - val_loss: 0.5170 - val_accuracy: 0.7144\n",
            "Epoch 154/200\n",
            "1328/1328 [==============================] - 6s 4ms/step - loss: 0.5082 - accuracy: 0.7290 - val_loss: 0.4823 - val_accuracy: 0.7415\n",
            "Epoch 155/200\n",
            "1328/1328 [==============================] - 5s 4ms/step - loss: 0.5166 - accuracy: 0.7275 - val_loss: 0.5006 - val_accuracy: 0.7362\n",
            "Epoch 156/200\n",
            "1328/1328 [==============================] - 6s 4ms/step - loss: 0.5128 - accuracy: 0.7272 - val_loss: 0.4990 - val_accuracy: 0.7332\n",
            "Epoch 157/200\n",
            "1328/1328 [==============================] - 5s 4ms/step - loss: 0.5130 - accuracy: 0.7227 - val_loss: 0.4989 - val_accuracy: 0.7400\n",
            "Epoch 158/200\n",
            "1328/1328 [==============================] - 6s 4ms/step - loss: 0.5060 - accuracy: 0.7292 - val_loss: 0.5253 - val_accuracy: 0.7355\n",
            "Epoch 159/200\n",
            "1328/1328 [==============================] - 5s 4ms/step - loss: 0.5130 - accuracy: 0.7282 - val_loss: 0.4958 - val_accuracy: 0.7317\n",
            "Epoch 160/200\n",
            "1328/1328 [==============================] - 7s 5ms/step - loss: 0.5115 - accuracy: 0.7237 - val_loss: 0.4792 - val_accuracy: 0.7491\n",
            "Epoch 161/200\n",
            "1328/1328 [==============================] - 5s 4ms/step - loss: 0.5102 - accuracy: 0.7246 - val_loss: 0.4744 - val_accuracy: 0.7483\n",
            "Epoch 162/200\n",
            "1328/1328 [==============================] - 5s 4ms/step - loss: 0.5110 - accuracy: 0.7278 - val_loss: 0.5145 - val_accuracy: 0.7167\n",
            "Epoch 163/200\n",
            "1328/1328 [==============================] - 6s 4ms/step - loss: 0.5101 - accuracy: 0.7297 - val_loss: 0.4980 - val_accuracy: 0.7408\n",
            "Epoch 164/200\n",
            "1328/1328 [==============================] - 6s 5ms/step - loss: 0.5075 - accuracy: 0.7257 - val_loss: 0.5078 - val_accuracy: 0.7144\n",
            "Epoch 165/200\n",
            "1328/1328 [==============================] - 5s 4ms/step - loss: 0.5054 - accuracy: 0.7293 - val_loss: 0.5070 - val_accuracy: 0.7287\n",
            "Epoch 166/200\n",
            "1328/1328 [==============================] - 6s 4ms/step - loss: 0.5047 - accuracy: 0.7298 - val_loss: 0.4726 - val_accuracy: 0.7581\n",
            "Epoch 167/200\n",
            "1328/1328 [==============================] - 5s 4ms/step - loss: 0.5042 - accuracy: 0.7329 - val_loss: 0.5093 - val_accuracy: 0.7506\n",
            "Epoch 168/200\n",
            "1328/1328 [==============================] - 5s 4ms/step - loss: 0.5045 - accuracy: 0.7301 - val_loss: 0.4846 - val_accuracy: 0.7521\n",
            "Epoch 169/200\n",
            "1328/1328 [==============================] - 6s 4ms/step - loss: 0.5072 - accuracy: 0.7276 - val_loss: 0.4643 - val_accuracy: 0.7687\n",
            "Epoch 170/200\n",
            "1328/1328 [==============================] - 5s 4ms/step - loss: 0.5056 - accuracy: 0.7330 - val_loss: 0.4854 - val_accuracy: 0.7513\n",
            "Epoch 171/200\n",
            "1328/1328 [==============================] - 6s 5ms/step - loss: 0.5059 - accuracy: 0.7297 - val_loss: 0.5191 - val_accuracy: 0.7227\n",
            "Epoch 172/200\n",
            "1328/1328 [==============================] - 5s 4ms/step - loss: 0.5020 - accuracy: 0.7359 - val_loss: 0.5073 - val_accuracy: 0.7310\n",
            "Epoch 173/200\n",
            "1328/1328 [==============================] - 6s 5ms/step - loss: 0.4992 - accuracy: 0.7370 - val_loss: 0.4800 - val_accuracy: 0.7491\n",
            "Epoch 174/200\n",
            "1328/1328 [==============================] - 6s 4ms/step - loss: 0.4966 - accuracy: 0.7392 - val_loss: 0.4941 - val_accuracy: 0.7460\n",
            "Epoch 175/200\n",
            "1328/1328 [==============================] - 5s 4ms/step - loss: 0.4993 - accuracy: 0.7389 - val_loss: 0.5056 - val_accuracy: 0.7242\n",
            "Epoch 176/200\n",
            "1328/1328 [==============================] - 5s 4ms/step - loss: 0.5001 - accuracy: 0.7337 - val_loss: 0.4886 - val_accuracy: 0.7513\n",
            "Epoch 177/200\n",
            "1328/1328 [==============================] - 6s 4ms/step - loss: 0.4984 - accuracy: 0.7349 - val_loss: 0.5112 - val_accuracy: 0.7295\n",
            "Epoch 178/200\n",
            "1328/1328 [==============================] - 6s 4ms/step - loss: 0.4968 - accuracy: 0.7345 - val_loss: 0.5095 - val_accuracy: 0.7129\n",
            "Epoch 179/200\n",
            "1328/1328 [==============================] - 5s 4ms/step - loss: 0.4994 - accuracy: 0.7375 - val_loss: 0.4730 - val_accuracy: 0.7498\n",
            "Epoch 180/200\n",
            "1328/1328 [==============================] - 6s 4ms/step - loss: 0.4962 - accuracy: 0.7349 - val_loss: 0.4814 - val_accuracy: 0.7393\n",
            "Epoch 181/200\n",
            "1328/1328 [==============================] - 6s 4ms/step - loss: 0.4952 - accuracy: 0.7381 - val_loss: 0.4834 - val_accuracy: 0.7415\n",
            "Epoch 182/200\n",
            "1328/1328 [==============================] - 6s 5ms/step - loss: 0.4947 - accuracy: 0.7381 - val_loss: 0.4866 - val_accuracy: 0.7347\n",
            "Epoch 183/200\n",
            "1328/1328 [==============================] - 5s 4ms/step - loss: 0.4932 - accuracy: 0.7369 - val_loss: 0.4831 - val_accuracy: 0.7385\n",
            "Epoch 184/200\n",
            "1328/1328 [==============================] - 5s 4ms/step - loss: 0.4962 - accuracy: 0.7366 - val_loss: 0.4859 - val_accuracy: 0.7423\n",
            "Epoch 185/200\n",
            "1328/1328 [==============================] - 6s 4ms/step - loss: 0.4949 - accuracy: 0.7381 - val_loss: 0.4823 - val_accuracy: 0.7596\n",
            "Epoch 186/200\n",
            "1328/1328 [==============================] - 6s 4ms/step - loss: 0.4926 - accuracy: 0.7392 - val_loss: 0.4716 - val_accuracy: 0.7536\n",
            "Epoch 187/200\n",
            "1328/1328 [==============================] - 5s 4ms/step - loss: 0.4931 - accuracy: 0.7392 - val_loss: 0.4757 - val_accuracy: 0.7506\n",
            "Epoch 188/200\n",
            "1328/1328 [==============================] - 5s 4ms/step - loss: 0.4948 - accuracy: 0.7359 - val_loss: 0.4526 - val_accuracy: 0.7724\n",
            "Epoch 189/200\n",
            "1328/1328 [==============================] - 5s 4ms/step - loss: 0.4946 - accuracy: 0.7335 - val_loss: 0.4875 - val_accuracy: 0.7362\n",
            "Epoch 190/200\n",
            "1328/1328 [==============================] - 5s 4ms/step - loss: 0.4936 - accuracy: 0.7402 - val_loss: 0.4929 - val_accuracy: 0.7400\n",
            "Epoch 191/200\n",
            "1328/1328 [==============================] - 6s 5ms/step - loss: 0.4923 - accuracy: 0.7360 - val_loss: 0.4940 - val_accuracy: 0.7445\n",
            "Epoch 192/200\n",
            "1328/1328 [==============================] - 5s 4ms/step - loss: 0.4927 - accuracy: 0.7386 - val_loss: 0.4628 - val_accuracy: 0.7732\n",
            "Epoch 193/200\n",
            "1328/1328 [==============================] - 6s 4ms/step - loss: 0.4890 - accuracy: 0.7441 - val_loss: 0.5005 - val_accuracy: 0.7302\n",
            "Epoch 194/200\n",
            "1328/1328 [==============================] - 6s 4ms/step - loss: 0.4892 - accuracy: 0.7399 - val_loss: 0.4803 - val_accuracy: 0.7551\n",
            "Epoch 195/200\n",
            "1328/1328 [==============================] - 5s 4ms/step - loss: 0.4889 - accuracy: 0.7399 - val_loss: 0.4609 - val_accuracy: 0.7589\n",
            "Epoch 196/200\n",
            "1328/1328 [==============================] - 5s 4ms/step - loss: 0.4896 - accuracy: 0.7403 - val_loss: 0.4549 - val_accuracy: 0.7619\n",
            "Epoch 197/200\n",
            "1328/1328 [==============================] - 6s 4ms/step - loss: 0.4895 - accuracy: 0.7389 - val_loss: 0.4711 - val_accuracy: 0.7611\n",
            "Epoch 198/200\n",
            "1328/1328 [==============================] - 6s 4ms/step - loss: 0.4848 - accuracy: 0.7466 - val_loss: 0.4753 - val_accuracy: 0.7506\n",
            "Epoch 199/200\n",
            "1328/1328 [==============================] - 5s 4ms/step - loss: 0.4877 - accuracy: 0.7372 - val_loss: 0.4558 - val_accuracy: 0.7589\n",
            "Epoch 200/200\n",
            "1328/1328 [==============================] - 6s 4ms/step - loss: 0.4829 - accuracy: 0.7417 - val_loss: 0.4788 - val_accuracy: 0.7506\n"
          ]
        }
      ]
    },
    {
      "cell_type": "code",
      "source": [
        "fig = plt.figure()\n",
        "plt.plot(hist.history['accuracy'], color='teal', label='accuracy')\n",
        "plt.plot(hist.history['val_accuracy'], color='orange', label='val_accuracy')\n",
        "fig.suptitle('Accuracy', fontsize=20)\n",
        "plt.legend(loc=\"upper left\")\n",
        "plt.ylim(0.44, 0.86)\n",
        "plt.show()\n",
        "##didn't increase the accuracy"
      ],
      "metadata": {
        "colab": {
          "base_uri": "https://localhost:8080/",
          "height": 482
        },
        "id": "HcSBiFGj6XU5",
        "outputId": "975778cc-66e0-4c5d-f432-9fbfe98b1cdd"
      },
      "execution_count": 33,
      "outputs": [
        {
          "output_type": "display_data",
          "data": {
            "text/plain": [
              "<Figure size 640x480 with 1 Axes>"
            ],
            "image/png": "[encoded data removed]"
          },
          "metadata": {}
        }
      ]
    },
    {
      "cell_type": "code",
      "source": [
        "test_accuracy = model_2.evaluate(test_dataset_r,verbose=0,return_dict=True)['accuracy']\n",
        "test_accuracy"
      ],
      "metadata": {
        "colab": {
          "base_uri": "https://localhost:8080/"
        },
        "id": "lUvfnMdo6XXN",
        "outputId": "25089b60-7392-4990-c769-35a8ce3aa830"
      },
      "execution_count": 34,
      "outputs": [
        {
          "output_type": "execute_result",
          "data": {
            "text/plain": [
              "0.7543330788612366"
            ]
          },
          "metadata": {},
          "execution_count": 34
        }
      ]
    },
    {
      "cell_type": "code",
      "source": [
        "y_test_true = []\n",
        "y_test_predicted = []\n",
        "\n",
        "#expand true label y in test_dataset and save it in the list. Make prediction by batches and save it in the list\n",
        "#Must do the prediction and expanding under same for loop otherwise the sequence may be messed up.\n",
        "#Try sigmoid?\n",
        "\n",
        "for test_features, y_test in test_dataset_r:\n",
        "  predictions = model_2.predict(test_features, verbose=0)\n",
        "  y_test_predicted.extend(np.argmax(predictions, axis=1).tolist())\n",
        "  y_test_true.extend(y_test.numpy())\n",
        "print(f\"True label    : {y_test_true[0:20]}\")\n",
        "print(f\"Predicted label: {y_test_predicted[0:20]}\")\n",
        "\n",
        "correct_predictions = sum(np.array(y_test_predicted) == np.array(y_test_true))\n",
        "total_samples = len(y_test_true)\n",
        "accuracy = correct_predictions / total_samples\n",
        "print(\"Manual Accuracy:\", accuracy)"
      ],
      "metadata": {
        "colab": {
          "base_uri": "https://localhost:8080/"
        },
        "id": "vFbukOeY6XZm",
        "outputId": "0639a059-4d23-4a82-9ccc-663af738bf8e"
      },
      "execution_count": 35,
      "outputs": [
        {
          "output_type": "stream",
          "name": "stdout",
          "text": [
            "True label    : [0, 1, 1, 1, 1, 0, 0, 1, 1, 1, 1, 0, 0, 1, 1, 1, 1, 1, 0, 0]\n",
            "Predicted label: [0, 1, 1, 1, 0, 0, 0, 1, 1, 1, 1, 0, 0, 1, 1, 1, 1, 0, 0, 0]\n",
            "Manual Accuracy: 0.771665410700829\n"
          ]
        }
      ]
    },
    {
      "cell_type": "code",
      "source": [
        "import seaborn as sns  # for nicer plots\n",
        "sns.set(style=\"darkgrid\")  # default style\n",
        "\n",
        "# Create a confusion matrix as a 2D array.\n",
        "confusion_matrix = tf.math.confusion_matrix(y_test_true, y_test_predicted)\n",
        "\n",
        "# Use a heatmap plot to display it.\n",
        "ax = sns.heatmap(confusion_matrix, annot=True, fmt='.3g', cmap='Blues')\n",
        "# Add axis labels.\n",
        "ax.set(xlabel='Predicted Label', ylabel='True Label')\n",
        "plt.show()\n",
        "print(confusion_matrix.numpy())"
      ],
      "metadata": {
        "colab": {
          "base_uri": "https://localhost:8080/",
          "height": 495
        },
        "id": "qoUbc22Y6Xb8",
        "outputId": "fb076cf7-aa1f-4e0c-cdb5-f2710b4b4a5f"
      },
      "execution_count": 36,
      "outputs": [
        {
          "output_type": "display_data",
          "data": {
            "text/plain": [
              "<Figure size 640x480 with 2 Axes>"
            ],
            "image/png": "[encoded data removed]"
          },
          "metadata": {}
        },
        {
          "output_type": "stream",
          "name": "stdout",
          "text": [
            "[[524 138]\n",
            " [165 500]]\n"
          ]
        }
      ]
    },
    {
      "cell_type": "markdown",
      "source": [
        "1. model2(13features,6months prior), 13272 (6636+6636) examples, 71.3% of accuracy, 100 epochs, 66.7% of recall, and 73% of precision.\n",
        "[[499 163]\n",
        " [221 444]]\n",
        "2. model2(13feature,6months prior), 13272 (6636+6636) examples, 75% of accuracy, 200 epochs, 75% of recall, and 78% of precision .\n",
        "[[524 138]\n",
        " [165 500]]"
      ],
      "metadata": {
        "id": "-ZDAf-kH6-Hu"
      }
    },
    {
      "cell_type": "markdown",
      "source": [
        "Now, our first model can predict whether a specific credit card owner will default or not based on his/her long-term repayment status (6 months) and the predicting accuracy is 93% and recall is 94% which means we can 94% surely identify the potential default. Also, we have another model that can make predictions six months ahead and the accuracy, recall and precision are 71.3%, 75%, and 78%. That is, if our model can 78% surely make a prediction of a specific credit card owner will default 6 months after. For a real-world scenario, we can send out a warning message six months ahead and a forecast a month ahead that can help the bank to get prepared.\n",
        "\n",
        "A little bit assertive and unfair? We simply predict whether default by mostly credit card owner's personal information instead of his/her repayment status."
      ],
      "metadata": {
        "id": "gju1aDaM7B9n"
      }
    }
  ]
}