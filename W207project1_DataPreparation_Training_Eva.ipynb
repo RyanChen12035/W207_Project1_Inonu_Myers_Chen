{
  "nbformat": 4,
  "nbformat_minor": 0,
  "metadata": {
    "colab": {
      "provenance": [],
      "gpuType": "T4"
    },
    "kernelspec": {
      "name": "python3",
      "display_name": "Python 3"
    },
    "language_info": {
      "name": "python"
    },
    "accelerator": "GPU"
  },
  "cells": [
    {
      "cell_type": "markdown",
      "source": [
        "# Data preparation\n",
        "##### 1. Load the data from EDA\n",
        "##### 2. Normalize\n",
        "##### 3. Set up a Data pipeline, do shuffle, split the data into training, testing, split up into batches"
      ],
      "metadata": {
        "id": "4jgaHpO_CVxO"
      }
    },
    {
      "cell_type": "code",
      "source": [
        "import pandas as pd\n",
        "import numpy as np\n",
        "import tensorflow as tf\n",
        "from sklearn.preprocessing import StandardScaler"
      ],
      "metadata": {
        "id": "8hNf4wgDC2LU"
      },
      "execution_count": 1,
      "outputs": []
    },
    {
      "cell_type": "code",
      "source": [
        "#load data\n",
        "df = pd.read_csv('/content/sample_data/CreditCard_EDA_balanced6636.csv')\n",
        "df.head()"
      ],
      "metadata": {
        "id": "nOAvg5NxC5a3",
        "colab": {
          "base_uri": "https://localhost:8080/",
          "height": 299
        },
        "outputId": "25c662a8-b7d5-456f-fee0-ecf2762b78eb"
      },
      "execution_count": 3,
      "outputs": [
        {
          "output_type": "execute_result",
          "data": {
            "text/plain": [
              "   LIMIT_BAL  AGE  PAY_0  PAY_2  PAY_3  PAY_4  PAY_5  PAY_6  BILL_AMT1  \\\n",
              "0   9.446729   31     -1     -1     -1     -1     -1     -1   4.856966   \n",
              "1   8.987197   35     -2     -2     -2     -2     -2     -2   5.191289   \n",
              "2   7.418581   23     -1     -1     -2     -2     -2     -2   4.353284   \n",
              "3   9.305651   32      0      0      0      0      0      0   8.598202   \n",
              "4   7.888585   35     -1     -1     -1     -1     -1      0   4.567814   \n",
              "\n",
              "   BILL_AMT2  ...  EDUCATION_1  EDUCATION_2  EDUCATION_3  EDUCATION_4  \\\n",
              "0   5.725109  ...            0            0            1            0   \n",
              "1   5.504654  ...            0            1            0            0   \n",
              "2   0.000000  ...            1            0            0            0   \n",
              "3   8.525856  ...            1            0            0            0   \n",
              "4   5.788532  ...            0            1            0            0   \n",
              "\n",
              "   EDUCATION_5  EDUCATION_6  MARRIAGE_0  MARRIAGE_1  MARRIAGE_2  MARRIAGE_3  \n",
              "0            0            0           0           0           1           0  \n",
              "1            0            0           0           1           0           0  \n",
              "2            0            0           0           0           1           0  \n",
              "3            0            0           0           0           1           0  \n",
              "4            0            0           0           1           0           0  \n",
              "\n",
              "[5 rows x 34 columns]"
            ],
            "text/html": [
              "\n",
              "\n",
              "  <div id=\"df-f326041f-03c8-4ed5-bd51-c1ad52609953\">\n",
              "    <div class=\"colab-df-container\">\n",
              "      <div>\n",
              "<style scoped>\n",
              "    .dataframe tbody tr th:only-of-type {\n",
              "        vertical-align: middle;\n",
              "    }\n",
              "\n",
              "    .dataframe tbody tr th {\n",
              "        vertical-align: top;\n",
              "    }\n",
              "\n",
              "    .dataframe thead th {\n",
              "        text-align: right;\n",
              "    }\n",
              "</style>\n",
              "<table border=\"1\" class=\"dataframe\">\n",
              "  <thead>\n",
              "    <tr style=\"text-align: right;\">\n",
              "      <th></th>\n",
              "      <th>LIMIT_BAL</th>\n",
              "      <th>AGE</th>\n",
              "      <th>PAY_0</th>\n",
              "      <th>PAY_2</th>\n",
              "      <th>PAY_3</th>\n",
              "      <th>PAY_4</th>\n",
              "      <th>PAY_5</th>\n",
              "      <th>PAY_6</th>\n",
              "      <th>BILL_AMT1</th>\n",
              "      <th>BILL_AMT2</th>\n",
              "      <th>...</th>\n",
              "      <th>EDUCATION_1</th>\n",
              "      <th>EDUCATION_2</th>\n",
              "      <th>EDUCATION_3</th>\n",
              "      <th>EDUCATION_4</th>\n",
              "      <th>EDUCATION_5</th>\n",
              "      <th>EDUCATION_6</th>\n",
              "      <th>MARRIAGE_0</th>\n",
              "      <th>MARRIAGE_1</th>\n",
              "      <th>MARRIAGE_2</th>\n",
              "      <th>MARRIAGE_3</th>\n",
              "    </tr>\n",
              "  </thead>\n",
              "  <tbody>\n",
              "    <tr>\n",
              "      <th>0</th>\n",
              "      <td>9.446729</td>\n",
              "      <td>31</td>\n",
              "      <td>-1</td>\n",
              "      <td>-1</td>\n",
              "      <td>-1</td>\n",
              "      <td>-1</td>\n",
              "      <td>-1</td>\n",
              "      <td>-1</td>\n",
              "      <td>4.856966</td>\n",
              "      <td>5.725109</td>\n",
              "      <td>...</td>\n",
              "      <td>0</td>\n",
              "      <td>0</td>\n",
              "      <td>1</td>\n",
              "      <td>0</td>\n",
              "      <td>0</td>\n",
              "      <td>0</td>\n",
              "      <td>0</td>\n",
              "      <td>0</td>\n",
              "      <td>1</td>\n",
              "      <td>0</td>\n",
              "    </tr>\n",
              "    <tr>\n",
              "      <th>1</th>\n",
              "      <td>8.987197</td>\n",
              "      <td>35</td>\n",
              "      <td>-2</td>\n",
              "      <td>-2</td>\n",
              "      <td>-2</td>\n",
              "      <td>-2</td>\n",
              "      <td>-2</td>\n",
              "      <td>-2</td>\n",
              "      <td>5.191289</td>\n",
              "      <td>5.504654</td>\n",
              "      <td>...</td>\n",
              "      <td>0</td>\n",
              "      <td>1</td>\n",
              "      <td>0</td>\n",
              "      <td>0</td>\n",
              "      <td>0</td>\n",
              "      <td>0</td>\n",
              "      <td>0</td>\n",
              "      <td>1</td>\n",
              "      <td>0</td>\n",
              "      <td>0</td>\n",
              "    </tr>\n",
              "    <tr>\n",
              "      <th>2</th>\n",
              "      <td>7.418581</td>\n",
              "      <td>23</td>\n",
              "      <td>-1</td>\n",
              "      <td>-1</td>\n",
              "      <td>-2</td>\n",
              "      <td>-2</td>\n",
              "      <td>-2</td>\n",
              "      <td>-2</td>\n",
              "      <td>4.353284</td>\n",
              "      <td>0.000000</td>\n",
              "      <td>...</td>\n",
              "      <td>1</td>\n",
              "      <td>0</td>\n",
              "      <td>0</td>\n",
              "      <td>0</td>\n",
              "      <td>0</td>\n",
              "      <td>0</td>\n",
              "      <td>0</td>\n",
              "      <td>0</td>\n",
              "      <td>1</td>\n",
              "      <td>0</td>\n",
              "    </tr>\n",
              "    <tr>\n",
              "      <th>3</th>\n",
              "      <td>9.305651</td>\n",
              "      <td>32</td>\n",
              "      <td>0</td>\n",
              "      <td>0</td>\n",
              "      <td>0</td>\n",
              "      <td>0</td>\n",
              "      <td>0</td>\n",
              "      <td>0</td>\n",
              "      <td>8.598202</td>\n",
              "      <td>8.525856</td>\n",
              "      <td>...</td>\n",
              "      <td>1</td>\n",
              "      <td>0</td>\n",
              "      <td>0</td>\n",
              "      <td>0</td>\n",
              "      <td>0</td>\n",
              "      <td>0</td>\n",
              "      <td>0</td>\n",
              "      <td>0</td>\n",
              "      <td>1</td>\n",
              "      <td>0</td>\n",
              "    </tr>\n",
              "    <tr>\n",
              "      <th>4</th>\n",
              "      <td>7.888585</td>\n",
              "      <td>35</td>\n",
              "      <td>-1</td>\n",
              "      <td>-1</td>\n",
              "      <td>-1</td>\n",
              "      <td>-1</td>\n",
              "      <td>-1</td>\n",
              "      <td>0</td>\n",
              "      <td>4.567814</td>\n",
              "      <td>5.788532</td>\n",
              "      <td>...</td>\n",
              "      <td>0</td>\n",
              "      <td>1</td>\n",
              "      <td>0</td>\n",
              "      <td>0</td>\n",
              "      <td>0</td>\n",
              "      <td>0</td>\n",
              "      <td>0</td>\n",
              "      <td>1</td>\n",
              "      <td>0</td>\n",
              "      <td>0</td>\n",
              "    </tr>\n",
              "  </tbody>\n",
              "</table>\n",
              "<p>5 rows × 34 columns</p>\n",
              "</div>\n",
              "      <button class=\"colab-df-convert\" onclick=\"convertToInteractive('df-f326041f-03c8-4ed5-bd51-c1ad52609953')\"\n",
              "              title=\"Convert this dataframe to an interactive table.\"\n",
              "              style=\"display:none;\">\n",
              "\n",
              "  <svg xmlns=\"http://www.w3.org/2000/svg\" height=\"24px\"viewBox=\"0 0 24 24\"\n",
              "       width=\"24px\">\n",
              "    <path d=\"M0 0h24v24H0V0z\" fill=\"none\"/>\n",
              "    <path d=\"M18.56 5.44l.94 2.06.94-2.06 2.06-.94-2.06-.94-.94-2.06-.94 2.06-2.06.94zm-11 1L8.5 8.5l.94-2.06 2.06-.94-2.06-.94L8.5 2.5l-.94 2.06-2.06.94zm10 10l.94 2.06.94-2.06 2.06-.94-2.06-.94-.94-2.06-.94 2.06-2.06.94z\"/><path d=\"M17.41 7.96l-1.37-1.37c-.4-.4-.92-.59-1.43-.59-.52 0-1.04.2-1.43.59L10.3 9.45l-7.72 7.72c-.78.78-.78 2.05 0 2.83L4 21.41c.39.39.9.59 1.41.59.51 0 1.02-.2 1.41-.59l7.78-7.78 2.81-2.81c.8-.78.8-2.07 0-2.86zM5.41 20L4 18.59l7.72-7.72 1.47 1.35L5.41 20z\"/>\n",
              "  </svg>\n",
              "      </button>\n",
              "\n",
              "\n",
              "\n",
              "    <div id=\"df-2b805fe6-37b4-48e7-a506-e867a7dd4c8b\">\n",
              "      <button class=\"colab-df-quickchart\" onclick=\"quickchart('df-2b805fe6-37b4-48e7-a506-e867a7dd4c8b')\"\n",
              "              title=\"Suggest charts.\"\n",
              "              style=\"display:none;\">\n",
              "\n",
              "<svg xmlns=\"http://www.w3.org/2000/svg\" height=\"24px\"viewBox=\"0 0 24 24\"\n",
              "     width=\"24px\">\n",
              "    <g>\n",
              "        <path d=\"M19 3H5c-1.1 0-2 .9-2 2v14c0 1.1.9 2 2 2h14c1.1 0 2-.9 2-2V5c0-1.1-.9-2-2-2zM9 17H7v-7h2v7zm4 0h-2V7h2v10zm4 0h-2v-4h2v4z\"/>\n",
              "    </g>\n",
              "</svg>\n",
              "      </button>\n",
              "    </div>\n",
              "\n",
              "<style>\n",
              "  .colab-df-quickchart {\n",
              "    background-color: #E8F0FE;\n",
              "    border: none;\n",
              "    border-radius: 50%;\n",
              "    cursor: pointer;\n",
              "    display: none;\n",
              "    fill: #1967D2;\n",
              "    height: 32px;\n",
              "    padding: 0 0 0 0;\n",
              "    width: 32px;\n",
              "  }\n",
              "\n",
              "  .colab-df-quickchart:hover {\n",
              "    background-color: #E2EBFA;\n",
              "    box-shadow: 0px 1px 2px rgba(60, 64, 67, 0.3), 0px 1px 3px 1px rgba(60, 64, 67, 0.15);\n",
              "    fill: #174EA6;\n",
              "  }\n",
              "\n",
              "  [theme=dark] .colab-df-quickchart {\n",
              "    background-color: #3B4455;\n",
              "    fill: #D2E3FC;\n",
              "  }\n",
              "\n",
              "  [theme=dark] .colab-df-quickchart:hover {\n",
              "    background-color: #434B5C;\n",
              "    box-shadow: 0px 1px 3px 1px rgba(0, 0, 0, 0.15);\n",
              "    filter: drop-shadow(0px 1px 2px rgba(0, 0, 0, 0.3));\n",
              "    fill: #FFFFFF;\n",
              "  }\n",
              "</style>\n",
              "\n",
              "    <script>\n",
              "      async function quickchart(key) {\n",
              "        const containerElement = document.querySelector('#' + key);\n",
              "        const charts = await google.colab.kernel.invokeFunction(\n",
              "            'suggestCharts', [key], {});\n",
              "      }\n",
              "    </script>\n",
              "\n",
              "      <script>\n",
              "\n",
              "function displayQuickchartButton(domScope) {\n",
              "  let quickchartButtonEl =\n",
              "    domScope.querySelector('#df-2b805fe6-37b4-48e7-a506-e867a7dd4c8b button.colab-df-quickchart');\n",
              "  quickchartButtonEl.style.display =\n",
              "    google.colab.kernel.accessAllowed ? 'block' : 'none';\n",
              "}\n",
              "\n",
              "        displayQuickchartButton(document);\n",
              "      </script>\n",
              "      <style>\n",
              "    .colab-df-container {\n",
              "      display:flex;\n",
              "      flex-wrap:wrap;\n",
              "      gap: 12px;\n",
              "    }\n",
              "\n",
              "    .colab-df-convert {\n",
              "      background-color: #E8F0FE;\n",
              "      border: none;\n",
              "      border-radius: 50%;\n",
              "      cursor: pointer;\n",
              "      display: none;\n",
              "      fill: #1967D2;\n",
              "      height: 32px;\n",
              "      padding: 0 0 0 0;\n",
              "      width: 32px;\n",
              "    }\n",
              "\n",
              "    .colab-df-convert:hover {\n",
              "      background-color: #E2EBFA;\n",
              "      box-shadow: 0px 1px 2px rgba(60, 64, 67, 0.3), 0px 1px 3px 1px rgba(60, 64, 67, 0.15);\n",
              "      fill: #174EA6;\n",
              "    }\n",
              "\n",
              "    [theme=dark] .colab-df-convert {\n",
              "      background-color: #3B4455;\n",
              "      fill: #D2E3FC;\n",
              "    }\n",
              "\n",
              "    [theme=dark] .colab-df-convert:hover {\n",
              "      background-color: #434B5C;\n",
              "      box-shadow: 0px 1px 3px 1px rgba(0, 0, 0, 0.15);\n",
              "      filter: drop-shadow(0px 1px 2px rgba(0, 0, 0, 0.3));\n",
              "      fill: #FFFFFF;\n",
              "    }\n",
              "  </style>\n",
              "\n",
              "      <script>\n",
              "        const buttonEl =\n",
              "          document.querySelector('#df-f326041f-03c8-4ed5-bd51-c1ad52609953 button.colab-df-convert');\n",
              "        buttonEl.style.display =\n",
              "          google.colab.kernel.accessAllowed ? 'block' : 'none';\n",
              "\n",
              "        async function convertToInteractive(key) {\n",
              "          const element = document.querySelector('#df-f326041f-03c8-4ed5-bd51-c1ad52609953');\n",
              "          const dataTable =\n",
              "            await google.colab.kernel.invokeFunction('convertToInteractive',\n",
              "                                                     [key], {});\n",
              "          if (!dataTable) return;\n",
              "\n",
              "          const docLinkHtml = 'Like what you see? Visit the ' +\n",
              "            '<a target=\"_blank\" href=https://colab.research.google.com/notebooks/data_table.ipynb>data table notebook</a>'\n",
              "            + ' to learn more about interactive tables.';\n",
              "          element.innerHTML = '';\n",
              "          dataTable['output_type'] = 'display_data';\n",
              "          await google.colab.output.renderOutput(dataTable, element);\n",
              "          const docLink = document.createElement('div');\n",
              "          docLink.innerHTML = docLinkHtml;\n",
              "          element.appendChild(docLink);\n",
              "        }\n",
              "      </script>\n",
              "    </div>\n",
              "  </div>\n"
            ]
          },
          "metadata": {},
          "execution_count": 3
        }
      ]
    },
    {
      "cell_type": "code",
      "source": [
        "df.columns"
      ],
      "metadata": {
        "id": "NW4VlJSnIaCY"
      },
      "execution_count": null,
      "outputs": []
    },
    {
      "cell_type": "code",
      "source": [
        "df[['default.payment.next.month']].values.shape\n",
        "df[['LIMIT_BAL', 'AGE', 'PAY_0', 'PAY_2', 'PAY_3', 'PAY_4', 'PAY_5',\n",
        "       'PAY_6', 'BILL_AMT1', 'BILL_AMT2', 'BILL_AMT3', 'BILL_AMT4',\n",
        "       'BILL_AMT5', 'BILL_AMT6', 'PAY_AMT1', 'PAY_AMT2', 'PAY_AMT3',\n",
        "       'PAY_AMT4', 'PAY_AMT5', 'PAY_AMT6',\n",
        "       'SEX_1', 'SEX_2', 'EDUCATION_0', 'EDUCATION_1', 'EDUCATION_2',\n",
        "       'EDUCATION_3', 'EDUCATION_4', 'EDUCATION_5', 'EDUCATION_6',\n",
        "       'MARRIAGE_0', 'MARRIAGE_1', 'MARRIAGE_2', 'MARRIAGE_3']].values.shape"
      ],
      "metadata": {
        "id": "CNv1lyCiXT5u",
        "colab": {
          "base_uri": "https://localhost:8080/"
        },
        "outputId": "6b3cab4b-c4ae-4c04-aba4-3ad5b1ceea0c"
      },
      "execution_count": null,
      "outputs": [
        {
          "output_type": "execute_result",
          "data": {
            "text/plain": [
              "(13272, 33)"
            ]
          },
          "metadata": {},
          "execution_count": 5
        }
      ]
    },
    {
      "cell_type": "code",
      "source": [
        "#Normalization, Pouring data into pipeline, shuffle, split the training, evaluating, and testing data, split the dataset into batches\n",
        "\n",
        "X = df[['LIMIT_BAL', 'AGE', 'PAY_0', 'PAY_2', 'PAY_3', 'PAY_4', 'PAY_5',\n",
        "       'PAY_6', 'BILL_AMT1', 'BILL_AMT2', 'BILL_AMT3', 'BILL_AMT4',\n",
        "       'BILL_AMT5', 'BILL_AMT6', 'PAY_AMT1', 'PAY_AMT2', 'PAY_AMT3',\n",
        "       'PAY_AMT4', 'PAY_AMT5', 'PAY_AMT6',\n",
        "       'SEX_1', 'SEX_2', 'EDUCATION_0', 'EDUCATION_1', 'EDUCATION_2',\n",
        "       'EDUCATION_3', 'EDUCATION_4', 'EDUCATION_5', 'EDUCATION_6',\n",
        "       'MARRIAGE_0', 'MARRIAGE_1', 'MARRIAGE_2', 'MARRIAGE_3']].values\n",
        "y = np.squeeze(df[['default.payment.next.month']].values)\n",
        "print(X.shape, y.shape)\n",
        "\n",
        "# Normalize the input features using Z-score normalization\n",
        "scaler = StandardScaler()\n",
        "X_normalized = scaler.fit_transform(X)\n",
        "\n",
        "print(X[0])\n",
        "print(X_normalized[0])\n",
        "print(y[0:5])\n"
      ],
      "metadata": {
        "id": "31o55e4DD1eF",
        "colab": {
          "base_uri": "https://localhost:8080/"
        },
        "outputId": "53e1812f-1a59-4f61-a69b-9ff43cba6434"
      },
      "execution_count": 25,
      "outputs": [
        {
          "output_type": "stream",
          "name": "stdout",
          "text": [
            "(13272, 33) (13272,)\n",
            "[ 9.44672915 31.         -1.         -1.         -1.         -1.\n",
            " -1.         -1.          4.85696598  5.72510899  6.22502037  5.9177283\n",
            "  6.03092562  6.12249281  5.73009978  6.23002202  5.92265023  6.03172638\n",
            "  6.12745126  6.40031281  0.          1.          0.          0.\n",
            "  0.          1.          0.          0.          0.          0.\n",
            "  0.          1.          0.        ]\n",
            "[ 1.34046716 -0.49059068 -0.97329516 -0.80112701 -0.76655653 -0.72206122\n",
            " -0.68971224 -0.65954396 -0.40523466 -0.01855997  0.19718281  0.12348441\n",
            "  0.21222476  0.2857089   0.99726323  1.2382585   1.18040457  1.29258012\n",
            "  1.32820307  1.4538196  -0.83627734  0.83627734 -0.02297182 -0.71322938\n",
            " -0.95735798  2.18700858 -0.05358537 -0.08216519 -0.03980937 -0.03363745\n",
            " -0.92996273  0.95303066 -0.10583005]\n",
            "[0 0 0 0 0]\n"
          ]
        }
      ]
    },
    {
      "cell_type": "code",
      "source": [
        "# Create a TensorFlow Dataset from the normalized input features and target labels\n",
        "dataset = tf.data.Dataset.from_tensor_slices((X_normalized, y))\n",
        "\n",
        "# Shuffle the dataset\n",
        "dataset = dataset.shuffle(buffer_size=len(X_normalized))\n",
        "\n",
        "# Split the data into train, validation, and test sets\n",
        "train_size = int(0.8 * len(X_normalized))\n",
        "val_size = int(0.1 * len(X_normalized))\n",
        "test_size = int(0.1 * len(X_normalized))\n",
        "\n",
        "# Split the dataset into train, validation, and test sets\n",
        "train_dataset = dataset.take(train_size)\n",
        "val_dataset = dataset.skip(train_size).take(val_size)\n",
        "test_dataset = dataset.skip(train_size + val_size).take(test_size)\n",
        "\n",
        "# Batch the datasets\n",
        "batch_size = 8\n",
        "train_dataset = train_dataset.batch(batch_size)\n",
        "val_dataset = val_dataset.batch(batch_size)\n",
        "test_dataset = test_dataset.batch(batch_size)\n",
        "\n",
        "it = train_dataset.as_numpy_iterator()\n",
        "print(it.next()[0].shape, it.next()[1].shape) #return a batch (X,y)\n",
        "print(it.next()[0], it.next()[1]) #return a batch (X,y)\n",
        "# for features, labels in train_dataset:\n",
        "#   print(\"Train Features shape:\", features.shape)\n",
        "#   print(\"Train Labels shape:\", labels.shape)"
      ],
      "metadata": {
        "id": "gzPu94zxJpcH",
        "colab": {
          "base_uri": "https://localhost:8080/"
        },
        "outputId": "0d95f563-867c-445b-89b8-d0b766b554e5"
      },
      "execution_count": 26,
      "outputs": [
        {
          "output_type": "stream",
          "name": "stdout",
          "text": [
            "(8, 33) (8,)\n",
            "[[-0.27038186 -1.23311841 -0.18313285 -0.05935516 -0.0206266   0.03454675\n",
            "   0.08597294  0.11209457  0.78646172  0.78959877  0.75142352  0.36774802\n",
            "   0.10712208  0.14848387  0.61024393  0.4523554   0.363562    0.13293735\n",
            "  -0.22450466  1.49952288 -0.83627734  0.83627734 -0.02297182 -0.71322938\n",
            "   1.04454136 -0.45724558 -0.05358537 -0.08216519 -0.03980937 -0.03363745\n",
            "  -0.92996273  0.95303066 -0.10583005]\n",
            " [ 1.53798486 -1.02096763 -0.97329516 -0.80112701 -0.76655653 -0.72206122\n",
            "  -0.68971224 -0.65954396  0.21914949  0.20019975  0.30543996  0.08103102\n",
            "   0.16062629  0.43992296  1.26379825  1.37270295  1.12924932  1.28866701\n",
            "   1.53985236  1.33639435 -0.83627734  0.83627734 -0.02297182  1.40207348\n",
            "  -0.95735798 -0.45724558 -0.05358537 -0.08216519 -0.03980937 -0.03363745\n",
            "  -0.92996273  0.95303066 -0.10583005]\n",
            " [-1.28438776  1.84306788 -0.18313285 -0.05935516 -0.0206266   0.03454675\n",
            "   1.63734331  0.11209457  0.26607945  0.31023489  0.36049008  0.42122796\n",
            "   0.45663157  0.50045151  0.11629622  0.29941672  0.36984509 -1.47739263\n",
            "   0.17616648  0.15692281 -0.83627734  0.83627734 -0.02297182 -0.71322938\n",
            "  -0.95735798  2.18700858 -0.05358537 -0.08216519 -0.03980937 -0.03363745\n",
            "  -0.92996273  0.95303066 -0.10583005]\n",
            " [ 0.727343    0.99446477 -0.18313285 -0.05935516 -0.0206266   0.03454675\n",
            "   0.08597294  0.11209457  1.16117007  1.13078796  1.13028441  1.089177\n",
            "   1.08246418  1.08547527  0.83573637  0.88611368  0.89534029  0.82069147\n",
            "   0.82008694  0.80654829 -0.83627734  0.83627734 -0.02297182 -0.71322938\n",
            "   1.04454136 -0.45724558 -0.05358537 -0.08216519 -0.03980937 -0.03363745\n",
            "   1.07531191 -1.04928419 -0.10583005]\n",
            " [ 0.6769025   0.78231399 -0.18313285 -0.05935516 -0.0206266  -0.72206122\n",
            "  -0.68971224 -0.65954396 -0.24063913 -0.21308252 -1.08462707 -0.50376058\n",
            "  -1.12582089 -0.56630499 -0.01961032 -0.34908007  0.40002904 -1.47739263\n",
            "   0.22563407  0.36249427 -0.83627734  0.83627734 -0.02297182 -0.71322938\n",
            "  -0.95735798  2.18700858 -0.05358537 -0.08216519 -0.03980937 -0.03363745\n",
            "  -0.92996273  0.95303066 -0.10583005]\n",
            " [-0.27038186 -0.17236452  1.39719175  1.42418853  1.47123326  1.54776269\n",
            "   1.63734331  1.65537162  0.69465733  0.71813755  0.73979483  0.77783071\n",
            "   0.82382931  0.85392067  0.47726234  0.40260085  0.51155536  0.57174052\n",
            "   0.5685445   0.46757122  1.19577555 -1.19577555 -0.02297182  1.40207348\n",
            "  -0.95735798 -0.45724558 -0.05358537 -0.08216519 -0.03980937 -0.03363745\n",
            "  -0.92996273  0.95303066 -0.10583005]\n",
            " [-1.70356777 -0.59666607 -0.18313285 -0.05935516 -0.76655653 -0.72206122\n",
            "  -0.68971224 -1.43118249  0.17893901  0.08949297 -0.75781427 -0.60814898\n",
            "  -1.98277468 -1.8768383  -0.03057333  0.05504126  0.2705312  -1.47739263\n",
            "  -1.46681399 -1.41461444  1.19577555 -1.19577555 -0.02297182 -0.71322938\n",
            "  -0.95735798  2.18700858 -0.05358537 -0.08216519 -0.03980937 -0.03363745\n",
            "   1.07531191 -1.04928419 -0.10583005]\n",
            " [-0.75628341  0.03978626 -0.18313285 -0.05935516 -0.0206266   0.03454675\n",
            "   0.08597294  0.11209457  0.76702426  0.78456529  0.80658229  0.80475717\n",
            "   0.80569979  0.78964314  0.45290268  0.43319501  0.47413725  0.49019728\n",
            "   0.48100729  0.4797295   1.19577555 -1.19577555 -0.02297182 -0.71322938\n",
            "  -0.95735798  2.18700858 -0.05358537 -0.08216519 -0.03980937 -0.03363745\n",
            "   1.07531191 -1.04928419 -0.10583005]] [1 0 1 1 0 0 1 1]\n"
          ]
        }
      ]
    },
    {
      "cell_type": "markdown",
      "source": [
        "# Modeling\n"
      ],
      "metadata": {
        "id": "fGylYXyWCZQQ"
      }
    },
    {
      "cell_type": "code",
      "source": [
        "from tensorflow.keras.models import Sequential\n",
        "from tensorflow.keras.layers import Dense, Flatten, Dropout\n",
        "from tensorflow.keras.optimizers import Adam\n",
        "from matplotlib import pyplot as plt"
      ],
      "metadata": {
        "id": "Gjg25Bk9NTFZ"
      },
      "execution_count": 27,
      "outputs": []
    },
    {
      "cell_type": "code",
      "source": [
        "tf.keras.backend.clear_session()"
      ],
      "metadata": {
        "id": "ZEGK2-09NTgR"
      },
      "execution_count": 28,
      "outputs": []
    },
    {
      "cell_type": "code",
      "source": [
        "model = Sequential()"
      ],
      "metadata": {
        "id": "l2Wy4_BCQoJw"
      },
      "execution_count": 29,
      "outputs": []
    },
    {
      "cell_type": "code",
      "source": [
        "it = train_dataset.as_numpy_iterator()\n",
        "print(it.next()[0].shape, it.next()[1].shape) #return a batch (X,y)\n",
        "input_shape = it.next()[0].shape\n",
        "input_shape[1]"
      ],
      "metadata": {
        "id": "D6iXUy3en48f",
        "colab": {
          "base_uri": "https://localhost:8080/"
        },
        "outputId": "a1883c98-e169-4064-b26a-9dda9dbcf4d0"
      },
      "execution_count": 30,
      "outputs": [
        {
          "output_type": "stream",
          "name": "stdout",
          "text": [
            "(8, 33) (8,)\n"
          ]
        },
        {
          "output_type": "execute_result",
          "data": {
            "text/plain": [
              "33"
            ]
          },
          "metadata": {},
          "execution_count": 30
        }
      ]
    },
    {
      "cell_type": "code",
      "source": [
        "# a binary classification, taking signoid as the output activation function\n",
        "# Don't need an input layer since it's sequential\n",
        "\n",
        "model.add(Dense(256, input_shape=(input_shape[1],), activation='relu'))\n",
        "model.add(Dense(64, activation='relu'))\n",
        "model.add(Dense(16, activation='relu'))\n",
        "model.add(Dense(32, activation='relu'))\n",
        "model.add(Dense(64, activation='relu'))\n",
        "model.add(Dense(2, activation='softmax'))\n",
        "\n",
        "#optimizer = Adam(learning_rate=0.00001)\n",
        "model.compile(optimizer= tf.keras.optimizers.Adam(0.0001), loss='sparse_categorical_crossentropy', metrics=['accuracy'])\n",
        "\n"
      ],
      "metadata": {
        "id": "KANRtE4UNbCk"
      },
      "execution_count": 31,
      "outputs": []
    },
    {
      "cell_type": "code",
      "source": [
        "input_shape = (8, 33)\n",
        "model.build(input_shape)\n",
        "model.summary()"
      ],
      "metadata": {
        "id": "XHPdL2QAQfZ7",
        "colab": {
          "base_uri": "https://localhost:8080/"
        },
        "outputId": "42b6d56b-5497-4964-8dcc-fb86f3182771"
      },
      "execution_count": 32,
      "outputs": [
        {
          "output_type": "stream",
          "name": "stdout",
          "text": [
            "Model: \"sequential\"\n",
            "_________________________________________________________________\n",
            " Layer (type)                Output Shape              Param #   \n",
            "=================================================================\n",
            " dense (Dense)               (None, 256)               8704      \n",
            "                                                                 \n",
            " dense_1 (Dense)             (None, 64)                16448     \n",
            "                                                                 \n",
            " dense_2 (Dense)             (None, 16)                1040      \n",
            "                                                                 \n",
            " dense_3 (Dense)             (None, 32)                544       \n",
            "                                                                 \n",
            " dense_4 (Dense)             (None, 64)                2112      \n",
            "                                                                 \n",
            " dense_5 (Dense)             (None, 2)                 130       \n",
            "                                                                 \n",
            "=================================================================\n",
            "Total params: 28,978\n",
            "Trainable params: 28,978\n",
            "Non-trainable params: 0\n",
            "_________________________________________________________________\n"
          ]
        }
      ]
    },
    {
      "cell_type": "code",
      "source": [
        "hist = model.fit(train_dataset, epochs=200, validation_data=val_dataset) #shuffle after every epochs = True\n",
        "\n",
        "#learning rate 0.001, batch size 16\n",
        "#100 epoch, accuracy:0.9, val_accuracy:0.9, no overfitting\n",
        "#130 0.91 / 0.91\n",
        "#150 0.915/0.91\n",
        "#170 0.925 / 0.925 testing 0.93\n",
        "#190 0.926 / 0.93 testing 0.93\n",
        "\n",
        "#batch size 16->8, learning rate 0.001->0.0001. more precise.\n",
        "#200 epochs, 0.936/0.938/0.94\n"
      ],
      "metadata": {
        "colab": {
          "base_uri": "https://localhost:8080/"
        },
        "id": "X5xZM7xeSOPJ",
        "outputId": "0a2dcb63-d9fa-48d2-d9e4-7fdfef9fea30"
      },
      "execution_count": 33,
      "outputs": [
        {
          "output_type": "stream",
          "name": "stdout",
          "text": [
            "Epoch 1/200\n",
            "1328/1328 [==============================] - 8s 4ms/step - loss: 0.6076 - accuracy: 0.6669 - val_loss: 0.5749 - val_accuracy: 0.7114\n",
            "Epoch 2/200\n",
            "1328/1328 [==============================] - 5s 4ms/step - loss: 0.5743 - accuracy: 0.7025 - val_loss: 0.5727 - val_accuracy: 0.7061\n",
            "Epoch 3/200\n",
            "1328/1328 [==============================] - 6s 4ms/step - loss: 0.5645 - accuracy: 0.7109 - val_loss: 0.5538 - val_accuracy: 0.7129\n",
            "Epoch 4/200\n",
            "1328/1328 [==============================] - 8s 6ms/step - loss: 0.5592 - accuracy: 0.7130 - val_loss: 0.5562 - val_accuracy: 0.7182\n",
            "Epoch 5/200\n",
            "1328/1328 [==============================] - 5s 4ms/step - loss: 0.5578 - accuracy: 0.7134 - val_loss: 0.5484 - val_accuracy: 0.7204\n",
            "Epoch 6/200\n",
            "1328/1328 [==============================] - 5s 4ms/step - loss: 0.5536 - accuracy: 0.7231 - val_loss: 0.5308 - val_accuracy: 0.7362\n",
            "Epoch 7/200\n",
            "1328/1328 [==============================] - 6s 4ms/step - loss: 0.5483 - accuracy: 0.7230 - val_loss: 0.5305 - val_accuracy: 0.7453\n",
            "Epoch 8/200\n",
            "1328/1328 [==============================] - 5s 4ms/step - loss: 0.5450 - accuracy: 0.7261 - val_loss: 0.5411 - val_accuracy: 0.7317\n",
            "Epoch 9/200\n",
            "1328/1328 [==============================] - 6s 4ms/step - loss: 0.5436 - accuracy: 0.7249 - val_loss: 0.5368 - val_accuracy: 0.7347\n",
            "Epoch 10/200\n",
            "1328/1328 [==============================] - 5s 4ms/step - loss: 0.5410 - accuracy: 0.7287 - val_loss: 0.5584 - val_accuracy: 0.7219\n",
            "Epoch 11/200\n",
            "1328/1328 [==============================] - 5s 4ms/step - loss: 0.5319 - accuracy: 0.7313 - val_loss: 0.5265 - val_accuracy: 0.7445\n",
            "Epoch 12/200\n",
            "1328/1328 [==============================] - 6s 4ms/step - loss: 0.5330 - accuracy: 0.7342 - val_loss: 0.5228 - val_accuracy: 0.7400\n",
            "Epoch 13/200\n",
            "1328/1328 [==============================] - 5s 4ms/step - loss: 0.5249 - accuracy: 0.7382 - val_loss: 0.4937 - val_accuracy: 0.7581\n",
            "Epoch 14/200\n",
            "1328/1328 [==============================] - 6s 4ms/step - loss: 0.5268 - accuracy: 0.7364 - val_loss: 0.5042 - val_accuracy: 0.7573\n",
            "Epoch 15/200\n",
            "1328/1328 [==============================] - 5s 4ms/step - loss: 0.5197 - accuracy: 0.7414 - val_loss: 0.4967 - val_accuracy: 0.7566\n",
            "Epoch 16/200\n",
            "1328/1328 [==============================] - 6s 4ms/step - loss: 0.5140 - accuracy: 0.7469 - val_loss: 0.4959 - val_accuracy: 0.7611\n",
            "Epoch 17/200\n",
            "1328/1328 [==============================] - 5s 4ms/step - loss: 0.5135 - accuracy: 0.7460 - val_loss: 0.5202 - val_accuracy: 0.7543\n",
            "Epoch 18/200\n",
            "1328/1328 [==============================] - 6s 4ms/step - loss: 0.5110 - accuracy: 0.7482 - val_loss: 0.5156 - val_accuracy: 0.7423\n",
            "Epoch 19/200\n",
            "1328/1328 [==============================] - 5s 4ms/step - loss: 0.5035 - accuracy: 0.7542 - val_loss: 0.4795 - val_accuracy: 0.7769\n",
            "Epoch 20/200\n",
            "1328/1328 [==============================] - 6s 4ms/step - loss: 0.5061 - accuracy: 0.7520 - val_loss: 0.4789 - val_accuracy: 0.7777\n",
            "Epoch 21/200\n",
            "1328/1328 [==============================] - 5s 4ms/step - loss: 0.5000 - accuracy: 0.7567 - val_loss: 0.4731 - val_accuracy: 0.7800\n",
            "Epoch 22/200\n",
            "1328/1328 [==============================] - 6s 4ms/step - loss: 0.4947 - accuracy: 0.7597 - val_loss: 0.4709 - val_accuracy: 0.7656\n",
            "Epoch 23/200\n",
            "1328/1328 [==============================] - 5s 4ms/step - loss: 0.4902 - accuracy: 0.7627 - val_loss: 0.4420 - val_accuracy: 0.7950\n",
            "Epoch 24/200\n",
            "1328/1328 [==============================] - 5s 4ms/step - loss: 0.4902 - accuracy: 0.7637 - val_loss: 0.4742 - val_accuracy: 0.7724\n",
            "Epoch 25/200\n",
            "1328/1328 [==============================] - 6s 4ms/step - loss: 0.4794 - accuracy: 0.7700 - val_loss: 0.4555 - val_accuracy: 0.7762\n",
            "Epoch 26/200\n",
            "1328/1328 [==============================] - 5s 4ms/step - loss: 0.4770 - accuracy: 0.7706 - val_loss: 0.4627 - val_accuracy: 0.7852\n",
            "Epoch 27/200\n",
            "1328/1328 [==============================] - 6s 4ms/step - loss: 0.4698 - accuracy: 0.7741 - val_loss: 0.4549 - val_accuracy: 0.7973\n",
            "Epoch 28/200\n",
            "1328/1328 [==============================] - 5s 4ms/step - loss: 0.4703 - accuracy: 0.7757 - val_loss: 0.4649 - val_accuracy: 0.7830\n",
            "Epoch 29/200\n",
            "1328/1328 [==============================] - 6s 4ms/step - loss: 0.4685 - accuracy: 0.7707 - val_loss: 0.4809 - val_accuracy: 0.7739\n",
            "Epoch 30/200\n",
            "1328/1328 [==============================] - 5s 4ms/step - loss: 0.4613 - accuracy: 0.7760 - val_loss: 0.4331 - val_accuracy: 0.7943\n",
            "Epoch 31/200\n",
            "1328/1328 [==============================] - 5s 4ms/step - loss: 0.4546 - accuracy: 0.7846 - val_loss: 0.4461 - val_accuracy: 0.8063\n",
            "Epoch 32/200\n",
            "1328/1328 [==============================] - 6s 5ms/step - loss: 0.4498 - accuracy: 0.7838 - val_loss: 0.4502 - val_accuracy: 0.7867\n",
            "Epoch 33/200\n",
            "1328/1328 [==============================] - 5s 4ms/step - loss: 0.4483 - accuracy: 0.7869 - val_loss: 0.4177 - val_accuracy: 0.8124\n",
            "Epoch 34/200\n",
            "1328/1328 [==============================] - 6s 4ms/step - loss: 0.4446 - accuracy: 0.7864 - val_loss: 0.4325 - val_accuracy: 0.7988\n",
            "Epoch 35/200\n",
            "1328/1328 [==============================] - 5s 4ms/step - loss: 0.4334 - accuracy: 0.7967 - val_loss: 0.4258 - val_accuracy: 0.8033\n",
            "Epoch 36/200\n",
            "1328/1328 [==============================] - 6s 4ms/step - loss: 0.4371 - accuracy: 0.7934 - val_loss: 0.4140 - val_accuracy: 0.8124\n",
            "Epoch 37/200\n",
            "1328/1328 [==============================] - 5s 4ms/step - loss: 0.4310 - accuracy: 0.7922 - val_loss: 0.4012 - val_accuracy: 0.8116\n",
            "Epoch 38/200\n",
            "1328/1328 [==============================] - 6s 4ms/step - loss: 0.4252 - accuracy: 0.7975 - val_loss: 0.4073 - val_accuracy: 0.8086\n",
            "Epoch 39/200\n",
            "1328/1328 [==============================] - 5s 4ms/step - loss: 0.4205 - accuracy: 0.8034 - val_loss: 0.4404 - val_accuracy: 0.7935\n",
            "Epoch 40/200\n",
            "1328/1328 [==============================] - 5s 4ms/step - loss: 0.4216 - accuracy: 0.8051 - val_loss: 0.4215 - val_accuracy: 0.8011\n",
            "Epoch 41/200\n",
            "1328/1328 [==============================] - 5s 4ms/step - loss: 0.4162 - accuracy: 0.8031 - val_loss: 0.4114 - val_accuracy: 0.8071\n",
            "Epoch 42/200\n",
            "1328/1328 [==============================] - 5s 4ms/step - loss: 0.4083 - accuracy: 0.8066 - val_loss: 0.3776 - val_accuracy: 0.8335\n",
            "Epoch 43/200\n",
            "1328/1328 [==============================] - 6s 4ms/step - loss: 0.4055 - accuracy: 0.8091 - val_loss: 0.3824 - val_accuracy: 0.8191\n",
            "Epoch 44/200\n",
            "1328/1328 [==============================] - 5s 4ms/step - loss: 0.3979 - accuracy: 0.8180 - val_loss: 0.3534 - val_accuracy: 0.8417\n",
            "Epoch 45/200\n",
            "1328/1328 [==============================] - 6s 4ms/step - loss: 0.3922 - accuracy: 0.8187 - val_loss: 0.3978 - val_accuracy: 0.8003\n",
            "Epoch 46/200\n",
            "1328/1328 [==============================] - 5s 4ms/step - loss: 0.3976 - accuracy: 0.8151 - val_loss: 0.3684 - val_accuracy: 0.8395\n",
            "Epoch 47/200\n",
            "1328/1328 [==============================] - 6s 4ms/step - loss: 0.3873 - accuracy: 0.8202 - val_loss: 0.3733 - val_accuracy: 0.8350\n",
            "Epoch 48/200\n",
            "1328/1328 [==============================] - 5s 4ms/step - loss: 0.3867 - accuracy: 0.8182 - val_loss: 0.3497 - val_accuracy: 0.8425\n",
            "Epoch 49/200\n",
            "1328/1328 [==============================] - 5s 4ms/step - loss: 0.3823 - accuracy: 0.8245 - val_loss: 0.3614 - val_accuracy: 0.8320\n",
            "Epoch 50/200\n",
            "1328/1328 [==============================] - 5s 4ms/step - loss: 0.3761 - accuracy: 0.8257 - val_loss: 0.3777 - val_accuracy: 0.8229\n",
            "Epoch 51/200\n",
            "1328/1328 [==============================] - 5s 4ms/step - loss: 0.3751 - accuracy: 0.8271 - val_loss: 0.3420 - val_accuracy: 0.8478\n",
            "Epoch 52/200\n",
            "1328/1328 [==============================] - 6s 4ms/step - loss: 0.3649 - accuracy: 0.8311 - val_loss: 0.3595 - val_accuracy: 0.8327\n",
            "Epoch 53/200\n",
            "1328/1328 [==============================] - 6s 4ms/step - loss: 0.3653 - accuracy: 0.8294 - val_loss: 0.3512 - val_accuracy: 0.8448\n",
            "Epoch 54/200\n",
            "1328/1328 [==============================] - 5s 4ms/step - loss: 0.3570 - accuracy: 0.8314 - val_loss: 0.3286 - val_accuracy: 0.8395\n",
            "Epoch 55/200\n",
            "1328/1328 [==============================] - 5s 4ms/step - loss: 0.3576 - accuracy: 0.8360 - val_loss: 0.3848 - val_accuracy: 0.8222\n",
            "Epoch 56/200\n",
            "1328/1328 [==============================] - 6s 4ms/step - loss: 0.3526 - accuracy: 0.8371 - val_loss: 0.3220 - val_accuracy: 0.8606\n",
            "Epoch 57/200\n",
            "1328/1328 [==============================] - 5s 4ms/step - loss: 0.3521 - accuracy: 0.8372 - val_loss: 0.3318 - val_accuracy: 0.8621\n",
            "Epoch 58/200\n",
            "1328/1328 [==============================] - 6s 5ms/step - loss: 0.3501 - accuracy: 0.8381 - val_loss: 0.3206 - val_accuracy: 0.8561\n",
            "Epoch 59/200\n",
            "1328/1328 [==============================] - 6s 4ms/step - loss: 0.3459 - accuracy: 0.8406 - val_loss: 0.3110 - val_accuracy: 0.8553\n",
            "Epoch 60/200\n",
            "1328/1328 [==============================] - 5s 4ms/step - loss: 0.3411 - accuracy: 0.8440 - val_loss: 0.3021 - val_accuracy: 0.8659\n",
            "Epoch 61/200\n",
            "1328/1328 [==============================] - 5s 4ms/step - loss: 0.3326 - accuracy: 0.8501 - val_loss: 0.3337 - val_accuracy: 0.8433\n",
            "Epoch 62/200\n",
            "1328/1328 [==============================] - 6s 4ms/step - loss: 0.3321 - accuracy: 0.8488 - val_loss: 0.3136 - val_accuracy: 0.8576\n",
            "Epoch 63/200\n",
            "1328/1328 [==============================] - 5s 4ms/step - loss: 0.3285 - accuracy: 0.8497 - val_loss: 0.3099 - val_accuracy: 0.8598\n",
            "Epoch 64/200\n",
            "1328/1328 [==============================] - 6s 4ms/step - loss: 0.3221 - accuracy: 0.8530 - val_loss: 0.3118 - val_accuracy: 0.8659\n",
            "Epoch 65/200\n",
            "1328/1328 [==============================] - 5s 4ms/step - loss: 0.3211 - accuracy: 0.8554 - val_loss: 0.2730 - val_accuracy: 0.8764\n",
            "Epoch 66/200\n",
            "1328/1328 [==============================] - 5s 4ms/step - loss: 0.3185 - accuracy: 0.8543 - val_loss: 0.3160 - val_accuracy: 0.8425\n",
            "Epoch 67/200\n",
            "1328/1328 [==============================] - 5s 4ms/step - loss: 0.3225 - accuracy: 0.8524 - val_loss: 0.2822 - val_accuracy: 0.8734\n",
            "Epoch 68/200\n",
            "1328/1328 [==============================] - 6s 4ms/step - loss: 0.3115 - accuracy: 0.8579 - val_loss: 0.3111 - val_accuracy: 0.8568\n",
            "Epoch 69/200\n",
            "1328/1328 [==============================] - 5s 4ms/step - loss: 0.3165 - accuracy: 0.8555 - val_loss: 0.2915 - val_accuracy: 0.8764\n",
            "Epoch 70/200\n",
            "1328/1328 [==============================] - 6s 4ms/step - loss: 0.3094 - accuracy: 0.8559 - val_loss: 0.2678 - val_accuracy: 0.8862\n",
            "Epoch 71/200\n",
            "1328/1328 [==============================] - 5s 4ms/step - loss: 0.3093 - accuracy: 0.8615 - val_loss: 0.2888 - val_accuracy: 0.8757\n",
            "Epoch 72/200\n",
            "1328/1328 [==============================] - 6s 4ms/step - loss: 0.3052 - accuracy: 0.8633 - val_loss: 0.2754 - val_accuracy: 0.8832\n",
            "Epoch 73/200\n",
            "1328/1328 [==============================] - 5s 4ms/step - loss: 0.3013 - accuracy: 0.8613 - val_loss: 0.2721 - val_accuracy: 0.8817\n",
            "Epoch 74/200\n",
            "1328/1328 [==============================] - 6s 5ms/step - loss: 0.2999 - accuracy: 0.8625 - val_loss: 0.2697 - val_accuracy: 0.8779\n",
            "Epoch 75/200\n",
            "1328/1328 [==============================] - 5s 4ms/step - loss: 0.2932 - accuracy: 0.8689 - val_loss: 0.3003 - val_accuracy: 0.8749\n",
            "Epoch 76/200\n",
            "1328/1328 [==============================] - 6s 4ms/step - loss: 0.2941 - accuracy: 0.8661 - val_loss: 0.2616 - val_accuracy: 0.8922\n",
            "Epoch 77/200\n",
            "1328/1328 [==============================] - 5s 4ms/step - loss: 0.2909 - accuracy: 0.8672 - val_loss: 0.2656 - val_accuracy: 0.8870\n",
            "Epoch 78/200\n",
            "1328/1328 [==============================] - 6s 4ms/step - loss: 0.2897 - accuracy: 0.8654 - val_loss: 0.2858 - val_accuracy: 0.8839\n",
            "Epoch 79/200\n",
            "1328/1328 [==============================] - 5s 4ms/step - loss: 0.2815 - accuracy: 0.8727 - val_loss: 0.2779 - val_accuracy: 0.8704\n",
            "Epoch 80/200\n",
            "1328/1328 [==============================] - 5s 4ms/step - loss: 0.2858 - accuracy: 0.8707 - val_loss: 0.2773 - val_accuracy: 0.8772\n",
            "Epoch 81/200\n",
            "1328/1328 [==============================] - 6s 4ms/step - loss: 0.2776 - accuracy: 0.8772 - val_loss: 0.3081 - val_accuracy: 0.8644\n",
            "Epoch 82/200\n",
            "1328/1328 [==============================] - 9s 6ms/step - loss: 0.2776 - accuracy: 0.8738 - val_loss: 0.2480 - val_accuracy: 0.8960\n",
            "Epoch 83/200\n",
            "1328/1328 [==============================] - 5s 4ms/step - loss: 0.2702 - accuracy: 0.8777 - val_loss: 0.2667 - val_accuracy: 0.8802\n",
            "Epoch 84/200\n",
            "1328/1328 [==============================] - 6s 4ms/step - loss: 0.2719 - accuracy: 0.8786 - val_loss: 0.2847 - val_accuracy: 0.8621\n",
            "Epoch 85/200\n",
            "1328/1328 [==============================] - 5s 4ms/step - loss: 0.2718 - accuracy: 0.8792 - val_loss: 0.2368 - val_accuracy: 0.8968\n",
            "Epoch 86/200\n",
            "1328/1328 [==============================] - 6s 4ms/step - loss: 0.2668 - accuracy: 0.8816 - val_loss: 0.2595 - val_accuracy: 0.8779\n",
            "Epoch 87/200\n",
            "1328/1328 [==============================] - 5s 4ms/step - loss: 0.2668 - accuracy: 0.8809 - val_loss: 0.2395 - val_accuracy: 0.8990\n",
            "Epoch 88/200\n",
            "1328/1328 [==============================] - 7s 5ms/step - loss: 0.2574 - accuracy: 0.8869 - val_loss: 0.2357 - val_accuracy: 0.9028\n",
            "Epoch 89/200\n",
            "1328/1328 [==============================] - 5s 4ms/step - loss: 0.2580 - accuracy: 0.8850 - val_loss: 0.2302 - val_accuracy: 0.9066\n",
            "Epoch 90/200\n",
            "1328/1328 [==============================] - 6s 4ms/step - loss: 0.2592 - accuracy: 0.8836 - val_loss: 0.2156 - val_accuracy: 0.9073\n",
            "Epoch 91/200\n",
            "1328/1328 [==============================] - 5s 4ms/step - loss: 0.2571 - accuracy: 0.8841 - val_loss: 0.2291 - val_accuracy: 0.8968\n",
            "Epoch 92/200\n",
            "1328/1328 [==============================] - 6s 4ms/step - loss: 0.2508 - accuracy: 0.8880 - val_loss: 0.2424 - val_accuracy: 0.8787\n",
            "Epoch 93/200\n",
            "1328/1328 [==============================] - 5s 4ms/step - loss: 0.2557 - accuracy: 0.8857 - val_loss: 0.2494 - val_accuracy: 0.8915\n",
            "Epoch 94/200\n",
            "1328/1328 [==============================] - 5s 4ms/step - loss: 0.2505 - accuracy: 0.8854 - val_loss: 0.2534 - val_accuracy: 0.8832\n",
            "Epoch 95/200\n",
            "1328/1328 [==============================] - 6s 4ms/step - loss: 0.2449 - accuracy: 0.8909 - val_loss: 0.2127 - val_accuracy: 0.9088\n",
            "Epoch 96/200\n",
            "1328/1328 [==============================] - 5s 4ms/step - loss: 0.2441 - accuracy: 0.8904 - val_loss: 0.2288 - val_accuracy: 0.8968\n",
            "Epoch 97/200\n",
            "1328/1328 [==============================] - 5s 4ms/step - loss: 0.2465 - accuracy: 0.8862 - val_loss: 0.1991 - val_accuracy: 0.9081\n",
            "Epoch 98/200\n",
            "1328/1328 [==============================] - 5s 4ms/step - loss: 0.2443 - accuracy: 0.8907 - val_loss: 0.2497 - val_accuracy: 0.8817\n",
            "Epoch 99/200\n",
            "1328/1328 [==============================] - 6s 4ms/step - loss: 0.2443 - accuracy: 0.8928 - val_loss: 0.2222 - val_accuracy: 0.9058\n",
            "Epoch 100/200\n",
            "1328/1328 [==============================] - 5s 4ms/step - loss: 0.2390 - accuracy: 0.8929 - val_loss: 0.2142 - val_accuracy: 0.9050\n",
            "Epoch 101/200\n",
            "1328/1328 [==============================] - 6s 4ms/step - loss: 0.2445 - accuracy: 0.8875 - val_loss: 0.2159 - val_accuracy: 0.9066\n",
            "Epoch 102/200\n",
            "1328/1328 [==============================] - 6s 4ms/step - loss: 0.2355 - accuracy: 0.8949 - val_loss: 0.1941 - val_accuracy: 0.9186\n",
            "Epoch 103/200\n",
            "1328/1328 [==============================] - 5s 4ms/step - loss: 0.2346 - accuracy: 0.8923 - val_loss: 0.2104 - val_accuracy: 0.9066\n",
            "Epoch 104/200\n",
            "1328/1328 [==============================] - 6s 4ms/step - loss: 0.2307 - accuracy: 0.8927 - val_loss: 0.2343 - val_accuracy: 0.9066\n",
            "Epoch 105/200\n",
            "1328/1328 [==============================] - 5s 4ms/step - loss: 0.2299 - accuracy: 0.8964 - val_loss: 0.2206 - val_accuracy: 0.9073\n",
            "Epoch 106/200\n",
            "1328/1328 [==============================] - 6s 4ms/step - loss: 0.2244 - accuracy: 0.9009 - val_loss: 0.2373 - val_accuracy: 0.9020\n",
            "Epoch 107/200\n",
            "1328/1328 [==============================] - 5s 4ms/step - loss: 0.2259 - accuracy: 0.8996 - val_loss: 0.2154 - val_accuracy: 0.9066\n",
            "Epoch 108/200\n",
            "1328/1328 [==============================] - 5s 4ms/step - loss: 0.2253 - accuracy: 0.8991 - val_loss: 0.2011 - val_accuracy: 0.9088\n",
            "Epoch 109/200\n",
            "1328/1328 [==============================] - 5s 4ms/step - loss: 0.2242 - accuracy: 0.8990 - val_loss: 0.2010 - val_accuracy: 0.9194\n",
            "Epoch 110/200\n",
            "1328/1328 [==============================] - 6s 4ms/step - loss: 0.2234 - accuracy: 0.8979 - val_loss: 0.2027 - val_accuracy: 0.9096\n",
            "Epoch 111/200\n",
            "1328/1328 [==============================] - 5s 4ms/step - loss: 0.2189 - accuracy: 0.9006 - val_loss: 0.1815 - val_accuracy: 0.9179\n",
            "Epoch 112/200\n",
            "1328/1328 [==============================] - 6s 4ms/step - loss: 0.2236 - accuracy: 0.8993 - val_loss: 0.1941 - val_accuracy: 0.9179\n",
            "Epoch 113/200\n",
            "1328/1328 [==============================] - 5s 4ms/step - loss: 0.2192 - accuracy: 0.9009 - val_loss: 0.1895 - val_accuracy: 0.9179\n",
            "Epoch 114/200\n",
            "1328/1328 [==============================] - 5s 4ms/step - loss: 0.2153 - accuracy: 0.9029 - val_loss: 0.1857 - val_accuracy: 0.9239\n",
            "Epoch 115/200\n",
            "1328/1328 [==============================] - 5s 4ms/step - loss: 0.2137 - accuracy: 0.9061 - val_loss: 0.2109 - val_accuracy: 0.9035\n",
            "Epoch 116/200\n",
            "1328/1328 [==============================] - 6s 4ms/step - loss: 0.2167 - accuracy: 0.9051 - val_loss: 0.2026 - val_accuracy: 0.9111\n",
            "Epoch 117/200\n",
            "1328/1328 [==============================] - 5s 4ms/step - loss: 0.2113 - accuracy: 0.9065 - val_loss: 0.2080 - val_accuracy: 0.9103\n",
            "Epoch 118/200\n",
            "1328/1328 [==============================] - 6s 4ms/step - loss: 0.2174 - accuracy: 0.9036 - val_loss: 0.2216 - val_accuracy: 0.8953\n",
            "Epoch 119/200\n",
            "1328/1328 [==============================] - 5s 4ms/step - loss: 0.2134 - accuracy: 0.9048 - val_loss: 0.2165 - val_accuracy: 0.9013\n",
            "Epoch 120/200\n",
            "1328/1328 [==============================] - 6s 4ms/step - loss: 0.2097 - accuracy: 0.9056 - val_loss: 0.2041 - val_accuracy: 0.9179\n",
            "Epoch 121/200\n",
            "1328/1328 [==============================] - 6s 4ms/step - loss: 0.2093 - accuracy: 0.9070 - val_loss: 0.1834 - val_accuracy: 0.9201\n",
            "Epoch 122/200\n",
            "1328/1328 [==============================] - 5s 4ms/step - loss: 0.2127 - accuracy: 0.9061 - val_loss: 0.1829 - val_accuracy: 0.9292\n",
            "Epoch 123/200\n",
            "1328/1328 [==============================] - 6s 4ms/step - loss: 0.2065 - accuracy: 0.9068 - val_loss: 0.1961 - val_accuracy: 0.9126\n",
            "Epoch 124/200\n",
            "1328/1328 [==============================] - 5s 4ms/step - loss: 0.2047 - accuracy: 0.9100 - val_loss: 0.1700 - val_accuracy: 0.9261\n",
            "Epoch 125/200\n",
            "1328/1328 [==============================] - 6s 4ms/step - loss: 0.2045 - accuracy: 0.9100 - val_loss: 0.2034 - val_accuracy: 0.9133\n",
            "Epoch 126/200\n",
            "1328/1328 [==============================] - 6s 4ms/step - loss: 0.2049 - accuracy: 0.9075 - val_loss: 0.1739 - val_accuracy: 0.9164\n",
            "Epoch 127/200\n",
            "1328/1328 [==============================] - 5s 4ms/step - loss: 0.1995 - accuracy: 0.9114 - val_loss: 0.1754 - val_accuracy: 0.9261\n",
            "Epoch 128/200\n",
            "1328/1328 [==============================] - 6s 4ms/step - loss: 0.1934 - accuracy: 0.9106 - val_loss: 0.1810 - val_accuracy: 0.9118\n",
            "Epoch 129/200\n",
            "1328/1328 [==============================] - 5s 4ms/step - loss: 0.2038 - accuracy: 0.9086 - val_loss: 0.1704 - val_accuracy: 0.9307\n",
            "Epoch 130/200\n",
            "1328/1328 [==============================] - 5s 4ms/step - loss: 0.1972 - accuracy: 0.9125 - val_loss: 0.1697 - val_accuracy: 0.9201\n",
            "Epoch 131/200\n",
            "1328/1328 [==============================] - 6s 4ms/step - loss: 0.1990 - accuracy: 0.9113 - val_loss: 0.1807 - val_accuracy: 0.9231\n",
            "Epoch 132/200\n",
            "1328/1328 [==============================] - 5s 4ms/step - loss: 0.1928 - accuracy: 0.9117 - val_loss: 0.1902 - val_accuracy: 0.9103\n",
            "Epoch 133/200\n",
            "1328/1328 [==============================] - 6s 4ms/step - loss: 0.1993 - accuracy: 0.9101 - val_loss: 0.1876 - val_accuracy: 0.9156\n",
            "Epoch 134/200\n",
            "1328/1328 [==============================] - 6s 4ms/step - loss: 0.1976 - accuracy: 0.9113 - val_loss: 0.1720 - val_accuracy: 0.9307\n",
            "Epoch 135/200\n",
            "1328/1328 [==============================] - 5s 4ms/step - loss: 0.1917 - accuracy: 0.9152 - val_loss: 0.1559 - val_accuracy: 0.9344\n",
            "Epoch 136/200\n",
            "1328/1328 [==============================] - 5s 4ms/step - loss: 0.1893 - accuracy: 0.9149 - val_loss: 0.1898 - val_accuracy: 0.9141\n",
            "Epoch 137/200\n",
            "1328/1328 [==============================] - 6s 4ms/step - loss: 0.1830 - accuracy: 0.9180 - val_loss: 0.1995 - val_accuracy: 0.9126\n",
            "Epoch 138/200\n",
            "1328/1328 [==============================] - 5s 4ms/step - loss: 0.1942 - accuracy: 0.9120 - val_loss: 0.1851 - val_accuracy: 0.9179\n",
            "Epoch 139/200\n",
            "1328/1328 [==============================] - 7s 5ms/step - loss: 0.1895 - accuracy: 0.9144 - val_loss: 0.1706 - val_accuracy: 0.9246\n",
            "Epoch 140/200\n",
            "1328/1328 [==============================] - 5s 4ms/step - loss: 0.1931 - accuracy: 0.9169 - val_loss: 0.1535 - val_accuracy: 0.9337\n",
            "Epoch 141/200\n",
            "1328/1328 [==============================] - 5s 4ms/step - loss: 0.1919 - accuracy: 0.9135 - val_loss: 0.2024 - val_accuracy: 0.9194\n",
            "Epoch 142/200\n",
            "1328/1328 [==============================] - 6s 4ms/step - loss: 0.1861 - accuracy: 0.9178 - val_loss: 0.1867 - val_accuracy: 0.9186\n",
            "Epoch 143/200\n",
            "1328/1328 [==============================] - 6s 5ms/step - loss: 0.1851 - accuracy: 0.9199 - val_loss: 0.1596 - val_accuracy: 0.9284\n",
            "Epoch 144/200\n",
            "1328/1328 [==============================] - 6s 4ms/step - loss: 0.1879 - accuracy: 0.9165 - val_loss: 0.1898 - val_accuracy: 0.9156\n",
            "Epoch 145/200\n",
            "1328/1328 [==============================] - 5s 4ms/step - loss: 0.1832 - accuracy: 0.9159 - val_loss: 0.1456 - val_accuracy: 0.9382\n",
            "Epoch 146/200\n",
            "1328/1328 [==============================] - 5s 4ms/step - loss: 0.1781 - accuracy: 0.9198 - val_loss: 0.1668 - val_accuracy: 0.9307\n",
            "Epoch 147/200\n",
            "1328/1328 [==============================] - 6s 4ms/step - loss: 0.1815 - accuracy: 0.9214 - val_loss: 0.1639 - val_accuracy: 0.9375\n",
            "Epoch 148/200\n",
            "1328/1328 [==============================] - 6s 4ms/step - loss: 0.1855 - accuracy: 0.9162 - val_loss: 0.2129 - val_accuracy: 0.9118\n",
            "Epoch 149/200\n",
            "1328/1328 [==============================] - 5s 4ms/step - loss: 0.1799 - accuracy: 0.9190 - val_loss: 0.1966 - val_accuracy: 0.9126\n",
            "Epoch 150/200\n",
            "1328/1328 [==============================] - 6s 4ms/step - loss: 0.1764 - accuracy: 0.9195 - val_loss: 0.2111 - val_accuracy: 0.9096\n",
            "Epoch 151/200\n",
            "1328/1328 [==============================] - 5s 4ms/step - loss: 0.1782 - accuracy: 0.9195 - val_loss: 0.1810 - val_accuracy: 0.9209\n",
            "Epoch 152/200\n",
            "1328/1328 [==============================] - 6s 4ms/step - loss: 0.1844 - accuracy: 0.9200 - val_loss: 0.1938 - val_accuracy: 0.9081\n",
            "Epoch 153/200\n",
            "1328/1328 [==============================] - 5s 4ms/step - loss: 0.1807 - accuracy: 0.9197 - val_loss: 0.1814 - val_accuracy: 0.9277\n",
            "Epoch 154/200\n",
            "1328/1328 [==============================] - 6s 5ms/step - loss: 0.1748 - accuracy: 0.9209 - val_loss: 0.1457 - val_accuracy: 0.9405\n",
            "Epoch 155/200\n",
            "1328/1328 [==============================] - 5s 4ms/step - loss: 0.1776 - accuracy: 0.9197 - val_loss: 0.1523 - val_accuracy: 0.9375\n",
            "Epoch 156/200\n",
            "1328/1328 [==============================] - 6s 4ms/step - loss: 0.1738 - accuracy: 0.9203 - val_loss: 0.1607 - val_accuracy: 0.9307\n",
            "Epoch 157/200\n",
            "1328/1328 [==============================] - 6s 4ms/step - loss: 0.1833 - accuracy: 0.9215 - val_loss: 0.1492 - val_accuracy: 0.9375\n",
            "Epoch 158/200\n",
            "1328/1328 [==============================] - 6s 4ms/step - loss: 0.1741 - accuracy: 0.9229 - val_loss: 0.1740 - val_accuracy: 0.9299\n",
            "Epoch 159/200\n",
            "1328/1328 [==============================] - 5s 4ms/step - loss: 0.1715 - accuracy: 0.9238 - val_loss: 0.1453 - val_accuracy: 0.9420\n",
            "Epoch 160/200\n",
            "1328/1328 [==============================] - 6s 5ms/step - loss: 0.1748 - accuracy: 0.9243 - val_loss: 0.1644 - val_accuracy: 0.9277\n",
            "Epoch 161/200\n",
            "1328/1328 [==============================] - 6s 4ms/step - loss: 0.1743 - accuracy: 0.9221 - val_loss: 0.1692 - val_accuracy: 0.9246\n",
            "Epoch 162/200\n",
            "1328/1328 [==============================] - 6s 5ms/step - loss: 0.1740 - accuracy: 0.9187 - val_loss: 0.1559 - val_accuracy: 0.9224\n",
            "Epoch 163/200\n",
            "1328/1328 [==============================] - 5s 4ms/step - loss: 0.1721 - accuracy: 0.9231 - val_loss: 0.1644 - val_accuracy: 0.9322\n",
            "Epoch 164/200\n",
            "1328/1328 [==============================] - 6s 4ms/step - loss: 0.1745 - accuracy: 0.9211 - val_loss: 0.1869 - val_accuracy: 0.9179\n",
            "Epoch 165/200\n",
            "1328/1328 [==============================] - 5s 4ms/step - loss: 0.1624 - accuracy: 0.9309 - val_loss: 0.1621 - val_accuracy: 0.9337\n",
            "Epoch 166/200\n",
            "1328/1328 [==============================] - 5s 4ms/step - loss: 0.1777 - accuracy: 0.9220 - val_loss: 0.1457 - val_accuracy: 0.9359\n",
            "Epoch 167/200\n",
            "1328/1328 [==============================] - 6s 4ms/step - loss: 0.1674 - accuracy: 0.9245 - val_loss: 0.1403 - val_accuracy: 0.9412\n",
            "Epoch 168/200\n",
            "1328/1328 [==============================] - 5s 4ms/step - loss: 0.1675 - accuracy: 0.9249 - val_loss: 0.1392 - val_accuracy: 0.9412\n",
            "Epoch 169/200\n",
            "1328/1328 [==============================] - 6s 4ms/step - loss: 0.1710 - accuracy: 0.9237 - val_loss: 0.1253 - val_accuracy: 0.9427\n",
            "Epoch 170/200\n",
            "1328/1328 [==============================] - 5s 4ms/step - loss: 0.1633 - accuracy: 0.9263 - val_loss: 0.1517 - val_accuracy: 0.9375\n",
            "Epoch 171/200\n",
            "1328/1328 [==============================] - 5s 4ms/step - loss: 0.1650 - accuracy: 0.9250 - val_loss: 0.1744 - val_accuracy: 0.9246\n",
            "Epoch 172/200\n",
            "1328/1328 [==============================] - 6s 5ms/step - loss: 0.1711 - accuracy: 0.9245 - val_loss: 0.1290 - val_accuracy: 0.9488\n",
            "Epoch 173/200\n",
            "1328/1328 [==============================] - 5s 4ms/step - loss: 0.1646 - accuracy: 0.9290 - val_loss: 0.1599 - val_accuracy: 0.9284\n",
            "Epoch 174/200\n",
            "1328/1328 [==============================] - 6s 5ms/step - loss: 0.1651 - accuracy: 0.9257 - val_loss: 0.1475 - val_accuracy: 0.9397\n",
            "Epoch 175/200\n",
            "1328/1328 [==============================] - 5s 4ms/step - loss: 0.1635 - accuracy: 0.9279 - val_loss: 0.1559 - val_accuracy: 0.9367\n",
            "Epoch 176/200\n",
            "1328/1328 [==============================] - 6s 4ms/step - loss: 0.1584 - accuracy: 0.9321 - val_loss: 0.2219 - val_accuracy: 0.9156\n",
            "Epoch 177/200\n",
            "1328/1328 [==============================] - 5s 4ms/step - loss: 0.1605 - accuracy: 0.9296 - val_loss: 0.1655 - val_accuracy: 0.9246\n",
            "Epoch 178/200\n",
            "1328/1328 [==============================] - 5s 4ms/step - loss: 0.1607 - accuracy: 0.9287 - val_loss: 0.1276 - val_accuracy: 0.9525\n",
            "Epoch 179/200\n",
            "1328/1328 [==============================] - 6s 5ms/step - loss: 0.1588 - accuracy: 0.9314 - val_loss: 0.1488 - val_accuracy: 0.9412\n",
            "Epoch 180/200\n",
            "1328/1328 [==============================] - 5s 4ms/step - loss: 0.1642 - accuracy: 0.9279 - val_loss: 0.1430 - val_accuracy: 0.9344\n",
            "Epoch 181/200\n",
            "1328/1328 [==============================] - 6s 4ms/step - loss: 0.1643 - accuracy: 0.9279 - val_loss: 0.1837 - val_accuracy: 0.9209\n",
            "Epoch 182/200\n",
            "1328/1328 [==============================] - 6s 5ms/step - loss: 0.1508 - accuracy: 0.9321 - val_loss: 0.1638 - val_accuracy: 0.9292\n",
            "Epoch 183/200\n",
            "1328/1328 [==============================] - 6s 4ms/step - loss: 0.1613 - accuracy: 0.9294 - val_loss: 0.1345 - val_accuracy: 0.9457\n",
            "Epoch 184/200\n",
            "1328/1328 [==============================] - 6s 5ms/step - loss: 0.1621 - accuracy: 0.9266 - val_loss: 0.1873 - val_accuracy: 0.9141\n",
            "Epoch 185/200\n",
            "1328/1328 [==============================] - 6s 4ms/step - loss: 0.1634 - accuracy: 0.9289 - val_loss: 0.1397 - val_accuracy: 0.9397\n",
            "Epoch 186/200\n",
            "1328/1328 [==============================] - 6s 4ms/step - loss: 0.1610 - accuracy: 0.9287 - val_loss: 0.1528 - val_accuracy: 0.9390\n",
            "Epoch 187/200\n",
            "1328/1328 [==============================] - 6s 4ms/step - loss: 0.1598 - accuracy: 0.9315 - val_loss: 0.1246 - val_accuracy: 0.9427\n",
            "Epoch 188/200\n",
            "1328/1328 [==============================] - 6s 4ms/step - loss: 0.1511 - accuracy: 0.9315 - val_loss: 0.1619 - val_accuracy: 0.9269\n",
            "Epoch 189/200\n",
            "1328/1328 [==============================] - 7s 5ms/step - loss: 0.1545 - accuracy: 0.9295 - val_loss: 0.1605 - val_accuracy: 0.9314\n",
            "Epoch 190/200\n",
            "1328/1328 [==============================] - 6s 5ms/step - loss: 0.1577 - accuracy: 0.9299 - val_loss: 0.1392 - val_accuracy: 0.9420\n",
            "Epoch 191/200\n",
            "1328/1328 [==============================] - 6s 5ms/step - loss: 0.1533 - accuracy: 0.9350 - val_loss: 0.1716 - val_accuracy: 0.9209\n",
            "Epoch 192/200\n",
            "1328/1328 [==============================] - 6s 4ms/step - loss: 0.1582 - accuracy: 0.9303 - val_loss: 0.1676 - val_accuracy: 0.9179\n",
            "Epoch 193/200\n",
            "1328/1328 [==============================] - 6s 5ms/step - loss: 0.1538 - accuracy: 0.9311 - val_loss: 0.1332 - val_accuracy: 0.9450\n",
            "Epoch 194/200\n",
            "1328/1328 [==============================] - 5s 4ms/step - loss: 0.1509 - accuracy: 0.9327 - val_loss: 0.1267 - val_accuracy: 0.9472\n",
            "Epoch 195/200\n",
            "1328/1328 [==============================] - 6s 5ms/step - loss: 0.1616 - accuracy: 0.9279 - val_loss: 0.1583 - val_accuracy: 0.9329\n",
            "Epoch 196/200\n",
            "1328/1328 [==============================] - 6s 5ms/step - loss: 0.1473 - accuracy: 0.9348 - val_loss: 0.1430 - val_accuracy: 0.9246\n",
            "Epoch 197/200\n",
            "1328/1328 [==============================] - 5s 4ms/step - loss: 0.1488 - accuracy: 0.9353 - val_loss: 0.1364 - val_accuracy: 0.9442\n",
            "Epoch 198/200\n",
            "1328/1328 [==============================] - 6s 4ms/step - loss: 0.1508 - accuracy: 0.9338 - val_loss: 0.1240 - val_accuracy: 0.9503\n",
            "Epoch 199/200\n",
            "1328/1328 [==============================] - 6s 4ms/step - loss: 0.1481 - accuracy: 0.9345 - val_loss: 0.1330 - val_accuracy: 0.9427\n",
            "Epoch 200/200\n",
            "1328/1328 [==============================] - 5s 4ms/step - loss: 0.1638 - accuracy: 0.9287 - val_loss: 0.1417 - val_accuracy: 0.9427\n"
          ]
        }
      ]
    },
    {
      "cell_type": "code",
      "source": [
        "fig = plt.figure()\n",
        "plt.plot(hist.history['accuracy'], color='teal', label='accuracy')\n",
        "plt.plot(hist.history['val_accuracy'], color='orange', label='val_accuracy')\n",
        "fig.suptitle('Accuracy', fontsize=20)\n",
        "plt.legend(loc=\"upper left\")\n",
        "plt.show()"
      ],
      "metadata": {
        "id": "cTjJTk05SWkh",
        "colab": {
          "base_uri": "https://localhost:8080/",
          "height": 482
        },
        "outputId": "9de6cf06-a473-4519-edc3-316f16d2a5d1"
      },
      "execution_count": 34,
      "outputs": [
        {
          "output_type": "display_data",
          "data": {
            "text/plain": [
              "<Figure size 640x480 with 1 Axes>"
            ],
            "image/png": "[encoded data removed]"
          },
          "metadata": {}
        }
      ]
    },
    {
      "cell_type": "code",
      "source": [
        "test_accuracy = model.evaluate(test_dataset,verbose=0,return_dict=True)['accuracy']\n",
        "test_accuracy"
      ],
      "metadata": {
        "id": "cGHB15A4UcWo",
        "colab": {
          "base_uri": "https://localhost:8080/"
        },
        "outputId": "d01388a6-11e2-45d7-dff3-ba704b81d00f"
      },
      "execution_count": 35,
      "outputs": [
        {
          "output_type": "execute_result",
          "data": {
            "text/plain": [
              "0.9359457492828369"
            ]
          },
          "metadata": {},
          "execution_count": 35
        }
      ]
    },
    {
      "cell_type": "code",
      "source": [
        "#Is any other way to further boost the accuracy?\n",
        "#Provide more data\n",
        "#Cross Validation\n",
        "#combine training and valuating data set."
      ],
      "metadata": {
        "id": "dZVI35s6Lufe"
      },
      "execution_count": null,
      "outputs": []
    },
    {
      "cell_type": "markdown",
      "source": [
        "# Evaluation\n",
        "##### https://www.kaggle.com/code/jcontr/meta-learning-credit-card-default\n",
        "##### 1. Is the data unbalanced on the feature of whether default?\n",
        "##### 2. Do we need to reduce the dimensions? 33 features and most of them are generated by one hot encoding and they're sparse.\n",
        "\n",
        "Bias sanity check:\n",
        "1. Historical bias / representation bias / measurement bias\n",
        "2. Learning bias\n",
        "3. Evaluation bias\n",
        "4. Aggregation bias\n",
        "5. Deployment bias\n"
      ],
      "metadata": {
        "id": "W4zEz5JeCZoP"
      }
    },
    {
      "cell_type": "code",
      "source": [
        "model.evaluate(test_dataset,verbose=0,return_dict=True)"
      ],
      "metadata": {
        "id": "6SEIe_as9hsA",
        "colab": {
          "base_uri": "https://localhost:8080/"
        },
        "outputId": "4ca8b062-019c-4b61-d1e9-3ce343e22489"
      },
      "execution_count": 36,
      "outputs": [
        {
          "output_type": "execute_result",
          "data": {
            "text/plain": [
              "{'loss': 0.13483712077140808, 'accuracy': 0.941974401473999}"
            ]
          },
          "metadata": {},
          "execution_count": 36
        }
      ]
    },
    {
      "cell_type": "code",
      "source": [
        "test_prediction = model.predict(test_dataset)\n",
        "print(test_prediction.shape)\n",
        "test_prediction\n",
        "#3000 probabilities"
      ],
      "metadata": {
        "id": "2R9zgg1j9hyx",
        "colab": {
          "base_uri": "https://localhost:8080/"
        },
        "outputId": "92394631-c198-488f-d061-9cb2d61f3e88"
      },
      "execution_count": 37,
      "outputs": [
        {
          "output_type": "stream",
          "name": "stdout",
          "text": [
            "166/166 [==============================] - 0s 2ms/step\n",
            "(1327, 2)\n"
          ]
        },
        {
          "output_type": "execute_result",
          "data": {
            "text/plain": [
              "array([[4.5901662e-01, 5.4098344e-01],\n",
              "       [9.9967444e-01, 3.2560248e-04],\n",
              "       [3.8381550e-01, 6.1618453e-01],\n",
              "       ...,\n",
              "       [4.3238398e-01, 5.6761605e-01],\n",
              "       [4.4271013e-01, 5.5728990e-01],\n",
              "       [7.1275174e-03, 9.9287248e-01]], dtype=float32)"
            ]
          },
          "metadata": {},
          "execution_count": 37
        }
      ]
    },
    {
      "cell_type": "code",
      "source": [
        "y_test_true = []\n",
        "y_test_predicted = []\n",
        "x_features = []\n",
        "\n",
        "\n",
        "#expand true label y in test_dataset and save it in the list. Make prediction by batches and save it in the list\n",
        "#Must do the prediction and expanding under same for loop otherwise the sequence may be messed up.\n",
        "#Try sigmoid?\n",
        "\n",
        "for test_features, y_test in test_dataset:\n",
        "  x_features.extend(test_features.numpy())\n",
        "  predictions = model.predict(test_features, verbose=0)\n",
        "  y_test_predicted.extend(np.argmax(predictions, axis=1).tolist())\n",
        "  y_test_true.extend(y_test.numpy())\n",
        "\n",
        "print(f\"True label    : {y_test_true[0:5]}\")\n",
        "print(f\"Predicted label: {y_test_predicted[0:5]}\")\n",
        "print(x_features[0:5])\n",
        "\n",
        "correct_predictions = sum(np.array(y_test_predicted) == np.array(y_test_true))\n",
        "total_samples = len(y_test_true)\n",
        "accuracy = correct_predictions / total_samples\n",
        "print(\"Manual Accuracy:\", accuracy)"
      ],
      "metadata": {
        "id": "V_DU6cc19oFX",
        "colab": {
          "base_uri": "https://localhost:8080/"
        },
        "outputId": "a7f3704d-2e85-4bec-9e96-727dd22e5d0e"
      },
      "execution_count": 38,
      "outputs": [
        {
          "output_type": "stream",
          "name": "stdout",
          "text": [
            "True label    : [1, 0, 1, 0, 0]\n",
            "Predicted label: [1, 0, 1, 0, 0]\n",
            "[array([ 0.56797816,  0.25193704,  1.39719175,  1.42418853,  1.47123326,\n",
            "        0.03454675,  0.08597294,  0.11209457,  0.93295357,  0.97134838,\n",
            "        0.98845645,  1.01928391,  1.05847497,  0.98749912,  1.12191573,\n",
            "        0.72312004,  0.73116804,  0.63745727,  0.86683094,  0.46757122,\n",
            "        1.19577555, -1.19577555, -0.02297182,  1.40207348, -0.95735798,\n",
            "       -0.45724558, -0.05358537, -0.08216519, -0.03980937, -0.03363745,\n",
            "       -0.92996273,  0.95303066, -0.10583005]), array([ 0.23154831, -1.02096763, -0.97329516, -0.80112701, -0.76655653,\n",
            "       -0.72206122, -0.68971224, -0.65954396, -0.90333962, -0.7708923 ,\n",
            "       -0.74965727, -0.55001174, -1.14594723, -0.55108035,  0.08820929,\n",
            "        0.06512782,  0.34265269, -0.42150102,  0.24529547,  0.70114531,\n",
            "       -0.83627734,  0.83627734, -0.02297182,  1.40207348, -0.95735798,\n",
            "       -0.45724558, -0.05358537, -0.08216519, -0.03980937, -0.03363745,\n",
            "       -0.92996273,  0.95303066, -0.10583005]), array([-1.28438776, -0.70274146,  0.60702945,  1.42418853,  1.47123326,\n",
            "        1.54776269,  1.63734331,  1.65537162,  0.33722899,  0.35501869,\n",
            "        0.44146226,  0.48703182,  0.53445795,  0.57212894, -1.65148652,\n",
            "        0.72312004,  0.25967061,  0.21666557,  0.25236766, -1.41461444,\n",
            "        1.19577555, -1.19577555, -0.02297182,  1.40207348, -0.95735798,\n",
            "       -0.45724558, -0.05358537, -0.08216519, -0.03980937, -0.03363745,\n",
            "       -0.92996273,  0.95303066, -0.10583005]), array([ 1.62418686, -0.2784399 , -0.18313285, -0.05935516, -0.0206266 ,\n",
            "        0.03454675,  0.08597294,  0.11209457, -0.27821931, -0.1859324 ,\n",
            "       -0.14557699, -0.03332819,  0.06425895,  0.02232734,  0.02387211,\n",
            "        0.09304845,  0.34086638,  0.32763398,  0.3212773 ,  0.29801183,\n",
            "        1.19577555, -1.19577555, -0.02297182, -0.71322938,  1.04454136,\n",
            "       -0.45724558, -0.05358537, -0.08216519, -0.03980937, -0.03363745,\n",
            "        1.07531191, -1.04928419, -0.10583005]), array([ 0.62387421,  0.14586165, -0.18313285, -0.05935516,  1.47123326,\n",
            "        1.54776269,  1.63734331,  1.65537162,  0.90268946,  0.94214826,\n",
            "        0.96415877,  0.999357  ,  1.02445655,  1.06296688,  1.07785842,\n",
            "        0.80742761,  0.81101033, -1.47739263,  1.13494793,  0.77821962,\n",
            "       -0.83627734,  0.83627734, -0.02297182, -0.71322938,  1.04454136,\n",
            "       -0.45724558, -0.05358537, -0.08216519, -0.03980937, -0.03363745,\n",
            "        1.07531191, -1.04928419, -0.10583005])]\n",
            "Manual Accuracy: 0.9374529012810852\n"
          ]
        }
      ]
    },
    {
      "cell_type": "code",
      "source": [
        "\"\"\"\n",
        "Have no idea why the test accuracy by model.eval and model.predict + threshold is so different?\n",
        "Must do the prediction and expanding under same for loop otherwise the sequence may be messed up.?\n",
        "\"\"\"\n",
        "\n",
        "# #get the prediction result\n",
        "# train_prediction_binary = []\n",
        "# for prediction in train_prediction:\n",
        "#   #print(prediction)\n",
        "#   if prediction >= 0.5: #take 0.5 as threshold, default of model.evaluation is also 0.5\n",
        "#     train_prediction_binary.append(1)\n",
        "#   else:\n",
        "#     train_prediction_binary.append(0)\n",
        "# print(len(train_prediction_binary))\n",
        "# print(train_prediction_binary[0:20])\n",
        "\n",
        "# #get y_test, take y_test out from data pipeline and put it into a list\n",
        "# y_train_all = []\n",
        "# for train_features, y_train in train_dataset:\n",
        "#   y_train_all.extend(y_train.numpy())\n",
        "# print(len(y_train_all))\n",
        "# print(y_train_all[0:20])\n",
        "\n",
        "# correct_predictions = sum(np.array(train_prediction_binary) == np.array(y_train_all))\n",
        "# total_samples = len(y_train_all)\n",
        "# accuracy = correct_predictions / total_samples\n",
        "\n",
        "# print(\"Manual Accuracy with Threshold 0.5:\", accuracy)"
      ],
      "metadata": {
        "id": "yi1Y9RZtFGpV",
        "colab": {
          "base_uri": "https://localhost:8080/",
          "height": 53
        },
        "outputId": "f4e329ba-09ee-429d-c3a8-a1c1c42c1fc1"
      },
      "execution_count": null,
      "outputs": [
        {
          "output_type": "execute_result",
          "data": {
            "text/plain": [
              "'\\nHave no idea why the test accuracy by model.eval and model.predict + threshold is so different?\\nMust do the prediction and expanding under same for loop otherwise the sequence may be messed up.?\\n'"
            ],
            "application/vnd.google.colaboratory.intrinsic+json": {
              "type": "string"
            }
          },
          "metadata": {},
          "execution_count": 29
        }
      ]
    },
    {
      "cell_type": "code",
      "source": [
        "import seaborn as sns  # for nicer plots\n",
        "sns.set(style=\"darkgrid\")  # default style\n",
        "\n",
        "# Create a confusion matrix as a 2D array.\n",
        "confusion_matrix = tf.math.confusion_matrix(y_test_true, y_test_predicted)\n",
        "\n",
        "# Use a heatmap plot to display it.\n",
        "ax = sns.heatmap(confusion_matrix, annot=True, fmt='.3g', cmap='Blues')\n",
        "# Add axis labels.\n",
        "ax.set(xlabel='Predicted Label', ylabel='True Label')\n",
        "plt.show()\n",
        "print(confusion_matrix.numpy())"
      ],
      "metadata": {
        "id": "H4w9tf759oLj",
        "colab": {
          "base_uri": "https://localhost:8080/",
          "height": 495
        },
        "outputId": "2c540200-7d70-47d6-dfae-a62a5320b7c9"
      },
      "execution_count": 40,
      "outputs": [
        {
          "output_type": "display_data",
          "data": {
            "text/plain": [
              "<Figure size 640x480 with 2 Axes>"
            ],
            "image/png": "[encoded data removed]"
          },
          "metadata": {}
        },
        {
          "output_type": "stream",
          "name": "stdout",
          "text": [
            "[[627  35]\n",
            " [ 48 617]]\n"
          ]
        }
      ]
    },
    {
      "cell_type": "markdown",
      "source": [
        "We have\n",
        "1. 30000 (23364+6636) examples, 90% of accuracy, 100 epochs, 74% of recall.\n",
        "2. 22636 (16000+6636) examples, 90% of accuracy, 100 epochs, 78% of recall. [[1560   58]\n",
        " [ 137  508]]\n",
        "3. 16636 (10000+6636) examples, 89.7% of accuracy, 100 epochs, 84% of recall.\n",
        "[[932  65]\n",
        " [105 561]]\n",
        "4. 13272 (6636+6636) examples, 89.5% of accuracy, 100 epochs, 86% of recall.\n",
        "[[651  33]\n",
        " [ 86 557]]\n",
        "4. 13272 (6636+6636) examples, 93% of accuracy, 200 epochs, 94% of recall.\n",
        "[[600  46]\n",
        " [ 38 643]]\n"
      ],
      "metadata": {
        "id": "j8kBKHqS9pd2"
      }
    },
    {
      "cell_type": "markdown",
      "source": [
        "# Unfairness/Bias check"
      ],
      "metadata": {
        "id": "25k_aWRv2CVz"
      }
    },
    {
      "cell_type": "code",
      "source": [
        "#raw data incorperates male: 5462 and female: 7810. The gender rate is: 41% (41% male, 59% female)\n",
        "\n",
        "male_fp = 0\n",
        "female_fp = 0\n",
        "male_fn = 0\n",
        "female_fn = 0\n",
        "\n",
        "for i in range(len(y_test_true)):\n",
        "  #false positive\n",
        "  if y_test_predicted[i] == 1 and y_test_true[i] == 0:\n",
        "    if x_features[i][-13] >= 0: #-13 index of male\n",
        "      male_fp+=1\n",
        "    else:\n",
        "      female_fp+=1\n",
        "  #false negative\n",
        "  if y_test_predicted[i] == 0 and y_test_true[i] == 1:\n",
        "    if x_features[i][-13] >= 0: #-13 index of male\n",
        "      male_fn+=1\n",
        "    else:\n",
        "      female_fn+=1\n",
        "\n",
        "print(f\"False positive, male:{male_fp}, female:{female_fp} and the gender rate is {round(male_fp/(female_fp+male_fp),1)}\")\n",
        "print(f\"False negative, male:{male_fn}, female:{female_fn} and the gender rate is {round(male_fn/(female_fn+male_fn),1)}\")\n",
        "\n",
        "\"\"\"\n",
        "False positive means the model mispredicts the credit card owner's default and among 12 examples, there are 5 males and 7 females with the gender rate 0.4\n",
        "which makes sense and agrees with the gender rate\n",
        "\n",
        "False negative means the model can't tell the credit card owner's default and among 74 examples, there are 35 males and 39 females with the gender rate 0.5\n",
        "which is slightly higher than the overall gender rate and implies the model has more possibility of missing the prediction on males.\n",
        "\"\"\""
      ],
      "metadata": {
        "colab": {
          "base_uri": "https://localhost:8080/",
          "height": 109
        },
        "id": "JHoB0QIi2IYg",
        "outputId": "5b696080-4186-418c-9064-ae00ebce7ec0"
      },
      "execution_count": 42,
      "outputs": [
        {
          "output_type": "stream",
          "name": "stdout",
          "text": [
            "False positive, male:16, female:19 and the gender rate is 0.5\n",
            "False negative, male:15, female:33 and the gender rate is 0.3\n"
          ]
        },
        {
          "output_type": "execute_result",
          "data": {
            "text/plain": [
              "\"\\nFalse positive means the model mispredicts the credit card owner's default and among 12 examples, there are 5 males and 7 females with the gender rate 0.4\\nwhich makes sense and agrees with the gender rate\\n\\nFalse negative means the model can't tell the credit card owner's default and among 74 examples, there are 35 males and 39 females with the gender rate 0.5\\nwhich is slightly higher than the overall gender rate and implies the model has more possibility of missing the prediction on males.\\n\""
            ],
            "application/vnd.google.colaboratory.intrinsic+json": {
              "type": "string"
            }
          },
          "metadata": {},
          "execution_count": 42
        }
      ]
    },
    {
      "cell_type": "markdown",
      "source": [
        "# Feature reduction\n",
        "Try different combinations of features.\n",
        "1. Removing collinear  features may help to boost the performance\n",
        "2. Some setups may have business meaning except for the model training purpose."
      ],
      "metadata": {
        "id": "nljf1FPn7MKq"
      }
    },
    {
      "cell_type": "code",
      "source": [
        "#Removing collinear features may make us lose some information under these columns.\n",
        "#Know whether default or not 6 months ahead.\n",
        "#Remove features that contain less data\n",
        "\n",
        "X_reduced_2 = df[['LIMIT_BAL', 'AGE', 'PAY_6','BILL_AMT6','PAY_AMT6',\n",
        "       'SEX_1', 'SEX_2', 'EDUCATION_0', 'EDUCATION_1', 'EDUCATION_2',\n",
        "       'EDUCATION_3','MARRIAGE_1', 'MARRIAGE_2']].values\n",
        "y = np.squeeze(df[['default.payment.next.month']].values)\n",
        "\n",
        "# Normalize the input features using Z-score normalization\n",
        "scaler = StandardScaler()\n",
        "X_reduced_normalized = scaler.fit_transform(X_reduced_2)"
      ],
      "metadata": {
        "id": "TWNyl5E67M24"
      },
      "execution_count": null,
      "outputs": []
    },
    {
      "cell_type": "code",
      "source": [
        "# Create a TensorFlow Dataset from the normalized input features and target labels\n",
        "dataset_r = tf.data.Dataset.from_tensor_slices((X_reduced_normalized, y))\n",
        "\n",
        "# Shuffle the dataset\n",
        "dataset_r = dataset_r.shuffle(buffer_size=len(X_reduced_normalized))\n",
        "\n",
        "# Split the data into train, validation, and test sets\n",
        "train_size = int(0.8 * len(X_reduced_normalized))\n",
        "val_size = int(0.1 * len(X_reduced_normalized))\n",
        "test_size = int(0.1 * len(X_reduced_normalized))\n",
        "\n",
        "# Split the dataset into train, validation, and test sets\n",
        "train_dataset_r = dataset_r.take(train_size)\n",
        "val_dataset_r = dataset_r.skip(train_size).take(val_size)\n",
        "test_dataset_r = dataset_r.skip(train_size + val_size).take(test_size)\n",
        "\n",
        "# Batch the datasets\n",
        "batch_size = 8\n",
        "train_dataset_r = train_dataset_r.batch(batch_size)\n",
        "val_dataset_r = val_dataset_r.batch(batch_size)\n",
        "test_dataset_r = test_dataset_r.batch(batch_size)\n",
        "\n",
        "it = train_dataset_r.as_numpy_iterator()\n",
        "print(it.next()[0].shape, it.next()[1].shape) #return a batch (X,y)\n",
        "print(it.next()[0], it.next()[1]) #return a batch (X,y)\n",
        "# for features, labels in train_dataset:\n",
        "#   print(\"Train Features shape:\", features.shape)\n",
        "#   print(\"Train Labels shape:\", labels.shape)"
      ],
      "metadata": {
        "id": "eQaBkwiE7NAu",
        "colab": {
          "base_uri": "https://localhost:8080/"
        },
        "outputId": "b712614b-02af-4a8b-e524-aa20b6db98c3"
      },
      "execution_count": null,
      "outputs": [
        {
          "output_type": "stream",
          "name": "stdout",
          "text": [
            "(8, 13) (8,)\n",
            "[[ 0.50888635  0.6762386   0.11209457  1.04008101  0.83100655  1.19577555\n",
            "  -1.19577555 -0.02297182 -0.71322938  1.04454136 -0.45724558  1.07531191\n",
            "  -1.04928419]\n",
            " [ 0.56797816 -1.23311841  1.65537162  0.99691759 -1.41461444 -0.83627734\n",
            "   0.83627734 -0.02297182 -0.71322938  1.04454136 -0.45724558 -0.92996273\n",
            "   0.95303066]\n",
            " [ 0.37948955 -0.80881685 -0.65954396 -0.92347209 -1.41461444 -0.83627734\n",
            "   0.83627734 -0.02297182  1.40207348 -0.95735798 -0.45724558 -0.92996273\n",
            "   0.95303066]\n",
            " [-0.75628341 -0.17236452  1.65537162  0.49224564  0.17017021  1.19577555\n",
            "  -1.19577555 -0.02297182  1.40207348 -0.95735798 -0.45724558 -0.92996273\n",
            "   0.95303066]\n",
            " [-0.75628341 -1.23311841  0.11209457  0.38454203  0.00969685 -0.83627734\n",
            "   0.83627734 -0.02297182  1.40207348 -0.95735798 -0.45724558  1.07531191\n",
            "  -1.04928419]\n",
            " [-1.28438776 -1.3391938  -0.65954396 -1.2479112  -0.38266278 -0.83627734\n",
            "   0.83627734 -0.02297182 -0.71322938 -0.95735798  2.18700858 -0.92996273\n",
            "   0.95303066]\n",
            " [ 0.4462111   0.6762386   0.11209457  0.9941628   0.76652804 -0.83627734\n",
            "   0.83627734 -0.02297182 -0.71322938  1.04454136 -0.45724558 -0.92996273\n",
            "   0.95303066]\n",
            " [ 0.62387421 -0.59666607 -0.65954396 -0.58890885  1.3557692   1.19577555\n",
            "  -1.19577555 -0.02297182  1.40207348 -0.95735798 -0.45724558 -0.92996273\n",
            "   0.95303066]] [0 1 0 1 1 1 1 0]\n"
          ]
        }
      ]
    },
    {
      "cell_type": "code",
      "source": [
        "tf.keras.backend.clear_session()"
      ],
      "metadata": {
        "id": "EBGZUiF26XIZ"
      },
      "execution_count": null,
      "outputs": []
    },
    {
      "cell_type": "code",
      "source": [
        "model_2 = Sequential()"
      ],
      "metadata": {
        "id": "L1JOm3EG6XK9"
      },
      "execution_count": null,
      "outputs": []
    },
    {
      "cell_type": "code",
      "source": [
        "it = train_dataset_r.as_numpy_iterator()\n",
        "print(it.next()[0].shape, it.next()[1].shape) #return a batch (X,y)\n",
        "input_shape = it.next()[0].shape\n",
        "input_shape[1]"
      ],
      "metadata": {
        "colab": {
          "base_uri": "https://localhost:8080/"
        },
        "id": "S1SLCAvN6XNd",
        "outputId": "abf4b874-9814-42fd-bfb7-37458a282179"
      },
      "execution_count": null,
      "outputs": [
        {
          "output_type": "stream",
          "name": "stdout",
          "text": [
            "(8, 13) (8,)\n"
          ]
        },
        {
          "output_type": "execute_result",
          "data": {
            "text/plain": [
              "13"
            ]
          },
          "metadata": {},
          "execution_count": 72
        }
      ]
    },
    {
      "cell_type": "code",
      "source": [
        "# a binary classification, taking signoid as the output activation function\n",
        "# Don't need an input layer since it's sequential\n",
        "\n",
        "model_2.add(Dense(256, input_shape=(input_shape[1],), activation='relu'))\n",
        "model_2.add(Dense(64, activation='relu'))\n",
        "model_2.add(Dense(16, activation='relu'))\n",
        "model_2.add(Dense(32, activation='relu'))\n",
        "model_2.add(Dense(64, activation='relu'))\n",
        "model_2.add(Dense(2, activation='softmax'))\n",
        "\n",
        "#optimizer = Adam(learning_rate=0.00001)\n",
        "model_2.compile(optimizer= tf.keras.optimizers.Adam(0.0001), loss='sparse_categorical_crossentropy', metrics=['accuracy'])"
      ],
      "metadata": {
        "id": "s1qR3MNE6XP_"
      },
      "execution_count": null,
      "outputs": []
    },
    {
      "cell_type": "code",
      "source": [
        "hist = model_2.fit(train_dataset_r, epochs=200, validation_data=val_dataset_r)"
      ],
      "metadata": {
        "colab": {
          "base_uri": "https://localhost:8080/"
        },
        "id": "Y3z7RDqX6XSw",
        "outputId": "8ae111a9-b5ce-4aae-d822-bcb726473a30"
      },
      "execution_count": null,
      "outputs": [
        {
          "output_type": "stream",
          "name": "stdout",
          "text": [
            "Epoch 1/200\n",
            "1328/1328 [==============================] - 8s 4ms/step - loss: 0.6626 - accuracy: 0.6037 - val_loss: 0.6386 - val_accuracy: 0.6066\n",
            "Epoch 2/200\n",
            "1328/1328 [==============================] - 6s 5ms/step - loss: 0.6401 - accuracy: 0.6248 - val_loss: 0.6342 - val_accuracy: 0.6307\n",
            "Epoch 3/200\n",
            "1328/1328 [==============================] - 6s 4ms/step - loss: 0.6368 - accuracy: 0.6305 - val_loss: 0.6299 - val_accuracy: 0.6292\n",
            "Epoch 4/200\n",
            "1328/1328 [==============================] - 5s 4ms/step - loss: 0.6361 - accuracy: 0.6260 - val_loss: 0.6272 - val_accuracy: 0.6466\n",
            "Epoch 5/200\n",
            "1328/1328 [==============================] - 6s 4ms/step - loss: 0.6346 - accuracy: 0.6292 - val_loss: 0.6297 - val_accuracy: 0.6428\n",
            "Epoch 6/200\n",
            "1328/1328 [==============================] - 5s 4ms/step - loss: 0.6340 - accuracy: 0.6321 - val_loss: 0.6260 - val_accuracy: 0.6353\n",
            "Epoch 7/200\n",
            "1328/1328 [==============================] - 6s 4ms/step - loss: 0.6315 - accuracy: 0.6345 - val_loss: 0.6286 - val_accuracy: 0.6518\n",
            "Epoch 8/200\n",
            "1328/1328 [==============================] - 6s 4ms/step - loss: 0.6315 - accuracy: 0.6294 - val_loss: 0.6261 - val_accuracy: 0.6458\n",
            "Epoch 9/200\n",
            "1328/1328 [==============================] - 5s 4ms/step - loss: 0.6282 - accuracy: 0.6392 - val_loss: 0.6348 - val_accuracy: 0.6300\n",
            "Epoch 10/200\n",
            "1328/1328 [==============================] - 6s 4ms/step - loss: 0.6288 - accuracy: 0.6354 - val_loss: 0.6288 - val_accuracy: 0.6375\n",
            "Epoch 11/200\n",
            "1328/1328 [==============================] - 6s 4ms/step - loss: 0.6295 - accuracy: 0.6369 - val_loss: 0.6402 - val_accuracy: 0.6149\n",
            "Epoch 12/200\n",
            "1328/1328 [==============================] - 6s 4ms/step - loss: 0.6284 - accuracy: 0.6378 - val_loss: 0.6247 - val_accuracy: 0.6420\n",
            "Epoch 13/200\n",
            "1328/1328 [==============================] - 5s 4ms/step - loss: 0.6249 - accuracy: 0.6413 - val_loss: 0.6183 - val_accuracy: 0.6436\n",
            "Epoch 14/200\n",
            "1328/1328 [==============================] - 6s 5ms/step - loss: 0.6231 - accuracy: 0.6400 - val_loss: 0.6174 - val_accuracy: 0.6405\n",
            "Epoch 15/200\n",
            "1328/1328 [==============================] - 6s 4ms/step - loss: 0.6252 - accuracy: 0.6397 - val_loss: 0.6265 - val_accuracy: 0.6368\n",
            "Epoch 16/200\n",
            "1328/1328 [==============================] - 6s 5ms/step - loss: 0.6247 - accuracy: 0.6414 - val_loss: 0.6044 - val_accuracy: 0.6677\n",
            "Epoch 17/200\n",
            "1328/1328 [==============================] - 5s 4ms/step - loss: 0.6206 - accuracy: 0.6488 - val_loss: 0.6117 - val_accuracy: 0.6579\n",
            "Epoch 18/200\n",
            "1328/1328 [==============================] - 6s 4ms/step - loss: 0.6206 - accuracy: 0.6467 - val_loss: 0.6215 - val_accuracy: 0.6353\n",
            "Epoch 19/200\n",
            "1328/1328 [==============================] - 5s 4ms/step - loss: 0.6203 - accuracy: 0.6438 - val_loss: 0.6153 - val_accuracy: 0.6534\n",
            "Epoch 20/200\n",
            "1328/1328 [==============================] - 6s 4ms/step - loss: 0.6189 - accuracy: 0.6504 - val_loss: 0.6138 - val_accuracy: 0.6473\n",
            "Epoch 21/200\n",
            "1328/1328 [==============================] - 6s 4ms/step - loss: 0.6164 - accuracy: 0.6496 - val_loss: 0.6127 - val_accuracy: 0.6534\n",
            "Epoch 22/200\n",
            "1328/1328 [==============================] - 5s 4ms/step - loss: 0.6176 - accuracy: 0.6546 - val_loss: 0.6170 - val_accuracy: 0.6473\n",
            "Epoch 23/200\n",
            "1328/1328 [==============================] - 6s 4ms/step - loss: 0.6148 - accuracy: 0.6533 - val_loss: 0.6013 - val_accuracy: 0.6692\n",
            "Epoch 24/200\n",
            "1328/1328 [==============================] - 6s 4ms/step - loss: 0.6149 - accuracy: 0.6497 - val_loss: 0.6180 - val_accuracy: 0.6466\n",
            "Epoch 25/200\n",
            "1328/1328 [==============================] - 6s 4ms/step - loss: 0.6143 - accuracy: 0.6553 - val_loss: 0.6030 - val_accuracy: 0.6654\n",
            "Epoch 26/200\n",
            "1328/1328 [==============================] - 6s 4ms/step - loss: 0.6146 - accuracy: 0.6527 - val_loss: 0.6118 - val_accuracy: 0.6511\n",
            "Epoch 27/200\n",
            "1328/1328 [==============================] - 6s 4ms/step - loss: 0.6151 - accuracy: 0.6566 - val_loss: 0.6120 - val_accuracy: 0.6526\n",
            "Epoch 28/200\n",
            "1328/1328 [==============================] - 6s 4ms/step - loss: 0.6143 - accuracy: 0.6530 - val_loss: 0.6160 - val_accuracy: 0.6503\n",
            "Epoch 29/200\n",
            "1328/1328 [==============================] - 6s 5ms/step - loss: 0.6112 - accuracy: 0.6546 - val_loss: 0.6216 - val_accuracy: 0.6443\n",
            "Epoch 30/200\n",
            "1328/1328 [==============================] - 6s 4ms/step - loss: 0.6096 - accuracy: 0.6549 - val_loss: 0.6055 - val_accuracy: 0.6647\n",
            "Epoch 31/200\n",
            "1328/1328 [==============================] - 6s 4ms/step - loss: 0.6094 - accuracy: 0.6570 - val_loss: 0.5934 - val_accuracy: 0.6692\n",
            "Epoch 32/200\n",
            "1328/1328 [==============================] - 6s 4ms/step - loss: 0.6081 - accuracy: 0.6572 - val_loss: 0.5975 - val_accuracy: 0.6737\n",
            "Epoch 33/200\n",
            "1328/1328 [==============================] - 5s 4ms/step - loss: 0.6059 - accuracy: 0.6591 - val_loss: 0.6058 - val_accuracy: 0.6745\n",
            "Epoch 34/200\n",
            "1328/1328 [==============================] - 5s 4ms/step - loss: 0.6048 - accuracy: 0.6611 - val_loss: 0.5813 - val_accuracy: 0.6895\n",
            "Epoch 35/200\n",
            "1328/1328 [==============================] - 6s 5ms/step - loss: 0.6064 - accuracy: 0.6566 - val_loss: 0.6036 - val_accuracy: 0.6654\n",
            "Epoch 36/200\n",
            "1328/1328 [==============================] - 5s 4ms/step - loss: 0.6029 - accuracy: 0.6620 - val_loss: 0.5966 - val_accuracy: 0.6556\n",
            "Epoch 37/200\n",
            "1328/1328 [==============================] - 6s 4ms/step - loss: 0.6063 - accuracy: 0.6618 - val_loss: 0.5956 - val_accuracy: 0.6677\n",
            "Epoch 38/200\n",
            "1328/1328 [==============================] - 6s 5ms/step - loss: 0.6062 - accuracy: 0.6606 - val_loss: 0.5947 - val_accuracy: 0.6797\n",
            "Epoch 39/200\n",
            "1328/1328 [==============================] - 5s 4ms/step - loss: 0.6022 - accuracy: 0.6601 - val_loss: 0.5692 - val_accuracy: 0.7001\n",
            "Epoch 40/200\n",
            "1328/1328 [==============================] - 6s 5ms/step - loss: 0.6012 - accuracy: 0.6661 - val_loss: 0.6071 - val_accuracy: 0.6571\n",
            "Epoch 41/200\n",
            "1328/1328 [==============================] - 5s 4ms/step - loss: 0.6001 - accuracy: 0.6650 - val_loss: 0.6156 - val_accuracy: 0.6398\n",
            "Epoch 42/200\n",
            "1328/1328 [==============================] - 6s 5ms/step - loss: 0.5976 - accuracy: 0.6679 - val_loss: 0.5840 - val_accuracy: 0.6782\n",
            "Epoch 43/200\n",
            "1328/1328 [==============================] - 5s 4ms/step - loss: 0.5966 - accuracy: 0.6671 - val_loss: 0.5874 - val_accuracy: 0.6782\n",
            "Epoch 44/200\n",
            "1328/1328 [==============================] - 6s 5ms/step - loss: 0.5979 - accuracy: 0.6666 - val_loss: 0.5963 - val_accuracy: 0.6503\n",
            "Epoch 45/200\n",
            "1328/1328 [==============================] - 5s 4ms/step - loss: 0.6000 - accuracy: 0.6649 - val_loss: 0.5882 - val_accuracy: 0.6797\n",
            "Epoch 46/200\n",
            "1328/1328 [==============================] - 5s 4ms/step - loss: 0.5938 - accuracy: 0.6670 - val_loss: 0.5811 - val_accuracy: 0.6775\n",
            "Epoch 47/200\n",
            "1328/1328 [==============================] - 5s 4ms/step - loss: 0.5949 - accuracy: 0.6675 - val_loss: 0.6008 - val_accuracy: 0.6669\n",
            "Epoch 48/200\n",
            "1328/1328 [==============================] - 6s 4ms/step - loss: 0.5928 - accuracy: 0.6719 - val_loss: 0.5629 - val_accuracy: 0.7001\n",
            "Epoch 49/200\n",
            "1328/1328 [==============================] - 5s 4ms/step - loss: 0.5915 - accuracy: 0.6747 - val_loss: 0.5854 - val_accuracy: 0.6775\n",
            "Epoch 50/200\n",
            "1328/1328 [==============================] - 6s 4ms/step - loss: 0.5959 - accuracy: 0.6678 - val_loss: 0.5874 - val_accuracy: 0.6820\n",
            "Epoch 51/200\n",
            "1328/1328 [==============================] - 6s 4ms/step - loss: 0.5900 - accuracy: 0.6751 - val_loss: 0.5826 - val_accuracy: 0.6858\n",
            "Epoch 52/200\n",
            "1328/1328 [==============================] - 6s 4ms/step - loss: 0.5867 - accuracy: 0.6789 - val_loss: 0.5711 - val_accuracy: 0.6963\n",
            "Epoch 53/200\n",
            "1328/1328 [==============================] - 6s 4ms/step - loss: 0.5903 - accuracy: 0.6744 - val_loss: 0.5777 - val_accuracy: 0.6910\n",
            "Epoch 54/200\n",
            "1328/1328 [==============================] - 6s 4ms/step - loss: 0.5873 - accuracy: 0.6751 - val_loss: 0.5748 - val_accuracy: 0.6820\n",
            "Epoch 55/200\n",
            "1328/1328 [==============================] - 5s 4ms/step - loss: 0.5868 - accuracy: 0.6712 - val_loss: 0.5762 - val_accuracy: 0.6978\n",
            "Epoch 56/200\n",
            "1328/1328 [==============================] - 6s 4ms/step - loss: 0.5892 - accuracy: 0.6742 - val_loss: 0.5777 - val_accuracy: 0.6933\n",
            "Epoch 57/200\n",
            "1328/1328 [==============================] - 6s 5ms/step - loss: 0.5839 - accuracy: 0.6787 - val_loss: 0.5752 - val_accuracy: 0.6790\n",
            "Epoch 58/200\n",
            "1328/1328 [==============================] - 5s 4ms/step - loss: 0.5838 - accuracy: 0.6818 - val_loss: 0.5770 - val_accuracy: 0.6940\n",
            "Epoch 59/200\n",
            "1328/1328 [==============================] - 6s 4ms/step - loss: 0.5835 - accuracy: 0.6792 - val_loss: 0.5488 - val_accuracy: 0.7189\n",
            "Epoch 60/200\n",
            "1328/1328 [==============================] - 6s 4ms/step - loss: 0.5843 - accuracy: 0.6789 - val_loss: 0.5676 - val_accuracy: 0.6948\n",
            "Epoch 61/200\n",
            "1328/1328 [==============================] - 6s 4ms/step - loss: 0.5817 - accuracy: 0.6778 - val_loss: 0.5848 - val_accuracy: 0.6737\n",
            "Epoch 62/200\n",
            "1328/1328 [==============================] - 6s 4ms/step - loss: 0.5842 - accuracy: 0.6780 - val_loss: 0.5834 - val_accuracy: 0.6662\n",
            "Epoch 63/200\n",
            "1328/1328 [==============================] - 5s 4ms/step - loss: 0.5830 - accuracy: 0.6783 - val_loss: 0.5739 - val_accuracy: 0.6805\n",
            "Epoch 64/200\n",
            "1328/1328 [==============================] - 6s 4ms/step - loss: 0.5811 - accuracy: 0.6771 - val_loss: 0.5716 - val_accuracy: 0.6873\n",
            "Epoch 65/200\n",
            "1328/1328 [==============================] - 6s 5ms/step - loss: 0.5781 - accuracy: 0.6833 - val_loss: 0.5711 - val_accuracy: 0.6925\n",
            "Epoch 66/200\n",
            "1328/1328 [==============================] - 5s 4ms/step - loss: 0.5801 - accuracy: 0.6802 - val_loss: 0.5711 - val_accuracy: 0.7023\n",
            "Epoch 67/200\n",
            "1328/1328 [==============================] - 6s 5ms/step - loss: 0.5750 - accuracy: 0.6869 - val_loss: 0.5638 - val_accuracy: 0.7046\n",
            "Epoch 68/200\n",
            "1328/1328 [==============================] - 6s 4ms/step - loss: 0.5767 - accuracy: 0.6801 - val_loss: 0.5716 - val_accuracy: 0.6850\n",
            "Epoch 69/200\n",
            "1328/1328 [==============================] - 6s 4ms/step - loss: 0.5756 - accuracy: 0.6848 - val_loss: 0.5685 - val_accuracy: 0.6880\n",
            "Epoch 70/200\n",
            "1328/1328 [==============================] - 6s 5ms/step - loss: 0.5783 - accuracy: 0.6817 - val_loss: 0.5704 - val_accuracy: 0.6918\n",
            "Epoch 71/200\n",
            "1328/1328 [==============================] - 6s 5ms/step - loss: 0.5747 - accuracy: 0.6849 - val_loss: 0.5576 - val_accuracy: 0.6948\n",
            "Epoch 72/200\n",
            "1328/1328 [==============================] - 6s 4ms/step - loss: 0.5700 - accuracy: 0.6889 - val_loss: 0.5883 - val_accuracy: 0.6745\n",
            "Epoch 73/200\n",
            "1328/1328 [==============================] - 6s 5ms/step - loss: 0.5732 - accuracy: 0.6857 - val_loss: 0.5405 - val_accuracy: 0.7151\n",
            "Epoch 74/200\n",
            "1328/1328 [==============================] - 5s 4ms/step - loss: 0.5732 - accuracy: 0.6864 - val_loss: 0.5794 - val_accuracy: 0.6737\n",
            "Epoch 75/200\n",
            "1328/1328 [==============================] - 6s 4ms/step - loss: 0.5717 - accuracy: 0.6882 - val_loss: 0.5669 - val_accuracy: 0.7061\n",
            "Epoch 76/200\n",
            "1328/1328 [==============================] - 6s 4ms/step - loss: 0.5680 - accuracy: 0.6875 - val_loss: 0.5582 - val_accuracy: 0.7106\n",
            "Epoch 77/200\n",
            "1328/1328 [==============================] - 5s 4ms/step - loss: 0.5670 - accuracy: 0.6909 - val_loss: 0.5777 - val_accuracy: 0.6925\n",
            "Epoch 78/200\n",
            "1328/1328 [==============================] - 6s 5ms/step - loss: 0.5648 - accuracy: 0.6955 - val_loss: 0.5482 - val_accuracy: 0.7031\n",
            "Epoch 79/200\n",
            "1328/1328 [==============================] - 6s 4ms/step - loss: 0.5682 - accuracy: 0.6898 - val_loss: 0.5540 - val_accuracy: 0.6993\n",
            "Epoch 80/200\n",
            "1328/1328 [==============================] - 6s 5ms/step - loss: 0.5665 - accuracy: 0.6889 - val_loss: 0.5546 - val_accuracy: 0.7001\n",
            "Epoch 81/200\n",
            "1328/1328 [==============================] - 5s 4ms/step - loss: 0.5642 - accuracy: 0.6944 - val_loss: 0.5708 - val_accuracy: 0.7054\n",
            "Epoch 82/200\n",
            "1328/1328 [==============================] - 6s 5ms/step - loss: 0.5610 - accuracy: 0.6970 - val_loss: 0.5556 - val_accuracy: 0.7121\n",
            "Epoch 83/200\n",
            "1328/1328 [==============================] - 6s 4ms/step - loss: 0.5625 - accuracy: 0.6986 - val_loss: 0.5565 - val_accuracy: 0.6888\n",
            "Epoch 84/200\n",
            "1328/1328 [==============================] - 6s 4ms/step - loss: 0.5640 - accuracy: 0.6929 - val_loss: 0.5455 - val_accuracy: 0.7136\n",
            "Epoch 85/200\n",
            "1328/1328 [==============================] - 6s 4ms/step - loss: 0.5639 - accuracy: 0.6962 - val_loss: 0.5499 - val_accuracy: 0.7069\n",
            "Epoch 86/200\n",
            "1328/1328 [==============================] - 6s 4ms/step - loss: 0.5604 - accuracy: 0.6968 - val_loss: 0.5635 - val_accuracy: 0.6940\n",
            "Epoch 87/200\n",
            "1328/1328 [==============================] - 6s 4ms/step - loss: 0.5600 - accuracy: 0.6933 - val_loss: 0.5514 - val_accuracy: 0.7114\n",
            "Epoch 88/200\n",
            "1328/1328 [==============================] - 6s 4ms/step - loss: 0.5577 - accuracy: 0.7008 - val_loss: 0.5492 - val_accuracy: 0.7114\n",
            "Epoch 89/200\n",
            "1328/1328 [==============================] - 6s 4ms/step - loss: 0.5588 - accuracy: 0.6985 - val_loss: 0.5651 - val_accuracy: 0.6956\n",
            "Epoch 90/200\n",
            "1328/1328 [==============================] - 6s 4ms/step - loss: 0.5595 - accuracy: 0.6979 - val_loss: 0.5679 - val_accuracy: 0.7023\n",
            "Epoch 91/200\n",
            "1328/1328 [==============================] - 6s 5ms/step - loss: 0.5577 - accuracy: 0.6994 - val_loss: 0.5449 - val_accuracy: 0.7355\n",
            "Epoch 92/200\n",
            "1328/1328 [==============================] - 6s 4ms/step - loss: 0.5558 - accuracy: 0.6991 - val_loss: 0.5547 - val_accuracy: 0.7023\n",
            "Epoch 93/200\n",
            "1328/1328 [==============================] - 5s 4ms/step - loss: 0.5568 - accuracy: 0.6959 - val_loss: 0.5395 - val_accuracy: 0.7114\n",
            "Epoch 94/200\n",
            "1328/1328 [==============================] - 6s 4ms/step - loss: 0.5587 - accuracy: 0.6995 - val_loss: 0.5374 - val_accuracy: 0.7295\n",
            "Epoch 95/200\n",
            "1328/1328 [==============================] - 6s 4ms/step - loss: 0.5530 - accuracy: 0.7013 - val_loss: 0.5582 - val_accuracy: 0.7076\n",
            "Epoch 96/200\n",
            "1328/1328 [==============================] - 6s 5ms/step - loss: 0.5546 - accuracy: 0.7054 - val_loss: 0.5363 - val_accuracy: 0.7189\n",
            "Epoch 97/200\n",
            "1328/1328 [==============================] - 6s 5ms/step - loss: 0.5527 - accuracy: 0.7047 - val_loss: 0.5211 - val_accuracy: 0.7302\n",
            "Epoch 98/200\n",
            "1328/1328 [==============================] - 5s 4ms/step - loss: 0.5522 - accuracy: 0.7036 - val_loss: 0.5493 - val_accuracy: 0.7061\n",
            "Epoch 99/200\n",
            "1328/1328 [==============================] - 6s 5ms/step - loss: 0.5521 - accuracy: 0.7041 - val_loss: 0.5235 - val_accuracy: 0.7295\n",
            "Epoch 100/200\n",
            "1328/1328 [==============================] - 5s 4ms/step - loss: 0.5524 - accuracy: 0.7027 - val_loss: 0.5377 - val_accuracy: 0.7144\n",
            "Epoch 101/200\n",
            "1328/1328 [==============================] - 6s 5ms/step - loss: 0.5509 - accuracy: 0.6999 - val_loss: 0.5311 - val_accuracy: 0.7204\n",
            "Epoch 102/200\n",
            "1328/1328 [==============================] - 6s 4ms/step - loss: 0.5506 - accuracy: 0.7025 - val_loss: 0.5272 - val_accuracy: 0.7189\n",
            "Epoch 103/200\n",
            "1328/1328 [==============================] - 6s 4ms/step - loss: 0.5503 - accuracy: 0.7042 - val_loss: 0.5564 - val_accuracy: 0.6986\n",
            "Epoch 104/200\n",
            "1328/1328 [==============================] - 6s 4ms/step - loss: 0.5464 - accuracy: 0.7086 - val_loss: 0.5333 - val_accuracy: 0.7234\n",
            "Epoch 105/200\n",
            "1328/1328 [==============================] - 6s 5ms/step - loss: 0.5439 - accuracy: 0.7096 - val_loss: 0.5241 - val_accuracy: 0.7249\n",
            "Epoch 106/200\n",
            "1328/1328 [==============================] - 5s 4ms/step - loss: 0.5440 - accuracy: 0.7120 - val_loss: 0.5437 - val_accuracy: 0.7084\n",
            "Epoch 107/200\n",
            "1328/1328 [==============================] - 6s 4ms/step - loss: 0.5513 - accuracy: 0.7027 - val_loss: 0.5323 - val_accuracy: 0.7159\n",
            "Epoch 108/200\n",
            "1328/1328 [==============================] - 5s 4ms/step - loss: 0.5439 - accuracy: 0.7109 - val_loss: 0.5451 - val_accuracy: 0.7084\n",
            "Epoch 109/200\n",
            "1328/1328 [==============================] - 6s 4ms/step - loss: 0.5450 - accuracy: 0.7073 - val_loss: 0.5205 - val_accuracy: 0.7347\n",
            "Epoch 110/200\n",
            "1328/1328 [==============================] - 5s 4ms/step - loss: 0.5431 - accuracy: 0.7082 - val_loss: 0.5310 - val_accuracy: 0.7159\n",
            "Epoch 111/200\n",
            "1328/1328 [==============================] - 6s 5ms/step - loss: 0.5427 - accuracy: 0.7062 - val_loss: 0.5327 - val_accuracy: 0.7167\n",
            "Epoch 112/200\n",
            "1328/1328 [==============================] - 6s 5ms/step - loss: 0.5436 - accuracy: 0.7054 - val_loss: 0.5279 - val_accuracy: 0.7332\n",
            "Epoch 113/200\n",
            "1328/1328 [==============================] - 5s 4ms/step - loss: 0.5431 - accuracy: 0.7082 - val_loss: 0.5369 - val_accuracy: 0.7144\n",
            "Epoch 114/200\n",
            "1328/1328 [==============================] - 6s 4ms/step - loss: 0.5391 - accuracy: 0.7132 - val_loss: 0.5228 - val_accuracy: 0.7151\n",
            "Epoch 115/200\n",
            "1328/1328 [==============================] - 6s 5ms/step - loss: 0.5366 - accuracy: 0.7122 - val_loss: 0.5566 - val_accuracy: 0.6940\n",
            "Epoch 116/200\n",
            "1328/1328 [==============================] - 6s 4ms/step - loss: 0.5399 - accuracy: 0.7098 - val_loss: 0.5289 - val_accuracy: 0.7242\n",
            "Epoch 117/200\n",
            "1328/1328 [==============================] - 6s 5ms/step - loss: 0.5401 - accuracy: 0.7126 - val_loss: 0.5488 - val_accuracy: 0.7091\n",
            "Epoch 118/200\n",
            "1328/1328 [==============================] - 5s 4ms/step - loss: 0.5364 - accuracy: 0.7130 - val_loss: 0.5347 - val_accuracy: 0.7159\n",
            "Epoch 119/200\n",
            "1328/1328 [==============================] - 6s 5ms/step - loss: 0.5394 - accuracy: 0.7097 - val_loss: 0.5189 - val_accuracy: 0.7227\n",
            "Epoch 120/200\n",
            "1328/1328 [==============================] - 6s 4ms/step - loss: 0.5345 - accuracy: 0.7104 - val_loss: 0.5101 - val_accuracy: 0.7144\n",
            "Epoch 121/200\n",
            "1328/1328 [==============================] - 5s 4ms/step - loss: 0.5327 - accuracy: 0.7128 - val_loss: 0.5325 - val_accuracy: 0.7182\n",
            "Epoch 122/200\n",
            "1328/1328 [==============================] - 5s 4ms/step - loss: 0.5356 - accuracy: 0.7115 - val_loss: 0.5256 - val_accuracy: 0.7197\n",
            "Epoch 123/200\n",
            "1328/1328 [==============================] - 5s 4ms/step - loss: 0.5322 - accuracy: 0.7143 - val_loss: 0.5167 - val_accuracy: 0.7310\n",
            "Epoch 124/200\n",
            "1328/1328 [==============================] - 6s 4ms/step - loss: 0.5352 - accuracy: 0.7095 - val_loss: 0.5290 - val_accuracy: 0.7227\n",
            "Epoch 125/200\n",
            "1328/1328 [==============================] - 5s 4ms/step - loss: 0.5326 - accuracy: 0.7131 - val_loss: 0.5278 - val_accuracy: 0.7151\n",
            "Epoch 126/200\n",
            "1328/1328 [==============================] - 6s 5ms/step - loss: 0.5301 - accuracy: 0.7204 - val_loss: 0.5037 - val_accuracy: 0.7378\n",
            "Epoch 127/200\n",
            "1328/1328 [==============================] - 6s 4ms/step - loss: 0.5334 - accuracy: 0.7131 - val_loss: 0.5286 - val_accuracy: 0.7144\n",
            "Epoch 128/200\n",
            "1328/1328 [==============================] - 6s 5ms/step - loss: 0.5311 - accuracy: 0.7173 - val_loss: 0.5070 - val_accuracy: 0.7521\n",
            "Epoch 129/200\n",
            "1328/1328 [==============================] - 5s 4ms/step - loss: 0.5277 - accuracy: 0.7218 - val_loss: 0.4990 - val_accuracy: 0.7445\n",
            "Epoch 130/200\n",
            "1328/1328 [==============================] - 6s 5ms/step - loss: 0.5285 - accuracy: 0.7195 - val_loss: 0.5376 - val_accuracy: 0.7106\n",
            "Epoch 131/200\n",
            "1328/1328 [==============================] - 6s 4ms/step - loss: 0.5297 - accuracy: 0.7178 - val_loss: 0.5000 - val_accuracy: 0.7423\n",
            "Epoch 132/200\n",
            "1328/1328 [==============================] - 6s 5ms/step - loss: 0.5274 - accuracy: 0.7215 - val_loss: 0.5143 - val_accuracy: 0.7287\n",
            "Epoch 133/200\n",
            "1328/1328 [==============================] - 5s 4ms/step - loss: 0.5257 - accuracy: 0.7223 - val_loss: 0.5136 - val_accuracy: 0.7310\n",
            "Epoch 134/200\n",
            "1328/1328 [==============================] - 6s 4ms/step - loss: 0.5241 - accuracy: 0.7230 - val_loss: 0.5203 - val_accuracy: 0.7076\n",
            "Epoch 135/200\n",
            "1328/1328 [==============================] - 6s 5ms/step - loss: 0.5232 - accuracy: 0.7204 - val_loss: 0.5118 - val_accuracy: 0.7295\n",
            "Epoch 136/200\n",
            "1328/1328 [==============================] - 6s 4ms/step - loss: 0.5241 - accuracy: 0.7225 - val_loss: 0.5179 - val_accuracy: 0.7219\n",
            "Epoch 137/200\n",
            "1328/1328 [==============================] - 6s 5ms/step - loss: 0.5199 - accuracy: 0.7221 - val_loss: 0.4958 - val_accuracy: 0.7415\n",
            "Epoch 138/200\n",
            "1328/1328 [==============================] - 5s 4ms/step - loss: 0.5246 - accuracy: 0.7186 - val_loss: 0.5015 - val_accuracy: 0.7317\n",
            "Epoch 139/200\n",
            "1328/1328 [==============================] - 6s 5ms/step - loss: 0.5179 - accuracy: 0.7259 - val_loss: 0.4919 - val_accuracy: 0.7596\n",
            "Epoch 140/200\n",
            "1328/1328 [==============================] - 6s 4ms/step - loss: 0.5243 - accuracy: 0.7231 - val_loss: 0.4981 - val_accuracy: 0.7378\n",
            "Epoch 141/200\n",
            "1328/1328 [==============================] - 6s 5ms/step - loss: 0.5218 - accuracy: 0.7189 - val_loss: 0.5068 - val_accuracy: 0.7355\n",
            "Epoch 142/200\n",
            "1328/1328 [==============================] - 5s 4ms/step - loss: 0.5192 - accuracy: 0.7213 - val_loss: 0.5074 - val_accuracy: 0.7189\n",
            "Epoch 143/200\n",
            "1328/1328 [==============================] - 6s 5ms/step - loss: 0.5179 - accuracy: 0.7227 - val_loss: 0.5101 - val_accuracy: 0.7423\n",
            "Epoch 144/200\n",
            "1328/1328 [==============================] - 6s 4ms/step - loss: 0.5175 - accuracy: 0.7240 - val_loss: 0.4947 - val_accuracy: 0.7438\n",
            "Epoch 145/200\n",
            "1328/1328 [==============================] - 6s 5ms/step - loss: 0.5134 - accuracy: 0.7237 - val_loss: 0.4953 - val_accuracy: 0.7453\n",
            "Epoch 146/200\n",
            "1328/1328 [==============================] - 6s 5ms/step - loss: 0.5155 - accuracy: 0.7269 - val_loss: 0.4939 - val_accuracy: 0.7332\n",
            "Epoch 147/200\n",
            "1328/1328 [==============================] - 5s 4ms/step - loss: 0.5145 - accuracy: 0.7289 - val_loss: 0.5029 - val_accuracy: 0.7430\n",
            "Epoch 148/200\n",
            "1328/1328 [==============================] - 6s 4ms/step - loss: 0.5149 - accuracy: 0.7274 - val_loss: 0.5040 - val_accuracy: 0.7445\n",
            "Epoch 149/200\n",
            "1328/1328 [==============================] - 6s 5ms/step - loss: 0.5113 - accuracy: 0.7312 - val_loss: 0.5087 - val_accuracy: 0.7430\n",
            "Epoch 150/200\n",
            "1328/1328 [==============================] - 5s 4ms/step - loss: 0.5106 - accuracy: 0.7307 - val_loss: 0.5048 - val_accuracy: 0.7257\n",
            "Epoch 151/200\n",
            "1328/1328 [==============================] - 6s 5ms/step - loss: 0.5132 - accuracy: 0.7243 - val_loss: 0.4878 - val_accuracy: 0.7430\n",
            "Epoch 152/200\n",
            "1328/1328 [==============================] - 6s 5ms/step - loss: 0.5116 - accuracy: 0.7261 - val_loss: 0.4944 - val_accuracy: 0.7332\n",
            "Epoch 153/200\n",
            "1328/1328 [==============================] - 6s 4ms/step - loss: 0.5111 - accuracy: 0.7286 - val_loss: 0.4866 - val_accuracy: 0.7468\n",
            "Epoch 154/200\n",
            "1328/1328 [==============================] - 6s 5ms/step - loss: 0.5097 - accuracy: 0.7301 - val_loss: 0.5219 - val_accuracy: 0.7257\n",
            "Epoch 155/200\n",
            "1328/1328 [==============================] - 6s 4ms/step - loss: 0.5115 - accuracy: 0.7274 - val_loss: 0.4900 - val_accuracy: 0.7438\n",
            "Epoch 156/200\n",
            "1328/1328 [==============================] - 6s 5ms/step - loss: 0.5096 - accuracy: 0.7278 - val_loss: 0.4822 - val_accuracy: 0.7476\n",
            "Epoch 157/200\n",
            "1328/1328 [==============================] - 6s 4ms/step - loss: 0.5099 - accuracy: 0.7334 - val_loss: 0.4944 - val_accuracy: 0.7340\n",
            "Epoch 158/200\n",
            "1328/1328 [==============================] - 7s 5ms/step - loss: 0.5086 - accuracy: 0.7301 - val_loss: 0.5129 - val_accuracy: 0.7340\n",
            "Epoch 159/200\n",
            "1328/1328 [==============================] - 6s 4ms/step - loss: 0.5093 - accuracy: 0.7290 - val_loss: 0.4788 - val_accuracy: 0.7423\n",
            "Epoch 160/200\n",
            "1328/1328 [==============================] - 6s 4ms/step - loss: 0.5068 - accuracy: 0.7311 - val_loss: 0.4839 - val_accuracy: 0.7438\n",
            "Epoch 161/200\n",
            "1328/1328 [==============================] - 6s 5ms/step - loss: 0.5027 - accuracy: 0.7318 - val_loss: 0.4770 - val_accuracy: 0.7491\n",
            "Epoch 162/200\n",
            "1328/1328 [==============================] - 6s 4ms/step - loss: 0.5082 - accuracy: 0.7307 - val_loss: 0.4833 - val_accuracy: 0.7543\n",
            "Epoch 163/200\n",
            "1328/1328 [==============================] - 6s 4ms/step - loss: 0.5004 - accuracy: 0.7352 - val_loss: 0.4836 - val_accuracy: 0.7483\n",
            "Epoch 164/200\n",
            "1328/1328 [==============================] - 6s 4ms/step - loss: 0.4985 - accuracy: 0.7407 - val_loss: 0.4999 - val_accuracy: 0.7325\n",
            "Epoch 165/200\n",
            "1328/1328 [==============================] - 6s 4ms/step - loss: 0.5006 - accuracy: 0.7382 - val_loss: 0.4789 - val_accuracy: 0.7641\n",
            "Epoch 166/200\n",
            "1328/1328 [==============================] - 6s 5ms/step - loss: 0.5014 - accuracy: 0.7377 - val_loss: 0.4944 - val_accuracy: 0.7227\n",
            "Epoch 167/200\n",
            "1328/1328 [==============================] - 6s 4ms/step - loss: 0.4985 - accuracy: 0.7396 - val_loss: 0.4994 - val_accuracy: 0.7423\n",
            "Epoch 168/200\n",
            "1328/1328 [==============================] - 6s 5ms/step - loss: 0.5052 - accuracy: 0.7329 - val_loss: 0.4991 - val_accuracy: 0.7355\n",
            "Epoch 169/200\n",
            "1328/1328 [==============================] - 6s 4ms/step - loss: 0.4983 - accuracy: 0.7361 - val_loss: 0.4934 - val_accuracy: 0.7438\n",
            "Epoch 170/200\n",
            "1328/1328 [==============================] - 6s 4ms/step - loss: 0.4984 - accuracy: 0.7364 - val_loss: 0.4768 - val_accuracy: 0.7536\n",
            "Epoch 171/200\n",
            "1328/1328 [==============================] - 6s 5ms/step - loss: 0.4947 - accuracy: 0.7401 - val_loss: 0.4891 - val_accuracy: 0.7453\n",
            "Epoch 172/200\n",
            "1328/1328 [==============================] - 6s 4ms/step - loss: 0.5012 - accuracy: 0.7350 - val_loss: 0.4743 - val_accuracy: 0.7476\n",
            "Epoch 173/200\n",
            "1328/1328 [==============================] - 6s 5ms/step - loss: 0.4964 - accuracy: 0.7443 - val_loss: 0.4919 - val_accuracy: 0.7430\n",
            "Epoch 174/200\n",
            "1328/1328 [==============================] - 6s 4ms/step - loss: 0.4987 - accuracy: 0.7377 - val_loss: 0.4661 - val_accuracy: 0.7656\n",
            "Epoch 175/200\n",
            "1328/1328 [==============================] - 5s 4ms/step - loss: 0.4925 - accuracy: 0.7417 - val_loss: 0.4631 - val_accuracy: 0.7551\n",
            "Epoch 176/200\n",
            "1328/1328 [==============================] - 6s 5ms/step - loss: 0.4918 - accuracy: 0.7441 - val_loss: 0.4891 - val_accuracy: 0.7476\n",
            "Epoch 177/200\n",
            "1328/1328 [==============================] - 5s 4ms/step - loss: 0.4945 - accuracy: 0.7372 - val_loss: 0.4822 - val_accuracy: 0.7498\n",
            "Epoch 178/200\n",
            "1328/1328 [==============================] - 6s 4ms/step - loss: 0.4916 - accuracy: 0.7416 - val_loss: 0.4736 - val_accuracy: 0.7566\n",
            "Epoch 179/200\n",
            "1328/1328 [==============================] - 6s 4ms/step - loss: 0.4908 - accuracy: 0.7392 - val_loss: 0.4839 - val_accuracy: 0.7378\n",
            "Epoch 180/200\n",
            "1328/1328 [==============================] - 6s 5ms/step - loss: 0.4946 - accuracy: 0.7388 - val_loss: 0.4858 - val_accuracy: 0.7528\n",
            "Epoch 181/200\n",
            "1328/1328 [==============================] - 6s 5ms/step - loss: 0.4935 - accuracy: 0.7409 - val_loss: 0.4919 - val_accuracy: 0.7476\n",
            "Epoch 182/200\n",
            "1328/1328 [==============================] - 6s 4ms/step - loss: 0.4894 - accuracy: 0.7431 - val_loss: 0.4834 - val_accuracy: 0.7378\n",
            "Epoch 183/200\n",
            "1328/1328 [==============================] - 6s 5ms/step - loss: 0.4864 - accuracy: 0.7455 - val_loss: 0.4991 - val_accuracy: 0.7385\n",
            "Epoch 184/200\n",
            "1328/1328 [==============================] - 5s 4ms/step - loss: 0.4864 - accuracy: 0.7448 - val_loss: 0.4670 - val_accuracy: 0.7679\n",
            "Epoch 185/200\n",
            "1328/1328 [==============================] - 6s 5ms/step - loss: 0.4903 - accuracy: 0.7458 - val_loss: 0.4791 - val_accuracy: 0.7423\n",
            "Epoch 186/200\n",
            "1328/1328 [==============================] - 6s 4ms/step - loss: 0.4860 - accuracy: 0.7452 - val_loss: 0.4706 - val_accuracy: 0.7596\n",
            "Epoch 187/200\n",
            "1328/1328 [==============================] - 6s 4ms/step - loss: 0.4860 - accuracy: 0.7449 - val_loss: 0.4565 - val_accuracy: 0.7807\n",
            "Epoch 188/200\n",
            "1328/1328 [==============================] - 6s 4ms/step - loss: 0.4850 - accuracy: 0.7436 - val_loss: 0.4785 - val_accuracy: 0.7483\n",
            "Epoch 189/200\n",
            "1328/1328 [==============================] - 6s 5ms/step - loss: 0.4848 - accuracy: 0.7470 - val_loss: 0.4850 - val_accuracy: 0.7385\n",
            "Epoch 190/200\n",
            "1328/1328 [==============================] - 6s 5ms/step - loss: 0.4857 - accuracy: 0.7462 - val_loss: 0.4934 - val_accuracy: 0.7393\n",
            "Epoch 191/200\n",
            "1328/1328 [==============================] - 6s 4ms/step - loss: 0.4884 - accuracy: 0.7433 - val_loss: 0.4580 - val_accuracy: 0.7671\n",
            "Epoch 192/200\n",
            "1328/1328 [==============================] - 5s 4ms/step - loss: 0.4815 - accuracy: 0.7475 - val_loss: 0.4670 - val_accuracy: 0.7551\n",
            "Epoch 193/200\n",
            "1328/1328 [==============================] - 6s 5ms/step - loss: 0.4831 - accuracy: 0.7479 - val_loss: 0.4692 - val_accuracy: 0.7784\n",
            "Epoch 194/200\n",
            "1328/1328 [==============================] - 6s 5ms/step - loss: 0.4868 - accuracy: 0.7433 - val_loss: 0.4795 - val_accuracy: 0.7543\n",
            "Epoch 195/200\n",
            "1328/1328 [==============================] - 6s 4ms/step - loss: 0.4809 - accuracy: 0.7433 - val_loss: 0.4484 - val_accuracy: 0.7732\n",
            "Epoch 196/200\n",
            "1328/1328 [==============================] - 6s 4ms/step - loss: 0.4802 - accuracy: 0.7467 - val_loss: 0.4741 - val_accuracy: 0.7460\n",
            "Epoch 197/200\n",
            "1328/1328 [==============================] - 6s 4ms/step - loss: 0.4799 - accuracy: 0.7475 - val_loss: 0.4713 - val_accuracy: 0.7445\n",
            "Epoch 198/200\n",
            "1328/1328 [==============================] - 6s 4ms/step - loss: 0.4766 - accuracy: 0.7502 - val_loss: 0.4652 - val_accuracy: 0.7649\n",
            "Epoch 199/200\n",
            "1328/1328 [==============================] - 6s 4ms/step - loss: 0.4795 - accuracy: 0.7475 - val_loss: 0.4702 - val_accuracy: 0.7589\n",
            "Epoch 200/200\n",
            "1328/1328 [==============================] - 6s 5ms/step - loss: 0.4813 - accuracy: 0.7502 - val_loss: 0.4844 - val_accuracy: 0.7453\n"
          ]
        }
      ]
    },
    {
      "cell_type": "code",
      "source": [
        "fig = plt.figure()\n",
        "plt.plot(hist.history['accuracy'], color='teal', label='accuracy')\n",
        "plt.plot(hist.history['val_accuracy'], color='orange', label='val_accuracy')\n",
        "fig.suptitle('Accuracy', fontsize=20)\n",
        "plt.legend(loc=\"upper left\")\n",
        "plt.ylim(0.44, 0.86)\n",
        "plt.show()\n",
        "##didn't increase the accuracy"
      ],
      "metadata": {
        "colab": {
          "base_uri": "https://localhost:8080/",
          "height": 482
        },
        "id": "HcSBiFGj6XU5",
        "outputId": "c174cb85-7fe9-4247-deb5-95c66d6ae98a"
      },
      "execution_count": null,
      "outputs": [
        {
          "output_type": "display_data",
          "data": {
            "text/plain": [
              "<Figure size 640x480 with 1 Axes>"
            ],
            "image/png": "[encoded data removed]"
          },
          "metadata": {}
        }
      ]
    },
    {
      "cell_type": "code",
      "source": [
        "test_accuracy = model_2.evaluate(test_dataset_r,verbose=0,return_dict=True)['accuracy']\n",
        "test_accuracy"
      ],
      "metadata": {
        "colab": {
          "base_uri": "https://localhost:8080/"
        },
        "id": "lUvfnMdo6XXN",
        "outputId": "d1bcc281-7c1d-433b-e5f0-d821c02d72c6"
      },
      "execution_count": null,
      "outputs": [
        {
          "output_type": "execute_result",
          "data": {
            "text/plain": [
              "0.7430294156074524"
            ]
          },
          "metadata": {},
          "execution_count": 76
        }
      ]
    },
    {
      "cell_type": "code",
      "source": [
        "y_test_true = []\n",
        "y_test_predicted = []\n",
        "x_features = []\n",
        "\n",
        "#expand true label y in test_dataset and save it in the list. Make prediction by batches and save it in the list\n",
        "#Must do the prediction and expanding under same for loop otherwise the sequence may be messed up.\n",
        "#Try sigmoid?\n",
        "\n",
        "for test_features, y_test in test_dataset_r:\n",
        "  x_features.extend(test_features.numpy())\n",
        "  predictions = model_2.predict(test_features, verbose=0)\n",
        "  y_test_predicted.extend(np.argmax(predictions, axis=1).tolist())\n",
        "  y_test_true.extend(y_test.numpy())\n",
        "print(f\"True label    : {y_test_true[0:20]}\")\n",
        "print(f\"Predicted label: {y_test_predicted[0:20]}\")\n",
        "\n",
        "correct_predictions = sum(np.array(y_test_predicted) == np.array(y_test_true))\n",
        "total_samples = len(y_test_true)\n",
        "accuracy = correct_predictions / total_samples\n",
        "print(\"Manual Accuracy:\", accuracy)"
      ],
      "metadata": {
        "colab": {
          "base_uri": "https://localhost:8080/"
        },
        "id": "vFbukOeY6XZm",
        "outputId": "f8586502-4eb4-4344-b844-44de99e52c24"
      },
      "execution_count": null,
      "outputs": [
        {
          "output_type": "stream",
          "name": "stdout",
          "text": [
            "True label    : [1, 0, 0, 1, 0, 1, 0, 1, 0, 1, 0, 0, 0, 1, 1, 1, 1, 0, 1, 0]\n",
            "Predicted label: [1, 0, 0, 1, 0, 1, 1, 1, 0, 1, 0, 0, 1, 1, 1, 1, 1, 0, 0, 0]\n",
            "Manual Accuracy: 0.7641296156744537\n"
          ]
        }
      ]
    },
    {
      "cell_type": "code",
      "source": [
        "import seaborn as sns  # for nicer plots\n",
        "sns.set(style=\"darkgrid\")  # default style\n",
        "\n",
        "# Create a confusion matrix as a 2D array.\n",
        "confusion_matrix = tf.math.confusion_matrix(y_test_true, y_test_predicted)\n",
        "\n",
        "# Use a heatmap plot to display it.\n",
        "ax = sns.heatmap(confusion_matrix, annot=True, fmt='.3g', cmap='Blues')\n",
        "# Add axis labels.\n",
        "ax.set(xlabel='Predicted Label', ylabel='True Label')\n",
        "plt.show()\n",
        "print(confusion_matrix.numpy())"
      ],
      "metadata": {
        "colab": {
          "base_uri": "https://localhost:8080/",
          "height": 496
        },
        "id": "qoUbc22Y6Xb8",
        "outputId": "bf4f199a-8879-4da3-a7ef-23044b9fa942"
      },
      "execution_count": null,
      "outputs": [
        {
          "output_type": "display_data",
          "data": {
            "text/plain": [
              "<Figure size 640x480 with 2 Axes>"
            ],
            "image/png": "[encoded data removed]"
          },
          "metadata": {}
        },
        {
          "output_type": "stream",
          "name": "stdout",
          "text": [
            "[[438 218]\n",
            " [115 556]]\n"
          ]
        }
      ]
    },
    {
      "cell_type": "markdown",
      "source": [
        "1. model2(13features,6months prior), 13272 (6636+6636) examples, 71.3% of accuracy, 100 epochs, 66.7% of recall, and 73% of precision.\n",
        "[[499 163]\n",
        " [221 444]]\n",
        "2. model2(13feature,6months prior), 13272 (6636+6636) examples, 75% of accuracy, 200 epochs, 75% of recall, and 78% of precision .\n",
        "[[524 138]\n",
        " [165 500]]"
      ],
      "metadata": {
        "id": "-ZDAf-kH6-Hu"
      }
    },
    {
      "cell_type": "code",
      "source": [
        "#raw data incorperates male: 5462 and female: 7810. The gender rate is: 41% (41% male, 59% female)\n",
        "\n",
        "male_fp = 0\n",
        "female_fp = 0\n",
        "male_fn = 0\n",
        "female_fn = 0\n",
        "\n",
        "for i in range(len(y_test_true)):\n",
        "  #false positive\n",
        "  if y_test_predicted[i] == 1 and y_test_true[i] == 0:\n",
        "    if x_features[i][-13] >= 0: #-13 index of male\n",
        "      male_fp+=1\n",
        "    else:\n",
        "      female_fp+=1\n",
        "  #false negative\n",
        "  if y_test_predicted[i] == 0 and y_test_true[i] == 1:\n",
        "    if x_features[i][-13] >= 0: #-13 index of male\n",
        "      male_fn+=1\n",
        "    else:\n",
        "      female_fn+=1\n",
        "\n",
        "print(f\"False positive, male:{male_fp}, female:{female_fp} and the gender rate is {round(male_fp/(female_fp+male_fp),1)}\")\n",
        "print(f\"False negative, male:{male_fn}, female:{female_fn} and the gender rate is {round(male_fn/(female_fn+male_fn),1)}\")\n",
        "\n"
      ],
      "metadata": {
        "id": "Ay03TmhHKkgY",
        "outputId": "ddd81b63-e41b-4d9a-a8f7-fcdc0931bc43",
        "colab": {
          "base_uri": "https://localhost:8080/"
        }
      },
      "execution_count": null,
      "outputs": [
        {
          "output_type": "stream",
          "name": "stdout",
          "text": [
            "False positive, male:96, female:126 and the gender rate is 0.4\n",
            "False negative, male:70, female:21 and the gender rate is 0.8\n"
          ]
        }
      ]
    },
    {
      "cell_type": "markdown",
      "source": [
        "Now, our first model can predict whether a specific credit card owner will default or not based on his/her long-term repayment status (6 months) and the predicting accuracy is 93% and recall is 94% which means we can 94% surely identify the potential default. Also, we have another model that can make predictions six months ahead and the accuracy, recall and precision are 71.3%, 75%, and 78%. That is, if our model can 78% surely make a prediction of a specific credit card owner will default 6 months after. For a real-world scenario, we can send out a warning message six months ahead and a forecast a month ahead that can help the bank to get prepared.\n",
        "\n"
      ],
      "metadata": {
        "id": "gju1aDaM7B9n"
      }
    },
    {
      "cell_type": "markdown",
      "source": [
        "### Remove all the features related to personal information\n",
        "##### Try to make prediction based on their payment status instead of who they are to block all the potential bias."
      ],
      "metadata": {
        "id": "TBGibjSXh5Fp"
      }
    },
    {
      "cell_type": "code",
      "source": [
        "#Removing categorical features (Gender, Education, Marriage)\n",
        "\n",
        "X_reduced_3 = df[['LIMIT_BAL', 'AGE', 'PAY_0', 'PAY_2', 'PAY_3', 'PAY_4', 'PAY_5',\n",
        "          'PAY_6', 'BILL_AMT1', 'BILL_AMT2', 'BILL_AMT3', 'BILL_AMT4',\n",
        "          'BILL_AMT5', 'BILL_AMT6', 'PAY_AMT1', 'PAY_AMT2', 'PAY_AMT3',\n",
        "          'PAY_AMT4', 'PAY_AMT5', 'PAY_AMT6']].values\n",
        "\n",
        "y = np.squeeze(df[['default.payment.next.month']].values)\n",
        "\n",
        "# Normalize the input features using Z-score normalization\n",
        "scaler = StandardScaler()\n",
        "X_reduced_normalized = scaler.fit_transform(X_reduced_3)"
      ],
      "metadata": {
        "id": "GLzWzvMAiVv2"
      },
      "execution_count": 4,
      "outputs": []
    },
    {
      "cell_type": "code",
      "source": [
        "# Create a TensorFlow Dataset from the normalized input features and target labels\n",
        "dataset_r = tf.data.Dataset.from_tensor_slices((X_reduced_normalized, y))\n",
        "\n",
        "# Shuffle the dataset\n",
        "dataset_r = dataset_r.shuffle(buffer_size=len(X_reduced_normalized))\n",
        "\n",
        "# Split the data into train, validation, and test sets\n",
        "train_size = int(0.8 * len(X_reduced_normalized))\n",
        "val_size = int(0.1 * len(X_reduced_normalized))\n",
        "test_size = int(0.1 * len(X_reduced_normalized))\n",
        "\n",
        "# Split the dataset into train, validation, and test sets\n",
        "train_dataset_r = dataset_r.take(train_size)\n",
        "val_dataset_r = dataset_r.skip(train_size).take(val_size)\n",
        "test_dataset_r = dataset_r.skip(train_size + val_size).take(test_size)\n",
        "\n",
        "# Batch the datasets\n",
        "batch_size = 8\n",
        "train_dataset_r = train_dataset_r.batch(batch_size)\n",
        "val_dataset_r = val_dataset_r.batch(batch_size)\n",
        "test_dataset_r = test_dataset_r.batch(batch_size)\n",
        "\n",
        "it = train_dataset_r.as_numpy_iterator()\n",
        "print(it.next()[0].shape, it.next()[1].shape) #return a batch (X,y)\n",
        "print(it.next()[0], it.next()[1]) #return a batch (X,y)\n",
        "# for features, labels in train_dataset:\n",
        "#   print(\"Train Features shape:\", features.shape)\n",
        "#   print(\"Train Labels shape:\", labels.shape)"
      ],
      "metadata": {
        "colab": {
          "base_uri": "https://localhost:8080/"
        },
        "id": "mf0g0WKSjYDM",
        "outputId": "c23aae79-2a9f-427d-b5bc-8d147fa58fb3"
      },
      "execution_count": 5,
      "outputs": [
        {
          "output_type": "stream",
          "name": "stdout",
          "text": [
            "(8, 20) (8,)\n",
            "[[-1.70356777 -0.59666607  0.60702945  1.42418853  1.47123326  1.54776269\n",
            "   1.63734331  0.11209457 -0.17647147 -0.04276173 -0.02621584  0.08502177\n",
            "   0.1218799   0.19464322  0.2898353  -1.64257496  0.3569447  -1.47739263\n",
            "   0.13269105 -0.25710599]\n",
            " [-0.40842996  1.31269094 -0.18313285 -0.05935516 -0.0206266   0.03454675\n",
            "   0.08597294  0.11209457  0.25933697  0.31477069  0.36009131  0.4098952\n",
            "   0.36717572  0.41360453  0.2898353   0.29941672  0.25967061  0.13293735\n",
            "   0.13269105  0.15692281]\n",
            " [ 0.77543656 -0.38451529 -0.97329516 -0.80112701 -0.0206266  -0.72206122\n",
            "  -0.68971224 -0.65954396  0.09239619  0.48599829  0.44089695  0.51010503\n",
            "  -0.26958218  0.59165056  1.60839415  1.08771174  1.65776845  0.68427832\n",
            "   1.72104027  2.37149835]\n",
            " [ 0.37948955 -0.59666607 -0.18313285 -0.05935516 -0.0206266   0.03454675\n",
            "   0.08597294  0.11209457  1.04220081  1.04566555  1.03774799  1.06390923\n",
            "   1.10503222  1.13907227  0.75912766  0.74125614  0.82007862  0.89880472\n",
            "   1.22231746 -1.41461444]\n",
            " [-2.42016073 -1.02096763  0.60702945  1.42418853  1.47123326  1.54776269\n",
            "   0.08597294  0.11209457 -0.30169706 -0.26654179 -0.13715814 -0.10819261\n",
            "  -0.03926485  0.01745006 -1.65148652  0.16638924 -1.53177656 -0.28785435\n",
            "  -0.28527201 -0.00292852]\n",
            " [-1.28438776 -0.59666607 -0.18313285 -0.05935516 -0.0206266   0.03454675\n",
            "   0.08597294  0.11209457  0.32480477  0.37035614  0.40318486  0.45423821\n",
            "   0.50432706  0.54500631  0.2411322   0.14783369  0.24572231  0.13293735\n",
            "   0.17616648  0.56757767]\n",
            " [-0.27038186 -0.2784399  -0.18313285 -0.05935516 -0.0206266   0.03454675\n",
            "   0.08597294  0.11209457  0.7788369   0.7956417   0.81592346  0.80017334\n",
            "   0.71539648  0.73614533  0.547461    0.57031599  0.57800101  0.38438771\n",
            "   0.44886789  0.44458306]\n",
            " [-0.1486148   0.03978626 -0.18313285 -0.05935516 -0.0206266   0.03454675\n",
            "   0.08597294  0.11209457  0.84325822  0.80863653  0.75017727  0.78745395\n",
            "   0.83189753  0.84996592  0.64076264  0.51675177  0.49359488  0.55372904\n",
            "   0.57395101  0.5930151 ]] [0 0 0 1 0 0 1 0]\n"
          ]
        }
      ]
    },
    {
      "cell_type": "code",
      "source": [
        "tf.keras.backend.clear_session()"
      ],
      "metadata": {
        "id": "OKIkVjBqjaGI"
      },
      "execution_count": 6,
      "outputs": []
    },
    {
      "cell_type": "code",
      "source": [
        "model_3 = Sequential()"
      ],
      "metadata": {
        "id": "Wpj9kqy1jdFQ"
      },
      "execution_count": 10,
      "outputs": []
    },
    {
      "cell_type": "code",
      "source": [
        "it = train_dataset_r.as_numpy_iterator()\n",
        "print(it.next()[0].shape, it.next()[1].shape) #return a batch (X,y)\n",
        "input_shape = it.next()[0].shape\n",
        "input_shape[1]"
      ],
      "metadata": {
        "colab": {
          "base_uri": "https://localhost:8080/"
        },
        "id": "oGin6hZKjhip",
        "outputId": "60d253ba-649a-4145-eba5-ce2670be1b67"
      },
      "execution_count": 11,
      "outputs": [
        {
          "output_type": "stream",
          "name": "stdout",
          "text": [
            "(8, 20) (8,)\n"
          ]
        },
        {
          "output_type": "execute_result",
          "data": {
            "text/plain": [
              "20"
            ]
          },
          "metadata": {},
          "execution_count": 11
        }
      ]
    },
    {
      "cell_type": "code",
      "source": [
        "# a binary classification, taking signoid as the output activation function\n",
        "# Don't need an input layer since it's sequential\n",
        "\n",
        "model_3.add(Dense(256, input_shape=(input_shape[1],), activation='relu'))\n",
        "model_3.add(Dense(64, activation='relu'))\n",
        "model_3.add(Dense(16, activation='relu'))\n",
        "model_3.add(Dense(32, activation='relu'))\n",
        "model_3.add(Dense(64, activation='relu'))\n",
        "model_3.add(Dense(2, activation='softmax'))\n",
        "\n",
        "#optimizer = Adam(learning_rate=0.00001)\n",
        "model_3.compile(optimizer= tf.keras.optimizers.Adam(0.0001), loss='sparse_categorical_crossentropy', metrics=['accuracy'])"
      ],
      "metadata": {
        "id": "ubSUSvB_jlyr"
      },
      "execution_count": 13,
      "outputs": []
    },
    {
      "cell_type": "code",
      "source": [
        "hist = model_3.fit(train_dataset_r, epochs=200, validation_data=val_dataset_r)"
      ],
      "metadata": {
        "colab": {
          "base_uri": "https://localhost:8080/"
        },
        "id": "-jkttW-RjoXP",
        "outputId": "65e4fd98-2195-4709-c731-94666b0f4d6b"
      },
      "execution_count": 14,
      "outputs": [
        {
          "output_type": "stream",
          "name": "stdout",
          "text": [
            "Epoch 1/200\n",
            "1328/1328 [==============================] - 13s 4ms/step - loss: 0.6016 - accuracy: 0.6831 - val_loss: 0.5793 - val_accuracy: 0.7167\n",
            "Epoch 2/200\n",
            "1328/1328 [==============================] - 6s 4ms/step - loss: 0.5752 - accuracy: 0.7024 - val_loss: 0.5487 - val_accuracy: 0.7197\n",
            "Epoch 3/200\n",
            "1328/1328 [==============================] - 7s 5ms/step - loss: 0.5695 - accuracy: 0.7102 - val_loss: 0.5501 - val_accuracy: 0.7227\n",
            "Epoch 4/200\n",
            "1328/1328 [==============================] - 5s 4ms/step - loss: 0.5658 - accuracy: 0.7165 - val_loss: 0.5751 - val_accuracy: 0.7114\n",
            "Epoch 5/200\n",
            "1328/1328 [==============================] - 5s 4ms/step - loss: 0.5614 - accuracy: 0.7167 - val_loss: 0.5621 - val_accuracy: 0.7091\n",
            "Epoch 6/200\n",
            "1328/1328 [==============================] - 5s 4ms/step - loss: 0.5601 - accuracy: 0.7162 - val_loss: 0.5731 - val_accuracy: 0.7008\n",
            "Epoch 7/200\n",
            "1328/1328 [==============================] - 6s 4ms/step - loss: 0.5569 - accuracy: 0.7206 - val_loss: 0.5328 - val_accuracy: 0.7287\n",
            "Epoch 8/200\n",
            "1328/1328 [==============================] - 5s 4ms/step - loss: 0.5575 - accuracy: 0.7198 - val_loss: 0.5479 - val_accuracy: 0.7197\n",
            "Epoch 9/200\n",
            "1328/1328 [==============================] - 5s 4ms/step - loss: 0.5547 - accuracy: 0.7204 - val_loss: 0.5485 - val_accuracy: 0.7242\n",
            "Epoch 10/200\n",
            "1328/1328 [==============================] - 6s 5ms/step - loss: 0.5531 - accuracy: 0.7235 - val_loss: 0.5502 - val_accuracy: 0.7272\n",
            "Epoch 11/200\n",
            "1328/1328 [==============================] - 5s 4ms/step - loss: 0.5476 - accuracy: 0.7249 - val_loss: 0.5583 - val_accuracy: 0.7069\n",
            "Epoch 12/200\n",
            "1328/1328 [==============================] - 5s 4ms/step - loss: 0.5498 - accuracy: 0.7238 - val_loss: 0.5321 - val_accuracy: 0.7355\n",
            "Epoch 13/200\n",
            "1328/1328 [==============================] - 5s 4ms/step - loss: 0.5438 - accuracy: 0.7302 - val_loss: 0.5311 - val_accuracy: 0.7325\n",
            "Epoch 14/200\n",
            "1328/1328 [==============================] - 5s 4ms/step - loss: 0.5446 - accuracy: 0.7305 - val_loss: 0.5434 - val_accuracy: 0.7295\n",
            "Epoch 15/200\n",
            "1328/1328 [==============================] - 6s 4ms/step - loss: 0.5412 - accuracy: 0.7312 - val_loss: 0.5347 - val_accuracy: 0.7249\n",
            "Epoch 16/200\n",
            "1328/1328 [==============================] - 5s 4ms/step - loss: 0.5384 - accuracy: 0.7336 - val_loss: 0.5350 - val_accuracy: 0.7295\n",
            "Epoch 17/200\n",
            "1328/1328 [==============================] - 6s 4ms/step - loss: 0.5363 - accuracy: 0.7304 - val_loss: 0.5373 - val_accuracy: 0.7423\n",
            "Epoch 18/200\n",
            "1328/1328 [==============================] - 5s 4ms/step - loss: 0.5360 - accuracy: 0.7346 - val_loss: 0.5433 - val_accuracy: 0.7295\n",
            "Epoch 19/200\n",
            "1328/1328 [==============================] - 5s 4ms/step - loss: 0.5301 - accuracy: 0.7395 - val_loss: 0.5388 - val_accuracy: 0.7355\n",
            "Epoch 20/200\n",
            "1328/1328 [==============================] - 5s 4ms/step - loss: 0.5264 - accuracy: 0.7418 - val_loss: 0.5149 - val_accuracy: 0.7521\n",
            "Epoch 21/200\n",
            "1328/1328 [==============================] - 6s 4ms/step - loss: 0.5258 - accuracy: 0.7384 - val_loss: 0.5304 - val_accuracy: 0.7347\n",
            "Epoch 22/200\n",
            "1328/1328 [==============================] - 6s 5ms/step - loss: 0.5282 - accuracy: 0.7361 - val_loss: 0.5158 - val_accuracy: 0.7408\n",
            "Epoch 23/200\n",
            "1328/1328 [==============================] - 5s 4ms/step - loss: 0.5268 - accuracy: 0.7399 - val_loss: 0.4962 - val_accuracy: 0.7671\n",
            "Epoch 24/200\n",
            "1328/1328 [==============================] - 6s 4ms/step - loss: 0.5176 - accuracy: 0.7466 - val_loss: 0.5139 - val_accuracy: 0.7506\n",
            "Epoch 25/200\n",
            "1328/1328 [==============================] - 6s 4ms/step - loss: 0.5159 - accuracy: 0.7465 - val_loss: 0.5051 - val_accuracy: 0.7604\n",
            "Epoch 26/200\n",
            "1328/1328 [==============================] - 5s 4ms/step - loss: 0.5176 - accuracy: 0.7449 - val_loss: 0.4991 - val_accuracy: 0.7573\n",
            "Epoch 27/200\n",
            "1328/1328 [==============================] - 6s 4ms/step - loss: 0.5095 - accuracy: 0.7501 - val_loss: 0.4959 - val_accuracy: 0.7589\n",
            "Epoch 28/200\n",
            "1328/1328 [==============================] - 5s 4ms/step - loss: 0.5103 - accuracy: 0.7519 - val_loss: 0.5176 - val_accuracy: 0.7415\n",
            "Epoch 29/200\n",
            "1328/1328 [==============================] - 5s 4ms/step - loss: 0.5056 - accuracy: 0.7527 - val_loss: 0.4991 - val_accuracy: 0.7641\n",
            "Epoch 30/200\n",
            "1328/1328 [==============================] - 6s 4ms/step - loss: 0.5009 - accuracy: 0.7555 - val_loss: 0.4832 - val_accuracy: 0.7671\n",
            "Epoch 31/200\n",
            "1328/1328 [==============================] - 5s 4ms/step - loss: 0.4966 - accuracy: 0.7609 - val_loss: 0.4745 - val_accuracy: 0.7769\n",
            "Epoch 32/200\n",
            "1328/1328 [==============================] - 6s 4ms/step - loss: 0.5003 - accuracy: 0.7594 - val_loss: 0.4965 - val_accuracy: 0.7641\n",
            "Epoch 33/200\n",
            "1328/1328 [==============================] - 5s 4ms/step - loss: 0.4970 - accuracy: 0.7568 - val_loss: 0.4980 - val_accuracy: 0.7566\n",
            "Epoch 34/200\n",
            "1328/1328 [==============================] - 6s 4ms/step - loss: 0.4913 - accuracy: 0.7649 - val_loss: 0.4752 - val_accuracy: 0.7822\n",
            "Epoch 35/200\n",
            "1328/1328 [==============================] - 5s 4ms/step - loss: 0.4927 - accuracy: 0.7636 - val_loss: 0.4887 - val_accuracy: 0.7634\n",
            "Epoch 36/200\n",
            "1328/1328 [==============================] - 5s 4ms/step - loss: 0.4911 - accuracy: 0.7651 - val_loss: 0.4868 - val_accuracy: 0.7687\n",
            "Epoch 37/200\n",
            "1328/1328 [==============================] - 5s 4ms/step - loss: 0.4816 - accuracy: 0.7693 - val_loss: 0.4565 - val_accuracy: 0.8056\n",
            "Epoch 38/200\n",
            "1328/1328 [==============================] - 5s 4ms/step - loss: 0.4825 - accuracy: 0.7708 - val_loss: 0.4772 - val_accuracy: 0.7671\n",
            "Epoch 39/200\n",
            "1328/1328 [==============================] - 5s 4ms/step - loss: 0.4809 - accuracy: 0.7674 - val_loss: 0.4593 - val_accuracy: 0.7995\n",
            "Epoch 40/200\n",
            "1328/1328 [==============================] - 5s 4ms/step - loss: 0.4745 - accuracy: 0.7715 - val_loss: 0.4608 - val_accuracy: 0.7913\n",
            "Epoch 41/200\n",
            "1328/1328 [==============================] - 5s 4ms/step - loss: 0.4730 - accuracy: 0.7771 - val_loss: 0.4739 - val_accuracy: 0.7792\n",
            "Epoch 42/200\n",
            "1328/1328 [==============================] - 5s 4ms/step - loss: 0.4701 - accuracy: 0.7778 - val_loss: 0.4649 - val_accuracy: 0.7822\n",
            "Epoch 43/200\n",
            "1328/1328 [==============================] - 5s 4ms/step - loss: 0.4609 - accuracy: 0.7834 - val_loss: 0.4627 - val_accuracy: 0.7860\n",
            "Epoch 44/200\n",
            "1328/1328 [==============================] - 6s 4ms/step - loss: 0.4640 - accuracy: 0.7768 - val_loss: 0.4383 - val_accuracy: 0.7965\n",
            "Epoch 45/200\n",
            "1328/1328 [==============================] - 5s 4ms/step - loss: 0.4642 - accuracy: 0.7828 - val_loss: 0.4342 - val_accuracy: 0.8101\n",
            "Epoch 46/200\n",
            "1328/1328 [==============================] - 6s 4ms/step - loss: 0.4563 - accuracy: 0.7863 - val_loss: 0.4511 - val_accuracy: 0.7867\n",
            "Epoch 47/200\n",
            "1328/1328 [==============================] - 5s 4ms/step - loss: 0.4552 - accuracy: 0.7879 - val_loss: 0.4305 - val_accuracy: 0.8026\n",
            "Epoch 48/200\n",
            "1328/1328 [==============================] - 5s 4ms/step - loss: 0.4529 - accuracy: 0.7858 - val_loss: 0.4368 - val_accuracy: 0.7920\n",
            "Epoch 49/200\n",
            "1328/1328 [==============================] - 5s 4ms/step - loss: 0.4465 - accuracy: 0.7904 - val_loss: 0.4429 - val_accuracy: 0.7920\n",
            "Epoch 50/200\n",
            "1328/1328 [==============================] - 6s 5ms/step - loss: 0.4471 - accuracy: 0.7914 - val_loss: 0.4122 - val_accuracy: 0.8184\n",
            "Epoch 51/200\n",
            "1328/1328 [==============================] - 5s 4ms/step - loss: 0.4445 - accuracy: 0.7929 - val_loss: 0.4280 - val_accuracy: 0.8003\n",
            "Epoch 52/200\n",
            "1328/1328 [==============================] - 6s 4ms/step - loss: 0.4393 - accuracy: 0.7922 - val_loss: 0.4367 - val_accuracy: 0.8003\n",
            "Epoch 53/200\n",
            "1328/1328 [==============================] - 5s 4ms/step - loss: 0.4393 - accuracy: 0.7929 - val_loss: 0.4095 - val_accuracy: 0.8003\n",
            "Epoch 54/200\n",
            "1328/1328 [==============================] - 5s 4ms/step - loss: 0.4331 - accuracy: 0.7958 - val_loss: 0.4278 - val_accuracy: 0.7875\n",
            "Epoch 55/200\n",
            "1328/1328 [==============================] - 5s 4ms/step - loss: 0.4340 - accuracy: 0.8000 - val_loss: 0.3887 - val_accuracy: 0.8252\n",
            "Epoch 56/200\n",
            "1328/1328 [==============================] - 6s 4ms/step - loss: 0.4262 - accuracy: 0.8020 - val_loss: 0.4283 - val_accuracy: 0.7928\n",
            "Epoch 57/200\n",
            "1328/1328 [==============================] - 5s 4ms/step - loss: 0.4268 - accuracy: 0.8013 - val_loss: 0.4193 - val_accuracy: 0.7950\n",
            "Epoch 58/200\n",
            "1328/1328 [==============================] - 6s 4ms/step - loss: 0.4243 - accuracy: 0.8017 - val_loss: 0.4156 - val_accuracy: 0.8116\n",
            "Epoch 59/200\n",
            "1328/1328 [==============================] - 5s 4ms/step - loss: 0.4210 - accuracy: 0.8043 - val_loss: 0.4209 - val_accuracy: 0.8063\n",
            "Epoch 60/200\n",
            "1328/1328 [==============================] - 5s 4ms/step - loss: 0.4225 - accuracy: 0.8025 - val_loss: 0.4083 - val_accuracy: 0.8229\n",
            "Epoch 61/200\n",
            "1328/1328 [==============================] - 5s 4ms/step - loss: 0.4158 - accuracy: 0.8093 - val_loss: 0.4282 - val_accuracy: 0.7958\n",
            "Epoch 62/200\n",
            "1328/1328 [==============================] - 6s 4ms/step - loss: 0.4142 - accuracy: 0.8090 - val_loss: 0.3821 - val_accuracy: 0.8252\n",
            "Epoch 63/200\n",
            "1328/1328 [==============================] - 5s 4ms/step - loss: 0.4088 - accuracy: 0.8081 - val_loss: 0.4145 - val_accuracy: 0.7995\n",
            "Epoch 64/200\n",
            "1328/1328 [==============================] - 6s 4ms/step - loss: 0.4011 - accuracy: 0.8128 - val_loss: 0.4176 - val_accuracy: 0.7875\n",
            "Epoch 65/200\n",
            "1328/1328 [==============================] - 5s 4ms/step - loss: 0.4047 - accuracy: 0.8094 - val_loss: 0.3726 - val_accuracy: 0.8267\n",
            "Epoch 66/200\n",
            "1328/1328 [==============================] - 6s 4ms/step - loss: 0.4028 - accuracy: 0.8086 - val_loss: 0.4086 - val_accuracy: 0.8048\n",
            "Epoch 67/200\n",
            "1328/1328 [==============================] - 5s 4ms/step - loss: 0.3957 - accuracy: 0.8176 - val_loss: 0.4191 - val_accuracy: 0.8033\n",
            "Epoch 68/200\n",
            "1328/1328 [==============================] - 6s 4ms/step - loss: 0.3979 - accuracy: 0.8155 - val_loss: 0.3654 - val_accuracy: 0.8387\n",
            "Epoch 69/200\n",
            "1328/1328 [==============================] - 5s 4ms/step - loss: 0.3965 - accuracy: 0.8158 - val_loss: 0.3798 - val_accuracy: 0.8252\n",
            "Epoch 70/200\n",
            "1328/1328 [==============================] - 6s 4ms/step - loss: 0.3890 - accuracy: 0.8163 - val_loss: 0.3729 - val_accuracy: 0.8410\n",
            "Epoch 71/200\n",
            "1328/1328 [==============================] - 5s 4ms/step - loss: 0.3858 - accuracy: 0.8213 - val_loss: 0.3610 - val_accuracy: 0.8350\n",
            "Epoch 72/200\n",
            "1328/1328 [==============================] - 6s 4ms/step - loss: 0.3854 - accuracy: 0.8237 - val_loss: 0.3494 - val_accuracy: 0.8531\n",
            "Epoch 73/200\n",
            "1328/1328 [==============================] - 5s 4ms/step - loss: 0.3827 - accuracy: 0.8242 - val_loss: 0.3570 - val_accuracy: 0.8485\n",
            "Epoch 74/200\n",
            "1328/1328 [==============================] - 5s 4ms/step - loss: 0.3797 - accuracy: 0.8268 - val_loss: 0.3678 - val_accuracy: 0.8380\n",
            "Epoch 75/200\n",
            "1328/1328 [==============================] - 5s 4ms/step - loss: 0.3808 - accuracy: 0.8191 - val_loss: 0.3508 - val_accuracy: 0.8515\n",
            "Epoch 76/200\n",
            "1328/1328 [==============================] - 5s 4ms/step - loss: 0.3752 - accuracy: 0.8225 - val_loss: 0.3648 - val_accuracy: 0.8199\n",
            "Epoch 77/200\n",
            "1328/1328 [==============================] - 6s 4ms/step - loss: 0.3712 - accuracy: 0.8281 - val_loss: 0.3655 - val_accuracy: 0.8387\n",
            "Epoch 78/200\n",
            "1328/1328 [==============================] - 5s 4ms/step - loss: 0.3665 - accuracy: 0.8296 - val_loss: 0.3643 - val_accuracy: 0.8380\n",
            "Epoch 79/200\n",
            "1328/1328 [==============================] - 6s 5ms/step - loss: 0.3680 - accuracy: 0.8274 - val_loss: 0.3799 - val_accuracy: 0.8252\n",
            "Epoch 80/200\n",
            "1328/1328 [==============================] - 5s 4ms/step - loss: 0.3688 - accuracy: 0.8307 - val_loss: 0.3415 - val_accuracy: 0.8433\n",
            "Epoch 81/200\n",
            "1328/1328 [==============================] - 6s 4ms/step - loss: 0.3648 - accuracy: 0.8319 - val_loss: 0.3339 - val_accuracy: 0.8561\n",
            "Epoch 82/200\n",
            "1328/1328 [==============================] - 5s 4ms/step - loss: 0.3588 - accuracy: 0.8355 - val_loss: 0.3349 - val_accuracy: 0.8493\n",
            "Epoch 83/200\n",
            "1328/1328 [==============================] - 6s 4ms/step - loss: 0.3589 - accuracy: 0.8339 - val_loss: 0.3389 - val_accuracy: 0.8531\n",
            "Epoch 84/200\n",
            "1328/1328 [==============================] - 5s 4ms/step - loss: 0.3591 - accuracy: 0.8323 - val_loss: 0.3276 - val_accuracy: 0.8553\n",
            "Epoch 85/200\n",
            "1328/1328 [==============================] - 5s 4ms/step - loss: 0.3604 - accuracy: 0.8312 - val_loss: 0.3477 - val_accuracy: 0.8327\n",
            "Epoch 86/200\n",
            "1328/1328 [==============================] - 5s 4ms/step - loss: 0.3508 - accuracy: 0.8354 - val_loss: 0.3371 - val_accuracy: 0.8304\n",
            "Epoch 87/200\n",
            "1328/1328 [==============================] - 6s 4ms/step - loss: 0.3489 - accuracy: 0.8402 - val_loss: 0.3259 - val_accuracy: 0.8651\n",
            "Epoch 88/200\n",
            "1328/1328 [==============================] - 5s 4ms/step - loss: 0.3472 - accuracy: 0.8419 - val_loss: 0.3315 - val_accuracy: 0.8470\n",
            "Epoch 89/200\n",
            "1328/1328 [==============================] - 6s 4ms/step - loss: 0.3448 - accuracy: 0.8389 - val_loss: 0.3418 - val_accuracy: 0.8387\n",
            "Epoch 90/200\n",
            "1328/1328 [==============================] - 5s 4ms/step - loss: 0.3453 - accuracy: 0.8393 - val_loss: 0.3218 - val_accuracy: 0.8523\n",
            "Epoch 91/200\n",
            "1328/1328 [==============================] - 6s 4ms/step - loss: 0.3391 - accuracy: 0.8427 - val_loss: 0.3025 - val_accuracy: 0.8681\n",
            "Epoch 92/200\n",
            "1328/1328 [==============================] - 5s 4ms/step - loss: 0.3418 - accuracy: 0.8408 - val_loss: 0.3282 - val_accuracy: 0.8425\n",
            "Epoch 93/200\n",
            "1328/1328 [==============================] - 6s 4ms/step - loss: 0.3379 - accuracy: 0.8442 - val_loss: 0.3337 - val_accuracy: 0.8470\n",
            "Epoch 94/200\n",
            "1328/1328 [==============================] - 6s 4ms/step - loss: 0.3382 - accuracy: 0.8405 - val_loss: 0.3326 - val_accuracy: 0.8531\n",
            "Epoch 95/200\n",
            "1328/1328 [==============================] - 5s 4ms/step - loss: 0.3347 - accuracy: 0.8453 - val_loss: 0.3322 - val_accuracy: 0.8455\n",
            "Epoch 96/200\n",
            "1328/1328 [==============================] - 5s 4ms/step - loss: 0.3311 - accuracy: 0.8483 - val_loss: 0.3021 - val_accuracy: 0.8651\n",
            "Epoch 97/200\n",
            "1328/1328 [==============================] - 5s 4ms/step - loss: 0.3282 - accuracy: 0.8452 - val_loss: 0.3656 - val_accuracy: 0.8237\n",
            "Epoch 98/200\n",
            "1328/1328 [==============================] - 6s 5ms/step - loss: 0.3273 - accuracy: 0.8495 - val_loss: 0.3266 - val_accuracy: 0.8440\n",
            "Epoch 99/200\n",
            "1328/1328 [==============================] - 5s 4ms/step - loss: 0.3256 - accuracy: 0.8482 - val_loss: 0.2983 - val_accuracy: 0.8711\n",
            "Epoch 100/200\n",
            "1328/1328 [==============================] - 6s 4ms/step - loss: 0.3185 - accuracy: 0.8523 - val_loss: 0.3248 - val_accuracy: 0.8470\n",
            "Epoch 101/200\n",
            "1328/1328 [==============================] - 6s 4ms/step - loss: 0.3238 - accuracy: 0.8483 - val_loss: 0.3049 - val_accuracy: 0.8628\n",
            "Epoch 102/200\n",
            "1328/1328 [==============================] - 5s 4ms/step - loss: 0.3193 - accuracy: 0.8517 - val_loss: 0.3030 - val_accuracy: 0.8613\n",
            "Epoch 103/200\n",
            "1328/1328 [==============================] - 5s 4ms/step - loss: 0.3193 - accuracy: 0.8508 - val_loss: 0.3040 - val_accuracy: 0.8591\n",
            "Epoch 104/200\n",
            "1328/1328 [==============================] - 6s 4ms/step - loss: 0.3184 - accuracy: 0.8545 - val_loss: 0.2963 - val_accuracy: 0.8606\n",
            "Epoch 105/200\n",
            "1328/1328 [==============================] - 5s 4ms/step - loss: 0.3176 - accuracy: 0.8517 - val_loss: 0.2997 - val_accuracy: 0.8644\n",
            "Epoch 106/200\n",
            "1328/1328 [==============================] - 6s 5ms/step - loss: 0.3175 - accuracy: 0.8550 - val_loss: 0.2854 - val_accuracy: 0.8689\n",
            "Epoch 107/200\n",
            "1328/1328 [==============================] - 5s 4ms/step - loss: 0.3127 - accuracy: 0.8547 - val_loss: 0.3040 - val_accuracy: 0.8651\n",
            "Epoch 108/200\n",
            "1328/1328 [==============================] - 6s 4ms/step - loss: 0.3102 - accuracy: 0.8583 - val_loss: 0.2989 - val_accuracy: 0.8674\n",
            "Epoch 109/200\n",
            "1328/1328 [==============================] - 5s 4ms/step - loss: 0.3121 - accuracy: 0.8566 - val_loss: 0.3194 - val_accuracy: 0.8508\n",
            "Epoch 110/200\n",
            "1328/1328 [==============================] - 6s 4ms/step - loss: 0.3122 - accuracy: 0.8527 - val_loss: 0.3039 - val_accuracy: 0.8583\n",
            "Epoch 111/200\n",
            "1328/1328 [==============================] - 6s 4ms/step - loss: 0.3066 - accuracy: 0.8590 - val_loss: 0.3234 - val_accuracy: 0.8402\n",
            "Epoch 112/200\n",
            "1328/1328 [==============================] - 5s 4ms/step - loss: 0.3048 - accuracy: 0.8595 - val_loss: 0.2956 - val_accuracy: 0.8591\n",
            "Epoch 113/200\n",
            "1328/1328 [==============================] - 6s 4ms/step - loss: 0.3053 - accuracy: 0.8606 - val_loss: 0.2767 - val_accuracy: 0.8757\n",
            "Epoch 114/200\n",
            "1328/1328 [==============================] - 5s 4ms/step - loss: 0.3043 - accuracy: 0.8599 - val_loss: 0.2930 - val_accuracy: 0.8628\n",
            "Epoch 115/200\n",
            "1328/1328 [==============================] - 6s 4ms/step - loss: 0.3006 - accuracy: 0.8630 - val_loss: 0.2765 - val_accuracy: 0.8719\n",
            "Epoch 116/200\n",
            "1328/1328 [==============================] - 5s 4ms/step - loss: 0.2953 - accuracy: 0.8616 - val_loss: 0.3073 - val_accuracy: 0.8568\n",
            "Epoch 117/200\n",
            "1328/1328 [==============================] - 6s 4ms/step - loss: 0.2992 - accuracy: 0.8612 - val_loss: 0.2549 - val_accuracy: 0.8885\n",
            "Epoch 118/200\n",
            "1328/1328 [==============================] - 5s 4ms/step - loss: 0.2958 - accuracy: 0.8630 - val_loss: 0.2932 - val_accuracy: 0.8651\n",
            "Epoch 119/200\n",
            "1328/1328 [==============================] - 5s 4ms/step - loss: 0.2944 - accuracy: 0.8650 - val_loss: 0.2745 - val_accuracy: 0.8779\n",
            "Epoch 120/200\n",
            "1328/1328 [==============================] - 5s 4ms/step - loss: 0.2899 - accuracy: 0.8677 - val_loss: 0.2924 - val_accuracy: 0.8689\n",
            "Epoch 121/200\n",
            "1328/1328 [==============================] - 6s 4ms/step - loss: 0.2975 - accuracy: 0.8630 - val_loss: 0.2864 - val_accuracy: 0.8726\n",
            "Epoch 122/200\n",
            "1328/1328 [==============================] - 5s 4ms/step - loss: 0.2945 - accuracy: 0.8658 - val_loss: 0.2823 - val_accuracy: 0.8704\n",
            "Epoch 123/200\n",
            "1328/1328 [==============================] - 6s 4ms/step - loss: 0.2916 - accuracy: 0.8673 - val_loss: 0.2629 - val_accuracy: 0.8817\n",
            "Epoch 124/200\n",
            "1328/1328 [==============================] - 5s 4ms/step - loss: 0.2910 - accuracy: 0.8673 - val_loss: 0.2706 - val_accuracy: 0.8696\n",
            "Epoch 125/200\n",
            "1328/1328 [==============================] - 6s 4ms/step - loss: 0.2873 - accuracy: 0.8657 - val_loss: 0.2894 - val_accuracy: 0.8606\n",
            "Epoch 126/200\n",
            "1328/1328 [==============================] - 5s 4ms/step - loss: 0.2825 - accuracy: 0.8695 - val_loss: 0.3016 - val_accuracy: 0.8591\n",
            "Epoch 127/200\n",
            "1328/1328 [==============================] - 5s 4ms/step - loss: 0.2846 - accuracy: 0.8661 - val_loss: 0.2890 - val_accuracy: 0.8621\n",
            "Epoch 128/200\n",
            "1328/1328 [==============================] - 5s 4ms/step - loss: 0.2894 - accuracy: 0.8645 - val_loss: 0.2679 - val_accuracy: 0.8742\n",
            "Epoch 129/200\n",
            "1328/1328 [==============================] - 6s 4ms/step - loss: 0.2828 - accuracy: 0.8702 - val_loss: 0.2990 - val_accuracy: 0.8591\n",
            "Epoch 130/200\n",
            "1328/1328 [==============================] - 6s 4ms/step - loss: 0.2851 - accuracy: 0.8667 - val_loss: 0.2626 - val_accuracy: 0.8742\n",
            "Epoch 131/200\n",
            "1328/1328 [==============================] - 5s 4ms/step - loss: 0.2756 - accuracy: 0.8749 - val_loss: 0.2607 - val_accuracy: 0.8862\n",
            "Epoch 132/200\n",
            "1328/1328 [==============================] - 6s 5ms/step - loss: 0.2859 - accuracy: 0.8689 - val_loss: 0.2640 - val_accuracy: 0.8726\n",
            "Epoch 133/200\n",
            "1328/1328 [==============================] - 5s 4ms/step - loss: 0.2824 - accuracy: 0.8718 - val_loss: 0.2640 - val_accuracy: 0.8809\n",
            "Epoch 134/200\n",
            "1328/1328 [==============================] - 6s 4ms/step - loss: 0.2750 - accuracy: 0.8712 - val_loss: 0.2714 - val_accuracy: 0.8711\n",
            "Epoch 135/200\n",
            "1328/1328 [==============================] - 5s 4ms/step - loss: 0.2760 - accuracy: 0.8738 - val_loss: 0.2658 - val_accuracy: 0.8809\n",
            "Epoch 136/200\n",
            "1328/1328 [==============================] - 5s 4ms/step - loss: 0.2819 - accuracy: 0.8704 - val_loss: 0.2640 - val_accuracy: 0.8742\n",
            "Epoch 137/200\n",
            "1328/1328 [==============================] - 5s 4ms/step - loss: 0.2739 - accuracy: 0.8741 - val_loss: 0.2776 - val_accuracy: 0.8711\n",
            "Epoch 138/200\n",
            "1328/1328 [==============================] - 5s 4ms/step - loss: 0.2767 - accuracy: 0.8762 - val_loss: 0.2566 - val_accuracy: 0.8832\n",
            "Epoch 139/200\n",
            "1328/1328 [==============================] - 6s 4ms/step - loss: 0.2741 - accuracy: 0.8764 - val_loss: 0.2650 - val_accuracy: 0.8839\n",
            "Epoch 140/200\n",
            "1328/1328 [==============================] - 5s 4ms/step - loss: 0.2742 - accuracy: 0.8744 - val_loss: 0.2366 - val_accuracy: 0.9103\n",
            "Epoch 141/200\n",
            "1328/1328 [==============================] - 5s 4ms/step - loss: 0.2632 - accuracy: 0.8794 - val_loss: 0.2440 - val_accuracy: 0.8945\n",
            "Epoch 142/200\n",
            "1328/1328 [==============================] - 6s 4ms/step - loss: 0.2725 - accuracy: 0.8734 - val_loss: 0.2644 - val_accuracy: 0.8757\n",
            "Epoch 143/200\n",
            "1328/1328 [==============================] - 5s 4ms/step - loss: 0.2673 - accuracy: 0.8802 - val_loss: 0.2704 - val_accuracy: 0.8757\n",
            "Epoch 144/200\n",
            "1328/1328 [==============================] - 5s 4ms/step - loss: 0.2694 - accuracy: 0.8770 - val_loss: 0.2742 - val_accuracy: 0.8787\n",
            "Epoch 145/200\n",
            "1328/1328 [==============================] - 6s 5ms/step - loss: 0.2720 - accuracy: 0.8757 - val_loss: 0.2391 - val_accuracy: 0.8930\n",
            "Epoch 146/200\n",
            "1328/1328 [==============================] - 5s 4ms/step - loss: 0.2646 - accuracy: 0.8763 - val_loss: 0.2358 - val_accuracy: 0.8983\n",
            "Epoch 147/200\n",
            "1328/1328 [==============================] - 6s 4ms/step - loss: 0.2620 - accuracy: 0.8821 - val_loss: 0.2528 - val_accuracy: 0.8772\n",
            "Epoch 148/200\n",
            "1328/1328 [==============================] - 6s 4ms/step - loss: 0.2611 - accuracy: 0.8780 - val_loss: 0.2428 - val_accuracy: 0.8937\n",
            "Epoch 149/200\n",
            "1328/1328 [==============================] - 5s 4ms/step - loss: 0.2624 - accuracy: 0.8788 - val_loss: 0.2676 - val_accuracy: 0.8757\n",
            "Epoch 150/200\n",
            "1328/1328 [==============================] - 5s 4ms/step - loss: 0.2629 - accuracy: 0.8768 - val_loss: 0.2658 - val_accuracy: 0.8809\n",
            "Epoch 151/200\n",
            "1328/1328 [==============================] - 5s 4ms/step - loss: 0.2623 - accuracy: 0.8793 - val_loss: 0.2451 - val_accuracy: 0.8839\n",
            "Epoch 152/200\n",
            "1328/1328 [==============================] - 6s 4ms/step - loss: 0.2575 - accuracy: 0.8833 - val_loss: 0.2671 - val_accuracy: 0.8757\n",
            "Epoch 153/200\n",
            "1328/1328 [==============================] - 5s 4ms/step - loss: 0.2638 - accuracy: 0.8799 - val_loss: 0.2769 - val_accuracy: 0.8787\n",
            "Epoch 154/200\n",
            "1328/1328 [==============================] - 6s 4ms/step - loss: 0.2576 - accuracy: 0.8841 - val_loss: 0.2638 - val_accuracy: 0.8787\n",
            "Epoch 155/200\n",
            "1328/1328 [==============================] - 5s 4ms/step - loss: 0.2619 - accuracy: 0.8807 - val_loss: 0.2325 - val_accuracy: 0.8960\n",
            "Epoch 156/200\n",
            "1328/1328 [==============================] - 6s 4ms/step - loss: 0.2568 - accuracy: 0.8825 - val_loss: 0.2495 - val_accuracy: 0.8839\n",
            "Epoch 157/200\n",
            "1328/1328 [==============================] - 5s 4ms/step - loss: 0.2530 - accuracy: 0.8841 - val_loss: 0.2577 - val_accuracy: 0.8915\n",
            "Epoch 158/200\n",
            "1328/1328 [==============================] - 6s 5ms/step - loss: 0.2533 - accuracy: 0.8846 - val_loss: 0.2304 - val_accuracy: 0.8915\n",
            "Epoch 159/200\n",
            "1328/1328 [==============================] - 5s 4ms/step - loss: 0.2600 - accuracy: 0.8816 - val_loss: 0.2466 - val_accuracy: 0.8915\n",
            "Epoch 160/200\n",
            "1328/1328 [==============================] - 5s 4ms/step - loss: 0.2574 - accuracy: 0.8833 - val_loss: 0.2495 - val_accuracy: 0.8809\n",
            "Epoch 161/200\n",
            "1328/1328 [==============================] - 6s 4ms/step - loss: 0.2553 - accuracy: 0.8877 - val_loss: 0.2351 - val_accuracy: 0.8945\n",
            "Epoch 162/200\n",
            "1328/1328 [==============================] - 5s 4ms/step - loss: 0.2508 - accuracy: 0.8825 - val_loss: 0.2269 - val_accuracy: 0.8975\n",
            "Epoch 163/200\n",
            "1328/1328 [==============================] - 6s 4ms/step - loss: 0.2575 - accuracy: 0.8795 - val_loss: 0.2299 - val_accuracy: 0.8998\n",
            "Epoch 164/200\n",
            "1328/1328 [==============================] - 5s 4ms/step - loss: 0.2544 - accuracy: 0.8824 - val_loss: 0.2454 - val_accuracy: 0.8855\n",
            "Epoch 165/200\n",
            "1328/1328 [==============================] - 6s 4ms/step - loss: 0.2509 - accuracy: 0.8837 - val_loss: 0.2192 - val_accuracy: 0.9043\n",
            "Epoch 166/200\n",
            "1328/1328 [==============================] - 5s 4ms/step - loss: 0.2528 - accuracy: 0.8837 - val_loss: 0.2365 - val_accuracy: 0.8862\n",
            "Epoch 167/200\n",
            "1328/1328 [==============================] - 6s 4ms/step - loss: 0.2552 - accuracy: 0.8842 - val_loss: 0.2502 - val_accuracy: 0.8764\n",
            "Epoch 168/200\n",
            "1328/1328 [==============================] - 5s 4ms/step - loss: 0.2479 - accuracy: 0.8872 - val_loss: 0.2284 - val_accuracy: 0.8915\n",
            "Epoch 169/200\n",
            "1328/1328 [==============================] - 5s 4ms/step - loss: 0.2519 - accuracy: 0.8867 - val_loss: 0.2533 - val_accuracy: 0.8862\n",
            "Epoch 170/200\n",
            "1328/1328 [==============================] - 6s 4ms/step - loss: 0.2462 - accuracy: 0.8863 - val_loss: 0.2258 - val_accuracy: 0.9028\n",
            "Epoch 171/200\n",
            "1328/1328 [==============================] - 5s 4ms/step - loss: 0.2525 - accuracy: 0.8840 - val_loss: 0.2230 - val_accuracy: 0.8998\n",
            "Epoch 172/200\n",
            "1328/1328 [==============================] - 6s 5ms/step - loss: 0.2444 - accuracy: 0.8892 - val_loss: 0.2319 - val_accuracy: 0.9073\n",
            "Epoch 173/200\n",
            "1328/1328 [==============================] - 6s 4ms/step - loss: 0.2519 - accuracy: 0.8853 - val_loss: 0.2275 - val_accuracy: 0.8983\n",
            "Epoch 174/200\n",
            "1328/1328 [==============================] - 5s 4ms/step - loss: 0.2451 - accuracy: 0.8860 - val_loss: 0.2254 - val_accuracy: 0.8937\n",
            "Epoch 175/200\n",
            "1328/1328 [==============================] - 5s 4ms/step - loss: 0.2441 - accuracy: 0.8898 - val_loss: 0.2189 - val_accuracy: 0.9020\n",
            "Epoch 176/200\n",
            "1328/1328 [==============================] - 5s 4ms/step - loss: 0.2485 - accuracy: 0.8877 - val_loss: 0.2530 - val_accuracy: 0.8900\n",
            "Epoch 177/200\n",
            "1328/1328 [==============================] - 5s 4ms/step - loss: 0.2408 - accuracy: 0.8880 - val_loss: 0.2394 - val_accuracy: 0.8885\n",
            "Epoch 178/200\n",
            "1328/1328 [==============================] - 6s 5ms/step - loss: 0.2485 - accuracy: 0.8880 - val_loss: 0.2557 - val_accuracy: 0.8817\n",
            "Epoch 179/200\n",
            "1328/1328 [==============================] - 5s 4ms/step - loss: 0.2432 - accuracy: 0.8896 - val_loss: 0.2448 - val_accuracy: 0.8847\n",
            "Epoch 180/200\n",
            "1328/1328 [==============================] - 5s 4ms/step - loss: 0.2407 - accuracy: 0.8890 - val_loss: 0.2215 - val_accuracy: 0.9020\n",
            "Epoch 181/200\n",
            "1328/1328 [==============================] - 6s 4ms/step - loss: 0.2398 - accuracy: 0.8920 - val_loss: 0.2340 - val_accuracy: 0.8900\n",
            "Epoch 182/200\n",
            "1328/1328 [==============================] - 5s 4ms/step - loss: 0.2415 - accuracy: 0.8886 - val_loss: 0.2067 - val_accuracy: 0.9126\n",
            "Epoch 183/200\n",
            "1328/1328 [==============================] - 6s 4ms/step - loss: 0.2425 - accuracy: 0.8903 - val_loss: 0.2261 - val_accuracy: 0.9088\n",
            "Epoch 184/200\n",
            "1328/1328 [==============================] - 6s 4ms/step - loss: 0.2392 - accuracy: 0.8902 - val_loss: 0.2043 - val_accuracy: 0.9066\n",
            "Epoch 185/200\n",
            "1328/1328 [==============================] - 6s 4ms/step - loss: 0.2349 - accuracy: 0.8897 - val_loss: 0.2505 - val_accuracy: 0.8870\n",
            "Epoch 186/200\n",
            "1328/1328 [==============================] - 5s 4ms/step - loss: 0.2372 - accuracy: 0.8934 - val_loss: 0.2555 - val_accuracy: 0.8779\n",
            "Epoch 187/200\n",
            "1328/1328 [==============================] - 6s 4ms/step - loss: 0.2374 - accuracy: 0.8932 - val_loss: 0.2276 - val_accuracy: 0.8953\n",
            "Epoch 188/200\n",
            "1328/1328 [==============================] - 5s 4ms/step - loss: 0.2347 - accuracy: 0.8918 - val_loss: 0.2094 - val_accuracy: 0.9035\n",
            "Epoch 189/200\n",
            "1328/1328 [==============================] - 6s 4ms/step - loss: 0.2309 - accuracy: 0.8934 - val_loss: 0.2131 - val_accuracy: 0.9028\n",
            "Epoch 190/200\n",
            "1328/1328 [==============================] - 6s 5ms/step - loss: 0.2366 - accuracy: 0.8932 - val_loss: 0.2261 - val_accuracy: 0.8937\n",
            "Epoch 191/200\n",
            "1328/1328 [==============================] - 5s 4ms/step - loss: 0.2293 - accuracy: 0.8964 - val_loss: 0.2137 - val_accuracy: 0.9028\n",
            "Epoch 192/200\n",
            "1328/1328 [==============================] - 6s 5ms/step - loss: 0.2382 - accuracy: 0.8899 - val_loss: 0.2095 - val_accuracy: 0.9111\n",
            "Epoch 193/200\n",
            "1328/1328 [==============================] - 5s 4ms/step - loss: 0.2381 - accuracy: 0.8913 - val_loss: 0.2209 - val_accuracy: 0.8968\n",
            "Epoch 194/200\n",
            "1328/1328 [==============================] - 6s 4ms/step - loss: 0.2321 - accuracy: 0.8944 - val_loss: 0.2263 - val_accuracy: 0.8915\n",
            "Epoch 195/200\n",
            "1328/1328 [==============================] - 5s 4ms/step - loss: 0.2294 - accuracy: 0.8972 - val_loss: 0.2450 - val_accuracy: 0.8907\n",
            "Epoch 196/200\n",
            "1328/1328 [==============================] - 5s 4ms/step - loss: 0.2317 - accuracy: 0.8945 - val_loss: 0.2230 - val_accuracy: 0.8990\n",
            "Epoch 197/200\n",
            "1328/1328 [==============================] - 6s 4ms/step - loss: 0.2316 - accuracy: 0.8930 - val_loss: 0.2051 - val_accuracy: 0.9148\n",
            "Epoch 198/200\n",
            "1328/1328 [==============================] - 6s 4ms/step - loss: 0.2260 - accuracy: 0.8948 - val_loss: 0.2443 - val_accuracy: 0.8922\n",
            "Epoch 199/200\n",
            "1328/1328 [==============================] - 5s 4ms/step - loss: 0.2344 - accuracy: 0.8946 - val_loss: 0.2269 - val_accuracy: 0.8983\n",
            "Epoch 200/200\n",
            "1328/1328 [==============================] - 5s 4ms/step - loss: 0.2309 - accuracy: 0.8929 - val_loss: 0.2083 - val_accuracy: 0.9050\n"
          ]
        }
      ]
    },
    {
      "cell_type": "code",
      "source": [
        "fig = plt.figure()\n",
        "plt.plot(hist.history['accuracy'], color='teal', label='accuracy')\n",
        "plt.plot(hist.history['val_accuracy'], color='orange', label='val_accuracy')\n",
        "fig.suptitle('Accuracy', fontsize=20)\n",
        "plt.legend(loc=\"upper left\")\n",
        "plt.ylim(0.65, 0.95)\n",
        "plt.show()"
      ],
      "metadata": {
        "colab": {
          "base_uri": "https://localhost:8080/",
          "height": 478
        },
        "id": "UpMjQqSCjsg4",
        "outputId": "2cc16392-2ea2-4c48-93f6-d28a11940e50"
      },
      "execution_count": 20,
      "outputs": [
        {
          "output_type": "display_data",
          "data": {
            "text/plain": [
              "<Figure size 640x480 with 1 Axes>"
            ],
            "image/png": "[encoded data removed]"
          },
          "metadata": {}
        }
      ]
    },
    {
      "cell_type": "code",
      "source": [
        "test_accuracy = model_3.evaluate(test_dataset_r,verbose=0,return_dict=True)['accuracy']\n",
        "test_accuracy"
      ],
      "metadata": {
        "colab": {
          "base_uri": "https://localhost:8080/"
        },
        "id": "QHxKjwDnkAKC",
        "outputId": "fc5f29fe-4a6b-451f-cca7-96e387159562"
      },
      "execution_count": 21,
      "outputs": [
        {
          "output_type": "execute_result",
          "data": {
            "text/plain": [
              "0.9095704555511475"
            ]
          },
          "metadata": {},
          "execution_count": 21
        }
      ]
    },
    {
      "cell_type": "code",
      "source": [
        "y_test_true = []\n",
        "y_test_predicted = []\n",
        "x_features = []\n",
        "\n",
        "\n",
        "for test_features, y_test in test_dataset_r:\n",
        "  x_features.extend(test_features.numpy())\n",
        "  predictions = model_3.predict(test_features, verbose=0)\n",
        "  y_test_predicted.extend(np.argmax(predictions, axis=1).tolist())\n",
        "  y_test_true.extend(y_test.numpy())\n",
        "print(f\"True label    : {y_test_true[0:20]}\")\n",
        "print(f\"Predicted label: {y_test_predicted[0:20]}\")\n",
        "\n",
        "correct_predictions = sum(np.array(y_test_predicted) == np.array(y_test_true))\n",
        "total_samples = len(y_test_true)\n",
        "accuracy = correct_predictions / total_samples\n",
        "print(\"Manual Accuracy:\", accuracy)"
      ],
      "metadata": {
        "colab": {
          "base_uri": "https://localhost:8080/"
        },
        "id": "fartVa1LkAcQ",
        "outputId": "a1fc8686-b418-4400-f03a-809b5cac055a"
      },
      "execution_count": 23,
      "outputs": [
        {
          "output_type": "stream",
          "name": "stdout",
          "text": [
            "True label    : [1, 1, 1, 1, 0, 0, 1, 0, 1, 0, 1, 0, 0, 0, 1, 1, 1, 1, 0, 1]\n",
            "Predicted label: [1, 1, 1, 1, 0, 0, 1, 0, 1, 1, 1, 0, 0, 0, 1, 1, 1, 1, 0, 1]\n",
            "Manual Accuracy: 0.9193669932177845\n"
          ]
        }
      ]
    },
    {
      "cell_type": "code",
      "source": [
        "import seaborn as sns  # for nicer plots\n",
        "sns.set(style=\"darkgrid\")  # default style\n",
        "\n",
        "# Create a confusion matrix as a 2D array.\n",
        "confusion_matrix = tf.math.confusion_matrix(y_test_true, y_test_predicted)\n",
        "\n",
        "# Use a heatmap plot to display it.\n",
        "ax = sns.heatmap(confusion_matrix, annot=True, fmt='.3g', cmap='Blues')\n",
        "# Add axis labels.\n",
        "ax.set(xlabel='Predicted Label', ylabel='True Label')\n",
        "plt.show()\n",
        "print(confusion_matrix.numpy())"
      ],
      "metadata": {
        "colab": {
          "base_uri": "https://localhost:8080/",
          "height": 495
        },
        "id": "SLYdv8E_kENo",
        "outputId": "50d55109-0986-4b50-e541-3f11dca5a409"
      },
      "execution_count": 24,
      "outputs": [
        {
          "output_type": "display_data",
          "data": {
            "text/plain": [
              "<Figure size 640x480 with 2 Axes>"
            ],
            "image/png": "[encoded data removed]"
          },
          "metadata": {}
        },
        {
          "output_type": "stream",
          "name": "stdout",
          "text": [
            "[[608  43]\n",
            " [ 64 612]]\n"
          ]
        }
      ]
    },
    {
      "cell_type": "markdown",
      "source": [
        "If we toss away any personal information that can cause bias and only train the model through the payment status, we can still get a decent test accuracy of 90%, recall of 90% and precision 90%"
      ],
      "metadata": {
        "id": "rR4lO2z0pzhH"
      }
    }
  ]
}