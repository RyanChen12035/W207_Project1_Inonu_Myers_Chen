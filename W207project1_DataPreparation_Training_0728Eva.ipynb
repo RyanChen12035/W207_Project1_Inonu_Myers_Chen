{
  "nbformat": 4,
  "nbformat_minor": 0,
  "metadata": {
    "colab": {
      "provenance": [],
      "gpuType": "T4"
    },
    "kernelspec": {
      "name": "python3",
      "display_name": "Python 3"
    },
    "language_info": {
      "name": "python"
    },
    "accelerator": "GPU"
  },
  "cells": [
    {
      "cell_type": "markdown",
      "source": [
        "# Data preparation\n",
        "##### 1. Load the data from EDA\n",
        "##### 2. Normalize\n",
        "##### 3. Set up a Data pipeline, do shuffle, split the data into training, testing, split up into batches"
      ],
      "metadata": {
        "id": "4jgaHpO_CVxO"
      }
    },
    {
      "cell_type": "code",
      "source": [
        "import pandas as pd\n",
        "import numpy as np\n",
        "import tensorflow as tf\n",
        "from sklearn.preprocessing import StandardScaler"
      ],
      "metadata": {
        "id": "8hNf4wgDC2LU"
      },
      "execution_count": 1,
      "outputs": []
    },
    {
      "cell_type": "code",
      "source": [
        "#load data\n",
        "df = pd.read_csv('/content/sample_data/CreditCard_EDA_balanced6636.csv')\n",
        "df.head()"
      ],
      "metadata": {
        "id": "nOAvg5NxC5a3",
        "colab": {
          "base_uri": "https://localhost:8080/",
          "height": 300
        },
        "outputId": "4a4cc2f7-19e3-4657-a5fe-b0a059b35b1e"
      },
      "execution_count": 2,
      "outputs": [
        {
          "output_type": "execute_result",
          "data": {
            "text/plain": [
              "   LIMIT_BAL  AGE  PAY_0  PAY_2  PAY_3  PAY_4  PAY_5  PAY_6  BILL_AMT1  \\\n",
              "0   9.446729   31     -1     -1     -1     -1     -1     -1   4.856966   \n",
              "1   8.987197   35     -2     -2     -2     -2     -2     -2   5.191289   \n",
              "2   7.418581   23     -1     -1     -2     -2     -2     -2   4.353284   \n",
              "3   9.305651   32      0      0      0      0      0      0   8.598202   \n",
              "4   7.888585   35     -1     -1     -1     -1     -1      0   4.567814   \n",
              "\n",
              "   BILL_AMT2  ...  EDUCATION_1  EDUCATION_2  EDUCATION_3  EDUCATION_4  \\\n",
              "0   5.725109  ...            0            0            1            0   \n",
              "1   5.504654  ...            0            1            0            0   \n",
              "2   0.000000  ...            1            0            0            0   \n",
              "3   8.525856  ...            1            0            0            0   \n",
              "4   5.788532  ...            0            1            0            0   \n",
              "\n",
              "   EDUCATION_5  EDUCATION_6  MARRIAGE_0  MARRIAGE_1  MARRIAGE_2  MARRIAGE_3  \n",
              "0            0            0           0           0           1           0  \n",
              "1            0            0           0           1           0           0  \n",
              "2            0            0           0           0           1           0  \n",
              "3            0            0           0           0           1           0  \n",
              "4            0            0           0           1           0           0  \n",
              "\n",
              "[5 rows x 34 columns]"
            ],
            "text/html": [
              "\n",
              "\n",
              "  <div id=\"df-b59917bd-b39f-4d93-8e6c-7104d7a45759\">\n",
              "    <div class=\"colab-df-container\">\n",
              "      <div>\n",
              "<style scoped>\n",
              "    .dataframe tbody tr th:only-of-type {\n",
              "        vertical-align: middle;\n",
              "    }\n",
              "\n",
              "    .dataframe tbody tr th {\n",
              "        vertical-align: top;\n",
              "    }\n",
              "\n",
              "    .dataframe thead th {\n",
              "        text-align: right;\n",
              "    }\n",
              "</style>\n",
              "<table border=\"1\" class=\"dataframe\">\n",
              "  <thead>\n",
              "    <tr style=\"text-align: right;\">\n",
              "      <th></th>\n",
              "      <th>LIMIT_BAL</th>\n",
              "      <th>AGE</th>\n",
              "      <th>PAY_0</th>\n",
              "      <th>PAY_2</th>\n",
              "      <th>PAY_3</th>\n",
              "      <th>PAY_4</th>\n",
              "      <th>PAY_5</th>\n",
              "      <th>PAY_6</th>\n",
              "      <th>BILL_AMT1</th>\n",
              "      <th>BILL_AMT2</th>\n",
              "      <th>...</th>\n",
              "      <th>EDUCATION_1</th>\n",
              "      <th>EDUCATION_2</th>\n",
              "      <th>EDUCATION_3</th>\n",
              "      <th>EDUCATION_4</th>\n",
              "      <th>EDUCATION_5</th>\n",
              "      <th>EDUCATION_6</th>\n",
              "      <th>MARRIAGE_0</th>\n",
              "      <th>MARRIAGE_1</th>\n",
              "      <th>MARRIAGE_2</th>\n",
              "      <th>MARRIAGE_3</th>\n",
              "    </tr>\n",
              "  </thead>\n",
              "  <tbody>\n",
              "    <tr>\n",
              "      <th>0</th>\n",
              "      <td>9.446729</td>\n",
              "      <td>31</td>\n",
              "      <td>-1</td>\n",
              "      <td>-1</td>\n",
              "      <td>-1</td>\n",
              "      <td>-1</td>\n",
              "      <td>-1</td>\n",
              "      <td>-1</td>\n",
              "      <td>4.856966</td>\n",
              "      <td>5.725109</td>\n",
              "      <td>...</td>\n",
              "      <td>0</td>\n",
              "      <td>0</td>\n",
              "      <td>1</td>\n",
              "      <td>0</td>\n",
              "      <td>0</td>\n",
              "      <td>0</td>\n",
              "      <td>0</td>\n",
              "      <td>0</td>\n",
              "      <td>1</td>\n",
              "      <td>0</td>\n",
              "    </tr>\n",
              "    <tr>\n",
              "      <th>1</th>\n",
              "      <td>8.987197</td>\n",
              "      <td>35</td>\n",
              "      <td>-2</td>\n",
              "      <td>-2</td>\n",
              "      <td>-2</td>\n",
              "      <td>-2</td>\n",
              "      <td>-2</td>\n",
              "      <td>-2</td>\n",
              "      <td>5.191289</td>\n",
              "      <td>5.504654</td>\n",
              "      <td>...</td>\n",
              "      <td>0</td>\n",
              "      <td>1</td>\n",
              "      <td>0</td>\n",
              "      <td>0</td>\n",
              "      <td>0</td>\n",
              "      <td>0</td>\n",
              "      <td>0</td>\n",
              "      <td>1</td>\n",
              "      <td>0</td>\n",
              "      <td>0</td>\n",
              "    </tr>\n",
              "    <tr>\n",
              "      <th>2</th>\n",
              "      <td>7.418581</td>\n",
              "      <td>23</td>\n",
              "      <td>-1</td>\n",
              "      <td>-1</td>\n",
              "      <td>-2</td>\n",
              "      <td>-2</td>\n",
              "      <td>-2</td>\n",
              "      <td>-2</td>\n",
              "      <td>4.353284</td>\n",
              "      <td>0.000000</td>\n",
              "      <td>...</td>\n",
              "      <td>1</td>\n",
              "      <td>0</td>\n",
              "      <td>0</td>\n",
              "      <td>0</td>\n",
              "      <td>0</td>\n",
              "      <td>0</td>\n",
              "      <td>0</td>\n",
              "      <td>0</td>\n",
              "      <td>1</td>\n",
              "      <td>0</td>\n",
              "    </tr>\n",
              "    <tr>\n",
              "      <th>3</th>\n",
              "      <td>9.305651</td>\n",
              "      <td>32</td>\n",
              "      <td>0</td>\n",
              "      <td>0</td>\n",
              "      <td>0</td>\n",
              "      <td>0</td>\n",
              "      <td>0</td>\n",
              "      <td>0</td>\n",
              "      <td>8.598202</td>\n",
              "      <td>8.525856</td>\n",
              "      <td>...</td>\n",
              "      <td>1</td>\n",
              "      <td>0</td>\n",
              "      <td>0</td>\n",
              "      <td>0</td>\n",
              "      <td>0</td>\n",
              "      <td>0</td>\n",
              "      <td>0</td>\n",
              "      <td>0</td>\n",
              "      <td>1</td>\n",
              "      <td>0</td>\n",
              "    </tr>\n",
              "    <tr>\n",
              "      <th>4</th>\n",
              "      <td>7.888585</td>\n",
              "      <td>35</td>\n",
              "      <td>-1</td>\n",
              "      <td>-1</td>\n",
              "      <td>-1</td>\n",
              "      <td>-1</td>\n",
              "      <td>-1</td>\n",
              "      <td>0</td>\n",
              "      <td>4.567814</td>\n",
              "      <td>5.788532</td>\n",
              "      <td>...</td>\n",
              "      <td>0</td>\n",
              "      <td>1</td>\n",
              "      <td>0</td>\n",
              "      <td>0</td>\n",
              "      <td>0</td>\n",
              "      <td>0</td>\n",
              "      <td>0</td>\n",
              "      <td>1</td>\n",
              "      <td>0</td>\n",
              "      <td>0</td>\n",
              "    </tr>\n",
              "  </tbody>\n",
              "</table>\n",
              "<p>5 rows × 34 columns</p>\n",
              "</div>\n",
              "      <button class=\"colab-df-convert\" onclick=\"convertToInteractive('df-b59917bd-b39f-4d93-8e6c-7104d7a45759')\"\n",
              "              title=\"Convert this dataframe to an interactive table.\"\n",
              "              style=\"display:none;\">\n",
              "\n",
              "  <svg xmlns=\"http://www.w3.org/2000/svg\" height=\"24px\"viewBox=\"0 0 24 24\"\n",
              "       width=\"24px\">\n",
              "    <path d=\"M0 0h24v24H0V0z\" fill=\"none\"/>\n",
              "    <path d=\"M18.56 5.44l.94 2.06.94-2.06 2.06-.94-2.06-.94-.94-2.06-.94 2.06-2.06.94zm-11 1L8.5 8.5l.94-2.06 2.06-.94-2.06-.94L8.5 2.5l-.94 2.06-2.06.94zm10 10l.94 2.06.94-2.06 2.06-.94-2.06-.94-.94-2.06-.94 2.06-2.06.94z\"/><path d=\"M17.41 7.96l-1.37-1.37c-.4-.4-.92-.59-1.43-.59-.52 0-1.04.2-1.43.59L10.3 9.45l-7.72 7.72c-.78.78-.78 2.05 0 2.83L4 21.41c.39.39.9.59 1.41.59.51 0 1.02-.2 1.41-.59l7.78-7.78 2.81-2.81c.8-.78.8-2.07 0-2.86zM5.41 20L4 18.59l7.72-7.72 1.47 1.35L5.41 20z\"/>\n",
              "  </svg>\n",
              "      </button>\n",
              "\n",
              "\n",
              "\n",
              "    <div id=\"df-5354b75a-704e-42a9-8566-857aa0ced2f7\">\n",
              "      <button class=\"colab-df-quickchart\" onclick=\"quickchart('df-5354b75a-704e-42a9-8566-857aa0ced2f7')\"\n",
              "              title=\"Suggest charts.\"\n",
              "              style=\"display:none;\">\n",
              "\n",
              "<svg xmlns=\"http://www.w3.org/2000/svg\" height=\"24px\"viewBox=\"0 0 24 24\"\n",
              "     width=\"24px\">\n",
              "    <g>\n",
              "        <path d=\"M19 3H5c-1.1 0-2 .9-2 2v14c0 1.1.9 2 2 2h14c1.1 0 2-.9 2-2V5c0-1.1-.9-2-2-2zM9 17H7v-7h2v7zm4 0h-2V7h2v10zm4 0h-2v-4h2v4z\"/>\n",
              "    </g>\n",
              "</svg>\n",
              "      </button>\n",
              "    </div>\n",
              "\n",
              "<style>\n",
              "  .colab-df-quickchart {\n",
              "    background-color: #E8F0FE;\n",
              "    border: none;\n",
              "    border-radius: 50%;\n",
              "    cursor: pointer;\n",
              "    display: none;\n",
              "    fill: #1967D2;\n",
              "    height: 32px;\n",
              "    padding: 0 0 0 0;\n",
              "    width: 32px;\n",
              "  }\n",
              "\n",
              "  .colab-df-quickchart:hover {\n",
              "    background-color: #E2EBFA;\n",
              "    box-shadow: 0px 1px 2px rgba(60, 64, 67, 0.3), 0px 1px 3px 1px rgba(60, 64, 67, 0.15);\n",
              "    fill: #174EA6;\n",
              "  }\n",
              "\n",
              "  [theme=dark] .colab-df-quickchart {\n",
              "    background-color: #3B4455;\n",
              "    fill: #D2E3FC;\n",
              "  }\n",
              "\n",
              "  [theme=dark] .colab-df-quickchart:hover {\n",
              "    background-color: #434B5C;\n",
              "    box-shadow: 0px 1px 3px 1px rgba(0, 0, 0, 0.15);\n",
              "    filter: drop-shadow(0px 1px 2px rgba(0, 0, 0, 0.3));\n",
              "    fill: #FFFFFF;\n",
              "  }\n",
              "</style>\n",
              "\n",
              "    <script>\n",
              "      async function quickchart(key) {\n",
              "        const containerElement = document.querySelector('#' + key);\n",
              "        const charts = await google.colab.kernel.invokeFunction(\n",
              "            'suggestCharts', [key], {});\n",
              "      }\n",
              "    </script>\n",
              "\n",
              "      <script>\n",
              "\n",
              "function displayQuickchartButton(domScope) {\n",
              "  let quickchartButtonEl =\n",
              "    domScope.querySelector('#df-5354b75a-704e-42a9-8566-857aa0ced2f7 button.colab-df-quickchart');\n",
              "  quickchartButtonEl.style.display =\n",
              "    google.colab.kernel.accessAllowed ? 'block' : 'none';\n",
              "}\n",
              "\n",
              "        displayQuickchartButton(document);\n",
              "      </script>\n",
              "      <style>\n",
              "    .colab-df-container {\n",
              "      display:flex;\n",
              "      flex-wrap:wrap;\n",
              "      gap: 12px;\n",
              "    }\n",
              "\n",
              "    .colab-df-convert {\n",
              "      background-color: #E8F0FE;\n",
              "      border: none;\n",
              "      border-radius: 50%;\n",
              "      cursor: pointer;\n",
              "      display: none;\n",
              "      fill: #1967D2;\n",
              "      height: 32px;\n",
              "      padding: 0 0 0 0;\n",
              "      width: 32px;\n",
              "    }\n",
              "\n",
              "    .colab-df-convert:hover {\n",
              "      background-color: #E2EBFA;\n",
              "      box-shadow: 0px 1px 2px rgba(60, 64, 67, 0.3), 0px 1px 3px 1px rgba(60, 64, 67, 0.15);\n",
              "      fill: #174EA6;\n",
              "    }\n",
              "\n",
              "    [theme=dark] .colab-df-convert {\n",
              "      background-color: #3B4455;\n",
              "      fill: #D2E3FC;\n",
              "    }\n",
              "\n",
              "    [theme=dark] .colab-df-convert:hover {\n",
              "      background-color: #434B5C;\n",
              "      box-shadow: 0px 1px 3px 1px rgba(0, 0, 0, 0.15);\n",
              "      filter: drop-shadow(0px 1px 2px rgba(0, 0, 0, 0.3));\n",
              "      fill: #FFFFFF;\n",
              "    }\n",
              "  </style>\n",
              "\n",
              "      <script>\n",
              "        const buttonEl =\n",
              "          document.querySelector('#df-b59917bd-b39f-4d93-8e6c-7104d7a45759 button.colab-df-convert');\n",
              "        buttonEl.style.display =\n",
              "          google.colab.kernel.accessAllowed ? 'block' : 'none';\n",
              "\n",
              "        async function convertToInteractive(key) {\n",
              "          const element = document.querySelector('#df-b59917bd-b39f-4d93-8e6c-7104d7a45759');\n",
              "          const dataTable =\n",
              "            await google.colab.kernel.invokeFunction('convertToInteractive',\n",
              "                                                     [key], {});\n",
              "          if (!dataTable) return;\n",
              "\n",
              "          const docLinkHtml = 'Like what you see? Visit the ' +\n",
              "            '<a target=\"_blank\" href=https://colab.research.google.com/notebooks/data_table.ipynb>data table notebook</a>'\n",
              "            + ' to learn more about interactive tables.';\n",
              "          element.innerHTML = '';\n",
              "          dataTable['output_type'] = 'display_data';\n",
              "          await google.colab.output.renderOutput(dataTable, element);\n",
              "          const docLink = document.createElement('div');\n",
              "          docLink.innerHTML = docLinkHtml;\n",
              "          element.appendChild(docLink);\n",
              "        }\n",
              "      </script>\n",
              "    </div>\n",
              "  </div>\n"
            ]
          },
          "metadata": {},
          "execution_count": 2
        }
      ]
    },
    {
      "cell_type": "code",
      "source": [
        "df.columns"
      ],
      "metadata": {
        "id": "NW4VlJSnIaCY",
        "colab": {
          "base_uri": "https://localhost:8080/"
        },
        "outputId": "42ac4dbe-9c47-4e16-80fc-77d01c01c5b6"
      },
      "execution_count": 3,
      "outputs": [
        {
          "output_type": "execute_result",
          "data": {
            "text/plain": [
              "Index(['LIMIT_BAL', 'AGE', 'PAY_0', 'PAY_2', 'PAY_3', 'PAY_4', 'PAY_5',\n",
              "       'PAY_6', 'BILL_AMT1', 'BILL_AMT2', 'BILL_AMT3', 'BILL_AMT4',\n",
              "       'BILL_AMT5', 'BILL_AMT6', 'PAY_AMT1', 'PAY_AMT2', 'PAY_AMT3',\n",
              "       'PAY_AMT4', 'PAY_AMT5', 'PAY_AMT6', 'default.payment.next.month',\n",
              "       'SEX_1', 'SEX_2', 'EDUCATION_0', 'EDUCATION_1', 'EDUCATION_2',\n",
              "       'EDUCATION_3', 'EDUCATION_4', 'EDUCATION_5', 'EDUCATION_6',\n",
              "       'MARRIAGE_0', 'MARRIAGE_1', 'MARRIAGE_2', 'MARRIAGE_3'],\n",
              "      dtype='object')"
            ]
          },
          "metadata": {},
          "execution_count": 3
        }
      ]
    },
    {
      "cell_type": "code",
      "source": [
        "df[['default.payment.next.month']].values.shape\n",
        "df[['LIMIT_BAL', 'AGE', 'PAY_0', 'PAY_2', 'PAY_3', 'PAY_4', 'PAY_5',\n",
        "       'PAY_6', 'BILL_AMT1', 'BILL_AMT2', 'BILL_AMT3', 'BILL_AMT4',\n",
        "       'BILL_AMT5', 'BILL_AMT6', 'PAY_AMT1', 'PAY_AMT2', 'PAY_AMT3',\n",
        "       'PAY_AMT4', 'PAY_AMT5', 'PAY_AMT6',\n",
        "       'SEX_1', 'SEX_2', 'EDUCATION_0', 'EDUCATION_1', 'EDUCATION_2',\n",
        "       'EDUCATION_3', 'EDUCATION_4', 'EDUCATION_5', 'EDUCATION_6',\n",
        "       'MARRIAGE_0', 'MARRIAGE_1', 'MARRIAGE_2', 'MARRIAGE_3']].values.shape"
      ],
      "metadata": {
        "id": "CNv1lyCiXT5u",
        "colab": {
          "base_uri": "https://localhost:8080/"
        },
        "outputId": "4a73b993-49e7-4eae-9393-e0a649df65ca"
      },
      "execution_count": 4,
      "outputs": [
        {
          "output_type": "execute_result",
          "data": {
            "text/plain": [
              "(13272, 33)"
            ]
          },
          "metadata": {},
          "execution_count": 4
        }
      ]
    },
    {
      "cell_type": "code",
      "source": [
        "#Normalization, Pouring data into pipeline, shuffle, split the training, evaluating, and testing data, split the dataset into batches\n",
        "\n",
        "X = df[['LIMIT_BAL', 'AGE', 'PAY_0', 'PAY_2', 'PAY_3', 'PAY_4', 'PAY_5',\n",
        "       'PAY_6', 'BILL_AMT1', 'BILL_AMT2', 'BILL_AMT3', 'BILL_AMT4',\n",
        "       'BILL_AMT5', 'BILL_AMT6', 'PAY_AMT1', 'PAY_AMT2', 'PAY_AMT3',\n",
        "       'PAY_AMT4', 'PAY_AMT5', 'PAY_AMT6',\n",
        "       'SEX_1', 'SEX_2', 'EDUCATION_0', 'EDUCATION_1', 'EDUCATION_2',\n",
        "       'EDUCATION_3', 'EDUCATION_4', 'EDUCATION_5', 'EDUCATION_6',\n",
        "       'MARRIAGE_0', 'MARRIAGE_1', 'MARRIAGE_2', 'MARRIAGE_3']].values\n",
        "y = np.squeeze(df[['default.payment.next.month']].values)\n",
        "print(X.shape, y.shape)\n",
        "\n",
        "# Normalize the input features using Z-score normalization\n",
        "scaler = StandardScaler()\n",
        "X_normalized = scaler.fit_transform(X)\n",
        "\n",
        "print(X[0])\n",
        "print(X_normalized[0])\n",
        "print(y[0:5])\n"
      ],
      "metadata": {
        "id": "31o55e4DD1eF",
        "colab": {
          "base_uri": "https://localhost:8080/"
        },
        "outputId": "981bc959-8d33-4455-b427-e3f9b8fceae1"
      },
      "execution_count": 5,
      "outputs": [
        {
          "output_type": "stream",
          "name": "stdout",
          "text": [
            "(13272, 33) (13272,)\n",
            "[ 9.44672915 31.         -1.         -1.         -1.         -1.\n",
            " -1.         -1.          4.85696598  5.72510899  6.22502037  5.9177283\n",
            "  6.03092562  6.12249281  5.73009978  6.23002202  5.92265023  6.03172638\n",
            "  6.12745126  6.40031281  0.          1.          0.          0.\n",
            "  0.          1.          0.          0.          0.          0.\n",
            "  0.          1.          0.        ]\n",
            "[ 1.34046716 -0.49059068 -0.97329516 -0.80112701 -0.76655653 -0.72206122\n",
            " -0.68971224 -0.65954396 -0.40523466 -0.01855997  0.19718281  0.12348441\n",
            "  0.21222476  0.2857089   0.99726323  1.2382585   1.18040457  1.29258012\n",
            "  1.32820307  1.4538196  -0.83627734  0.83627734 -0.02297182 -0.71322938\n",
            " -0.95735798  2.18700858 -0.05358537 -0.08216519 -0.03980937 -0.03363745\n",
            " -0.92996273  0.95303066 -0.10583005]\n",
            "[0 0 0 0 0]\n"
          ]
        }
      ]
    },
    {
      "cell_type": "code",
      "source": [
        "# Create a TensorFlow Dataset from the normalized input features and target labels\n",
        "dataset = tf.data.Dataset.from_tensor_slices((X_normalized, y))\n",
        "\n",
        "# Shuffle the dataset\n",
        "dataset = dataset.shuffle(buffer_size=len(X_normalized))\n",
        "\n",
        "# Split the data into train, validation, and test sets\n",
        "train_size = int(0.8 * len(X_normalized))\n",
        "val_size = int(0.1 * len(X_normalized))\n",
        "test_size = int(0.1 * len(X_normalized))\n",
        "\n",
        "# Split the dataset into train, validation, and test sets\n",
        "train_dataset = dataset.take(train_size)\n",
        "val_dataset = dataset.skip(train_size).take(val_size)\n",
        "test_dataset = dataset.skip(train_size + val_size).take(test_size)\n",
        "\n",
        "# Batch the datasets\n",
        "batch_size = 8\n",
        "train_dataset = train_dataset.batch(batch_size)\n",
        "val_dataset = val_dataset.batch(batch_size)\n",
        "test_dataset = test_dataset.batch(batch_size)\n",
        "\n",
        "it = train_dataset.as_numpy_iterator()\n",
        "print(it.next()[0].shape, it.next()[1].shape) #return a batch (X,y)\n",
        "print(it.next()[0], it.next()[1]) #return a batch (X,y)\n",
        "# for features, labels in train_dataset:\n",
        "#   print(\"Train Features shape:\", features.shape)\n",
        "#   print(\"Train Labels shape:\", labels.shape)"
      ],
      "metadata": {
        "id": "gzPu94zxJpcH",
        "colab": {
          "base_uri": "https://localhost:8080/"
        },
        "outputId": "4a918305-b0ca-4614-e2bd-86e717ea4fb9"
      },
      "execution_count": 6,
      "outputs": [
        {
          "output_type": "stream",
          "name": "stdout",
          "text": [
            "(8, 33) (8,)\n",
            "[[ 1.09608251  2.26736944 -0.97329516 -0.80112701 -0.76655653  1.54776269\n",
            "  -0.68971224  0.11209457 -0.51949102 -1.22007291 -0.69894791 -1.11416389\n",
            "  -0.64939465 -0.97086352 -0.4658337   0.12783263 -1.53177656  0.20503878\n",
            "  -1.46681399 -1.41461444 -0.83627734  0.83627734 -0.02297182 -0.71322938\n",
            "   1.04454136 -0.45724558 -0.05358537 -0.08216519 -0.03980937 -0.03363745\n",
            "  -0.92996273  0.95303066 -0.10583005]\n",
            " [ 0.82139191  1.10054016 -0.18313285 -0.05935516 -0.0206266   0.03454675\n",
            "   0.08597294  0.11209457  1.09135957  0.9915778   0.93171183  0.88392328\n",
            "   0.83566054  0.79263704  0.88194946  0.53765848  0.49542296  0.87204567\n",
            "   0.70413482  0.99581011  1.19577555 -1.19577555 -0.02297182 -0.71322938\n",
            "   1.04454136 -0.45724558 -0.05358537 -0.08216519 -0.03980937 -0.03363745\n",
            "   1.07531191 -1.04928419 -0.10583005]\n",
            " [-1.28438776 -0.70274146  0.60702945  1.42418853  1.47123326  1.54776269\n",
            "   1.63734331  1.65537162  0.37367404  0.4109468   0.44864641  0.4914701\n",
            "   0.53508291  0.54144438  0.15685371  0.29941672  0.25967061  0.15271172\n",
            "  -1.46681399  0.46757122 -0.83627734  0.83627734 -0.02297182 -0.71322938\n",
            "  -0.95735798  2.18700858 -0.05358537 -0.08216519 -0.03980937 -0.03363745\n",
            "   1.07531191 -1.04928419 -0.10583005]\n",
            " [ 0.94814127 -0.38451529 -0.18313285 -0.05935516 -1.51248646 -0.72206122\n",
            "  -0.68971224 -0.65954396  0.68286094 -2.1952831  -2.13067604 -1.05483464\n",
            "  -1.98277468  1.14675864 -1.65148652 -1.64257496 -0.20733069  0.82752225\n",
            "   2.46450774  0.95993729  1.19577555 -1.19577555 -0.02297182 -0.71322938\n",
            "   1.04454136 -0.45724558 -0.05358537 -0.08216519 -0.03980937 -0.03363745\n",
            "  -0.92996273  0.95303066 -0.10583005]\n",
            " [ 1.62418686  0.6762386  -0.18313285 -0.05935516 -0.76655653 -0.72206122\n",
            "  -0.68971224 -1.43118249 -0.89019656 -2.1952831  -1.51176736 -0.5061228\n",
            "  -1.98277468 -1.8768383  -1.65148652 -0.87726163  0.39800228 -1.47739263\n",
            "  -1.46681399 -0.03683158  1.19577555 -1.19577555 -0.02297182 -0.71322938\n",
            "   1.04454136 -0.45724558 -0.05358537 -0.08216519 -0.03980937 -0.03363745\n",
            "   1.07531191 -1.04928419 -0.10583005]\n",
            " [ 0.6769025   0.14586165  0.60702945 -1.54289885 -1.51248646 -1.47866919\n",
            "  -1.46539742 -1.43118249 -2.32443302 -2.1952831  -2.13067604 -2.06099195\n",
            "  -1.98277468 -1.8768383  -1.65148652 -1.64257496 -1.53177656 -1.47739263\n",
            "  -1.46681399 -1.41461444  1.19577555 -1.19577555 -0.02297182 -0.71322938\n",
            "   1.04454136 -0.45724558 -0.05358537 -0.08216519 -0.03980937 -0.03363745\n",
            "  -0.92996273  0.95303066 -0.10583005]\n",
            " [ 0.37948955 -1.3391938  -0.18313285 -0.05935516 -0.76655653  0.03454675\n",
            "   0.08597294  0.11209457  1.04549683  1.03655114 -0.06721328  0.00892726\n",
            "   0.9209483   0.95006163  0.47726234  2.19268849 -0.01521059  2.14531218\n",
            "   0.72750603  0.83100655  1.19577555 -1.19577555 -0.02297182 -0.71322938\n",
            "   1.04454136 -0.45724558 -0.05358537 -0.08216519 -0.03980937 -0.03363745\n",
            "  -0.92996273  0.95303066 -0.10583005]\n",
            " [ 0.8653911  -0.49059068  0.60702945  1.42418853  1.47123326  1.54776269\n",
            "   0.08597294  0.11209457 -0.17561153 -0.14223675  0.05973169 -0.38479285\n",
            "  -0.22017534 -0.02166434 -1.65148652  0.6199359   0.07399447  0.21666557\n",
            "   0.44886789 -1.41461444 -0.83627734  0.83627734 -0.02297182 -0.71322938\n",
            "   1.04454136 -0.45724558 -0.05358537 -0.08216519 -0.03980937 -0.03363745\n",
            "   1.07531191 -1.04928419 -0.10583005]] [0 0 1 0 0 0 1 1]\n"
          ]
        }
      ]
    },
    {
      "cell_type": "markdown",
      "source": [
        "# Modeling\n"
      ],
      "metadata": {
        "id": "fGylYXyWCZQQ"
      }
    },
    {
      "cell_type": "code",
      "source": [
        "from tensorflow.keras.models import Sequential\n",
        "from tensorflow.keras.layers import Dense, Flatten, Dropout\n",
        "from tensorflow.keras.optimizers import Adam\n",
        "from matplotlib import pyplot as plt"
      ],
      "metadata": {
        "id": "Gjg25Bk9NTFZ"
      },
      "execution_count": 7,
      "outputs": []
    },
    {
      "cell_type": "code",
      "source": [
        "tf.keras.backend.clear_session()"
      ],
      "metadata": {
        "id": "ZEGK2-09NTgR"
      },
      "execution_count": 8,
      "outputs": []
    },
    {
      "cell_type": "code",
      "source": [
        "model = Sequential()"
      ],
      "metadata": {
        "id": "l2Wy4_BCQoJw"
      },
      "execution_count": 9,
      "outputs": []
    },
    {
      "cell_type": "code",
      "source": [
        "it = train_dataset.as_numpy_iterator()\n",
        "print(it.next()[0].shape, it.next()[1].shape) #return a batch (X,y)\n",
        "input_shape = it.next()[0].shape\n",
        "input_shape[1]"
      ],
      "metadata": {
        "id": "D6iXUy3en48f",
        "colab": {
          "base_uri": "https://localhost:8080/"
        },
        "outputId": "8aa0031d-2ef7-48ca-e15a-32b01b50cb62"
      },
      "execution_count": 10,
      "outputs": [
        {
          "output_type": "stream",
          "name": "stdout",
          "text": [
            "(8, 33) (8,)\n"
          ]
        },
        {
          "output_type": "execute_result",
          "data": {
            "text/plain": [
              "33"
            ]
          },
          "metadata": {},
          "execution_count": 10
        }
      ]
    },
    {
      "cell_type": "code",
      "source": [
        "# a binary classification, taking signoid as the output activation function\n",
        "# Don't need an input layer since it's sequential\n",
        "\n",
        "model.add(Dense(256, input_shape=(input_shape[1],), activation='relu'))\n",
        "model.add(Dense(64, activation='relu'))\n",
        "model.add(Dense(16, activation='relu'))\n",
        "model.add(Dense(32, activation='relu'))\n",
        "model.add(Dense(64, activation='relu'))\n",
        "model.add(Dense(2, activation='softmax'))\n",
        "\n",
        "#optimizer = Adam(learning_rate=0.00001)\n",
        "model.compile(optimizer= tf.keras.optimizers.Adam(0.0001), loss='sparse_categorical_crossentropy', metrics=['accuracy'])\n",
        "\n"
      ],
      "metadata": {
        "id": "KANRtE4UNbCk"
      },
      "execution_count": 11,
      "outputs": []
    },
    {
      "cell_type": "code",
      "source": [
        "input_shape = (8, 33)\n",
        "model.build(input_shape)\n",
        "model.summary()"
      ],
      "metadata": {
        "id": "XHPdL2QAQfZ7",
        "colab": {
          "base_uri": "https://localhost:8080/"
        },
        "outputId": "2df17c59-a318-4fc4-8387-1554d3927629"
      },
      "execution_count": 12,
      "outputs": [
        {
          "output_type": "stream",
          "name": "stdout",
          "text": [
            "Model: \"sequential\"\n",
            "_________________________________________________________________\n",
            " Layer (type)                Output Shape              Param #   \n",
            "=================================================================\n",
            " dense (Dense)               (None, 256)               8704      \n",
            "                                                                 \n",
            " dense_1 (Dense)             (None, 64)                16448     \n",
            "                                                                 \n",
            " dense_2 (Dense)             (None, 16)                1040      \n",
            "                                                                 \n",
            " dense_3 (Dense)             (None, 32)                544       \n",
            "                                                                 \n",
            " dense_4 (Dense)             (None, 64)                2112      \n",
            "                                                                 \n",
            " dense_5 (Dense)             (None, 2)                 130       \n",
            "                                                                 \n",
            "=================================================================\n",
            "Total params: 28,978\n",
            "Trainable params: 28,978\n",
            "Non-trainable params: 0\n",
            "_________________________________________________________________\n"
          ]
        }
      ]
    },
    {
      "cell_type": "code",
      "source": [
        "hist = model.fit(train_dataset, epochs=100, validation_data=val_dataset) #shuffle after every epochs = True\n",
        "\n",
        "#learning rate 0.001, batch size 16\n",
        "#100 epoch, accuracy:0.9, val_accuracy:0.9, no overfitting\n",
        "#130 0.91 / 0.91\n",
        "#150 0.915/0.91\n",
        "#170 0.925 / 0.925 testing 0.93\n",
        "#190 0.926 / 0.93 testing 0.93\n",
        "\n",
        "#batch size 16->8, learning rate 0.001->0.0001. more precise.\n",
        "#200 epochs, 0.936/0.938/0.94\n"
      ],
      "metadata": {
        "colab": {
          "base_uri": "https://localhost:8080/"
        },
        "id": "X5xZM7xeSOPJ",
        "outputId": "0a6759a2-6d19-41e6-bde8-2c7911e0faec"
      },
      "execution_count": 31,
      "outputs": [
        {
          "output_type": "stream",
          "name": "stdout",
          "text": [
            "Epoch 1/100\n",
            "1328/1328 [==============================] - 7s 5ms/step - loss: 0.2433 - accuracy: 0.8889 - val_loss: 0.2271 - val_accuracy: 0.8937\n",
            "Epoch 2/100\n",
            "1328/1328 [==============================] - 6s 4ms/step - loss: 0.2360 - accuracy: 0.8930 - val_loss: 0.2238 - val_accuracy: 0.8998\n",
            "Epoch 3/100\n",
            "1328/1328 [==============================] - 7s 5ms/step - loss: 0.2379 - accuracy: 0.8938 - val_loss: 0.2010 - val_accuracy: 0.9088\n",
            "Epoch 4/100\n",
            "1328/1328 [==============================] - 6s 4ms/step - loss: 0.2343 - accuracy: 0.8978 - val_loss: 0.2021 - val_accuracy: 0.9133\n",
            "Epoch 5/100\n",
            "1328/1328 [==============================] - 7s 5ms/step - loss: 0.2349 - accuracy: 0.8938 - val_loss: 0.2167 - val_accuracy: 0.9050\n",
            "Epoch 6/100\n",
            "1328/1328 [==============================] - 6s 4ms/step - loss: 0.2264 - accuracy: 0.8972 - val_loss: 0.2087 - val_accuracy: 0.9103\n",
            "Epoch 7/100\n",
            "1328/1328 [==============================] - 7s 5ms/step - loss: 0.2255 - accuracy: 0.9004 - val_loss: 0.2021 - val_accuracy: 0.9179\n",
            "Epoch 8/100\n",
            "1328/1328 [==============================] - 6s 4ms/step - loss: 0.2280 - accuracy: 0.8975 - val_loss: 0.1801 - val_accuracy: 0.9246\n",
            "Epoch 9/100\n",
            "1328/1328 [==============================] - 7s 5ms/step - loss: 0.2282 - accuracy: 0.8977 - val_loss: 0.2184 - val_accuracy: 0.9043\n",
            "Epoch 10/100\n",
            "1328/1328 [==============================] - 5s 4ms/step - loss: 0.2326 - accuracy: 0.8956 - val_loss: 0.2272 - val_accuracy: 0.8953\n",
            "Epoch 11/100\n",
            "1328/1328 [==============================] - 6s 4ms/step - loss: 0.2234 - accuracy: 0.9008 - val_loss: 0.2273 - val_accuracy: 0.9096\n",
            "Epoch 12/100\n",
            "1328/1328 [==============================] - 6s 5ms/step - loss: 0.2241 - accuracy: 0.8999 - val_loss: 0.2434 - val_accuracy: 0.8824\n",
            "Epoch 13/100\n",
            "1328/1328 [==============================] - 6s 4ms/step - loss: 0.2172 - accuracy: 0.9045 - val_loss: 0.2060 - val_accuracy: 0.9111\n",
            "Epoch 14/100\n",
            "1328/1328 [==============================] - 6s 5ms/step - loss: 0.2176 - accuracy: 0.9032 - val_loss: 0.1891 - val_accuracy: 0.9216\n",
            "Epoch 15/100\n",
            "1328/1328 [==============================] - 6s 5ms/step - loss: 0.2186 - accuracy: 0.9027 - val_loss: 0.2054 - val_accuracy: 0.9066\n",
            "Epoch 16/100\n",
            "1328/1328 [==============================] - 7s 5ms/step - loss: 0.2192 - accuracy: 0.9008 - val_loss: 0.2036 - val_accuracy: 0.9028\n",
            "Epoch 17/100\n",
            "1328/1328 [==============================] - 6s 4ms/step - loss: 0.2177 - accuracy: 0.9034 - val_loss: 0.2122 - val_accuracy: 0.9043\n",
            "Epoch 18/100\n",
            "1328/1328 [==============================] - 7s 5ms/step - loss: 0.2189 - accuracy: 0.9021 - val_loss: 0.1958 - val_accuracy: 0.9194\n",
            "Epoch 19/100\n",
            "1328/1328 [==============================] - 6s 4ms/step - loss: 0.2118 - accuracy: 0.9057 - val_loss: 0.1948 - val_accuracy: 0.9164\n",
            "Epoch 20/100\n",
            "1328/1328 [==============================] - 7s 5ms/step - loss: 0.2141 - accuracy: 0.9068 - val_loss: 0.1856 - val_accuracy: 0.9224\n",
            "Epoch 21/100\n",
            "1328/1328 [==============================] - 6s 4ms/step - loss: 0.2119 - accuracy: 0.9084 - val_loss: 0.1847 - val_accuracy: 0.9171\n",
            "Epoch 22/100\n",
            "1328/1328 [==============================] - 7s 5ms/step - loss: 0.2086 - accuracy: 0.9067 - val_loss: 0.2269 - val_accuracy: 0.8990\n",
            "Epoch 23/100\n",
            "1328/1328 [==============================] - 6s 4ms/step - loss: 0.2090 - accuracy: 0.9052 - val_loss: 0.1993 - val_accuracy: 0.9171\n",
            "Epoch 24/100\n",
            "1328/1328 [==============================] - 7s 5ms/step - loss: 0.2092 - accuracy: 0.9057 - val_loss: 0.1775 - val_accuracy: 0.9284\n",
            "Epoch 25/100\n",
            "1328/1328 [==============================] - 6s 4ms/step - loss: 0.2076 - accuracy: 0.9100 - val_loss: 0.2072 - val_accuracy: 0.9035\n",
            "Epoch 26/100\n",
            "1328/1328 [==============================] - 7s 5ms/step - loss: 0.2038 - accuracy: 0.9081 - val_loss: 0.2042 - val_accuracy: 0.9050\n",
            "Epoch 27/100\n",
            "1328/1328 [==============================] - 6s 4ms/step - loss: 0.2077 - accuracy: 0.9053 - val_loss: 0.1933 - val_accuracy: 0.9148\n",
            "Epoch 28/100\n",
            "1328/1328 [==============================] - 7s 5ms/step - loss: 0.2052 - accuracy: 0.9094 - val_loss: 0.1931 - val_accuracy: 0.9179\n",
            "Epoch 29/100\n",
            "1328/1328 [==============================] - 6s 4ms/step - loss: 0.1996 - accuracy: 0.9121 - val_loss: 0.1809 - val_accuracy: 0.9254\n",
            "Epoch 30/100\n",
            "1328/1328 [==============================] - 6s 4ms/step - loss: 0.2034 - accuracy: 0.9090 - val_loss: 0.1908 - val_accuracy: 0.9081\n",
            "Epoch 31/100\n",
            "1328/1328 [==============================] - 6s 5ms/step - loss: 0.2064 - accuracy: 0.9078 - val_loss: 0.1971 - val_accuracy: 0.9126\n",
            "Epoch 32/100\n",
            "1328/1328 [==============================] - 6s 4ms/step - loss: 0.1973 - accuracy: 0.9120 - val_loss: 0.1742 - val_accuracy: 0.9299\n",
            "Epoch 33/100\n",
            "1328/1328 [==============================] - 6s 5ms/step - loss: 0.1968 - accuracy: 0.9120 - val_loss: 0.1720 - val_accuracy: 0.9269\n",
            "Epoch 34/100\n",
            "1328/1328 [==============================] - 6s 4ms/step - loss: 0.1966 - accuracy: 0.9128 - val_loss: 0.1680 - val_accuracy: 0.9239\n",
            "Epoch 35/100\n",
            "1328/1328 [==============================] - 6s 4ms/step - loss: 0.1938 - accuracy: 0.9110 - val_loss: 0.2120 - val_accuracy: 0.9058\n",
            "Epoch 36/100\n",
            "1328/1328 [==============================] - 6s 4ms/step - loss: 0.2017 - accuracy: 0.9080 - val_loss: 0.1806 - val_accuracy: 0.9224\n",
            "Epoch 37/100\n",
            "1328/1328 [==============================] - 7s 5ms/step - loss: 0.1892 - accuracy: 0.9152 - val_loss: 0.2038 - val_accuracy: 0.9050\n",
            "Epoch 38/100\n",
            "1328/1328 [==============================] - 6s 4ms/step - loss: 0.2000 - accuracy: 0.9111 - val_loss: 0.1713 - val_accuracy: 0.9209\n",
            "Epoch 39/100\n",
            "1328/1328 [==============================] - 6s 4ms/step - loss: 0.1898 - accuracy: 0.9154 - val_loss: 0.1778 - val_accuracy: 0.9171\n",
            "Epoch 40/100\n",
            "1328/1328 [==============================] - 6s 4ms/step - loss: 0.1891 - accuracy: 0.9187 - val_loss: 0.1587 - val_accuracy: 0.9344\n",
            "Epoch 41/100\n",
            "1328/1328 [==============================] - 6s 5ms/step - loss: 0.1915 - accuracy: 0.9157 - val_loss: 0.1845 - val_accuracy: 0.9239\n",
            "Epoch 42/100\n",
            "1328/1328 [==============================] - 7s 5ms/step - loss: 0.1877 - accuracy: 0.9168 - val_loss: 0.1816 - val_accuracy: 0.9224\n",
            "Epoch 43/100\n",
            "1328/1328 [==============================] - 7s 5ms/step - loss: 0.1913 - accuracy: 0.9141 - val_loss: 0.1620 - val_accuracy: 0.9329\n",
            "Epoch 44/100\n",
            "1328/1328 [==============================] - 6s 4ms/step - loss: 0.1872 - accuracy: 0.9184 - val_loss: 0.1680 - val_accuracy: 0.9239\n",
            "Epoch 45/100\n",
            "1328/1328 [==============================] - 7s 5ms/step - loss: 0.1897 - accuracy: 0.9188 - val_loss: 0.1679 - val_accuracy: 0.9299\n",
            "Epoch 46/100\n",
            "1328/1328 [==============================] - 6s 4ms/step - loss: 0.1870 - accuracy: 0.9164 - val_loss: 0.1839 - val_accuracy: 0.9141\n",
            "Epoch 47/100\n",
            "1328/1328 [==============================] - 7s 5ms/step - loss: 0.1904 - accuracy: 0.9161 - val_loss: 0.1708 - val_accuracy: 0.9209\n",
            "Epoch 48/100\n",
            "1328/1328 [==============================] - 7s 5ms/step - loss: 0.1864 - accuracy: 0.9197 - val_loss: 0.1736 - val_accuracy: 0.9261\n",
            "Epoch 49/100\n",
            "1328/1328 [==============================] - 6s 4ms/step - loss: 0.1846 - accuracy: 0.9218 - val_loss: 0.2027 - val_accuracy: 0.9164\n",
            "Epoch 50/100\n",
            "1328/1328 [==============================] - 7s 5ms/step - loss: 0.1846 - accuracy: 0.9182 - val_loss: 0.1944 - val_accuracy: 0.9171\n",
            "Epoch 51/100\n",
            "1328/1328 [==============================] - 6s 4ms/step - loss: 0.1910 - accuracy: 0.9150 - val_loss: 0.1831 - val_accuracy: 0.9201\n",
            "Epoch 52/100\n",
            "1328/1328 [==============================] - 6s 5ms/step - loss: 0.1783 - accuracy: 0.9184 - val_loss: 0.1893 - val_accuracy: 0.9224\n",
            "Epoch 53/100\n",
            "1328/1328 [==============================] - 6s 4ms/step - loss: 0.1830 - accuracy: 0.9192 - val_loss: 0.2029 - val_accuracy: 0.9111\n",
            "Epoch 54/100\n",
            "1328/1328 [==============================] - 6s 5ms/step - loss: 0.1782 - accuracy: 0.9218 - val_loss: 0.1561 - val_accuracy: 0.9292\n",
            "Epoch 55/100\n",
            "1328/1328 [==============================] - 6s 4ms/step - loss: 0.1849 - accuracy: 0.9196 - val_loss: 0.1611 - val_accuracy: 0.9390\n",
            "Epoch 56/100\n",
            "1328/1328 [==============================] - 7s 5ms/step - loss: 0.1827 - accuracy: 0.9182 - val_loss: 0.1688 - val_accuracy: 0.9299\n",
            "Epoch 57/100\n",
            "1328/1328 [==============================] - 6s 4ms/step - loss: 0.1759 - accuracy: 0.9223 - val_loss: 0.1594 - val_accuracy: 0.9269\n",
            "Epoch 58/100\n",
            "1328/1328 [==============================] - 6s 4ms/step - loss: 0.1839 - accuracy: 0.9183 - val_loss: 0.1630 - val_accuracy: 0.9344\n",
            "Epoch 59/100\n",
            "1328/1328 [==============================] - 6s 4ms/step - loss: 0.1808 - accuracy: 0.9195 - val_loss: 0.1835 - val_accuracy: 0.9216\n",
            "Epoch 60/100\n",
            "1328/1328 [==============================] - 6s 4ms/step - loss: 0.1766 - accuracy: 0.9224 - val_loss: 0.1768 - val_accuracy: 0.9126\n",
            "Epoch 61/100\n",
            "1328/1328 [==============================] - 6s 5ms/step - loss: 0.1757 - accuracy: 0.9216 - val_loss: 0.1886 - val_accuracy: 0.9179\n",
            "Epoch 62/100\n",
            "1328/1328 [==============================] - 6s 4ms/step - loss: 0.1779 - accuracy: 0.9214 - val_loss: 0.1533 - val_accuracy: 0.9322\n",
            "Epoch 63/100\n",
            "1328/1328 [==============================] - 6s 4ms/step - loss: 0.1765 - accuracy: 0.9235 - val_loss: 0.1584 - val_accuracy: 0.9284\n",
            "Epoch 64/100\n",
            "1328/1328 [==============================] - 7s 5ms/step - loss: 0.1754 - accuracy: 0.9219 - val_loss: 0.1554 - val_accuracy: 0.9382\n",
            "Epoch 65/100\n",
            "1328/1328 [==============================] - 6s 4ms/step - loss: 0.1778 - accuracy: 0.9196 - val_loss: 0.1562 - val_accuracy: 0.9352\n",
            "Epoch 66/100\n",
            "1328/1328 [==============================] - 6s 4ms/step - loss: 0.1739 - accuracy: 0.9241 - val_loss: 0.1539 - val_accuracy: 0.9352\n",
            "Epoch 67/100\n",
            "1328/1328 [==============================] - 7s 5ms/step - loss: 0.1742 - accuracy: 0.9218 - val_loss: 0.1453 - val_accuracy: 0.9420\n",
            "Epoch 68/100\n",
            "1328/1328 [==============================] - 6s 4ms/step - loss: 0.1684 - accuracy: 0.9282 - val_loss: 0.1616 - val_accuracy: 0.9254\n",
            "Epoch 69/100\n",
            "1328/1328 [==============================] - 7s 5ms/step - loss: 0.1760 - accuracy: 0.9198 - val_loss: 0.1778 - val_accuracy: 0.9292\n",
            "Epoch 70/100\n",
            "1328/1328 [==============================] - 6s 4ms/step - loss: 0.1754 - accuracy: 0.9210 - val_loss: 0.1634 - val_accuracy: 0.9314\n",
            "Epoch 71/100\n",
            "1328/1328 [==============================] - 6s 5ms/step - loss: 0.1679 - accuracy: 0.9294 - val_loss: 0.1352 - val_accuracy: 0.9465\n",
            "Epoch 72/100\n",
            "1328/1328 [==============================] - 6s 4ms/step - loss: 0.1648 - accuracy: 0.9251 - val_loss: 0.1548 - val_accuracy: 0.9284\n",
            "Epoch 73/100\n",
            "1328/1328 [==============================] - 6s 4ms/step - loss: 0.1725 - accuracy: 0.9233 - val_loss: 0.1927 - val_accuracy: 0.9216\n",
            "Epoch 74/100\n",
            "1328/1328 [==============================] - 7s 5ms/step - loss: 0.1662 - accuracy: 0.9259 - val_loss: 0.1321 - val_accuracy: 0.9450\n",
            "Epoch 75/100\n",
            "1328/1328 [==============================] - 6s 4ms/step - loss: 0.1730 - accuracy: 0.9234 - val_loss: 0.1600 - val_accuracy: 0.9322\n",
            "Epoch 76/100\n",
            "1328/1328 [==============================] - 7s 5ms/step - loss: 0.1646 - accuracy: 0.9248 - val_loss: 0.1421 - val_accuracy: 0.9390\n",
            "Epoch 77/100\n",
            "1328/1328 [==============================] - 6s 4ms/step - loss: 0.1713 - accuracy: 0.9249 - val_loss: 0.1512 - val_accuracy: 0.9390\n",
            "Epoch 78/100\n",
            "1328/1328 [==============================] - 6s 5ms/step - loss: 0.1619 - accuracy: 0.9286 - val_loss: 0.1966 - val_accuracy: 0.9133\n",
            "Epoch 79/100\n",
            "1328/1328 [==============================] - 6s 4ms/step - loss: 0.1664 - accuracy: 0.9263 - val_loss: 0.1506 - val_accuracy: 0.9307\n",
            "Epoch 80/100\n",
            "1328/1328 [==============================] - 7s 5ms/step - loss: 0.1690 - accuracy: 0.9244 - val_loss: 0.1379 - val_accuracy: 0.9397\n",
            "Epoch 81/100\n",
            "1328/1328 [==============================] - 6s 4ms/step - loss: 0.1664 - accuracy: 0.9270 - val_loss: 0.2048 - val_accuracy: 0.9209\n",
            "Epoch 82/100\n",
            "1328/1328 [==============================] - 6s 4ms/step - loss: 0.1674 - accuracy: 0.9264 - val_loss: 0.1884 - val_accuracy: 0.9179\n",
            "Epoch 83/100\n",
            "1328/1328 [==============================] - 7s 5ms/step - loss: 0.1660 - accuracy: 0.9272 - val_loss: 0.1625 - val_accuracy: 0.9261\n",
            "Epoch 84/100\n",
            "1328/1328 [==============================] - 6s 5ms/step - loss: 0.1653 - accuracy: 0.9234 - val_loss: 0.1656 - val_accuracy: 0.9322\n",
            "Epoch 85/100\n",
            "1328/1328 [==============================] - 6s 4ms/step - loss: 0.1672 - accuracy: 0.9279 - val_loss: 0.1449 - val_accuracy: 0.9352\n",
            "Epoch 86/100\n",
            "1328/1328 [==============================] - 6s 5ms/step - loss: 0.1665 - accuracy: 0.9232 - val_loss: 0.1373 - val_accuracy: 0.9465\n",
            "Epoch 87/100\n",
            "1328/1328 [==============================] - 6s 5ms/step - loss: 0.1594 - accuracy: 0.9295 - val_loss: 0.1345 - val_accuracy: 0.9427\n",
            "Epoch 88/100\n",
            "1328/1328 [==============================] - 6s 5ms/step - loss: 0.1605 - accuracy: 0.9284 - val_loss: 0.1563 - val_accuracy: 0.9277\n",
            "Epoch 89/100\n",
            "1328/1328 [==============================] - 6s 5ms/step - loss: 0.1647 - accuracy: 0.9271 - val_loss: 0.1590 - val_accuracy: 0.9314\n",
            "Epoch 90/100\n",
            "1328/1328 [==============================] - 6s 4ms/step - loss: 0.1578 - accuracy: 0.9301 - val_loss: 0.1471 - val_accuracy: 0.9397\n",
            "Epoch 91/100\n",
            "1328/1328 [==============================] - 7s 5ms/step - loss: 0.1572 - accuracy: 0.9312 - val_loss: 0.1477 - val_accuracy: 0.9397\n",
            "Epoch 92/100\n",
            "1328/1328 [==============================] - 6s 4ms/step - loss: 0.1614 - accuracy: 0.9296 - val_loss: 0.1329 - val_accuracy: 0.9427\n",
            "Epoch 93/100\n",
            "1328/1328 [==============================] - 7s 5ms/step - loss: 0.1626 - accuracy: 0.9279 - val_loss: 0.1335 - val_accuracy: 0.9420\n",
            "Epoch 94/100\n",
            "1328/1328 [==============================] - 6s 4ms/step - loss: 0.1606 - accuracy: 0.9314 - val_loss: 0.1905 - val_accuracy: 0.9246\n",
            "Epoch 95/100\n",
            "1328/1328 [==============================] - 6s 5ms/step - loss: 0.1534 - accuracy: 0.9331 - val_loss: 0.1604 - val_accuracy: 0.9299\n",
            "Epoch 96/100\n",
            "1328/1328 [==============================] - 7s 5ms/step - loss: 0.1553 - accuracy: 0.9313 - val_loss: 0.1734 - val_accuracy: 0.9201\n",
            "Epoch 97/100\n",
            "1328/1328 [==============================] - 7s 5ms/step - loss: 0.1606 - accuracy: 0.9302 - val_loss: 0.1367 - val_accuracy: 0.9435\n",
            "Epoch 98/100\n",
            "1328/1328 [==============================] - 6s 4ms/step - loss: 0.1536 - accuracy: 0.9348 - val_loss: 0.1558 - val_accuracy: 0.9292\n",
            "Epoch 99/100\n",
            "1328/1328 [==============================] - 6s 5ms/step - loss: 0.1560 - accuracy: 0.9303 - val_loss: 0.1556 - val_accuracy: 0.9292\n",
            "Epoch 100/100\n",
            "1328/1328 [==============================] - 6s 4ms/step - loss: 0.1675 - accuracy: 0.9226 - val_loss: 0.1623 - val_accuracy: 0.9269\n"
          ]
        }
      ]
    },
    {
      "cell_type": "code",
      "source": [
        "fig = plt.figure()\n",
        "plt.plot(hist.history['accuracy'], color='teal', label='accuracy')\n",
        "plt.plot(hist.history['val_accuracy'], color='orange', label='val_accuracy')\n",
        "fig.suptitle('Accuracy', fontsize=20)\n",
        "plt.legend(loc=\"upper left\")\n",
        "plt.show()"
      ],
      "metadata": {
        "id": "cTjJTk05SWkh",
        "colab": {
          "base_uri": "https://localhost:8080/",
          "height": 478
        },
        "outputId": "11c72a4b-b62c-410f-b91a-3dbeafba2923"
      },
      "execution_count": 14,
      "outputs": [
        {
          "output_type": "display_data",
          "data": {
            "text/plain": [
              "<Figure size 640x480 with 1 Axes>"
            ],
            "image/png": "[encoded data removed]"
          },
          "metadata": {}
        }
      ]
    },
    {
      "cell_type": "code",
      "source": [
        "test_accuracy = model.evaluate(test_dataset,verbose=0,return_dict=True)['accuracy']\n",
        "test_accuracy"
      ],
      "metadata": {
        "id": "cGHB15A4UcWo",
        "colab": {
          "base_uri": "https://localhost:8080/"
        },
        "outputId": "44fa5468-f945-47df-acd7-ad0d85b6aa75"
      },
      "execution_count": 15,
      "outputs": [
        {
          "output_type": "execute_result",
          "data": {
            "text/plain": [
              "0.8899773955345154"
            ]
          },
          "metadata": {},
          "execution_count": 15
        }
      ]
    },
    {
      "cell_type": "markdown",
      "source": [
        "# Feature reduction\n",
        "Try different combinations of features.\n",
        "1. Removing collinear  features may help to boost the performance\n",
        "2. Some setups may have business meaning except for the model training purpose."
      ],
      "metadata": {
        "id": "l-joPCeEEwMS"
      }
    },
    {
      "cell_type": "code",
      "source": [
        "# #Removing collinear features may make us lose some information under these columns.\n",
        "# #Know whether default or not 6 months ahead.\n",
        "# #Remove features that contain less data\n",
        "\n",
        "# X_reduced_2 = df[['LIMIT_BAL', 'AGE', 'PAY_6','BILL_AMT6','PAY_AMT6',\n",
        "#        'SEX_1', 'SEX_2', 'EDUCATION_0', 'EDUCATION_1', 'EDUCATION_2',\n",
        "#        'EDUCATION_3','MARRIAGE_1', 'MARRIAGE_2']].values\n",
        "# y = np.squeeze(df[['default.payment.next.month']].values)\n",
        "\n",
        "# # Normalize the input features using Z-score normalization\n",
        "# scaler = StandardScaler()\n",
        "# X_reduced_normalized = scaler.fit_transform(X_reduced_2)"
      ],
      "metadata": {
        "id": "dC6vvaDvuUTO"
      },
      "execution_count": 16,
      "outputs": []
    },
    {
      "cell_type": "code",
      "source": [
        "# # Create a TensorFlow Dataset from the normalized input features and target labels\n",
        "# dataset_r = tf.data.Dataset.from_tensor_slices((X_reduced_normalized, y))\n",
        "\n",
        "# # Shuffle the dataset\n",
        "# dataset_r = dataset_r.shuffle(buffer_size=len(X_reduced_normalized))\n",
        "\n",
        "# # Split the data into train, validation, and test sets\n",
        "# train_size = int(0.8 * len(X_reduced_normalized))\n",
        "# val_size = int(0.1 * len(X_reduced_normalized))\n",
        "# test_size = int(0.1 * len(X_reduced_normalized))\n",
        "\n",
        "# # Split the dataset into train, validation, and test sets\n",
        "# train_dataset_r = dataset_r.take(train_size)\n",
        "# val_dataset_r = dataset_r.skip(train_size).take(val_size)\n",
        "# test_dataset_r = dataset_r.skip(train_size + val_size).take(test_size)\n",
        "\n",
        "# # Batch the datasets\n",
        "# batch_size = 8\n",
        "# train_dataset_r = train_dataset_r.batch(batch_size)\n",
        "# val_dataset_r = val_dataset_r.batch(batch_size)\n",
        "# test_dataset_r = test_dataset_r.batch(batch_size)\n",
        "\n",
        "# it = train_dataset_r.as_numpy_iterator()\n",
        "# print(it.next()[0].shape, it.next()[1].shape) #return a batch (X,y)\n",
        "# print(it.next()[0], it.next()[1]) #return a batch (X,y)\n",
        "# # for features, labels in train_dataset:\n",
        "# #   print(\"Train Features shape:\", features.shape)\n",
        "# #   print(\"Train Labels shape:\", labels.shape)"
      ],
      "metadata": {
        "id": "LJhk8PQlJBhR"
      },
      "execution_count": 17,
      "outputs": []
    },
    {
      "cell_type": "code",
      "source": [
        "# tf.keras.backend.clear_session()"
      ],
      "metadata": {
        "id": "m0hjv-iNJHQ0"
      },
      "execution_count": 18,
      "outputs": []
    },
    {
      "cell_type": "code",
      "source": [
        "# model_2 = Sequential()"
      ],
      "metadata": {
        "id": "WmgrCWiXJKwm"
      },
      "execution_count": 19,
      "outputs": []
    },
    {
      "cell_type": "code",
      "source": [
        "# it = train_dataset_r.as_numpy_iterator()\n",
        "# print(it.next()[0].shape, it.next()[1].shape) #return a batch (X,y)\n",
        "# input_shape = it.next()[0].shape\n",
        "# input_shape[1]"
      ],
      "metadata": {
        "id": "arJ2-4ljJkXo"
      },
      "execution_count": 20,
      "outputs": []
    },
    {
      "cell_type": "code",
      "source": [
        "# # a binary classification, taking signoid as the output activation function\n",
        "# # Don't need an input layer since it's sequential\n",
        "\n",
        "# model_2.add(Dense(256, input_shape=(input_shape[1],), activation='relu'))\n",
        "# model_2.add(Dense(64, activation='relu'))\n",
        "# model_2.add(Dense(16, activation='relu'))\n",
        "# model_2.add(Dense(32, activation='relu'))\n",
        "# model_2.add(Dense(64, activation='relu'))\n",
        "# model_2.add(Dense(1, activation='sigmoid'))\n",
        "\n",
        "# #optimizer = Adam(learning_rate=0.00001)\n",
        "# model_2.compile(optimizer= tf.keras.optimizers.Adam(0.0001), loss='binary_crossentropy', metrics=['accuracy'])"
      ],
      "metadata": {
        "id": "9VWPuyUVJNfl"
      },
      "execution_count": 21,
      "outputs": []
    },
    {
      "cell_type": "code",
      "source": [
        "# hist = model_2.fit(train_dataset_r, epochs=200, validation_data=val_dataset_r)"
      ],
      "metadata": {
        "id": "8q3G9ktQJNpr"
      },
      "execution_count": 22,
      "outputs": []
    },
    {
      "cell_type": "code",
      "source": [
        "# fig = plt.figure()\n",
        "# plt.plot(hist.history['accuracy'], color='teal', label='accuracy')\n",
        "# plt.plot(hist.history['val_accuracy'], color='orange', label='val_accuracy')\n",
        "# fig.suptitle('Accuracy', fontsize=20)\n",
        "# plt.legend(loc=\"upper left\")\n",
        "# plt.ylim(0.74, 0.94)\n",
        "# plt.show()\n",
        "# ##didn't increase the accuracy"
      ],
      "metadata": {
        "id": "wZAs44uCJNyd"
      },
      "execution_count": 23,
      "outputs": []
    },
    {
      "cell_type": "code",
      "source": [
        "# test_accuracy = model.evaluate(test_dataset_r,verbose=0,return_dict=True)['accuracy']\n",
        "# test_accuracy"
      ],
      "metadata": {
        "id": "a2efZKqBfwJ_"
      },
      "execution_count": 24,
      "outputs": []
    },
    {
      "cell_type": "markdown",
      "source": [
        "Now, our first model can predict whether a specific credit card owner will default or not based on his/her long-term repayment status (6 months) and the predicting accuracy is 94%. Also, we have another model that can make predictions six months ahead and the accuracy is 81%. For a real-world scenario, we can send out a warning message six months ahead and a forecast a month ahead that can help the bank to get prepared."
      ],
      "metadata": {
        "id": "byQn6IAMRT4X"
      }
    },
    {
      "cell_type": "code",
      "source": [
        "#How about 5 months or 4 months ahead?\n",
        "#any other way to boost accuracy?\n",
        "#Provide more data\n",
        "  #Cross Validation\n",
        "  #combine training and valuating data set.\n",
        "\n"
      ],
      "metadata": {
        "id": "dZVI35s6Lufe"
      },
      "execution_count": 25,
      "outputs": []
    },
    {
      "cell_type": "markdown",
      "source": [
        "# Evaluation\n",
        "##### https://www.kaggle.com/code/jcontr/meta-learning-credit-card-default\n",
        "##### 1. Is the data unbalanced on the feature of whether default?\n",
        "##### 2. Do we need to reduce the dimensions? 33 features and most of them are generated by one hot encoding and they're sparse.\n",
        "\n",
        "Bias sanity check:\n",
        "1. Historical bias / representation bias / measurement bias\n",
        "2. Learning bias\n",
        "3. Evaluation bias\n",
        "4. Aggregation bias\n",
        "5. Deployment bias\n"
      ],
      "metadata": {
        "id": "W4zEz5JeCZoP"
      }
    },
    {
      "cell_type": "code",
      "source": [
        "model.evaluate(test_dataset,verbose=0,return_dict=True)"
      ],
      "metadata": {
        "id": "6SEIe_as9hsA",
        "colab": {
          "base_uri": "https://localhost:8080/"
        },
        "outputId": "4147dde4-e90b-46c4-f139-5e2cafaee6d6"
      },
      "execution_count": 32,
      "outputs": [
        {
          "output_type": "execute_result",
          "data": {
            "text/plain": [
              "{'loss': 0.1529790163040161, 'accuracy': 0.9336850047111511}"
            ]
          },
          "metadata": {},
          "execution_count": 32
        }
      ]
    },
    {
      "cell_type": "code",
      "source": [
        "test_prediction = model.predict(test_dataset)\n",
        "print(test_prediction.shape)\n",
        "test_prediction\n",
        "#3000 probabilities"
      ],
      "metadata": {
        "id": "2R9zgg1j9hyx",
        "colab": {
          "base_uri": "https://localhost:8080/"
        },
        "outputId": "a7c2bfea-a34d-4aff-82f0-0fdf8939062d"
      },
      "execution_count": 33,
      "outputs": [
        {
          "output_type": "stream",
          "name": "stdout",
          "text": [
            "166/166 [==============================] - 0s 2ms/step\n",
            "(1327, 2)\n"
          ]
        },
        {
          "output_type": "execute_result",
          "data": {
            "text/plain": [
              "array([[8.85894418e-01, 1.14105575e-01],\n",
              "       [4.49980423e-03, 9.95500147e-01],\n",
              "       [9.88033950e-01, 1.19659789e-02],\n",
              "       ...,\n",
              "       [6.67716620e-07, 9.99999285e-01],\n",
              "       [4.76310909e-01, 5.23689091e-01],\n",
              "       [9.99897242e-01, 1.02718128e-04]], dtype=float32)"
            ]
          },
          "metadata": {},
          "execution_count": 33
        }
      ]
    },
    {
      "cell_type": "code",
      "source": [
        "y_test_true = []\n",
        "y_test_predicted = []\n",
        "\n",
        "#expand true label y in test_dataset and save it in the list. Make prediction by batches and save it in the list\n",
        "#Must do the prediction and expanding under same for loop otherwise the sequence may be messed up.\n",
        "#Try sigmoid?\n",
        "\n",
        "for test_features, y_test in test_dataset:\n",
        "  predictions = model.predict(test_features, verbose=0)\n",
        "  y_test_predicted.extend(np.argmax(predictions, axis=1).tolist())\n",
        "  y_test_true.extend(y_test.numpy())\n",
        "print(f\"True label    : {y_test_true[0:20]}\")\n",
        "print(f\"Predicted label: {y_test_predicted[0:20]}\")\n",
        "\n",
        "correct_predictions = sum(np.array(y_test_predicted) == np.array(y_test_true))\n",
        "total_samples = len(y_test_true)\n",
        "accuracy = correct_predictions / total_samples\n",
        "print(\"Manual Accuracy:\", accuracy)"
      ],
      "metadata": {
        "id": "V_DU6cc19oFX",
        "colab": {
          "base_uri": "https://localhost:8080/"
        },
        "outputId": "9b3de5f1-ff1b-481c-9f54-997c61a39e69"
      },
      "execution_count": 34,
      "outputs": [
        {
          "output_type": "stream",
          "name": "stdout",
          "text": [
            "True label    : [1, 1, 1, 0, 0, 1, 1, 0, 0, 0, 0, 0, 0, 1, 0, 0, 1, 0, 1, 0]\n",
            "Predicted label: [1, 0, 1, 0, 0, 1, 1, 0, 0, 0, 0, 0, 0, 1, 0, 0, 1, 0, 1, 0]\n",
            "Manual Accuracy: 0.9366993217784476\n"
          ]
        }
      ]
    },
    {
      "cell_type": "code",
      "source": [
        "\"\"\"\n",
        "Have no idea why the test accuracy by model.eval and model.predict + threshold is so different?\n",
        "Must do the prediction and expanding under same for loop otherwise the sequence may be messed up.?\n",
        "\"\"\"\n",
        "\n",
        "# #get the prediction result\n",
        "# train_prediction_binary = []\n",
        "# for prediction in train_prediction:\n",
        "#   #print(prediction)\n",
        "#   if prediction >= 0.5: #take 0.5 as threshold, default of model.evaluation is also 0.5\n",
        "#     train_prediction_binary.append(1)\n",
        "#   else:\n",
        "#     train_prediction_binary.append(0)\n",
        "# print(len(train_prediction_binary))\n",
        "# print(train_prediction_binary[0:20])\n",
        "\n",
        "# #get y_test, take y_test out from data pipeline and put it into a list\n",
        "# y_train_all = []\n",
        "# for train_features, y_train in train_dataset:\n",
        "#   y_train_all.extend(y_train.numpy())\n",
        "# print(len(y_train_all))\n",
        "# print(y_train_all[0:20])\n",
        "\n",
        "# correct_predictions = sum(np.array(train_prediction_binary) == np.array(y_train_all))\n",
        "# total_samples = len(y_train_all)\n",
        "# accuracy = correct_predictions / total_samples\n",
        "\n",
        "# print(\"Manual Accuracy with Threshold 0.5:\", accuracy)"
      ],
      "metadata": {
        "id": "yi1Y9RZtFGpV",
        "colab": {
          "base_uri": "https://localhost:8080/",
          "height": 53
        },
        "outputId": "f4e329ba-09ee-429d-c3a8-a1c1c42c1fc1"
      },
      "execution_count": 29,
      "outputs": [
        {
          "output_type": "execute_result",
          "data": {
            "text/plain": [
              "'\\nHave no idea why the test accuracy by model.eval and model.predict + threshold is so different?\\nMust do the prediction and expanding under same for loop otherwise the sequence may be messed up.?\\n'"
            ],
            "application/vnd.google.colaboratory.intrinsic+json": {
              "type": "string"
            }
          },
          "metadata": {},
          "execution_count": 29
        }
      ]
    },
    {
      "cell_type": "code",
      "source": [
        "import seaborn as sns  # for nicer plots\n",
        "sns.set(style=\"darkgrid\")  # default style\n",
        "\n",
        "# Create a confusion matrix as a 2D array.\n",
        "confusion_matrix = tf.math.confusion_matrix(y_test_true, y_test_predicted)\n",
        "\n",
        "# Use a heatmap plot to display it.\n",
        "ax = sns.heatmap(confusion_matrix, annot=True, fmt='.3g', cmap='Blues')\n",
        "# Add axis labels.\n",
        "ax.set(xlabel='Predicted Label', ylabel='True Label')\n",
        "plt.show()\n",
        "print(confusion_matrix.numpy())"
      ],
      "metadata": {
        "id": "H4w9tf759oLj",
        "colab": {
          "base_uri": "https://localhost:8080/",
          "height": 493
        },
        "outputId": "636f55a1-a412-407c-8517-d1aff9bd92e0"
      },
      "execution_count": 35,
      "outputs": [
        {
          "output_type": "display_data",
          "data": {
            "text/plain": [
              "<Figure size 640x480 with 2 Axes>"
            ],
            "image/png": "[encoded data removed]"
          },
          "metadata": {}
        },
        {
          "output_type": "stream",
          "name": "stdout",
          "text": [
            "[[600  46]\n",
            " [ 38 643]]\n"
          ]
        }
      ]
    },
    {
      "cell_type": "markdown",
      "source": [
        "We have\n",
        "1. 30000 (23364+6636) examples, 90% of accuracy, 100 epochs, 74% of recall.\n",
        "2. 22636 (16000+6636) examples, 90% of accuracy, 100 epochs, 78% of recall. [[1560   58]\n",
        " [ 137  508]]\n",
        "3. 16636 (10000+6636) examples, 89.7% of accuracy, 100 epochs, 84% of recall.\n",
        "[[932  65]\n",
        " [105 561]]\n",
        "4. 13272 (6636+6636) examples, 89.5% of accuracy, 100 epochs, 86% of recall.\n",
        "[[651  33]\n",
        " [ 86 557]]\n",
        "4. 13272 (6636+6636) examples, 93% of accuracy, 200 epochs, 94% of recall.\n",
        "[[600  46]\n",
        " [ 38 643]]\n"
      ],
      "metadata": {
        "id": "j8kBKHqS9pd2"
      }
    }
  ]
}